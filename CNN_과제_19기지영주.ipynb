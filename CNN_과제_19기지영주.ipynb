{
  "nbformat": 4,
  "nbformat_minor": 0,
  "metadata": {
    "colab": {
      "name": "CNN 과제_copy.ipynb",
      "provenance": [],
      "collapsed_sections": [],
      "include_colab_link": true
    },
    "kernelspec": {
      "display_name": "Python 3",
      "name": "python3"
    },
    "language_info": {
      "name": "python"
    },
    "widgets": {
      "application/vnd.jupyter.widget-state+json": {
        "89061c9b8903488b8ff15558d43704c6": {
          "model_module": "@jupyter-widgets/controls",
          "model_name": "HBoxModel",
          "state": {
            "_view_name": "HBoxView",
            "_dom_classes": [],
            "_model_name": "HBoxModel",
            "_view_module": "@jupyter-widgets/controls",
            "_model_module_version": "1.5.0",
            "_view_count": null,
            "_view_module_version": "1.5.0",
            "box_style": "",
            "layout": "IPY_MODEL_30211f680b5d4d8d9bda88ae8fe949cc",
            "_model_module": "@jupyter-widgets/controls",
            "children": [
              "IPY_MODEL_9e72c99f43a54707a448e885b89fb501",
              "IPY_MODEL_8a7bf006eb1547d88863e7c46e71c1ff"
            ]
          }
        },
        "30211f680b5d4d8d9bda88ae8fe949cc": {
          "model_module": "@jupyter-widgets/base",
          "model_name": "LayoutModel",
          "state": {
            "_view_name": "LayoutView",
            "grid_template_rows": null,
            "right": null,
            "justify_content": null,
            "_view_module": "@jupyter-widgets/base",
            "overflow": null,
            "_model_module_version": "1.2.0",
            "_view_count": null,
            "flex_flow": null,
            "width": null,
            "min_width": null,
            "border": null,
            "align_items": null,
            "bottom": null,
            "_model_module": "@jupyter-widgets/base",
            "top": null,
            "grid_column": null,
            "overflow_y": null,
            "overflow_x": null,
            "grid_auto_flow": null,
            "grid_area": null,
            "grid_template_columns": null,
            "flex": null,
            "_model_name": "LayoutModel",
            "justify_items": null,
            "grid_row": null,
            "max_height": null,
            "align_content": null,
            "visibility": null,
            "align_self": null,
            "height": null,
            "min_height": null,
            "padding": null,
            "grid_auto_rows": null,
            "grid_gap": null,
            "max_width": null,
            "order": null,
            "_view_module_version": "1.2.0",
            "grid_template_areas": null,
            "object_position": null,
            "object_fit": null,
            "grid_auto_columns": null,
            "margin": null,
            "display": null,
            "left": null
          }
        },
        "9e72c99f43a54707a448e885b89fb501": {
          "model_module": "@jupyter-widgets/controls",
          "model_name": "FloatProgressModel",
          "state": {
            "_view_name": "ProgressView",
            "style": "IPY_MODEL_66d246d559d941b7be0b92c24eab8905",
            "_dom_classes": [],
            "description": "",
            "_model_name": "FloatProgressModel",
            "bar_style": "success",
            "max": 26421880,
            "_view_module": "@jupyter-widgets/controls",
            "_model_module_version": "1.5.0",
            "value": 26421880,
            "_view_count": null,
            "_view_module_version": "1.5.0",
            "orientation": "horizontal",
            "min": 0,
            "description_tooltip": null,
            "_model_module": "@jupyter-widgets/controls",
            "layout": "IPY_MODEL_538bd58e01f14c3c91c4318c52210ae4"
          }
        },
        "8a7bf006eb1547d88863e7c46e71c1ff": {
          "model_module": "@jupyter-widgets/controls",
          "model_name": "HTMLModel",
          "state": {
            "_view_name": "HTMLView",
            "style": "IPY_MODEL_c4bb72b143eb45afa0d56898b3e7403b",
            "_dom_classes": [],
            "description": "",
            "_model_name": "HTMLModel",
            "placeholder": "​",
            "_view_module": "@jupyter-widgets/controls",
            "_model_module_version": "1.5.0",
            "value": " 26422272/? [00:00&lt;00:00, 78325705.80it/s]",
            "_view_count": null,
            "_view_module_version": "1.5.0",
            "description_tooltip": null,
            "_model_module": "@jupyter-widgets/controls",
            "layout": "IPY_MODEL_8d0ba486324442b78edbb75ffcfffdb6"
          }
        },
        "66d246d559d941b7be0b92c24eab8905": {
          "model_module": "@jupyter-widgets/controls",
          "model_name": "ProgressStyleModel",
          "state": {
            "_view_name": "StyleView",
            "_model_name": "ProgressStyleModel",
            "description_width": "initial",
            "_view_module": "@jupyter-widgets/base",
            "_model_module_version": "1.5.0",
            "_view_count": null,
            "_view_module_version": "1.2.0",
            "bar_color": null,
            "_model_module": "@jupyter-widgets/controls"
          }
        },
        "538bd58e01f14c3c91c4318c52210ae4": {
          "model_module": "@jupyter-widgets/base",
          "model_name": "LayoutModel",
          "state": {
            "_view_name": "LayoutView",
            "grid_template_rows": null,
            "right": null,
            "justify_content": null,
            "_view_module": "@jupyter-widgets/base",
            "overflow": null,
            "_model_module_version": "1.2.0",
            "_view_count": null,
            "flex_flow": null,
            "width": null,
            "min_width": null,
            "border": null,
            "align_items": null,
            "bottom": null,
            "_model_module": "@jupyter-widgets/base",
            "top": null,
            "grid_column": null,
            "overflow_y": null,
            "overflow_x": null,
            "grid_auto_flow": null,
            "grid_area": null,
            "grid_template_columns": null,
            "flex": null,
            "_model_name": "LayoutModel",
            "justify_items": null,
            "grid_row": null,
            "max_height": null,
            "align_content": null,
            "visibility": null,
            "align_self": null,
            "height": null,
            "min_height": null,
            "padding": null,
            "grid_auto_rows": null,
            "grid_gap": null,
            "max_width": null,
            "order": null,
            "_view_module_version": "1.2.0",
            "grid_template_areas": null,
            "object_position": null,
            "object_fit": null,
            "grid_auto_columns": null,
            "margin": null,
            "display": null,
            "left": null
          }
        },
        "c4bb72b143eb45afa0d56898b3e7403b": {
          "model_module": "@jupyter-widgets/controls",
          "model_name": "DescriptionStyleModel",
          "state": {
            "_view_name": "StyleView",
            "_model_name": "DescriptionStyleModel",
            "description_width": "",
            "_view_module": "@jupyter-widgets/base",
            "_model_module_version": "1.5.0",
            "_view_count": null,
            "_view_module_version": "1.2.0",
            "_model_module": "@jupyter-widgets/controls"
          }
        },
        "8d0ba486324442b78edbb75ffcfffdb6": {
          "model_module": "@jupyter-widgets/base",
          "model_name": "LayoutModel",
          "state": {
            "_view_name": "LayoutView",
            "grid_template_rows": null,
            "right": null,
            "justify_content": null,
            "_view_module": "@jupyter-widgets/base",
            "overflow": null,
            "_model_module_version": "1.2.0",
            "_view_count": null,
            "flex_flow": null,
            "width": null,
            "min_width": null,
            "border": null,
            "align_items": null,
            "bottom": null,
            "_model_module": "@jupyter-widgets/base",
            "top": null,
            "grid_column": null,
            "overflow_y": null,
            "overflow_x": null,
            "grid_auto_flow": null,
            "grid_area": null,
            "grid_template_columns": null,
            "flex": null,
            "_model_name": "LayoutModel",
            "justify_items": null,
            "grid_row": null,
            "max_height": null,
            "align_content": null,
            "visibility": null,
            "align_self": null,
            "height": null,
            "min_height": null,
            "padding": null,
            "grid_auto_rows": null,
            "grid_gap": null,
            "max_width": null,
            "order": null,
            "_view_module_version": "1.2.0",
            "grid_template_areas": null,
            "object_position": null,
            "object_fit": null,
            "grid_auto_columns": null,
            "margin": null,
            "display": null,
            "left": null
          }
        },
        "113b108f313d4f8f94d3a9106a84611e": {
          "model_module": "@jupyter-widgets/controls",
          "model_name": "HBoxModel",
          "state": {
            "_view_name": "HBoxView",
            "_dom_classes": [],
            "_model_name": "HBoxModel",
            "_view_module": "@jupyter-widgets/controls",
            "_model_module_version": "1.5.0",
            "_view_count": null,
            "_view_module_version": "1.5.0",
            "box_style": "",
            "layout": "IPY_MODEL_08dcfbf46f3147f5b57bd60fedbead79",
            "_model_module": "@jupyter-widgets/controls",
            "children": [
              "IPY_MODEL_04974d1b927645e7a7b5e8ea3d88d035",
              "IPY_MODEL_c8717636b5da49289e47a17098ec07de"
            ]
          }
        },
        "08dcfbf46f3147f5b57bd60fedbead79": {
          "model_module": "@jupyter-widgets/base",
          "model_name": "LayoutModel",
          "state": {
            "_view_name": "LayoutView",
            "grid_template_rows": null,
            "right": null,
            "justify_content": null,
            "_view_module": "@jupyter-widgets/base",
            "overflow": null,
            "_model_module_version": "1.2.0",
            "_view_count": null,
            "flex_flow": null,
            "width": null,
            "min_width": null,
            "border": null,
            "align_items": null,
            "bottom": null,
            "_model_module": "@jupyter-widgets/base",
            "top": null,
            "grid_column": null,
            "overflow_y": null,
            "overflow_x": null,
            "grid_auto_flow": null,
            "grid_area": null,
            "grid_template_columns": null,
            "flex": null,
            "_model_name": "LayoutModel",
            "justify_items": null,
            "grid_row": null,
            "max_height": null,
            "align_content": null,
            "visibility": null,
            "align_self": null,
            "height": null,
            "min_height": null,
            "padding": null,
            "grid_auto_rows": null,
            "grid_gap": null,
            "max_width": null,
            "order": null,
            "_view_module_version": "1.2.0",
            "grid_template_areas": null,
            "object_position": null,
            "object_fit": null,
            "grid_auto_columns": null,
            "margin": null,
            "display": null,
            "left": null
          }
        },
        "04974d1b927645e7a7b5e8ea3d88d035": {
          "model_module": "@jupyter-widgets/controls",
          "model_name": "FloatProgressModel",
          "state": {
            "_view_name": "ProgressView",
            "style": "IPY_MODEL_e66d3733628f4c63bde5b2f85baf7926",
            "_dom_classes": [],
            "description": "",
            "_model_name": "FloatProgressModel",
            "bar_style": "success",
            "max": 29515,
            "_view_module": "@jupyter-widgets/controls",
            "_model_module_version": "1.5.0",
            "value": 29515,
            "_view_count": null,
            "_view_module_version": "1.5.0",
            "orientation": "horizontal",
            "min": 0,
            "description_tooltip": null,
            "_model_module": "@jupyter-widgets/controls",
            "layout": "IPY_MODEL_ada2f63578f8478a8fe8dbe2a33d3570"
          }
        },
        "c8717636b5da49289e47a17098ec07de": {
          "model_module": "@jupyter-widgets/controls",
          "model_name": "HTMLModel",
          "state": {
            "_view_name": "HTMLView",
            "style": "IPY_MODEL_cf9b43ebfd594dcd8b83401414215dc4",
            "_dom_classes": [],
            "description": "",
            "_model_name": "HTMLModel",
            "placeholder": "​",
            "_view_module": "@jupyter-widgets/controls",
            "_model_module_version": "1.5.0",
            "value": " 29696/? [00:00&lt;00:00, 191413.12it/s]",
            "_view_count": null,
            "_view_module_version": "1.5.0",
            "description_tooltip": null,
            "_model_module": "@jupyter-widgets/controls",
            "layout": "IPY_MODEL_063374f0481243b7b65bfffc2bbb29ef"
          }
        },
        "e66d3733628f4c63bde5b2f85baf7926": {
          "model_module": "@jupyter-widgets/controls",
          "model_name": "ProgressStyleModel",
          "state": {
            "_view_name": "StyleView",
            "_model_name": "ProgressStyleModel",
            "description_width": "initial",
            "_view_module": "@jupyter-widgets/base",
            "_model_module_version": "1.5.0",
            "_view_count": null,
            "_view_module_version": "1.2.0",
            "bar_color": null,
            "_model_module": "@jupyter-widgets/controls"
          }
        },
        "ada2f63578f8478a8fe8dbe2a33d3570": {
          "model_module": "@jupyter-widgets/base",
          "model_name": "LayoutModel",
          "state": {
            "_view_name": "LayoutView",
            "grid_template_rows": null,
            "right": null,
            "justify_content": null,
            "_view_module": "@jupyter-widgets/base",
            "overflow": null,
            "_model_module_version": "1.2.0",
            "_view_count": null,
            "flex_flow": null,
            "width": null,
            "min_width": null,
            "border": null,
            "align_items": null,
            "bottom": null,
            "_model_module": "@jupyter-widgets/base",
            "top": null,
            "grid_column": null,
            "overflow_y": null,
            "overflow_x": null,
            "grid_auto_flow": null,
            "grid_area": null,
            "grid_template_columns": null,
            "flex": null,
            "_model_name": "LayoutModel",
            "justify_items": null,
            "grid_row": null,
            "max_height": null,
            "align_content": null,
            "visibility": null,
            "align_self": null,
            "height": null,
            "min_height": null,
            "padding": null,
            "grid_auto_rows": null,
            "grid_gap": null,
            "max_width": null,
            "order": null,
            "_view_module_version": "1.2.0",
            "grid_template_areas": null,
            "object_position": null,
            "object_fit": null,
            "grid_auto_columns": null,
            "margin": null,
            "display": null,
            "left": null
          }
        },
        "cf9b43ebfd594dcd8b83401414215dc4": {
          "model_module": "@jupyter-widgets/controls",
          "model_name": "DescriptionStyleModel",
          "state": {
            "_view_name": "StyleView",
            "_model_name": "DescriptionStyleModel",
            "description_width": "",
            "_view_module": "@jupyter-widgets/base",
            "_model_module_version": "1.5.0",
            "_view_count": null,
            "_view_module_version": "1.2.0",
            "_model_module": "@jupyter-widgets/controls"
          }
        },
        "063374f0481243b7b65bfffc2bbb29ef": {
          "model_module": "@jupyter-widgets/base",
          "model_name": "LayoutModel",
          "state": {
            "_view_name": "LayoutView",
            "grid_template_rows": null,
            "right": null,
            "justify_content": null,
            "_view_module": "@jupyter-widgets/base",
            "overflow": null,
            "_model_module_version": "1.2.0",
            "_view_count": null,
            "flex_flow": null,
            "width": null,
            "min_width": null,
            "border": null,
            "align_items": null,
            "bottom": null,
            "_model_module": "@jupyter-widgets/base",
            "top": null,
            "grid_column": null,
            "overflow_y": null,
            "overflow_x": null,
            "grid_auto_flow": null,
            "grid_area": null,
            "grid_template_columns": null,
            "flex": null,
            "_model_name": "LayoutModel",
            "justify_items": null,
            "grid_row": null,
            "max_height": null,
            "align_content": null,
            "visibility": null,
            "align_self": null,
            "height": null,
            "min_height": null,
            "padding": null,
            "grid_auto_rows": null,
            "grid_gap": null,
            "max_width": null,
            "order": null,
            "_view_module_version": "1.2.0",
            "grid_template_areas": null,
            "object_position": null,
            "object_fit": null,
            "grid_auto_columns": null,
            "margin": null,
            "display": null,
            "left": null
          }
        },
        "ff4d230cd9954c57a2c7ef3dc937ac50": {
          "model_module": "@jupyter-widgets/controls",
          "model_name": "HBoxModel",
          "state": {
            "_view_name": "HBoxView",
            "_dom_classes": [],
            "_model_name": "HBoxModel",
            "_view_module": "@jupyter-widgets/controls",
            "_model_module_version": "1.5.0",
            "_view_count": null,
            "_view_module_version": "1.5.0",
            "box_style": "",
            "layout": "IPY_MODEL_01e4c9fbc0724f61ab4b3ecac0414202",
            "_model_module": "@jupyter-widgets/controls",
            "children": [
              "IPY_MODEL_1433b8e2a6cd46f6b0f977be089223e6",
              "IPY_MODEL_71115f1a94e04d83950ec157ea846f38"
            ]
          }
        },
        "01e4c9fbc0724f61ab4b3ecac0414202": {
          "model_module": "@jupyter-widgets/base",
          "model_name": "LayoutModel",
          "state": {
            "_view_name": "LayoutView",
            "grid_template_rows": null,
            "right": null,
            "justify_content": null,
            "_view_module": "@jupyter-widgets/base",
            "overflow": null,
            "_model_module_version": "1.2.0",
            "_view_count": null,
            "flex_flow": null,
            "width": null,
            "min_width": null,
            "border": null,
            "align_items": null,
            "bottom": null,
            "_model_module": "@jupyter-widgets/base",
            "top": null,
            "grid_column": null,
            "overflow_y": null,
            "overflow_x": null,
            "grid_auto_flow": null,
            "grid_area": null,
            "grid_template_columns": null,
            "flex": null,
            "_model_name": "LayoutModel",
            "justify_items": null,
            "grid_row": null,
            "max_height": null,
            "align_content": null,
            "visibility": null,
            "align_self": null,
            "height": null,
            "min_height": null,
            "padding": null,
            "grid_auto_rows": null,
            "grid_gap": null,
            "max_width": null,
            "order": null,
            "_view_module_version": "1.2.0",
            "grid_template_areas": null,
            "object_position": null,
            "object_fit": null,
            "grid_auto_columns": null,
            "margin": null,
            "display": null,
            "left": null
          }
        },
        "1433b8e2a6cd46f6b0f977be089223e6": {
          "model_module": "@jupyter-widgets/controls",
          "model_name": "FloatProgressModel",
          "state": {
            "_view_name": "ProgressView",
            "style": "IPY_MODEL_109ab2aa6b6b4750a62224c665b83dac",
            "_dom_classes": [],
            "description": "",
            "_model_name": "FloatProgressModel",
            "bar_style": "success",
            "max": 4422102,
            "_view_module": "@jupyter-widgets/controls",
            "_model_module_version": "1.5.0",
            "value": 4422102,
            "_view_count": null,
            "_view_module_version": "1.5.0",
            "orientation": "horizontal",
            "min": 0,
            "description_tooltip": null,
            "_model_module": "@jupyter-widgets/controls",
            "layout": "IPY_MODEL_e12de42c098a4a29bf1714a783ff6f24"
          }
        },
        "71115f1a94e04d83950ec157ea846f38": {
          "model_module": "@jupyter-widgets/controls",
          "model_name": "HTMLModel",
          "state": {
            "_view_name": "HTMLView",
            "style": "IPY_MODEL_fdbdb0e922a141c290031ac62d6b7096",
            "_dom_classes": [],
            "description": "",
            "_model_name": "HTMLModel",
            "placeholder": "​",
            "_view_module": "@jupyter-widgets/controls",
            "_model_module_version": "1.5.0",
            "value": " 4422656/? [00:00&lt;00:00, 32194793.20it/s]",
            "_view_count": null,
            "_view_module_version": "1.5.0",
            "description_tooltip": null,
            "_model_module": "@jupyter-widgets/controls",
            "layout": "IPY_MODEL_6ce218f4a6b04ccd968757522c8776b5"
          }
        },
        "109ab2aa6b6b4750a62224c665b83dac": {
          "model_module": "@jupyter-widgets/controls",
          "model_name": "ProgressStyleModel",
          "state": {
            "_view_name": "StyleView",
            "_model_name": "ProgressStyleModel",
            "description_width": "initial",
            "_view_module": "@jupyter-widgets/base",
            "_model_module_version": "1.5.0",
            "_view_count": null,
            "_view_module_version": "1.2.0",
            "bar_color": null,
            "_model_module": "@jupyter-widgets/controls"
          }
        },
        "e12de42c098a4a29bf1714a783ff6f24": {
          "model_module": "@jupyter-widgets/base",
          "model_name": "LayoutModel",
          "state": {
            "_view_name": "LayoutView",
            "grid_template_rows": null,
            "right": null,
            "justify_content": null,
            "_view_module": "@jupyter-widgets/base",
            "overflow": null,
            "_model_module_version": "1.2.0",
            "_view_count": null,
            "flex_flow": null,
            "width": null,
            "min_width": null,
            "border": null,
            "align_items": null,
            "bottom": null,
            "_model_module": "@jupyter-widgets/base",
            "top": null,
            "grid_column": null,
            "overflow_y": null,
            "overflow_x": null,
            "grid_auto_flow": null,
            "grid_area": null,
            "grid_template_columns": null,
            "flex": null,
            "_model_name": "LayoutModel",
            "justify_items": null,
            "grid_row": null,
            "max_height": null,
            "align_content": null,
            "visibility": null,
            "align_self": null,
            "height": null,
            "min_height": null,
            "padding": null,
            "grid_auto_rows": null,
            "grid_gap": null,
            "max_width": null,
            "order": null,
            "_view_module_version": "1.2.0",
            "grid_template_areas": null,
            "object_position": null,
            "object_fit": null,
            "grid_auto_columns": null,
            "margin": null,
            "display": null,
            "left": null
          }
        },
        "fdbdb0e922a141c290031ac62d6b7096": {
          "model_module": "@jupyter-widgets/controls",
          "model_name": "DescriptionStyleModel",
          "state": {
            "_view_name": "StyleView",
            "_model_name": "DescriptionStyleModel",
            "description_width": "",
            "_view_module": "@jupyter-widgets/base",
            "_model_module_version": "1.5.0",
            "_view_count": null,
            "_view_module_version": "1.2.0",
            "_model_module": "@jupyter-widgets/controls"
          }
        },
        "6ce218f4a6b04ccd968757522c8776b5": {
          "model_module": "@jupyter-widgets/base",
          "model_name": "LayoutModel",
          "state": {
            "_view_name": "LayoutView",
            "grid_template_rows": null,
            "right": null,
            "justify_content": null,
            "_view_module": "@jupyter-widgets/base",
            "overflow": null,
            "_model_module_version": "1.2.0",
            "_view_count": null,
            "flex_flow": null,
            "width": null,
            "min_width": null,
            "border": null,
            "align_items": null,
            "bottom": null,
            "_model_module": "@jupyter-widgets/base",
            "top": null,
            "grid_column": null,
            "overflow_y": null,
            "overflow_x": null,
            "grid_auto_flow": null,
            "grid_area": null,
            "grid_template_columns": null,
            "flex": null,
            "_model_name": "LayoutModel",
            "justify_items": null,
            "grid_row": null,
            "max_height": null,
            "align_content": null,
            "visibility": null,
            "align_self": null,
            "height": null,
            "min_height": null,
            "padding": null,
            "grid_auto_rows": null,
            "grid_gap": null,
            "max_width": null,
            "order": null,
            "_view_module_version": "1.2.0",
            "grid_template_areas": null,
            "object_position": null,
            "object_fit": null,
            "grid_auto_columns": null,
            "margin": null,
            "display": null,
            "left": null
          }
        },
        "8002b160419b4d18b577d50c6c4a4526": {
          "model_module": "@jupyter-widgets/controls",
          "model_name": "HBoxModel",
          "state": {
            "_view_name": "HBoxView",
            "_dom_classes": [],
            "_model_name": "HBoxModel",
            "_view_module": "@jupyter-widgets/controls",
            "_model_module_version": "1.5.0",
            "_view_count": null,
            "_view_module_version": "1.5.0",
            "box_style": "",
            "layout": "IPY_MODEL_5303546ea6c747f0b7384a7944b4d040",
            "_model_module": "@jupyter-widgets/controls",
            "children": [
              "IPY_MODEL_9f2f962796ab42b39e3a16b47d6f4ab1",
              "IPY_MODEL_58dcdc753967445496e1c5ba7e79f242"
            ]
          }
        },
        "5303546ea6c747f0b7384a7944b4d040": {
          "model_module": "@jupyter-widgets/base",
          "model_name": "LayoutModel",
          "state": {
            "_view_name": "LayoutView",
            "grid_template_rows": null,
            "right": null,
            "justify_content": null,
            "_view_module": "@jupyter-widgets/base",
            "overflow": null,
            "_model_module_version": "1.2.0",
            "_view_count": null,
            "flex_flow": null,
            "width": null,
            "min_width": null,
            "border": null,
            "align_items": null,
            "bottom": null,
            "_model_module": "@jupyter-widgets/base",
            "top": null,
            "grid_column": null,
            "overflow_y": null,
            "overflow_x": null,
            "grid_auto_flow": null,
            "grid_area": null,
            "grid_template_columns": null,
            "flex": null,
            "_model_name": "LayoutModel",
            "justify_items": null,
            "grid_row": null,
            "max_height": null,
            "align_content": null,
            "visibility": null,
            "align_self": null,
            "height": null,
            "min_height": null,
            "padding": null,
            "grid_auto_rows": null,
            "grid_gap": null,
            "max_width": null,
            "order": null,
            "_view_module_version": "1.2.0",
            "grid_template_areas": null,
            "object_position": null,
            "object_fit": null,
            "grid_auto_columns": null,
            "margin": null,
            "display": null,
            "left": null
          }
        },
        "9f2f962796ab42b39e3a16b47d6f4ab1": {
          "model_module": "@jupyter-widgets/controls",
          "model_name": "FloatProgressModel",
          "state": {
            "_view_name": "ProgressView",
            "style": "IPY_MODEL_94f2b6cc09f841e389200b7aac27d3a7",
            "_dom_classes": [],
            "description": "",
            "_model_name": "FloatProgressModel",
            "bar_style": "success",
            "max": 5148,
            "_view_module": "@jupyter-widgets/controls",
            "_model_module_version": "1.5.0",
            "value": 5148,
            "_view_count": null,
            "_view_module_version": "1.5.0",
            "orientation": "horizontal",
            "min": 0,
            "description_tooltip": null,
            "_model_module": "@jupyter-widgets/controls",
            "layout": "IPY_MODEL_fb37175561484269b5e3cacf23a13033"
          }
        },
        "58dcdc753967445496e1c5ba7e79f242": {
          "model_module": "@jupyter-widgets/controls",
          "model_name": "HTMLModel",
          "state": {
            "_view_name": "HTMLView",
            "style": "IPY_MODEL_9204dabfae49448687521447eb1578f3",
            "_dom_classes": [],
            "description": "",
            "_model_name": "HTMLModel",
            "placeholder": "​",
            "_view_module": "@jupyter-widgets/controls",
            "_model_module_version": "1.5.0",
            "value": " 6144/? [02:06&lt;00:00, 48.43it/s]",
            "_view_count": null,
            "_view_module_version": "1.5.0",
            "description_tooltip": null,
            "_model_module": "@jupyter-widgets/controls",
            "layout": "IPY_MODEL_2c01cd5a55ee456c901ae61831c5ff1f"
          }
        },
        "94f2b6cc09f841e389200b7aac27d3a7": {
          "model_module": "@jupyter-widgets/controls",
          "model_name": "ProgressStyleModel",
          "state": {
            "_view_name": "StyleView",
            "_model_name": "ProgressStyleModel",
            "description_width": "initial",
            "_view_module": "@jupyter-widgets/base",
            "_model_module_version": "1.5.0",
            "_view_count": null,
            "_view_module_version": "1.2.0",
            "bar_color": null,
            "_model_module": "@jupyter-widgets/controls"
          }
        },
        "fb37175561484269b5e3cacf23a13033": {
          "model_module": "@jupyter-widgets/base",
          "model_name": "LayoutModel",
          "state": {
            "_view_name": "LayoutView",
            "grid_template_rows": null,
            "right": null,
            "justify_content": null,
            "_view_module": "@jupyter-widgets/base",
            "overflow": null,
            "_model_module_version": "1.2.0",
            "_view_count": null,
            "flex_flow": null,
            "width": null,
            "min_width": null,
            "border": null,
            "align_items": null,
            "bottom": null,
            "_model_module": "@jupyter-widgets/base",
            "top": null,
            "grid_column": null,
            "overflow_y": null,
            "overflow_x": null,
            "grid_auto_flow": null,
            "grid_area": null,
            "grid_template_columns": null,
            "flex": null,
            "_model_name": "LayoutModel",
            "justify_items": null,
            "grid_row": null,
            "max_height": null,
            "align_content": null,
            "visibility": null,
            "align_self": null,
            "height": null,
            "min_height": null,
            "padding": null,
            "grid_auto_rows": null,
            "grid_gap": null,
            "max_width": null,
            "order": null,
            "_view_module_version": "1.2.0",
            "grid_template_areas": null,
            "object_position": null,
            "object_fit": null,
            "grid_auto_columns": null,
            "margin": null,
            "display": null,
            "left": null
          }
        },
        "9204dabfae49448687521447eb1578f3": {
          "model_module": "@jupyter-widgets/controls",
          "model_name": "DescriptionStyleModel",
          "state": {
            "_view_name": "StyleView",
            "_model_name": "DescriptionStyleModel",
            "description_width": "",
            "_view_module": "@jupyter-widgets/base",
            "_model_module_version": "1.5.0",
            "_view_count": null,
            "_view_module_version": "1.2.0",
            "_model_module": "@jupyter-widgets/controls"
          }
        },
        "2c01cd5a55ee456c901ae61831c5ff1f": {
          "model_module": "@jupyter-widgets/base",
          "model_name": "LayoutModel",
          "state": {
            "_view_name": "LayoutView",
            "grid_template_rows": null,
            "right": null,
            "justify_content": null,
            "_view_module": "@jupyter-widgets/base",
            "overflow": null,
            "_model_module_version": "1.2.0",
            "_view_count": null,
            "flex_flow": null,
            "width": null,
            "min_width": null,
            "border": null,
            "align_items": null,
            "bottom": null,
            "_model_module": "@jupyter-widgets/base",
            "top": null,
            "grid_column": null,
            "overflow_y": null,
            "overflow_x": null,
            "grid_auto_flow": null,
            "grid_area": null,
            "grid_template_columns": null,
            "flex": null,
            "_model_name": "LayoutModel",
            "justify_items": null,
            "grid_row": null,
            "max_height": null,
            "align_content": null,
            "visibility": null,
            "align_self": null,
            "height": null,
            "min_height": null,
            "padding": null,
            "grid_auto_rows": null,
            "grid_gap": null,
            "max_width": null,
            "order": null,
            "_view_module_version": "1.2.0",
            "grid_template_areas": null,
            "object_position": null,
            "object_fit": null,
            "grid_auto_columns": null,
            "margin": null,
            "display": null,
            "left": null
          }
        }
      }
    }
  },
  "cells": [
    {
      "cell_type": "markdown",
      "metadata": {
        "id": "view-in-github",
        "colab_type": "text"
      },
      "source": [
        "<a href=\"https://colab.research.google.com/github/yeongju98/YBIGTA/blob/main/CNN_%EA%B3%BC%EC%A0%9C_19%EA%B8%B0%EC%A7%80%EC%98%81%EC%A3%BC.ipynb\" target=\"_parent\"><img src=\"https://colab.research.google.com/assets/colab-badge.svg\" alt=\"Open In Colab\"/></a>"
      ]
    },
    {
      "cell_type": "markdown",
      "metadata": {
        "id": "sSJftDUQT9_v"
      },
      "source": [
        "#YBIGTA CNN 과제 - LeNet 구현해보기\n",
        "\n",
        "- 1, 2, 3 번에 있는 빈칸을 채워주시면 됩니다!\n",
        "- 과제제출 폴더에"
      ]
    },
    {
      "cell_type": "code",
      "metadata": {
        "id": "ZebG6IQNSCpP"
      },
      "source": [
        "import torch \n",
        "import torch.nn as nn\n",
        "import torch.nn.functional as F\n",
        "import torchvision.datasets as dset\n",
        "import torchvision.transforms as transforms\n",
        "import matplotlib.pyplot as plt\n",
        "import numpy as np\n",
        "import pandas as pd\n",
        "import os\n",
        "from torch.utils.data import DataLoader"
      ],
      "execution_count": 1,
      "outputs": []
    },
    {
      "cell_type": "code",
      "metadata": {
        "id": "VF1P56ABpWb-",
        "colab": {
          "base_uri": "https://localhost:8080/",
          "height": 552,
          "referenced_widgets": [
            "89061c9b8903488b8ff15558d43704c6",
            "30211f680b5d4d8d9bda88ae8fe949cc",
            "9e72c99f43a54707a448e885b89fb501",
            "8a7bf006eb1547d88863e7c46e71c1ff",
            "66d246d559d941b7be0b92c24eab8905",
            "538bd58e01f14c3c91c4318c52210ae4",
            "c4bb72b143eb45afa0d56898b3e7403b",
            "8d0ba486324442b78edbb75ffcfffdb6",
            "113b108f313d4f8f94d3a9106a84611e",
            "08dcfbf46f3147f5b57bd60fedbead79",
            "04974d1b927645e7a7b5e8ea3d88d035",
            "c8717636b5da49289e47a17098ec07de",
            "e66d3733628f4c63bde5b2f85baf7926",
            "ada2f63578f8478a8fe8dbe2a33d3570",
            "cf9b43ebfd594dcd8b83401414215dc4",
            "063374f0481243b7b65bfffc2bbb29ef",
            "ff4d230cd9954c57a2c7ef3dc937ac50",
            "01e4c9fbc0724f61ab4b3ecac0414202",
            "1433b8e2a6cd46f6b0f977be089223e6",
            "71115f1a94e04d83950ec157ea846f38",
            "109ab2aa6b6b4750a62224c665b83dac",
            "e12de42c098a4a29bf1714a783ff6f24",
            "fdbdb0e922a141c290031ac62d6b7096",
            "6ce218f4a6b04ccd968757522c8776b5",
            "8002b160419b4d18b577d50c6c4a4526",
            "5303546ea6c747f0b7384a7944b4d040",
            "9f2f962796ab42b39e3a16b47d6f4ab1",
            "58dcdc753967445496e1c5ba7e79f242",
            "94f2b6cc09f841e389200b7aac27d3a7",
            "fb37175561484269b5e3cacf23a13033",
            "9204dabfae49448687521447eb1578f3",
            "2c01cd5a55ee456c901ae61831c5ff1f"
          ]
        },
        "outputId": "72e58c43-a16b-4f28-decb-06bb39c7afe1"
      },
      "source": [
        "device = \"cuda\" if torch.cuda.is_available() else \"cpu\"\n",
        "root = './data'\n",
        "if not os.path.exists(root):\n",
        "  os.mkdir(root)\n",
        "transform = transforms.Compose([transforms.ToTensor()])\n",
        "train_data = dset.FashionMNIST(root=root, train=True, transform=transform, download=True)\n",
        "test_data = dset.FashionMNIST(root=root, train=False, transform=transform, download=True)"
      ],
      "execution_count": 2,
      "outputs": [
        {
          "output_type": "stream",
          "text": [
            "Downloading http://fashion-mnist.s3-website.eu-central-1.amazonaws.com/train-images-idx3-ubyte.gz\n",
            "Downloading http://fashion-mnist.s3-website.eu-central-1.amazonaws.com/train-images-idx3-ubyte.gz to ./data/FashionMNIST/raw/train-images-idx3-ubyte.gz\n"
          ],
          "name": "stdout"
        },
        {
          "output_type": "display_data",
          "data": {
            "application/vnd.jupyter.widget-view+json": {
              "model_id": "89061c9b8903488b8ff15558d43704c6",
              "version_minor": 0,
              "version_major": 2
            },
            "text/plain": [
              "HBox(children=(FloatProgress(value=0.0, max=26421880.0), HTML(value='')))"
            ]
          },
          "metadata": {
            "tags": []
          }
        },
        {
          "output_type": "stream",
          "text": [
            "\n",
            "Extracting ./data/FashionMNIST/raw/train-images-idx3-ubyte.gz to ./data/FashionMNIST/raw\n",
            "\n",
            "Downloading http://fashion-mnist.s3-website.eu-central-1.amazonaws.com/train-labels-idx1-ubyte.gz\n",
            "Downloading http://fashion-mnist.s3-website.eu-central-1.amazonaws.com/train-labels-idx1-ubyte.gz to ./data/FashionMNIST/raw/train-labels-idx1-ubyte.gz\n"
          ],
          "name": "stdout"
        },
        {
          "output_type": "display_data",
          "data": {
            "application/vnd.jupyter.widget-view+json": {
              "model_id": "113b108f313d4f8f94d3a9106a84611e",
              "version_minor": 0,
              "version_major": 2
            },
            "text/plain": [
              "HBox(children=(FloatProgress(value=0.0, max=29515.0), HTML(value='')))"
            ]
          },
          "metadata": {
            "tags": []
          }
        },
        {
          "output_type": "stream",
          "text": [
            "\n",
            "Extracting ./data/FashionMNIST/raw/train-labels-idx1-ubyte.gz to ./data/FashionMNIST/raw\n",
            "\n",
            "Downloading http://fashion-mnist.s3-website.eu-central-1.amazonaws.com/t10k-images-idx3-ubyte.gz\n",
            "Downloading http://fashion-mnist.s3-website.eu-central-1.amazonaws.com/t10k-images-idx3-ubyte.gz to ./data/FashionMNIST/raw/t10k-images-idx3-ubyte.gz\n"
          ],
          "name": "stdout"
        },
        {
          "output_type": "display_data",
          "data": {
            "application/vnd.jupyter.widget-view+json": {
              "model_id": "ff4d230cd9954c57a2c7ef3dc937ac50",
              "version_minor": 0,
              "version_major": 2
            },
            "text/plain": [
              "HBox(children=(FloatProgress(value=0.0, max=4422102.0), HTML(value='')))"
            ]
          },
          "metadata": {
            "tags": []
          }
        },
        {
          "output_type": "stream",
          "text": [
            "\n",
            "Extracting ./data/FashionMNIST/raw/t10k-images-idx3-ubyte.gz to ./data/FashionMNIST/raw\n",
            "\n",
            "Downloading http://fashion-mnist.s3-website.eu-central-1.amazonaws.com/t10k-labels-idx1-ubyte.gz\n",
            "Downloading http://fashion-mnist.s3-website.eu-central-1.amazonaws.com/t10k-labels-idx1-ubyte.gz to ./data/FashionMNIST/raw/t10k-labels-idx1-ubyte.gz\n"
          ],
          "name": "stdout"
        },
        {
          "output_type": "display_data",
          "data": {
            "application/vnd.jupyter.widget-view+json": {
              "model_id": "8002b160419b4d18b577d50c6c4a4526",
              "version_minor": 0,
              "version_major": 2
            },
            "text/plain": [
              "HBox(children=(FloatProgress(value=0.0, max=5148.0), HTML(value='')))"
            ]
          },
          "metadata": {
            "tags": []
          }
        },
        {
          "output_type": "stream",
          "text": [
            "\n",
            "Extracting ./data/FashionMNIST/raw/t10k-labels-idx1-ubyte.gz to ./data/FashionMNIST/raw\n",
            "\n"
          ],
          "name": "stdout"
        },
        {
          "output_type": "stream",
          "text": [
            "/usr/local/lib/python3.7/dist-packages/torchvision/datasets/mnist.py:498: UserWarning: The given NumPy array is not writeable, and PyTorch does not support non-writeable tensors. This means you can write to the underlying (supposedly non-writeable) NumPy array using the tensor. You may want to copy the array to protect its data or make it writeable before converting it to a tensor. This type of warning will be suppressed for the rest of this program. (Triggered internally at  /pytorch/torch/csrc/utils/tensor_numpy.cpp:180.)\n",
            "  return torch.from_numpy(parsed.astype(m[2], copy=False)).view(*s)\n"
          ],
          "name": "stderr"
        }
      ]
    },
    {
      "cell_type": "code",
      "metadata": {
        "id": "tifXO1klqXDQ"
      },
      "source": [
        "batch_size = 100\n",
        "num_epochs = 5\n",
        "learning_rate = 0.01"
      ],
      "execution_count": 3,
      "outputs": []
    },
    {
      "cell_type": "code",
      "metadata": {
        "id": "Uj8UcWGvpTm-"
      },
      "source": [
        "train_loader = DataLoader (\n",
        "    dataset = train_data,\n",
        "    batch_size = batch_size,\n",
        "    shuffle = True\n",
        ")\n",
        "test_loader = DataLoader (\n",
        "    dataset = test_data,\n",
        "    batch_size = batch_size,\n",
        "    shuffle = False\n",
        "\n",
        ")"
      ],
      "execution_count": 4,
      "outputs": []
    },
    {
      "cell_type": "markdown",
      "metadata": {
        "id": "qQXR0-B1ScFs"
      },
      "source": [
        "# LeNet 구현하기!\n"
      ]
    },
    {
      "cell_type": "markdown",
      "metadata": {
        "id": "0hwWWIG6SIdx"
      },
      "source": [
        "![스크린샷 2021-07-31 오후 3.38.06.png](data:image/png;base64,iVBORw0KGgoAAAANSUhEUgAABUgAAAHCCAYAAAA95iMPAAAMbGlDQ1BJQ0MgUHJvZmlsZQAASImVVwdYU8kWnluSkJDQAqFICb0J0quUEFoEAamCqIQkkFBiTAgqdlRUcO0iihVdFVF0LYAsKmIvi2LviwWVlXWxoCgqb0ICuu4r3zvfN3f+e+bMf8qdufcOAJq9XIkkD9UCIF9cII2PCGGOTU1jkjoACWgDTWAKMC5PJmHFxUUDKIP93+X9TYAo+mtOCq5/jv9X0eELZDwAkHSIM/kyXj7EzQDgG3gSaQEARIXeckqBRIHnQKwrhQFCvFqBs5V4lwJnKnHTgE1iPBviKwCoUblcaTYAGvehnlnIy4Y8Gp8hdhHzRWIANIdDHMgTcvkQK2Ifnp8/SYErILaD9hKIYTzAJ/M7zuy/8WcO8XO52UNYmdeAqIWKZJI87rT/szT/W/Lz5IM+bGCjCqWR8Yr8YQ1v506KUmAqxF3izJhYRa0h7hXxlXUHAKUI5ZFJSnvUmCdjw/oBBsQufG5oFMTGEIeL82KiVfrMLFE4B2K4WtCpogJOIsQGEC8SyMISVDZbpJPiVb7Quiwpm6XSn+NKB/wqfD2U5yaxVPxvhAKOih/TKBImpkBMgdiqUJQcA7EGxM6y3IQolc3IIiE7ZtBGKo9XxG8FcbxAHBGi5McKs6Th8Sr70nzZYL7YFqGIE6PCBwqEiZHK+mCneNyB+GEu2BWBmJU0yCOQjY0ezIUvCA1T5o69EIiTElQ8vZKCkHjlXJwiyYtT2eMWgrwIhd4CYg9ZYYJqLp5cABenkh/PkhTEJSrjxItyuKPilPHgy0E0YINQwARy2DLBJJADRK1d9V3wTjkSDrhACrKBADipNIMzUgZGxPCaAIrAnxAJgGxoXsjAqAAUQv2XIa3y6gSyBkYLB2bkgmcQ54MokAfv5QOzxEPeksFTqBH9wzsXNh6MNw82xfi/1w9qv2lYUBOt0sgHPTI1By2JYcRQYiQxnGiPG+GBuD8eDa/BsLnhPrjvYB7f7AnPCG2Ex4QbhHbCnYmiYukPUY4G7ZA/XFWLzO9rgdtATk88BA+A7JAZZ+BGwAn3gH5YeBD07Am1bFXciqowf+D+WwbfPQ2VHdmFjJL1ycFkux9najhoeA6xKGr9fX2UsWYO1Zs9NPKjf/Z31efDPupHS2wRdhA7i53AzmNNWD1gYsexBuwSdlSBh1bX04HVNegtfiCeXMgj+oc/rsqnopIylxqXTpfPyrECwdQCxcZjT5JMk4qyhQVMFvw6CJgcMc95ONPNxc0VAMW3Rvn6essY+IYgjAvfdMXvAAjg9/f3N33TRcO9fmgB3P7Pvulsj8HXhD4A58p4cmmhUocrLgT4ltCEO80QfscsgR3Mxw14AX8QDMLAKBALEkEqmACrLITrXAqmgBlgLigBZWA5WAPWg81gG9gF9oIDoB40gRPgDLgIroAb4B5cPR3gJegG70EfgiAkhIbQEUPEDLFGHBE3xAcJRMKQaCQeSUUykGxEjMiRGcg8pAxZiaxHtiLVyC/IEeQEch5pQ+4gj5BO5A3yCcVQKqqLmqA26AjUB2WhUWgiOh7NRiejReh8dClagVahe9A69AR6Eb2BtqMv0R4MYOoYAzPHnDAfjI3FYmlYFibFZmGlWDlWhdVijfA5X8PasS7sI07E6TgTd4IrOBJPwnn4ZHwWvgRfj+/C6/BT+DX8Ed6NfyXQCMYER4IfgUMYS8gmTCGUEMoJOwiHCafhXuogvCcSiQyiLdEb7sVUYg5xOnEJcSNxH7GZ2EZ8QuwhkUiGJEdSACmWxCUVkEpI60h7SMdJV0kdpF41dTUzNTe1cLU0NbFasVq52m61Y2pX1Z6r9ZG1yNZkP3IsmU+eRl5G3k5uJF8md5D7KNoUW0oAJZGSQ5lLqaDUUk5T7lPeqqurW6j7qo9RF6nPUa9Q369+Tv2R+keqDtWByqamU+XUpdSd1GbqHepbGo1mQwumpdEKaEtp1bSTtIe0Xg26hrMGR4OvMVujUqNO46rGK02yprUmS3OCZpFmueZBzcuaXVpkLRstthZXa5ZWpdYRrVtaPdp0bVftWO187SXau7XPa7/QIenY6ITp8HXm62zTOanzhI7RLelsOo8+j76dfpreoUvUtdXl6Obolunu1W3V7dbT0fPQS9abqlepd1SvnYExbBgcRh5jGeMA4ybjk76JPktfoL9Yv1b/qv4Hg2EGwQYCg1KDfQY3DD4ZMg3DDHMNVxjWGz4wwo0cjMYYTTHaZHTaqGuY7jD/YbxhpcMODLtrjBo7GMcbTzfeZnzJuMfE1CTCRGKyzuSkSZcpwzTYNMd0tekx004zulmgmchstdlxsz+YekwWM49ZwTzF7DY3No80l5tvNW8177OwtUiyKLbYZ/HAkmLpY5lludqyxbLbysxqtNUMqxqru9Zkax9rofVa67PWH2xsbVJsFtrU27ywNbDl2BbZ1tjet6PZBdlNtquyu25PtPexz7XfaH/FAXXwdBA6VDpcdkQdvRxFjhsd24YThvsOFw+vGn7LierEcip0qnF65MxwjnYudq53fjXCakTaiBUjzo746uLpkuey3eWeq47rKNdi10bXN24Objy3Srfr7jT3cPfZ7g3urz0cPQQemzxue9I9R3su9Gzx/OLl7SX1qvXq9LbyzvDe4H3LR9cnzmeJzzlfgm+I72zfJt+Pfl5+BX4H/P7yd/LP9d/t/2Kk7UjByO0jnwRYBHADtga0BzIDMwK3BLYHmQdxg6qCHgdbBvODdwQ/Z9mzclh7WK9CXEKkIYdDPrD92DPZzaFYaERoaWhrmE5YUtj6sIfhFuHZ4TXh3RGeEdMjmiMJkVGRKyJvcUw4PE41p3uU96iZo05FUaMSotZHPY52iJZGN45GR48avWr0/RjrGHFMfSyI5cSuin0QZxs3Oe7XMcQxcWMqxzyLd42fEX82gZ4wMWF3wvvEkMRlifeS7JLkSS3JmsnpydXJH1JCU1amtI8dMXbm2IupRqmi1IY0Ulpy2o60nnFh49aM60j3TC9JvznedvzU8ecnGE3Im3B0ouZE7sSDGYSMlIzdGZ+5sdwqbk8mJ3NDZjePzVvLe8kP5q/mdwoCBCsFz7MCslZmvcgOyF6V3SkMEpYLu0Rs0XrR65zInM05H3Jjc3fm9uel5O3LV8vPyD8i1hHnik9NMp00dVKbxFFSImmf7Dd5zeRuaZR0hwyRjZc1FOjCn/pLcjv5AvmjwsDCysLeKclTDk7Vniqeemmaw7TF054XhRf9PB2fzpveMsN8xtwZj2ayZm6dhczKnNUy23L2/NkdcyLm7JpLmZs797dil+KVxe/mpcxrnG8yf878JwsiFtSUaJRIS24t9F+4eRG+SLSodbH74nWLv5bySy+UuZSVl31ewlty4SfXnyp+6l+atbR1mdeyTcuJy8XLb64IWrFrpfbKopVPVo1eVbeaubp09bs1E9ecL/co37yWsla+tr0iuqJhndW65es+rxeuv1EZUrlvg/GGxRs+bORvvLopeFPtZpPNZZs/bRFtub01YmtdlU1V+TbitsJtz7Ynbz/7s8/P1TuMdpTt+LJTvLN9V/yuU9Xe1dW7jXcvq0Fr5DWde9L3XNkbureh1ql26z7GvrL9YL98/x+/ZPxy80DUgZaDPgdrD1kf2nCYfri0DqmbVtddL6xvb0htaDsy6khLo3/j4V+df93ZZN5UeVTv6LJjlGPzj/UfLzre0yxp7jqRfeJJy8SWeyfHnrx+asyp1tNRp8+dCT9z8izr7PFzAeeazvudP3LB50L9Ra+LdZc8Lx3+zfO3w61erXWXvS83XPG90tg2su3Y1aCrJ66FXjtznXP94o2YG203k27evpV+q/02//aLO3l3Xt8tvNt3b859wv3SB1oPyh8aP6z63f73fe1e7UcfhT669Djh8b0nvCcvn8qefu6Y/4z2rPy52fPqF24vmjrDO6/8Me6PjpeSl31dJX9q/7nhld2rQ38F/3Wpe2x3x2vp6/43S94avt35zuNdS09cz8P3+e/7PpT2Gvbu+ujz8eynlE/P+6Z8Jn2u+GL/pfFr1Nf7/fn9/RKulDvwK4DBhmZlAfBmJwC0VADo8NxGGac8Cw4Iojy/DiDwn7DyvDggXgDUwk7xG89uBmA/bDZzIHcwAIpf+MRggLq7DzWVyLLc3ZRcVHgSIvT29781AYDUCMAXaX9/38b+/i/bYbB3AGierDyDKoQIzwxbghXohkF6L/hBlOfT73L8sQeKCDzAj/2/ADz5j71JP+GqAAAAimVYSWZNTQAqAAAACAAEARoABQAAAAEAAAA+ARsABQAAAAEAAABGASgAAwAAAAEAAgAAh2kABAAAAAEAAABOAAAAAAAAAJAAAAABAAAAkAAAAAEAA5KGAAcAAAASAAAAeKACAAQAAAABAAAFSKADAAQAAAABAAABwgAAAABBU0NJSQAAAFNjcmVlbnNob3Q8fn9GAAAACXBIWXMAABYlAAAWJQFJUiTwAAAB12lUWHRYTUw6Y29tLmFkb2JlLnhtcAAAAAAAPHg6eG1wbWV0YSB4bWxuczp4PSJhZG9iZTpuczptZXRhLyIgeDp4bXB0az0iWE1QIENvcmUgNi4wLjAiPgogICA8cmRmOlJERiB4bWxuczpyZGY9Imh0dHA6Ly93d3cudzMub3JnLzE5OTkvMDIvMjItcmRmLXN5bnRheC1ucyMiPgogICAgICA8cmRmOkRlc2NyaXB0aW9uIHJkZjphYm91dD0iIgogICAgICAgICAgICB4bWxuczpleGlmPSJodHRwOi8vbnMuYWRvYmUuY29tL2V4aWYvMS4wLyI+CiAgICAgICAgIDxleGlmOlBpeGVsWURpbWVuc2lvbj40NTA8L2V4aWY6UGl4ZWxZRGltZW5zaW9uPgogICAgICAgICA8ZXhpZjpQaXhlbFhEaW1lbnNpb24+MTM1MjwvZXhpZjpQaXhlbFhEaW1lbnNpb24+CiAgICAgICAgIDxleGlmOlVzZXJDb21tZW50PlNjcmVlbnNob3Q8L2V4aWY6VXNlckNvbW1lbnQ+CiAgICAgIDwvcmRmOkRlc2NyaXB0aW9uPgogICA8L3JkZjpSREY+CjwveDp4bXBtZXRhPgouUX1jAAAAHGlET1QAAAACAAAAAAAAAOEAAAAoAAAA4QAAAOEAARmMM/eXUwAAQABJREFUeAHs3Qm4bkdVJuBNa6MCaZRJbaabREFRkEHGAAmRIZAgMqNBCB0aaJmaecpEDKNhDFMYDKOQMIuABEICBGjGgCAEJbmIMrQgCrZN2926u94l6/TO4Zybm3Bvcs85Xz3P/++palXVV7VrV321atUl5uGmuCAQBIJAEAgCQSAIBIEgEASCQBAIAkEgCASBIBAEgsAWROASIUi3YKkny0EgCASBIBAEgkAQCAJBIAgEgSAQBIJAEAgCQSAIFAIhSFMRgkAQCAJBIAgEgSAQBIJAEAgCQSAIBIEgEASCQBDYsgiEIN2yRZ+MB4EgEASCQBAIAkEgCASBIBAEgkAQCAJBIAgEgSAQgjR1IAgEgSAQBIJAEAgCQSAIBIEgEASCQBAIAkEgCASBLYtACNItW/TJeBAIAkEgCASBIBAEgkAQCAJBIAgEgSAQBIJAEAgCIUhTB4JAEAgCQSAIBIEgEASCQBAIAkEgCASBIBAEgkAQ2LIIhCDdskWfjAeBIBAEgkAQCAJBIAgEgSAQBIJAEAgCQSAIBIEgEII0dSAIBIEgEASCQBAIAkEgCASBIBAEgkAQCAJBIAgEgS2LQAjSLVv0yXgQCAJBIAgEgSAQBIJAEAgCQSAIBIEgEASCQBAIAiFIUweCQBAIAkEgCASBIBAEgkAQCAJBIAgEgSAQBIJAENiyCIQg3bJFn4wHgSAQBIJAEAgCQSAIBIEgEASCQBAIAkEgCASBIBCCNHUgCASBIBAEgkAQCAJBIAgEgSAQBIJAEAgCQSAIBIEti0AI0i1b9Ml4EAgCQSAIBIEgEASCQBAIAkEgCASBIBAEgkAQCAIhSFMHgkAQCAJBIAgEgSAQBIJAEAgCQSAIBIEgEASCQBDYsgiEIN2yRZ+MB4EgEASCQBAIAkEgCASBIBAEgkAQCAJBIAgEgSAQgjR1IAgEgSAQBIJAEAgCQSAIBIEgEASCQBAIAkEgCASBLYtACNItW/TJeBAIAkEgCASBIBAEgkAQCAJBIAgEgSAQBIJAEAgCIUhTB4JAEAgCQSAIBIEgEASCQBAIAkEgCASBIBAEgkAQ2LIIhCDdskWfjAeBIBAEgkAQCAJBIAgEgSAQBIJAEAgCQSAIBIEgEII0dSAIBIEgEASCQBAIAkEgCASBIBAEgkAQCAJBIAgEgS2LQAjSLVv0yXgQCAJBIAgEgSAQBIJAEAgCQSAIBIEgEASCQBAIAiFIUweCQBAIAkEgCASBIBAEgkAQCAJBIAgEgSAQBIJAENiyCIQg3bJFn4wHgSAQBIJAEAgCQSAIBIEgEASCQBAIAkEgCASBIBCCNHUgCASBIBAEgkAQCAJBIAgEgSAQBIJAEAgCQSAIBIEti0AI0i1b9Ml4EAgCQSAIBIEgEASCQBAIAkEgCASBIBAEgkAQCAIhSFMHgkAQCAJBIAgEgSAQBIJAEAgCQSAIBIEgEASCQBDYsgiEIN2yRZ+MB4EgEASCQBAIAkEgCASBIBAEgkAQCAJBIAgEgSAQgjR1IAgEgSAQBIJAEAgCQSAIBIEgEASCQBAIAkEgCASBLYtACNItW/TJeBAIAkEgCASBIBAEgkAQCAJBIAgEgSAQBIJAEAgCIUhTB4JAEAgCQSAIBIEgEASCQBAIAkEgCASBIBAEgkAQ2LIIhCDdskWfjAeBIBAEgkAQCAJBIAgEgSAQBIJAEAgCQSAIBIEgEII0dSAIBIEgEASCQBAIAkEgCASBIBAEgkAQCAJBIAgEgS2LQAjSLVv0yXgQCAJBIAgEgSAQBIJAEAgCQSAIBIEgEASCQBAIAiFIUweCQBAIAkEgCASBIBAEgkAQCAJBIAgEgSAQBIJAENiyCIQg3bJFn4wHgSAQBIJAEAgCQSAIBIEgEASCQBAIAkEgCASBIBCCNHUgCASBIBAEgkAQCAJBIAgEgSAQBIJAEAgCQSAIBIEti0AI0i1b9Ml4EAgCQSAIBIEgEASCQBAIAkEgCASBIBAEgkAQCAIhSFMHgkAQCAJBIAgEgSAQBIJAEAgCQSAIBIEgEASCQBDYsgiEIN2yRZ+MB4EgEASCQBAIAkEgCASBIBAEgkAQCAJBIAgEgSAQgjR1IAgEgSAQBIJAEAgCQSAIBIEgEASCQBAIAkEgCASBLYtACNItW/TJeBAIAkEgCASBIBAEgkAQCAJBIAgEgSAQBIJAEAgCIUhTB4JAEAgCQSAIBIEgEASCQBAIAkEgCASBIBAEgkAQ2LIIhCDdskWfjAeBIBAEgkAQCAJBIAgEgSAQBIJAEAgCQSAIBIEgEII0dSAIBIEgEASCQBAIAkEgCASBIBAEgkAQCAJBIAgEgS2LQAjSLVv0yXgQCAJBIAgEgSAQBIJAEAgCQSAIBIEgEASCQBAIAiFIUweCQBAIAkEgCASBIBAEgkAQCAJBIAgEgSAQBIJAENiyCIQg3bJFn4wHgSAQBIJAEAgCQSAIBIEgEASCQBAIAkEgCASBIBCCNHUgCASBIBAEgkAQCAJBIAgEgSAQBIJAEAgCQSAIBIEti0AI0i1b9Ml4EAgCQSAIBIEgEASCQBAIAkEgCASBIBAEgkAQCAIhSFMHgkAQCAJBIAgEgSAQBIJAEAgCQSAIBIEgEASCQBDYsgiEIN2yRZ+MB4EgEASCQBAIAkEgCASBIBAEgkAQCAJBIAgEgSAQgjR1IAgEgSAQBIJAEAgCQSAIBIEgEASCQBAIAkEgCASBLYtACNItW/TJeBAIAkEgCASBIBAEgkAQCAJBIAgEgSAQBIJAEAgCIUhTB4JAEAgCQSAIBIEgEASCQBAIAkEgCASBIBAEgkAQ2LIIhCDdskWfjAeBIBAEgkAQCAJBIAgEgSAQBIJAEAgCQSAIBIEgEII0dSAIBIEgEASCQBAIAkEgCASBIBAEgkAQCAJBIAgEgS2LQAjSLVv0yXgQCAJBIAgEgSAQBIJAEAgCQSAIBIEgEASCQBAIAiFIUweCQBAIAkEgCASBIBAEgkAQCAJBIAgEgSAQBIJAENiyCIQg3bJFn4wHgSAQBILAnoTAPM+T3yUucYlp+/bt05vf/Obp7LPPnr7yla9M//AP/zBd/vKXr98d7nCHyc91h5GP//2//3f5/eu//uvp7//+76dLXepS5WefffaZrnCFK0w/9mM/Vtn9l3/5l+nf/bt/V/EIz3W8zsXfcr/73e9O733ve6d3vvOd02Uve9npv/7X/zrtvffe5Yff1a7ltFzP//Vf/7Xic+w09H1HaZEm8bZzbymj7y/T7h6Znd4O32lY3m9Z5ArTYX/8x3985XqtcO1PuOU52S3H/U996lPT17/+9emAAw6Y/sN/+A/lt/8633/5l385ff7zn5/+8R//cdprr70m5fKLv/iL00/91E+11zq2f8f/83/+z/Rnf/Zn0yc+8YnpL/7iLyblIfylL33p6Sd/8ienf//v/33F+Ru/8RvTz/zMz5wHs5YjX523j3/849O3vvWtab/99qvyXGLGj3xK4znnnDP93//7f6erX/3qlUZ5WgvPDi/hHUfLEV55dzj4fPKTn5yuf/3rT1e5ylVW8tzPW8af//mfT1/60pcqLH+/8Au/UJh2XF0WKwJyEgSCQBAIAkEgCASBIBAEdgECIUh3AYgREQSCQBAIAkFgVyCA1PriF79YROTpp58+3ehGN5pucIMbTP/xP/7H6Zvf/Ob0kY98pMjTu9/97tPjH//4IrCEQRq9/vWvn57+9KdP3/72t4sE+4mf+Iki0m54wxtOT3va06ZrXvOa5W9JUiKzhPdDtnGILcQhd8opp0yPecxjpite8YrT7/7u706//du/XWTreiRVk2SdphIy/vp+HxF/ZEgL0nOZJtftDym2Oq7V/jsOR+E44dpfy3LdJJt7y7iXZF4JGH/LPPR5H6W/8fre9743/eZv/ub04Q9/uIjSX/7lX1551lh+4AMfmI466qjpYx/7WD0THjl661vfejryyCOny13uckWGwr3TLo2vfOUrp+c///nTL/3SL013vOMdi1RFVv6v//W/pn/+53+e/vZv/3Z66UtfWmTngx/84OnmN795he98Sq80XPKSlyyS/W53u9t0xhlnTGedddb0K7/yK+fB9p/+6Z+mk08+eTr++OOLIJU/JLy8PfzhDy+ikrzGDk6rMfbcr+sP0l7cnHw86lGPml772tdOd7nLXVYw8kyY//k//+f0pje9afqDP/iD6atf/WrlT727613vOv2X//JfJrjGBYEgEASCQBAIAkEgCASB3YVACNLdhWzkBoEgEASCQBC4AAggnpBURxxxRBFjSFCEFmIT2YkopFn3pCc9qUjShzzkIUVc0SSkFXjooYeWxun+++8/3exmNyttPYTcF77whSLhjj766CIFxbMk0JqA7PvIKvcQcMcee+z0spe9bLr//e8/PfShDy3CrAmvHWWNDG617CYixdXPmrh03Wlo2X3d8qTbD0HoHi3Zdu7Bokm7zofnS0LTdfuRHvKaoBVGnK6dd3ydjk6/+xw/7373u6cHPehB09/8zd9Mn/nMZ6Zf/dVfPY88GsDKDOH9gAc8oIjJL3/5y9Pznve8kkE7F4nNLbFwH+F9wNBKRRIiVNUDaZBPTn1BmiMwr3Wta00vetGLpitd6UqVLnguMSBPOr/2ta+taHIiMJGZ/L797W+fjjnmmOl//I//Md3znvcsTeG3ve1tRfze+973np785CeXlqp4l8SnODgylvLca9wQuf/5P//n6Y//+I+LdL/Tne60Qpx2Gj077rjjqi7f7373K1L+1FNPnT760Y8WSYs4vcxlLrOCLflxQSAIBIEgEASCQBAIAkFgVyEQgnRXIRk5QSAIBIEgEAR+BASQeE1IWjL97Gc/u7Q1iVySh+95z3um+9znPkUwvf/97y/i7CUveUlp/glv+b1l28gzS6VpFtJQfPWrX12kE3m0TBGgNASRbk34LUk1hN8Tn/jE6a1vfWtpqyJgabI2oUbOateEGNKLTKQlbUBaj+L6u7/7u7r++Z//+coboo8GpuXX3/nOd4oAoy3ZJCwZZPIjL8g7JKJ0/OzP/mxpTkoDf+KULwSi/NJIZKLAtaXiV73qVSu5yE8yyeHH0ncmDGhMMh9w5Stfufw1Jp0GYeDDMYGAsENYi+Mb3/hGpcFSeEvIO/+WxNPApRn5hCc8Yfq93/u9KhvYP/WpT50QkO4hTjtd4kFW0vr9T//pP02/8zu/U7hYao+MJfPXfu3XSlvUkvlt27bVsntlRY660bL+6q/+quoFklxa4ewZkwDXuc51Ki/+LGt/4AMfWJql6hJCFh7yKQ2W3dNQpqGqXig3mJIFX7ggQXv5P5JWPXnxi19c4RD4ZKnj6iECtrGEr7C0SqWLRmzHf+65506HH354xf+GN7xhuv3tb7+S5pwEgSAQBIJAEAgCQSAIBIFdiUAI0l2JZmQFgSAQBIJAELiQCCCQkJs0Dt/4xjdOhxxyyArRhoTqJd1Ivf/23/5bEVUII/ZFEWNsj77qVa8qDULkXy9zPvjgg4uY/JM/+ZMiKZGNSDukmGX6lm63hiVyrglBWonSYWk/W5A0U2mhsgnZ5OGOsioNCENakLQfaRd+7nOfK4JU2m55y1sWmfeCF7yg/CENEW+Iskc/+tGVD/KRes94xjMm6UfAIeUQoNJh2T//HMINCYlARFJKO7udyErpf+xjH1uaiNJFBo1OeH3oQx8qYhWpjJxFNLLR6Zo/rglP57Bi4xVxjFhF7CL9kICtQdpx0Ip83OMeV37EQxsYxn4IbGVNC3bfffclukhbGqFsvV7talcrjVBksrJCdFsWb8k7W57//b//97JTS2vUPcvXpe2EE06o9MIDccuWrTojnZa30yCVThqn6pS0/v7v//6EGP3pn/7p6bTTTpt+7ud+bqUeKPM//MM/nGiRwpCWqfDKlaYyJy+tJSudNFVhJv+0ZdUXpC8zBH/0R3800Y72XD0QP6L/vve9b2movu9975vkmeu0WZ6vjiOVm1gtD/kLAkEgCASBIBAEgkAQCAK7CoHRSY8LAkEgCASBIBAELmYEBuk1D1JsHmTSPIi9eZCi8yC8KlWDXDxP6gaZWM/54Ybm3TyW08/uL92ZZ545X+9615sH8ToP7cp5EE7zIPXmsaSbsc55EHsr3gdhtXLu5MQTT5wHiTaPDYXm293udvNTnvKUeZCwJeM8HlddiIMjb9jenAfpOA8CcB5Lz+ehGTgPjcR5EHDzIMfmAw44YB7k6TzIt3ks4S9/g8ysuL///e9XHgc5Nw+N0XnYP50HUToPcrfS3+EH4VdxiXNoT5ZseSZ7kHbz0ECch7bpPGy5zoOIK5lDa3S+xz3uMY8l2/PQ0Jyf+9znzoMkrPhvcYtbFJ6NR2Pf1+KB+9CGnQcpOg/St/IGz0EcrqQFDoPQmwfZV2mB3bAvOw+t0fmDH/zgPEjF8sufciPfbxCPMwxOOumkWdxDC3ceRPY8tDcrLn4H8VzlKv1Ds7TCDbJ3Puyww+ZBEFf6pJNf5T3I0fmzn/3sPOx4Fu7qSztxDpJ8HkTtPDQ7q554Jl2eDaK5cFFu8v2a17xmHqT8PAj0eRCwVUcHYV9pHhtFVZl3vZVHGA0N0fmRj3xk1blBkK6kr+vv0A6dBzk+D7K70tpxS8db3vKW+RrXuMY8lt2fb93jPy4IBIEgEASCQBAIAkEgCFwYBGgxxAWBIBAEgkAQCAIXMwJj6fw8NPiKaEKmIY8QVMgizrXzvvasf+3XEQk3bDkWoYjgREAi5Tocwm1oY86IR0Rh3yernXtjOfs87EYWQTqWPdc14mvpr/2vPna6Tj/99CJIxzLwediTnJGZyLqhITkPLdAi+YaNySLlEHljGXdhgKhDrLmHPB2aovPQJK00uCePN77xjYtMFl56/RCkCObb3va2RQgiCxHDQ8tyHsv85wMPPLBIvbE8vojLoZFZsoaG5Tw0a+fXve51801ucpPCBk7w5Bqj1fl0rayQvwjSsfnRil8Y3Ote95qHuYB52NwsIpZsP+WC8BwmESqfjan4ht3ZKrOhSVpYIxQRhMoU/vwMjdJ5mAOYDzrooCIfhUdoDy3MWV64ltlH6bz2ta9d6WwiV774HxqzhdvQQi0cOr+OyE/hkNsIV/VibJpUeCI9x/L9KqOh0TsPTc95aPmuxN9xuzE0cytuZOiSdBaH8oEf8ntJ8Hb8ykn8yiQuCASBIBAEgkAQCAJBIAjsDgRCkO4OVCMzCASBIBAEgsAFROBd73rXfNnLXra0I2nmIZeWhBByDGGEIHP0zHFJQiGeyLnVrW5VBCDSiQYjTVEamZww6zmylvLGcukiSGkNcsLuKDw/y/A0NmmQ/tZv/dZK/Pwg/dxHaCLdmogcNjUrvTQdYUADEQG3ffv2FSwQdAhfpKH8IZbbkeceDJbYCE+r1LNhT3Me9l3nYWu08H7hC19Y2qDSDb+xdL3IWOnilvnpeJbH9QhS5YXARJDS9Bw2XEu7ksYprcxhBqC0OccmWEV8igdZifgd5geK4IXLIx7xiCKNh/3RlWjHsvmZtqZybXKXJixN03ad7j42QTqWqJema/sb5gJWNIqf+cxn/hDBSkOV9i2Sl1/5QlAjRC996UvPNG5plCLRu46R3fWk498RQfqsZz2ryob2bBO8XSdoviq7YXKiyNtOd45BIAgEgSAQBIJAEAgCQWBXIhCCdFeiGVlBIAgEgSAQBC4kAsM+Yy0lt/ycpmUTTE0UEbseaccP4oqjYWm5PXJy2OQsTcNb3/rWpWnYmntkI7OQV0siUfi+575l7zQvLd/mVvutm6v+mhBzlAZkp+XR0uhHBi1Cmq0Pe9jDzhOaNigzAzQsEXrtnCPRLOu2HHxsMDSPzaWKfHzve9+7ghVtU/jRvhRPY0crcdjLLBLOsv+xYVFpaiIuWxMTVsjW1RiT0Xnq9CyP6xGkwozNtkozU1qRthx5sJd3hPjYHGml7DxTVmMTppVl/sqAP6RoO5qniG/4co5IRMRzu05zH1ens/3R+GxsxsZQP6QBCsvrXve6pcGJvISr9EsDLWCkM0L+3HPPbZHlp+Pln1uPIOXvec97Xsmh2YsA5zqcutzmGZo8LQ/5CwJBIAgEgSAQBIJAEAgCuxCBEKS7EMyICgJBIAgEgSBwYRFA2tGqHBvn1FLtJvdWE02WqI9NcOb9999/RigilGhFjh3Li1RCLAmD6EN+0ZCkLXnaaaetkJTSyE/LXp53+t2zlBo5R4N06bf9rHVc+kPcIbeQgMv80KDcZ599SjvS/SUZJq3I07Fb+rx9aH4effTR801vetN5bEhVy9QtA3/lK19Zy74tp7d0v9NPgxS5Suuw75EPCyQgu6Xsf7pnyT7S0jJxmp43utGNSivS8vyxAdMKgSyPnae18ruaeOy8CIOwpWWJ0G1bqZ0u6ZBWhK/l/cJJ19jUqcwsnHLKKaXROjY6qvA0RJ2PzZRq6T5iF0lJG5a91d/7vd8r7ddl/Mu0S6d0IDQ//elPV1YaezZmYcn0ATJZGluOONVL9k359wzR3vZVhUMEM4nQz4XtfLacHRGkynNsiFXxI/jbkcEcBG3VtoHaz3IMAkEgCASBIBAEgkAQCAK7EoEQpLsSzcgKAkEgCASBIHAhEaAdZzMlBBZ7k+0QTK356d7Y5buWVyPebOaEHB27mJdG4nKJc4c/44wzStOPBuJSA68JLKQW19fLI+1FWoKWcru/M679OSJlEaTIu3biQ/5ZIm/5+NIhfBGktE4RmLQ6L3/5y1feLLlnVgAWSDSEJ1KNBikHJwQpO660RJfOJkG0IJHPZ5999nzOOeeUHU9ypMfScfdoUI7d68tOKEKRk48m+ZYy+3w9gpRGr3KEH/LV0n2OPD/xuW9jIvH3M3ZhLbG3dH3scl9xI1PZZUUSIozbzixylX3Wd7zjHUUCd1m2rOVROtkStcS+N2lqreOxO30R4YhoxPTSHXnkkfMVr3jFIkQbB+V0pStdqbR12Qa1CZbl+YheeVvG29frEaT80tyFE/MCq7WnbbSlDtigq2VVBPkLAkEgCASBIBAEgkAQCAK7EIEQpLsQzIgKAkEgCASBIHBhEUBW2TiJZqVl1gg195qUQg65RljRhLzzne9cWnv8IQuRarT42j+yTBib99gFHlHKLUm09svfWuQTYtMS+7ZBen55W8pxjiC1wQ6N146LDEvsEaS9xL7D2Z19qUGKfENYstO5JIk/9KEPlVxkMsK4HbLQvZe//OUrNkvJbkKPJiLS0VJ9BCRbpr2k3pFm5dWvfvUi/xCFna5l2juuPq5HkArb2o+0cNnybDme2ZCKFqiNsNq5jwSW33333bc0ZaVLuduYSfr+7u/+rq6RqjRlEarSSpNYeH4558ujdNJYRSo3QcqPHy1R8SGXlUGHZQP2Nre5Te0w/6Y3vanSLw/qoF3nlSu7sYheWr/I6q5fLaPjWI8gJY+dWfWByYNPfvKTlW5/CH22RxHbSPW4IBAEgkAQCAJBIAgEgSCwuxAIQbq7kI3cIBAEzoNAD5KbtOlrngyQ+7qP5wm8my46LkdpkDbHuCBwcSCg7iG57OjNDifC0xJqy9ERWJYhW/KOQLU7OrJMnUUcshF6latcpWyGnnzyybWM/J3vfGcRWUjBgw8+uDY9UteRXghCy6oRWu6t5x7ykIfUJk00SPsdQTbasOe+Y8d0hGwTly3HsX9IWcRZE6Tuk/OWt7yl8iEdXN8nWz6QZUg/Gpi0E2lZsoXp+UknnVS71LM1ijg74YQTikgjF0HK3qc8W4qOvEPSCo+MZG5A/m0GhIhF7NGsRdDxS4PUhkPkMGXAkSt967nWzLTUvJeu86tslOfxxx8/X/WqVy0NUOYA2JpFjlrujrh2r9tFRz9pfN3rXjcfeOCBZQKAhiWNU8vfEaZMJ5w7bH7aYf6YY44pDWKbOCFXO63S7ce599WvfrW0aBHIy13sPSPvqKOOqnQi3pkeoLXqHnIXYS888lV6kakPeMADSoPZPfXPplFsp7Z5g85Tx48ghZG8d53p9En3EUccMV99kNNIcfGffvrpdY9mKRun4m//lan8BYEgEASCQBAIAkEgCASBXYhACNJdCGZEBYEgsD4CrdXEhwG53/KegW/fX1/KrnuyHGgbyMcFgT0BAe8AsshmO0hCmqI0OGnrIbZoUyJNLT/vd8Z75Hf0WHq91157lV/E26Uudakit9iHtNEN2dy3v/3tWkJOk/D8ls7f//73r+XN/LV7+9vfXnKRfkjMJrs8X75L4kPA3vCGNywyrcO7TxsQccrmZTv3kZQIYASnJfXf/OY3i6RDvlnmjUCzVB7Jhhi95jWvWT9LzjmkLXuZCFlHS7MRbAg9YZgggBvyE3FJu9VmR+SQjYxFQm/fvv08eVm2F53ePiLuEIPL3eGXmCBJkdVMDSAblY1yUi6dJrK6PJ03jgjm3/qt36r0wxGpjcBEWCJY7S7Phiri2PJ24bpdhecy3ZauS0PbuO1n7Z+5AeWybdu2SicCWjrhQfuV7D/90z8tUtmGUEw7dFhxH3rooeWf1nFr5S7TgCCFUdelxogfzjVNZfUKTuJX7ohY5dv+ynP+gkAQCAJBIAgEgSAQBILALkbgEuSNQVdcEAgCQWC3IqCpGdpDPxTHGBRPY8C+8mw9fz8UcBfd6CZQ2pwPcmoaJNQukh4xQWDnERgE0DQIpGkQV9Mg8qahHTgNAnI666yzpqEVOQ2SbxrajdN+++03DfLoPIIHeTUN4nMamobT0GiscEMLdRramNOwOzkNUrHesa7vw0bnNJZqT8Pm5DRIxJJ/HoE/uBialdPQXJwGGTcNAnEahNg0lvRPn/vc50re0HCcLnnJS07iH4TrynvMn7wMjcdK/yA3p0HOlVRpGDZBp0GwTYMsnAaRWff5H8vGp7HEutqEYY9yGiRvpXMQd9PQmJwGgTld//rXn4Z27TRIzkk+5HvY4ixZQ/Nz+vKXvzwN8rTSOYjDSttNbnKTaWzyVO924yyuoZU6jSXl01h2Pw0ycBq2T6expHuCnXR2m6VM5G8tp6wGAV3pGaTnNMjsSr/8wGGQ3JWGoZE5nXnmmdPQ1iz5+++/f8UHP2nqshFPx+f+2Lyr0icvg7itJHRaB5k8DXJ3GoTyStLIWabdA9fSKa9wk07YansbD/6U4yBzV/wpm7vf/e7TIJmrnOGkHIRVDuolR8ZY6l9pVaaDQC1Z/ZyfQXLWb5iDKHlwgVGnlwxuaKhO8jq0k1fKQ933XHl0mZTn/AWBIBAEgkAQCAJBIAgEgV2EQAjSXQRkxASBIHD+CCwH4ggAA2ODZPedNwHhfHcPgsXR6REXYsBg3S8uCFycCAy7i0VAIevVR4QWog3J6H3p98Q9dRfJxfVkA+IPCYdE8yOjySXh1f3+Cb+jOi+Olr8WJuJE8PU72+/U0m/L6Gftl59Ox+o0eB+lldNWwAQOY2OqInSF48ge2orT0LKt67GJUZGVwxzBNLQ6izwlBw6IyyZypcV94eFFvuuhuVh+O83LdFQEO/hb7bdJTkE8k2Z5GBqllQckozjd7zLtfHX71/gKjwhWrhz/SMthM7Su/YmPW8oih0zPxNXy3Os4YOG5coal49A2redwQ3LCrstPHMu8wkr5LeN1T73glvEvw3nWOIu/0yqeoTlc4ZD3ynz5vOMRPi4IBIEgEASCQBAIAkEgCOwqBEKQ7iokIycIBIHzRcBAeTkw7wDuGWAbBDv2dT/fHUdxtFvG57yJg36eYxC4KBBQ95BDCKCuh016uvbzrImqfl/UV0QTAoxrEqqPnvMrrHtLgsn9DrdWHjsd/HH9bnhPOx0ts/22v77mj+swq5+3zPbX18J3u+Ce59Lq6Nqv43bO/9jFvjRTX/GKV5QWI79ktOOHa7mNp/Bcp9m5sJ7Lu+dLOZ63a5munXe4vi+ccz/nnrfrcnG9TEM/Xx77uXstq+Uurzud7nHCtb9OS+PSR346Le238+EZnFuu47I+9HXH49o51zLJ6nt93tcdH//u+fW9lr263PmNCwJBIAgEgSAQBIJAEAgCuxKBEKS7Es3ICgJBYKcRoKF0xhln1JJRy0ZpQ1kuaqns2DxlZTC90wIvhEeDcM6S3mFbb9q2bdtkybD444LAxYkAEsmviSFEUTukExKp7yGvmuTsc2E9XxKIHV69F7799P0dHZvoomFIM1B4ru8v42m5HU/74b+JL+FXy/Bc2H7W4TuM/DRh3BqKnnHi93zsCD+NHdqnYctyGvZFV8hg/shucrhlL9NNTt9vuR2PZ+s5fv3ELw6/Lg9hls/Ft7pM+97Sn3CdJ3Lbke26/TaGrjnXzmFOE7T9e+a8n/NDjuu+vzx3D1ZLuWSQy5+wXa6dfs/hJVw/d+Radt9vGfVw/InHPa7lLs87XulaYlsB8hcEgkAQCAJBIAgEgSAQBHYBAiFIdwGIEREEgsDOIWBwy7Et9+QnP3kaG7jU0lbXYzOOGviyE/ikJz2p7B32YLpJjR44G0wfeeSR0x3ucIeyg2f5J2dw3suBm0jpQXd5WPVnYM/G49iEpOwkstX4vOc9r+ze9YC+j9LQ8TtKW8tuEoH4JhY6r/y0P0t52W+0LNbS0SZKmojgj6yWsUxux9GylnntuKTJuePqpbTC+3m2llst3/VacTUGZPDjuvNBdsvxvPPRspbkiXt+nZ72IxzX+Vjmc3m+DN9+/y1k/rcqAurB2NyqlrGPjY3K/mrXr62KyZ6U7+U73udNrva19Pa99dLOL9ftk2u/C1PWHdeyXduq7ckSA3gucYD18rlzfrT9fd/1skxg63vc910roy4nky3C9/d9dXl3uPXui5esZZzOhfPzbD0ZLXP5fPX3hZ+W3Vi0bPf9+n7LyzEIBIEgEASCQBDY2AiEIN3Y5ZfUB4ENg4CBhN/JJ588vfzlLy9iEolhcxGbv9i0xSYfb3zjG2uzlUc/+tG1EctlLnOZlQGPzLLfZ2OVww47rDZiudOd7lQDrB7I8LMcGO1oAGPA9tKXvnR65jOfOY2dl4tsHTtFlz3DHjg5kmcwtoyj4yHf/eXAyXmTns7b75/8yZ9MY9fuSjtbiTYz6UEePx1Xy6yAi7+OQ3q4lt3xu9fnfeTHuR+56w1GYeEZfz3g5d+v8VzG2/L72TLuTic/nnceOw3uLQfLnY8O19h1HKvzsJTTfhzjggBbouoW+55dX/sYdC5eBLQlXLcpnZp+d7sN6vf9/MqNHGEvbBuwbHc6DavT1Ndb4djtfuPSuPa18uiyQyYiN5eu/fHT3xn3lti6JqfvO7Z/x+XzjqvDL/2Jt+W0v2VY51zfaxl1c/HnuV8/J8v58np1PWz/nZ6FuJwGgSAQBIJAEAgCGxyBEKQbvACT/CCwURAw+EWA3uUud5n+4i/+YnrVq141HXrooTUQ6QGOvPzhH/5hkYjbxnL3V7/61bUDt8HWZz7zmVoGjxy1u7cduGmLWZJv1/nlgIac5SDH9WrXcT74wQ8ueW9605umvffee0V7qZ8L1wMi5+4vZRtUcgZRnYYeaPLbctx761vfOt373veeHvrQh06Pfexjpytd6UrnGRySsdRiIbfjFp58fsikIdqas+2vB638Cbcc2K2WK8zSdTpX+2vSovPW/sjnXDeh6V7H2/75WeLhfj/r+/yIx32yOg0dR8vkZzkod38tWeTFbT0E1IeuK61B3tdbD409L8fdlni/mVh517veNX3jG98orXobMd34xjeebnWrW620i/2uK0Ou33XXzm1ipg1Bhju2/53NOTnMu3z605+u9Nzznvecfu7nfm5ng29qf8t2Hk6u4dsrE2S+y6HbcRqhXJOjq8uj/fFDnnpgA7Cvf/3r0xe+8IXpz//8z8t+sPtXu9rVputc5zrTDW5wgxWTO20yQrxkLTeHI5MTVrz8LL9///Z07f/Oax/lUf1q7VehWp54yfXcPa7rZV3kLwgEgSAQBIJAENjQCIQg3dDFl8QHgY2FwCvHztIPfOADp1/6pV+a3v72t0/bBgnKGWj0IOPzn//89Ju/+Zs1cLbRyt3udrcaCL3lLW+ZHv/4x09/9Vd/VYMrg+3Xv/71053vfOcVW3sGRu6fffbZtXQfAXmVq1xlzYGz3aSRrpbUf/GLX5xorP7yL//y9Ou//us1aDMIshz+Qx/60PSlL32pBmk3v/nNS+NVmpeDPdfMBXz0ox8tDVdybn3rW1fcnsnb5z73ubKL+JznPGe63e1uNzElwEQADVkDdDuUX//61z+PXLZR7VqNOEACwAbJjESQ1ze/+c1F6t7oRjeqNIvnu9/9bqVFmmmo3vKWt5z23XffFdJRetZyBqfSeNvb3rby8I53vKPCSJPdwKXzK1/5ynT66adP3//+98terHRIF7cswyUWCIf99tuv8tAD0L/+678ukhwhbfdx5WCAzK8B8VWvetUqcwNuA+h/+Id/mN7//vdXuboHX5ioP8ph9UB8rfzl3tZCQH3021mSZGuhc/HktsuEWZOjjz56Ou2006bvfe971d4wsaK9/sVf/MVqi7W1Sydsu37nn/WsZ1V7aMKJvdkL6rQrxxxzzHTqqafWJJvJOWZWtmqd6fKRf+f9Tf7EJz4xveAFLyj7vtryvg/v/g6ec845NaH5Z3/2Z/X8pje96fS7v/u71aYjLdv0DbldfsJ/8IMfnJ7xjGfUt9azn//5n682H/ntO+H7/YhHPGK6zW1uU2nyDWkCtsOzZe670ISm9MmDML5frpGpazlxtkznvre+q+po5xNh6hvD3yGHHFKbv3Ua3OOv/a4VR+4FgSAQBIJAEAgCGweBEKQbp6yS0iCwoREwkHjIQx4ynXjiibWsnSalQYv7BjMGGMhN7stf/nJpqhgsXeEKVyg/yErEp8EVovC4446bXvjCF5ZGqoFRD1AMeu9///uXVug97nGPsnW61157/RB2CLmnPOUp5Y9tUCQj4u1hD3vYdNnLXrY0XJG4BndshhqAWd5/3/vetwZJvZEUUtTgESFpMCcvtKIQlbRb2VNFAto05kUvelGRocJe85rXLE1S2q/83OIWt5ie9rSn1eCvMbEcn7YtohiBevzxx9cg9LBhXoAmLRye+MQnTne9611r8Mh0wdve9rbKqzgN7Az47ne/+03MGSAgpG8th7B43eteV3jCBs7yS7tn//33r020DJSFh9e3v/3tMkuAWFaO/H/sYx/7ISzETwbSmxkD5CdiG1HMtAKCpN2555470SQ76KCDpsc85jFlp1U8zpG3P/uzP1sDVfI4eaeR3JppXQdaXo5bCwEEhx+nLjhfr75vLWT2jNxq10wGHXvssdNXv/rV6V73uldNOJlksSIAUald00ZYYeCoHPu97rL1vjNXoq3W9mu3tN9NWu1sbrVn2iVtpbbEZFt/KzrOnZW1Gfw1vvKurDjfvSc84QllzuYNb3hDfUeaiOQHkem7c9JJJ1VZ2GhR+G6vjzjiiPq2uad8+p00KelbpQxM4l3veterCT3488dUhm+Db4qy9g1SX/QJyBA3f9JmJQmC3bfD+65+OD784Q+vb7CVFuuVJ1me+X5xCNtHPepRNQlo40hOXAhSfYHHPe5x08EHH1zX4hC+81Se8xcEgkAQCAJBIAhsbATGhz0uCASBILDbERgDkHloTc5jMDoPzcjZdbsxAKnrMbBZue8et/TnOTeW2M9D23AeA6N5DKRmftv/IAXnQfbNg0ScX/va186D5Kswq/+E++Y3vzkPonYedkfnoSk6Dzuo8xgEzcNOaqVTescAbR7k7DxI23ksx6/7T33qU+d/+qd/mocm5TxsoM5j8DSPQeI8yNl5DPTnMeibh5bsPAZQ8yAEKuqhsVp+3BtatCVX+He+853z0Jqqezx2XuR17Mg93+xmN5uH5mbJGIPNeQxO50HYlv+hgTUPLZt6Ngav8xgkzkNzdf74xz9e6ZDmQUrPg4CYpVl+13OD6JyHtuY8SN75j//4j+exBHYeWqXzIJkr/NAinQdpUTjIk3wPLaF5+/btlWa4DUL4h7DwfAxU5zEILVyVzyB8Kx514YQTTpgHIVt5HIT0PDR4MVzzID2qLBzHoHseGsTzIJ4rX0ObdB4aZlWfBoE6kxkXBPrdgUS3Fepl3J6BgPK5z33uM48JlXlMFp3nvVVe2tTnP//51b4NLb56/5ftf+dCuz4mmKpdGjasq73t9r/97MxxEG/zmDSaBzFa7Uq3IxdG1s7Et6f7aawHKTqPVQCzb8LQmJzHhOE8yMh5TPJVmXje7gMf+MA8Jq5m34ehyVm3leWLX/zieZCd9U3wXW0H2+3jm+BbcZOb3GQehOTKN2+sDpkHaTqPFQX13fcNElZafCOHrfB5EOsr33oyB2k63/e+950//OEPz2N1xTwmKus3JhZn39zzc51n/pz7Ho2VF/NYWTKTQab0kut6THyu2Sc5v3jyPAgEgSAQBIJAENgYCJj5jNsACCw77MsO3fK+8x4U9v21Bof9TLaX5w2DMC2n762Ocxmun/Wx5baf5f2Wtzzy135XH5f+cr6xETD4RKhd61rXmod2ycogQ5mrI11P+ti57euuy/wjSA1skYJIxq43/DrfPgY0BjYGVx2+5a0+Ij2RkAZn7cau9kXgDZuhNYjvuN/znvfMY/f58o+sMwBDdh544IHz0H6swSMZBpBjeV8NKpGY7cYGVEVCGniOJXyV1rGUfR621lYI0s6Dd/Dwww+vQWSToEPLqYhGg0vELT/8OyJCh5ZpEYnL9/fd7353pXloWBXunZbGzLVzaUJMwuNb3/pWe5vH8scihZ/73OcWnv1gLE2df/VXf7UGjtKA3BB2NRb8I4/JJkN5ITiGJlDlDQ7wlQZktkGwZ0hV94d2bZEhBs3t4EvGs5/97Hlos/btHINAENiDERjahjWBY5JHu9dt0LKNRkJd4xrXmP/gD/5gZUJnSVxq+/fff//6jgwzG/Mw01ETQrLd7Z62mT/tZof1XHztZ2gw1qSRSaHf+I3fmE3OIL86Tfyv5ZbPtVd/+qd/WhNK2j8TY2M1waydN3HTDokoP0i3sQS9bnc770I7R45JLJNgw3TAPDRpKy2NjaO2EqEonSbjhiZ+tc8nnXTSChkI43Ym60wsaavH6oT5lFNOKX9LP/DoPPVRXNpf3zrtdv9MkDV+/PInv8jToVlZ7XfLMLk2TMjMQ8O/vifyKKww8mgiTtihJVrxbx/f7GFOZx5mW+ZhgqYmP00QHnnkkTVZZ7LSpNjyOyCuYRJmHqsRahJTvpfpEyeHVFW+JmbF1348g7PvfBOvwzZ49S2GNvMKLvwtw4hXvZKXzi8/cUEgCASBIBAEgsDGRyAE6QYpw+6IdYfPdd/rcx04nbXuyC07bs79Okxf9z0wdPj248gtBxgdVz0Yf+2nj+S1W5738362PHZa3FuGWfrJ+cZHQNmOpdOlCWKg4rrrnHN1pO+d3/laBOlSBrRcL491seqPnyZIW0vTPZotSNOXvOQlM4LR4HVsKFKajzSWaEMieRF1SFgDVwM3Gkk0HsfS/RpkGVjSfum0GKAiB8aS8RWtUBqkCAGkLH8w6fyPne4rHQZvHIJUeOSgATl//b4jC6R72NErrVRypdn1WMpeWlsGgt2GLKEQbxOkBtRktj9ppq37vve9b6W8xDvMGxQ5QZuUf7+1sHjpS19apAjMnv70p9cg+mUve9m8bdu20pDt9kUayB1mA0obiYaqwax8IEEMnA1epeess86qAW0TGuJujJf5ynkQ2BEC6szytyO/efajI+D9vvvd716TRMNu6Lx9kGLDBEe1NZ5pcxzPHZNNJmmUTbdD2loa8QcccMCsrUNCDhuX1bZpg4Tz47Tbw4xJkXYmUFqG513eVgmMpd1F7mmLxoaBFa/nLWetHC/TJJ3I2rGhUK1Y8H0bS/aLvDUhZQJHuyrNw4RKTYQNm5hFcvbEHoLut3/7t0tz3sSX8GSafPKdQPJ2ekwIkvuABzygJuCQhsMm6Dzsr1Y4k4Ly6mcyj18/ROUwsVLt6tiIauXbo93klrh0XL5nJvd8+6TPt2xsZFiyG0Nh4SatyGEThohnJLfyQ1RLv/QIw5FrklRb7pk0KAsrBx75yEfOn/3sZ+sbYOJxmNcp8hOha6IOqUrD1DeDPMfrXve69U0gy3fB90O87Yd83xErIazqsHqhv53yJzycTZCSOczVlGayCUgrG+RLmtQjzxsz58tfZS5/QSAIBIEgEASCwIZHIATpBilCnTKdMc55d2K7s9bZ6Ov2r2Pa9zp8h/XMeV+3jD4u7ztvIsN5y+S35Tp3f/ncs2XnmJ/VrmXx27L6uNpvrjc2AjQiLa88/fTTV8pajpblbSBs+SUNFlofBjdc1z9+1yJI1SN+ut52varA6/yRRfOyl7G7Ft6SbsvmLU23vNCPNo0l4QaKnhlAiY+mybCFNw/7pfOwWVbEqIErUg8piFhs1wSpgaDlg5w8CvugBz1oBYfGw3JUaTP4c4/mjfjPPPPMlXfNfT+DfNh2eh0txfeT3rHJUhEHjWOnqY80gCz/t1RxiZ2lrgamw9ZqeRUXjGj/iPNTn/pU3RcGQbwai7HpUhEEZNOiYtrg5UOjFD5HD1MIXJeZc3IM+pkKQIAaHCMG4CAPw57cjKRGmMKT08bEBYEgcP4IdHvheHE4pkxoAmqrkGLIO2Qp8o0pE67f526Hus1CNiJHkXbSr328+pj8WZpsERbxNexQz2NTwCLDOp/amc43Ms9kljYd0WoJdcfT/tc6Ct99GgSptpsWKmIN+YecG3a26562CiFqkswkmm8GMhHBadLLt27Ys5yH7czZpBGNT0Scybphf7raem0ff+JF7vkOmbCyFFz8fshiy8JpXPZEn8k1JDEtU9qsCEttuHs0WYcd5/O0u/La2CzzrQxMzPnuiEda2vFvVYhy8IwGKLIWAQoP374mgoWBG4IToew74xoxaQWF7wFitZ3vCDnISeXW3wxL98nkTMj5FsAQAW0ZvvjVkVe/+tWVn04vszGwQ7r6ZiGmTSgikJuohb06yVSNFSAIVTIdEawIWGnueikNy2+X67ggEASCQBAIAkFgYyMQgnSDlN+yQ6ZTqpPGdYff8z53v593h3fZievzDtP+DQ48c+z42i8/7chsue61n+WyLffbj+fOHdf6tb/2I2zc5kQACWeg1Uute7DRZa9+GOAZ4CD2DBp7MNT1ld+1CNJGjAyu63DfX+tI1loEKft2Bu4GpDRIDer8DMwtDTUYNMA+fRC9yFBLDH/nd36nBqM0dyyjNHBcjyA1+DNAFT+C1AAMQdqu88C+mkFcE6RHD0IRfmxwcu2PRgxS13JGGpvLtNIalWZkosFohxFe/O2QDwhIA9e+D0N5NXhFbHAdHom977771vJW9wz418LCoBwxKt2WjlqWSqt1bMAyH3XUUSWzy9YFQhwZSoPU4JZsRCkSBP5jA40aUCN9xYd4iAsCPwoC6vtW+f0oOP2oYb3nfiaV9h9aktoEGvEmcxBbNC1NjCEa23VfhvYoslEb0svXkaDaJm1WO+2F57QpkZWuxdnONeceDXuTYLQVteftOs6+Xh67bXRE6CFI5YM9bH0nYbWV2jf3mQxpjUVyaIla0i992rqxQ3vle/v27SvtrjQiBIU3EeUbKL3umYRDnvp+iItfz2meMjujvdVu0mb1DUIwSmt/R2nx++ZoUznhPXf0W97rvI6NkGryjKYn2X2f32tf+9pVlkhvZKU2GcnoWyKfJvMaF3mwTB/x2ba5lR2Smy3wJsjJRbr6TsJJuiyjN1HXphnIIoNZGYSm+kM71rfDd5dmaMcBJ3XCcnzpsmx/bFxY5LhJR7I4Nrp9ixHeCGdat9KBREViwxhJusy/8+V1CcpfEAgCQSAIBIEgsGERCEG6QYpOB6w7r51k192xc687ru1vGWb1vWWHrp+13D6SvfqZcB224+54ls9aRvvt67WO/HRHf2f8ryUj9/Z8BNQlmjWILRqCPXg1eOK67JF/Bj0GMgZDwnVda3/rEaRdl0rgD/7UrfUc/0uClD/3xo66NdhCvi3fAQPdc845pwZtJgSOHoQlItcmT5biuSe8wagBowHuWkvskZEGg2Qj/WipjB3eK5mdXjJoUdLAbPuoBnYGf6f9wK7pMm2IVFouyNTOhyN5whvM94ZW5WH8SWs7Wq2IitVkA4KUpmjf7/RZYu++fCsf+TRQXY0F+chUWCBKYUizC4GAFG55XcbIZfjfd2y8Ib3yAyv+XKs3NJMQAGS0PdslFp2nHINAENhzEPCO+pkkoU1pogwxpu36qZ/6qSKhtPvLdkzqtRnIMvaN29yI+0gupBxtQK7bgD66t2zjOn73OZNfCFLalsjKpd9/8/HD/0vZJvNsTqRt0w52eCQaok1bjYRdhjHphSBEAmvTLEk3+eM72P60d0y/wOT3f//363tCtnZTG2sCrL+bUigcEhOxh8T07bDxlO8oOeyBcuKjdQlD58I5tuv0r75+0rADLY+0Wflfxm2SDHnoG4YkRsj6Vmi/feuVJc1M/VPOt4D2v+Xr4vP9UwbHHXdcpbv9IToRwtp898hjigb53OlmfoU2KvM0JibJpB1KFiLZ/V6pId38+2YgZG0sRRO3V4JIi+X5CN/eRAwpLz82PYQnfBH4TS43dv3tatxyDAJBIAgEgSAQBDYuAiFIN0jZWS6ks4c80JHTQT3++OPrHm0AHVCuO9j8+CE3EB9IJ8905MhAxiCGyERSOFr2RTOBhoZOvU0AWp5OpwEKgqOXPPcz8XTcNgKQLgMHRBKNQR10GhriWesnLeLujn3LKqH52zQIqCfbh5YMLQ4DKgO6XtrmmUGdAYplekhHG0sgw7p+OapzjusRpJ4bTBlwItHI60HMekC2DdImIflTXy1FNECTro7bu0ZTxYCaRgrtEoNYAz5p7YGSwZqB22qC1Pto2SXNJ4NUcg3CEAQ2piBTHhAINuwwiEM4Nk60XSxVt+lHY9H5k2ZaLzRIpbnTQoPUoE9avZPtxO3HOSJtlQsNJLL7Ps3TXhLpfsdriedyib28Cb8aC5pOypSWLdusyA5ppPlFM0f+pZVcZaAtUv7aIe2cZaMGp7R7Om5po1lFa9bgtfNRic5fENhJBPodUK/UQe+Sn/PN+lvm76J+bxpnxSNu5Jd+BhJLm23FACJMu4eI0u5pC/U9bNxG+9FEj3ZMu8GeKcJLu8yv9qLbQ3Fxjn5d1ssjkyAmhfQ/aJAun1XgHfzxu318z2iQatPPHUvdOzxCEnEoH8hb9zvvtBytUOh2C6ln+bfvkEk12peIYG2274c8w4kMKxq0m8Iu8+XchBVClt1TS/X1+WhwWtKvnaSdqy2lwam/2OEbo077WsdeYq+PBuPODxmIYMvWkae+Oy3XN8r3CDY9iSUuS/5hg5gkx3daeGYOmAFAPrIhy88ZZ5xRk47wQURbXs8PJ6y6A2thlHvHza6tbwYymbayNHsGR98t3xckKK1U3yPOcxOcTC3oN6h34uC0BaeffnoRqkwytCkAYfhpf+U5f0EgCASBIBAEgsCGRuASUj86YXF7OAKDUJlG53gaHfppLGGaRodtGtpl05hNn0aHeRqkZN0fZE3lZHTYpkGkTIMcnU466aRpLGWdBvk5jQ70NDqb09DaQI5Po3M/jSVu05jpnwaxNA2NuWkQGtMYNExHH330NAYpFWbYB5vGwGUaS9wm56Pjfx7EyCJ7kDkVrzhH53EaBOk0NBbqfHSUp0EAlfzROZ0G6VLxEiQNw2bVNAjUaa+99jqP7FxsHgTUk0HQV70YWibTGPRMQ8tlGmTkNMixaZCG09CemYamZNXRoVlSdUN9Vr/8yBjaOqLsbVgAAEAASURBVNNY7jY9//nPn8ZS7El9cl+dHwT+NAi5aSyvKxnHHnvsNAY1PwRivyNjoqDS9JrXvKbqpDjGoHYaS+anMUiahpZSvWNjAD0Nm3WTNI0NI6ZBBE5Dk2caSySnQY5OY5A9jUFd1e8x+Ktj3x8DzGkM1qZBPk5jUD95F4YW7TRs701jGWS9m2MSZBp2z6YxeJ7GIG0ahEHlS7gx+JwGEVDv5CAZpzHom8bgd1rioi0Yg8xpDPjqXR1aStOYqKj3Vbvw5Cc/eRokbOH5Q2CMG2PTjGlo95Tsob2z4mUQrJVHaRhE7sp9fseEyTRslFa7MAbB01g+Og2y4zxYjMmVaQzYK0/777//NIjvaZAC0xj4T4P0rLDDpEK1OWOH5mrTtDPwgCeMtUNw0r6MZaQTmdrCMTiv9k0d0iZqx+KCwM4i0N8tbY7vlPaDc38zO99m319ti7x227m78zyIp2lMbFR7PCbIKv6OU5rGJMo0SKxq07WBY3Km3ndt/FhqXe2w/sEgvOpd175po8fS62qbhkZqtSPkLMtSm76WGxPB09DonMZGQ9UejQmektvfhq4fy3bWvUHGVdu8ffv26ZBDDql+k7xJh7i0b2N59jSIumlseldpa4zFN7QSp0EUVv59N3wLtZ36QEODdhraj5O2cGweNI2Jsmp/fTOGBmldCztWFlT7L1/yCld9PH6GTc6SrX3VpxskYrXrQ2u1vkv6Wb57g3SusJ3ftTByz/dLe+0bMIjHKidxanN9h+R5ELTVn2zcfS+Hln99qwe5OB1wwAFVz3wbfQN9b/QpYel7rXwHQTwNsnMaxGr1FeGnvPUbxwRgffMHuVnJVF/8tPkdZ+cD1voQ0jxI9/qWD+3P+g7pk45NDkuGdOhDeA9Wfz+6PpbH8TcI+Irfd04e4K8e6rty69Wxepi/IBAEgkAQCAJBYMMgEIJ0gxTVegTpsO9UnU4da8QJQmFJEiBIh72/Ikid6/QZFBgQDK2CaWiNFSGjQ2lQgchASAyNjCIfxpKpIrCQJEMDrTqFQ1NsXYJ0aISVnKEBUGkxUNBx1JFE0ugo68gbnCFgEVc6yDqnY9lTkUCKJJ3NDVIxL0AyDV66ng0N0CL1kWvqq0HG0D6pwa1B4dAinAxWEZ/LuiC8a/V+2NuchpZhDSqRlv3MAMtgE2Gozo4NKaYeVK1OrvcBSTmWRNagyfsjndIytGWmoek4DW2RCm8g7p1Rbw3kpA8BajLAIGxo5dTAVvzSj/Qd2jyTgZn3B/GJADYoQ/AZCBucSaNrYQycDY65oTU1IQC8QwbEBt8GlWQODdUamEp/42OCQ1qGhtA0tKvq3TLANAkCUwP5xn81Dq67rZBW5G8PGL3vw+5nyXW/B6Fw9UMajyXxNcGCNPXuL7FAbI5lltPQLq/B+dCCLWwMusfmHDXwNPhEAMBTG2IQK73qxdASqjIay2FrICsPCC04kTk0sgoDg+TGYq385V4QWI1At0nqHyJJ3fJrwmW1/81wLW/yOJam/9B3fHfnb2g+FnEofiSTfkA797Rh2gHthfbbZG5PDCEjpV2bp11Qdsgq7YMJFW2JNkW7y/GnT0Pueu2CvhByzmSYdtV3ZNl/ImPZrpDVjsyhNXoegrTzo81GJPoWIEiXE05jR/hq77WbnuuLDQ3KyQSdtlo/Sds7Vi9MY3VNpWusWKjvhfYd8Yc49g1qJ50m7Twbpk5q8s23Y9u2bfX9MWk2NC/ruzA0Vevb4NtmgnJn6ro2W1tr0kp7C6P+DiBjvT++UWN1RSXJM6SmbzTy14Tm0IytZ/qYyGP4ITCVnf6A761JCv6Qrs71XdUJSgHKqL+N8sv5DsKKsoCy6zR5PswCFCZjWX3Jk+ahPToh0dUR30iy9XXHBk+Fg/qkj+q6sSGzy1pe9QcQzspK3OrYevWrEpm/IBAEgkAQCAJBYEMhEIJ0gxTXegQpQkHHj9YWjbqxZGgaO3VWh01nHjGiU62ziOTQ2dNh1NnUwdMB1anVoezBhAHH4x//+NLQMkAxU4400bGn6UWDlBbX0vUgROcWIUSbQAeT3OUAYyynKm2wYUuqOtutLdqdUDL5747uMo6cb2wEuowd1TV1V711REgaXKoPBsTIwx64dd2S+x6gjqVwFZbmIKKy65jnfohIfgyovA/LQW+j2HWexrSBzrBHVv56sEOTiRbMsBFXhJw0qdOIfPGJx9EgVz5owBjcSj9ZyN2xFLSeGwQawIkTEUOzBw7DblulUZwGmUgARCwNGu+nc+mg6SMPiEcDXWnwnnHSIP2OBnzyY+AuDtiMzSqKXJWeHb1XSEfat8oBAUEe/9JgsCpfrakrXn4NgqWl8XVvNRbKFAEAR3giocfyzyKaDzvssNI2bU0n/pDQypXMxlj8Z599dtUVky3KlBxphUO3XV120hcXBHYGgW4vvH9bwckv5xvcK0HcuyjeHe8xgg05aqLJ5BRCtJ3vgHaCJjzC06SvFTLavHbS2W23/s1Yyl0TVNpY7b126yuDHESAIcK0sd0+tYw+Ikj1a6RpbKZUE2HaPKsPpEUatPvaF677M86lQ3uNvPMNQ66ZxBI/Ao3WKxkmmEwSwdgPIWoiDNmozlnNQzMfwahfJX7tJI1J/a9hT7M0Q7W9wtASNakGO22ldGi7Tbz5/pi0cl/8SFRtrLa7yTzxy5/JbxNbnHRJ93oOQaos5EU/Ex7t3yoCz2ikKg+rjzj9TKsvfB9o+6tr4uGU/7CtWt8rk2Em3kzm+X7Bu7+Vvi/uSa886asu49anPeOMM4r0NLEGI+lCYtLU9R1FfJsMQLgffvjhVSYmEa1kGUv2V/rBvj3DHuqkrz3MEhSZ6hvDSbdJUAoFBwxNWOFNujYGF8W7UwnJXxAIAkEgCASBILDbEQhButsh3jURrEeQ6qDpKOug6pTTOkB+6kTqaOvQ6czRrNCZ1NEbG99Up5lGm2X7iJju4AlDppl9HUvEqKXAtCCaIKX1h8BYOnLJ0ElFWJipRya518900HVmLe/SATUg0KFfy3WYtZ7l3sZFQLkaZC4HrD3Y9cyPUw/V4a4/7vW5etQaRD1A6XrrSJ7nO+N6wEt2yxCuz5Gs0trp5Z9fP+d9v5fauc8t6y8N6WV6+pkw8ugnT2R1vI4dD/+u+53uPHc8nnVaPGsZlZDxt4yfP3J25NoPORyZ0uDX8p2vTo97wgonv2th4bn7BvoGyAbrTCAs8y88LDod0rA6T+6Jr+PwnP8lzvzEBYHzQ0DdMaHSGqTn53+zPEccmsi5KJ22CJGITEOE3vKWtywCDbFoIogmP/IM0akvY8K129huh/qdJ4vpDZMtyD4TQe2HdqRJYeSj4+r+SueZVjoyFrloKbsVLeQjAU3aSEP3YzqMo7bGz2TUsKldBKkl9ohI4U3m3OEOdygyTh9Kv0jaPBMXv/o/ZNCyRABLK5KXaQF9ObJhhIBFItJqRNLREoWVdNGc9B2h9YgkNRnOn3j0s6wGYlaFaRNtrHiRrohLKxSQfPxya7Wx9WD86T/SIEWQ0uxHanf7i4hGMDORAwsT6shOZYLshCuN0G6bO5w80qLVt6RRKu9wQqRKq7zTxKXhCR/x08TtdPr+yI/+rklK6UKiepeZyEEy08pts0+0kk877bSSc9ggjfU99VP1nZk5sIICoa0/TQsXaa1+wofWKw1XZC9zVtLZ31H54RrHushfEAgCQSAIBIEgsGERCEG6QYpuPYJUZ1EHU8fZoECn7pXDBlUTj+wj6jSzQdpL7A0KLCsbmwCUX3b8lp1Oy7FoKZj155c/nVQdeJ1Ny7ta86Th606vAY3Os6W2bCA20WFwYDBgFr81H7oDLW6uBzc6mi2v5ee4ORDoeiY36gNnoOHcUbn7qQur3eo60ddkOl/KEdZgR/3rgdla8jqupQz+3O9njp4vB0Q9GDJI58TBH20X9V9+VtdnMoRrORVwjb8mC8kz+G1NUV7dI0O88tbp6PviaEcOjRrO/eV1+1ke+ZHmjr+fSQM58iS+/vHHf5fVMtwSC3K6fPuovUKMWjp6zLBJ2nnqsiILTu6T5ceJq9Pjehmn67ggcGEQWBKk/S5dGDkbIUy3EbTqaKZflA622gAEFpvIiD19lTa1Q1sdCYW8GxsKrbRfyzR2+ciHJehIL30c2pLdHlhJo79DBkJrLRvUZOrjmKTRHzIh3NqPCDCkmL4UUm7ZZncbJjxNfeaNaJLSSOwl9og7pCENSJqUyL9uW5FzlpTrR5mcNhmt76ZdQyialKO5StuRnVbaqUhG+ZEefTkkK81Z2vrSAzcmWmjlwlM7amk78lc+aNzDi4Y/rdETTzyxNPC1r10fuh2Xr9VOOpizYbsTVv0NkGbhTXzDnN1sefAdFCdymiarlQzSKQ7+4ekaPkhKJLJrRDYtWvLljRxaoLBAvtIs9Ywjhzyav+JGGotb/9U5QhXxaQWDfqw+NKLYxFyveoAtYrX9I7XhagIPkYyoFw/cvC/qkj7uWulYjVmug0AQCAJBIAgEgY2JQAjSDVJu6xGkOogM57fWpiXzOtNsMOqU0iClJYqEQJbq7PUSe1obOp7bhp0qTsdThx+JqQNv1p89QZ1OmggM6utcn98mTYgbmhcIUjKb3BCHmXlaH7RXEKTLjqbnHP876qz/m6/8bzQEuh50+TqqH+rk6kGPewZRHaafy7Nny+ddx5aylv6FWX3tHtdxtzzHZfr4Wcp3zRnMtcwePAur3i6f8dv5dC5Mx+ma85wM97mOb3necbnX8lqWe+Lt+647LS3TPf6XctxbOuE5fjoP7d+z1XlzTX7H4brj6PjJ4TzjOo202A32aUchMfrZMg3LOBsfctoP2R2nc346vSUwf0HgfBBQl/yWBOlWqUO+wctlzxdFvmGNxPTeIsCYIEHgMeujL2BJfP9MynR7ohiFXb7/7tHyRIghJnvCiD/ykG/6Lgg3z9ZyiEUkGWIUoScsR3sT+dfmRtxvfNoPf/JCc9K9baMf1RNJ2iPL/LVJ8qN/Jrx2UXwmuKTLfdqW4rMsXJ8NIWjTID/3mCVQVkg9RCobmghhcj1H3lkejmyVB3GLy5FWNPIWTrBDFCNf9f08d4/jXx76um4u/mhwwlOcMOVX3rosXfMjPfLHjzTT6OSvZTv2eX83lIGw0tlmXuCIvBceSUnTtSfPJIsMTrpNhNJiFW9jAUNpVaf4VUc8h7l7ZAnr591XBsraMxjIK5M5TCBIP1z3HqYe4KYukSn9nbdOSyUqf0EgCASBIBAEgsCGRiAE6QYpvvUIUp01s/rdubc0TGeRHSrkA1uiSE6z5ghSDjlhWZJZc51Bnb3u9BkU6EQeeOCBNfuv060T2EvszZ7TJtUhN7uvg99kCNk0Jdzrpfvu6UR355a2h+V1TZDqSMdtDQSWg5quM+qGQYp66Mh5xm/f73N108CJM7jrwQl//PiRQ2YPiFvTUpj259jxu7/079ozjqx2nQbXS//LNLUf4cXhx3VaO87255lzaZSv1fG6771ZhhO3e2SSv0wjeXu667wYsFoW6f1fT7trT89L0rc5EPAOIrl6iX2/t5sjd+vngkbcRb3Efv3U5Mn5IaDtpNlIM9LksqXscUEgCASBIBAEgkAQCAK7FoEQpLsWz90mbT2C1ODO8iSEJULFrthsVLE7RZv0mKE5qlPtnmXzBn+WlbUBe7afltoEyAp2tNwzY962ppCqbJBawk+e+BChnDRwOvCWublvib2l+03g8CPuEKQF1Zb8a2Kx60ITgMDoZ6u1WmiHqIPqTpOC7Lsh19iqY6eMBgoiX301aES+89+/js+xz5fyuo5Kg3O/jqufSWs/E5bjZ0nSNvlXD8df58lRGEfvhnAceR2m4255iNd+v8rz+Gu/HW/f30hHeYCFcuh8NMYbKR9J6+ZBQF0MQbp5ynMz50Tfi81M9jDZXO1vwmbOc/IWBIJAEAgCQSAIBIGLEoEQpBcl2j9CXOsRpMgGS94tx6I1Z0mQJauWyNtdlCH8V/7AbhUbVjrUltgjO22U1LZCm7RAVtBQayKpk2x3TzunWgJ2xrA3ZblXkxytfcqv5Vs2f3rGM55RNq7E16SPOEKQNqJb76i+qA+Wur3nPe8prWRLLNUfOyqzl2Y327YDx7+fOulo+Z26/KlPfarsirFX5kcL0e7uvRO6es22pSV2XZeFV/8sp7NM0XvhXXHfpICNMtjY7U0rELNMTZx66qlly422tXSaAGDXrMl/4TmypbNJvz567td5+MpYdml5pPgtnbQUlMa2wS4TFt4fZKnwzFF4XxDBlg4iTNnDY3dv21jOydYc2eLeCK7T2ph0uvu4EfKQNG4+BNTHEKSbr1w3W47UU3YxbWxkRZB+VgjSzVbKyU8QCAJBIAgEgSBwcSMQgvTiLoGdjH9HBKnlVsigdp/4xCeKRLFsl6bnRz/60ekxj3lM2SNFRuhkIzv33XffIpwQSu3WIit0zO08S9uUnSjk641vfOMOsrLUHtll108ELRLJ8j3EEEcG2SFIV2DbcifqAEJQ3bDzsN12mXowyGNXDXl43HHHFVGp7i4JR5MAzDYgMNnVpS3qHJHYS87JUT+R8za6sEGEZaS9fJ08JCTtGxs+0LLmEJEf/OAHa9Bpd19EpHfGRhic9IrPElzmKtjtY8Jiv/32Ow852cvte9Da1133aaHaSIMW0EEHHVSbPXhv2fc988wza0ditnsRttKDsLUUnUkKGt0I1Re/+MWl4W3DDBumydtGcY1Lp9e1NmGtNqf95BgEdjcC3s8QpLsb5cjfFQj4HpgsM6nme5a2c1egGhlBIAgEgSAQBIJAEPj/CIQg/f9Y7NFnOyJIbdLUu9EiHZBGdimlZcDoPM07xBMbpDrUCFLaejQQXvWqV9XyZJk3UBSeW3a+yfvOd75TmzYhSsmmoUejrpdJW+b8whe+sHZkpZV65zvfuYim7sA3SRSCtODdsn92iL3HPe5RJKC6RyNS/WIOggkIG4M5R+w3oWYTD1qTCFTkJ2ISKYrUoE3KLq5NGQwcaX5+6UtfKv/IV++NZ7QyaYze5ja3Kf/isomYOsw/MlKdp6FqmT7t68c+9rHTYWPH4WOGmQoyaKnaeZkGqp2HH/SgB5VGNSJUetR1eVHXyW3X+TCBIH7pR7qamGA+wO7Hlk2eddZZZd+XHV+75R5xxBH1ntq1GJFqI4uO3/tsIoLmuHRvFAcbrtuFjZLupHPzIqBOhiDdvOW7mXLmW6LtVGe1+45pSzdTCScvQSAIBIEgEASCwMWNQAjSi7sEdjL+9QhSnWQacZYaO0fQWNKOVKIh99nPfrbIoec85zlFQOlQs0F66KGHFkGD7OyNmJYd7SVRKgwSyO7zp5xySu1kL9y2scwXEUQrELGEGOVs6NRaqZ2ezmYI0kZi6x3VhRe84AXTE57whOnBD35wEY80IJGLSMLHPe5xRTiqRzRk2jHvgFBU/x760IeWf2SjDchoVdK4pO35kY98pAhDGpf8IzRpXP7ar/1aDSJtZkb7lBYoDVKTB+q5dPFv6eKb3/zm6ZBDDqn0qdOWw9/tbnerd4pfMryLTFTQIjUxYLk8cpZWNSKzTUqwlWpXX/e8D8wK0CCVv2X83tuXvexllX8apDZak0/xe7e9x7RavYOuDz/88NK8RZLSLN1ITlvCdVsDU/mPCwIXFwLqZAjSiwv9xLuzCJjk64k3dVYbmvZzZ9GLvyAQBIJAEAgCQSAI7BwCIUh3DqeL3RdtMeQJctPu9DQ3b33rW1cn+Y1vfGMt+0X0IBt0nh2RmI961KNqt3oaaa1BSkbbIEUWsXvYhEV3vGXYeTvPafC95jWvqZ8d7C01Zv8RGesZsgY5hUASv58OPMKoHYKUNiDt1de//vVFiPWzHDc/AjQ1EYq0jWlw0m5WT2hCqitIQNqaPfhzRCrSKFW3TAQg4J/97GdPN73pTUuLUjjyLMOnbeldQcT6Wbp/8MEHVx2kscr+Lm1N9W/5vrDPi/BUJxGkNDVteEauyQQEpXQ+85nPnJ74xCcWOYugJQPhadm8DczI2Guvvep9QGT+5V/+ZcmhUU0z9l3veldpnzJvIW/Cez+QwLA54YQTiiAVv7SLn7a3+DmarTRLpdf7jEgmZyO41W3LRkn3RsA2abzwCKiXO0uQ8tvfta6/jstv5YVPyUUXUpupDeyJqM7LWinovLUf143DWv43+z19HzapV9eDiyLfSFIbZu6zzz7Vb2NmhlvWwWU5nd/5RZHmxBEEgkAQCAJBIAgEgY2EQAjSDVJa7Ip+/etfL7uNNrFBqthERgf4Rje60Q/ZIjSAodn56U9/evrHf/zH6drXvnbZHJVdm9lYmkzzznJem73o7K/lyOlOtucGB9LCDimbjN/+9reL0KKlZ+MapBd53OqwSF1psUzf0uLrXe96lY8lgVoB87dpEbC83OCOxiftTAQiR4v5gQ98YNVvWjLqhEE8d+CBB05HHnlkLb9nY5RGJ1Ke7VA71tPiZG+UBilSk21OZicQiUjMw8YyefWNRqkBJrIVMSkecXz3u98tEtX79da3vrW0PdkgRfSrr2zv0gAVJyKUfASld4djFw7pigBtghORyhyAuGl6IoBpmUrr0jav9847ZDn/u9/97tLQZpv1jLERGjMWwsBKXMhkdli9N8cee2y9b61RVAnJXxAIAhcYAd+pC0qQaj9ovpvQ8X3s3wWO/GIIIK3ybGM8beHy+75ectpPT+gI77dev2E9OZvhvlULXxkTwhw8Gps+1oPd8OdbpQ/l2+NbZULOqgsrF5QF12ngd1k2rlsDdXl/NyQzIoNAEAgCQSAIBIEgsKERCEG6wYqvbX4uO8DdSdfx1VFeq5O89L/0szzfERSrO+DIV+QRwtRSZQQQEqrjJmsp27kOOuKrO+jL5zuKO882BwLKG9FIC1SdZVNz77H5kbr0hS98oYj+o48+uuySdh1BPtKYRnwi+RHzCEO73bt3+ctfvsBBRJLP7u7Vrna10uREULIXeoc73GGlznkPbOCkzvLP/qhl87RNDTZt4kSDFWlKG9QSfdpCSM1vfOMbpR2KCKW93cS+vJBzl7vcpTSyjhk2S2mZygONT6QwP1yHqYvxBwOaorTDTTLQgr30pS9dtlRpj/ohdmEmTdLNr2X3ZMpDSNJGM8cgcMER8A7tLEHa0r173mVkmW9gv4v9fE8+dlqtANHWnJ+DTzttjRUnJle3qlPm2vt22nnfld3tlIOyM0FtFcUXv/jFWkVh8tC3w8R0f1+6r9XH/p5KIznLftruTnfkB4EgEASCQBAIAkFgIyEQgnSDlJYOuE7t6s6t6+6gO7pezwmvg7301zKXHejV4Zcyl+f8LeN23el0znVHXLiOy/2+7ufuxW1uBJQ5jU+bJd3znvecHvawh5V9TqT/H/3RHxW5SQvZJmI2HVM3kJPIQEShgTkty3vd615lS9RGSwb4NJlpeVqWbhMkpKoNmixLp72JlFVPDRa7nn/ta18rLVPx0uq0cRTNnN70SBpooNISs3EUghSRK34yLPdH1BqUdp1H2CJHLbH3Q67SNu3l+fLPr/A0kD7zmc+U1ilyWN5okdpwSpxvf/vbi2QVFhkrfkRpx89MhTzTJs87tLnfm+Ru9yLgvdxZgnT5DZMq5kJogPuubpT3EInWbVYjuzNph5O2SdttEorbmXAdx2Y50uRnW7q/Jd2u724sutzUNd8D3w2Te+zM0wa24qFtWy/T4lwauT5fPt8s5ZJ8BIEgEASCQBAIAkFgVyAQgnRXoHgRyGhipTu6rnWYXSOYdNZpd7juzm8P2jzrAZFn7remAf+ud6SFtpTZcpBNZO0oHFiE5fh13uH7Xqe1POVvUyOgnl33utctDU4DO8vGDbjVC0QDws8SeuYfEIY9AKUtivy85S1vOVn6bok9IpU9XPXJ8nY2PC1/Z26C5mjbGqW92SYfgIsMfeUPNj/68pe/XCQnzU/LFb0T6rM6SesU8WEpO4LSfXWe/V42Tvn55Cc/uUIUkE2jRzjkJxu/8th5EJammfSyhYqYZV4AHswAOF7ucpcruTRcka/k0EBF+nLSxwQAm6zk0ja92c1uVs/yFwSCwIVDQPuzswSpGPqb5h1kLqYJ0gsX+0Ufqr/B8qEd8+s8rZWa9ie/fkx/0LLfqo7WPw1SuMESJueH4a7AymShCTwTgDe4wQ3qu8bsi0kztrPPOuusIkhN9h1wwAE1SSde391Oo+/Q+fXZdkVaIyMIBIEgEASCQBAIAhsVgRCkG6TkumPbAxnXyKXVrv253533pR/hW4ZOM9cDoKW/Pu/BlAHAWs7zZfiW2X47Ltf8InmWBO1aaeywOW4+BBCWtCItaWevtk1G0I5ka9Ru9qeeemppbco9stCydxsyPehBDyqbnIeN5fQf/OAHJxsfCdf2PQ0caVRaCs+v3eBtYqGOdT1FpNJcpQX0hCc8YWWwv5wksJQdYXrzm998OmZohNLW6QEmUlW8n//854scsdGJ91B4yx7vc5/7FJHKpiot0G3btp1nAsI9BCeilmYq26lsinq/+t35zne+UyYE2JajxXrVq161KgI/NJfuete7FhmLEEakrtUObL6akxwFgd2DgG/UBSFIpUIYP+0AgnT5nds9qdy1UpvQ8z3u9rHbn/Vi6jD3u9/9SvP//PyvJ2ej3/ftOPvss1e+CXDx8w3Ync530/eQKSMrMXr1gO/eV7/61VotYQJv2/jm+EYhsq9+9atXkrrPlf7W7iyhyA4CQSAIBIEgEAQ2AwIhSPegUlx2Xp13x9v50rm/fO5ZD9h60NJ++DMI8twz1+1nOajjn9OR9rzDdxjX7afj5t+9lrOMi5zWuhM/xx//3Vl3vkxPecrfpkVAuR82yE1aoC972ctKI1T9Ui8QFDRIEZAf//jHizzt+oR4RFQ+4AEPmAzODVDZInVERCJa2cO1aRPClXYNTdLLXOYyhWXXT/4NHO3cTBaNVH6WdZBfMtg7tTz+6U9/+goZ4Nk555wz3elOdyrtT2QuTVb5YjbAbvPyg8BEACM4kbCWP3oHELfiR3haDikOpgS4fs/EIT2/8iu/UgQtm6y9nNUzWqW0VKWDliyStd+vEpS/PRIBZdftp3O/rvt9vxPe9ZEfbvXz5f3222F35ig8mX28MDJ2Jp6N4gcOO0uQNmaNHw1SWnzagI3m5KXrYOdrrTx45ud7zr9JoCtf+cp1vpb/zX6PDVIEabe73h9u9Xu6O3Dod9U3z4oD5dLO983mfu95z3vKfAsClakZk5L9DeJXOjuty3JfnrfMHINAEAgCQSAIBIEgsNUQCEG6h5U4DVAdbx1YRI1BiXNabe973/tKY0XnXOeXYX6kUpMsnRVaBh/+8IfL/7nnnls73NPAYztMp5qz++5SI6FJS890lP168OQZmTrelkL7sf2IhLLEt208CsuvdNtI4B3veEcNPMlBRt373vdeWfbFTzTfILa1HK3Hhz70oaWhabOh1o5kY5Rdz0MPPbRsd7Lh2U7dp2n5/ve/v54//OEPX9lkiR/vi3qnntG+tIO8JeveDdo27V7ykpdMfpbgIy9p3njunRNWHb/KVa5S79shhxxSRC6Ck71P9d3gVJql37J3O8rb6MSA+VGPelQNTt/whjeU6YCnPvWp0/HHH18bTAmDiOXfplGWzRuwXvKSl6ykedd6sE3j1ftu2f+ZZ55ZdkjF1/k48cQTCyd2WeUTQdyD3c5njnsmAsu2fZnCJj3cW54v2+Tlff5+FDJDWK7rzWrZ9XAL/cFjZwnShgV2wjVBqmwbz/azmY7yqo30o9Hf7fZmyuPO5gUR2TZI+13a2bA/qj/xqWcm1/QBOX0535JOi2uazb41TLkoK/a6TS7qc/X73rLUXefd1/xR05jwQSAIBIEgEASCQBDYyAiEIN3DSq+Jnh6A9aCLvUE7YyOALM81UNFBps3xmMc8ppYS6+DqHNtl++STTy4tAhvL6BQjUWm4PfjBD14hVHsA3gQRmVx3uJcD+te97nVFyCCDaMzokLPtaHkwwsmRPJ1vhJCOuU0ExI/8YbMMQaujToPPPZ1yv453DyuKJGcXI6Bu0HxElDsedNBBRSaqz2984xurHqhLyMcesEmCc/Y6X/SiFxVJzwYpDUuaMQhK9RRpT/P0Ix/5yGRSADmJwPesbZA+4hGPKPufCH2TA9Lj/XJUH5H23iXxn3TSSbWrveX7yFJhLGNkA9Sy/mc/+9llC1V4WqY0Rk0CIEGRuzRcaZqSiRQmo+O3LL8Ht94Zzjsgn/zQCiVHWsjy3uyzzz713rE1R+bTnva00iTdyrtJF3Ab5E/Zdlsuya673jm6Vge7/Xev64R7TWwoe079/VFcp4fsrvtbdcIKFiFId1ybYKQ++oUg3bMI0vVKzjfTSg19NxN8CFIapVYkeO/1F7udWU9G7geBIBAEgkAQCAJBYKshEIJ0Dyrx7qwajPS5I20Ag5J999237Co6WorMDiObiogjy251eNk4ZH+R3cRHP/rRpWmAgLKjNmP+lvjSPEOs8M/1YNl5x+uc8wzRiVyliYD0sayYBoWl0ohbu4ojjJCmb3vb20rDDQmK7EGc0gDUUadRavnxUUcdVUv0miRdEgf/Fmv+NyMCXa/VHXWRhiQtTvWQTTUDOOThkvwRhlNHLKOnRfqBD3ygSMrvfe97K3VYGCS8eofgpFlJrnBkeAdOOOGEepfUcfc8d86Po/p4+OGH19J2G2Kor9L4lbGsHTGFQGLTjW03BC2tUKSsHe/58d7R1CaXNipi9GMf+1hpqyI5kajeJXH3T9ydRvm0ARTbp3CBkbySTZ487r333tUW0B6/1KUuJUiFr5P87XEIqFecMl7t+l6TlI4IKM6zDute11P1pp87b/91cyf/Op6Ow7HTspMiNpU3OIYg3XGRdl0LQTqVaZc9SYNUyfU7vfrcd0zdtqGh75lvmE2cbCKoP6c8/ZaT4TuuCXkaBIJAEAgCQSAIBIHNjUAI0j2ofJeD32WyEJ2M779y7L5taRVtAO773/9+2Vu0yzdbhcghG8DQ4KSRd/vb336FbPrsZz87HXzwwWUH0W7bZHz6058uObTjtg3D/gbJ0kAbj7bcFa5whdLwo7mKeEV+7j0IGgSQH4KKNp9OuA64Zw984ANLe5QGHjK1tZOQvMhRct/85jfXsx50beXBeRXAFvpD9BiMIdNpF9NIpk15+ctfvkgg95fEUBOTIHJuMOe5uudH21k9UlfV6dYWXULag0fhhO/65r57Bo1k9H1hpVEd5772ta+tEJRXvOIVK+38th/p4ncZfrU8ctwTJ3/ei6Vb+ie3r/mFkXzKG43WTtcyvqWsnO95CHTd01YyP4J4R7IwnaD9RVrQhuZPHVldn7reLHOmLnc9Wd7fmXMmWKRBfUKWeHfI24oOhiFId1zyMFI//KJBumdpkHYb4Nhth9L853/+55X+nwk2/ToT6s973vNKi9Qmhmxx6zcKu/qbtOMakadBIAgEgSAQBIJAENicCIQg3UPL1UBZpxVZ8tjHPrZ2rUaQ0pLTCdaZRZDSJLvjHe9YNhANsJGQlhjze/3rX79yRwZiEmFJg43mKY29Y8bGN84NeB75yEfW4IdM9hQNnu32TaMN6Wq51qte9arS/OzBPtKGRqpdfGkn6GhLi4E/EpSWXZM4tOBouUrb85///NLUkw+EWNzWQEC96fqgbi8JGdd9z5G/JiC7vu0MSk2itt8e9LUssrmOq/2pi/0MOeXcPfIQk8vw0iZNnDzw6x7/nVb325/nnQ7nfp13541L53n1Umd++lmnreNzbFmdlxz3HAS6bKUIQXHqqafWRJM2sm3g0gy+yU1uMrErawlsT4Cpc37MNbD//KUvfanaS/ZrTUxd5zrXWdFsviA51gaz42uCzPfDZJZvx1Z13q8QpDsu/W6ztDUhSPc8grTLp79jPYlmQqZXGihhmwna9JApGxOMVj0we8T2tm/d6m/PjmtFngaBIBAEgkAQCAJBYPMhEIJ0DyrTJkJ0chEqTbYYyOq8Gsz2pjI6wDSREJRsFbLrSAvPJjQG1YjS1kjil9aoTWsMzGlzWspsQ5mnPOUppUVkqTz/n/zkJ8sf8pO9RXYVxS9NNJ26A22gJH4b6yBG2blCJFlWLK3ip20nTxyCFXlqcC4u2qzI0c7zHlQMScpuRKDrtHL3U4+6vvdx6QcBuKwjq88llR+uwznnj/Ns9X33vCPi9vPcvZYjrHtNanb4HkD2kQx+luGcdxqXaeDXe9iy2k8l8gd/S/9Lf+77dZvgXLo73qWMnO+ZCNDgOvbYY8s+NBu2TC4wlUKLmhkGPxr4NP+188pYHWBP2o/NXuHUIe3sbW972+m4446rzb4uaI5NXrFFzZQDO702IWMuYqs6WIcg3XHpd5uj3QlBumcRpEpO+XDLb0J/c/pZPzehbcLlta99bfXtrDTSXzvwwANXJmdKWP6CQBAIAkEgCASBILAFEQhBuocVus6sTi6yqMkbxIj7BswITsQlTVDEJVuL7H8yvM8PjQHhetdrYdhftKmLncJ1htkstZs9EpQ2gSX0ds2mTWDQfcYZZ0xHHHFE2R0lp0kfcpGrbC4iXA3qPaONgPx0Ln7pNZBHpuqk29TpOc95TtmAFD9SlgYreXFBIAgEgc2KgDbZ70Mf+lDZamYb+slPfnJpjNIU1T7bFVv7aHLJpnts1Wr/mTVBZLIVaCIKccoOL41SWvg0To888sh6Lo7+TjjvNhuuzvsoPisSLLW1IoA96W7j12uPhfGsj+S3POkkv3/89PMm9PkV3v1+1unr+/z4Vvhm9ERJ+++4+VnG0+lZyuCn73dafIvIlh6OjPbjWjy7kyAlX5wdl/T2932JR3n4QXr6fE85wkvZSLs6aiVL47lWGpdl1/nv41r+N9K9C7qLfde3PvZ70XViZ/O+xE9boP0gYz057V/Zrfaj74cofec731nmkZhx0c4cdthhZeeejfp+D1eHJ2v5/uxs+i9uf43Hsi2QJhOeFAP0e2n562PLo41Nb3jDG9ZE0g1ucIPSxFX/OSuyTPZzjYdzz2n4a+fF1/49W8sJy5+fNsjmpvryFB64bic6LP8dxr3Ok3P3l3lrf+3HUXoc+95qGV2u7Xd53eGW9VcccUEgCASBIBAENhsCIUj3sBLVCdEpMqjrTgxbUj04sWnLk570pNqkSUfdjtcIT0ukLKUSRue3O2annHJKdboMqtmas1z+Wte6VuVa54Zfy+sts9QZRLwarNPw/Omf/unyt+wkWSJq126dSJ1qth/tGH7ooYeW304zuc51wA3EEQQ6fZbt64jLD9fprIv8BYEgEAQ2EQI0RxGQ7EKbgNJ2s/vXplK0kdpCA3NLXbXhVgEYnPNnwKz91B6T020xkur1r399aZx6RobJKwNk5EkPXMn3PeFoq37qU5+qiart27fXJn7aYqsEhO8wq+HvOLtt1+6bHNtvv/2q/WbPFGFgVQKNVNqovg9Ih2984xtlCuC6171ufSukhRzORoPkIBrYQqVRa5XCPvvsU899Q5h8+cxnPlO2FH23bIoGK1jYjA2Z0IP+Juzk8X3ve19N1sGZP5ur9bdGPjtPIpKe3U2Qimc1vo2DZ3uyg5u0S69zde/KV75y3Vudp84Hvx2m/XT49rNRjxeUIO18agtMVnNdF/vZzh67LPYe2uZMc3SdXyt84+2d48+1Ph1itftf7qn7+mdszNt40ztsU86DDjroPBql3hll2eXqekfxr5WmPeGePHceHK1+Yuff5NPNbnaz6Ra3uEXZHNfOvOtd7yplAvZaKQJop4S30SnFBO2tvrqf8lU++scUDvht18Sl+JSHY7uuC1ZkMWn167/+67Wp6TKN/IrXD+7i6zas5ZHjOdfPOp5OpzbVyq2uE/z1ufD8Ofq1XPfaNjx5q9NVEeYvCASBIBAEgsAmQiAE6R5YmN1h6U6OJPa9b33rW9WhpZWpQ0WTyK7aSE5kZXdghPHsFa94RQ1WkaO0Qg0odWr5684SbSIdYks47cJtUG7grLPFD7/dQbIjvQEtW1bIVNpOtFgtAzUIFcaMvA7ciSeeWINxfpkCoJ1q2f3SpqN0xgWBIBAENisCSD5kpsHvve51r1pqj+AwCG2nnUVOID1oKyEwtJkG6bT8EYfkaDtNmNmUzyBd+85uqcH94x//+Gp7n/WsZ9WgnnzfkP4mIA59AxzZH/yFX/iF6XrXu15NcGmXl+npdPXR98dzsky2HXXUUaXdigS1ouCb3/xmtf9IXeTuK4cN7LPPPrtWD7hmEsBKhb322qvShJA5ZtjARtRKu28SEzHSZIUB+6qcbwzi2HeLHMQngsqgHUEr7/vvv38ROWTQAvOdgRu5vom+aSYG2Xn1XZKPJhLkx/nuIkjJ57oc+lw6xNtp6fSU5z3sT9r6p17+KEvsyWlM9rBs7nRyLihBKr/KX9/Ne9JE2gUt834HHW1s2OHXw7Ox7vjVNe0I2/T6cxxZ6iJnguW5z33uZFKdBiTTTfqNbX6DX24jkqLS3e8gPORFPmjRMi9gE1OkpvbLRA2sTO6YnKLZL6w2/IADDii8tCennXbaZOIHlvz3u3zY0MJFMvcKAeWwGrMuG0c/YbXL97vf/ar9f/GLX1yTQJ5p67x3HUZeuu++Ol9LgtOzzmf3ybuukOU7YqKpZbgnnfIqPX3f+XLDL/f59Wt/5Tl/QSAIBIEgEAQ2CQIhSPeggtTh6A5Md+ZoHPzN3/xNDYyRlhw/fshKSzDf+973FqlJm1RH5t3vfnd1cj/3uc/VjLjBKS0hg8Vlp4YMHSiDVTbxdODJOPnkkydLrHSWLJmnHUSzySCV63SKnx0rM+Zm4c2+S/f73//+6lTqdIrXTxp06nXGxcsflw5WwZC/IBAENiECPUClKWkSShtLE5JJEpqeiEntOpMnPQjutp9mpvAIDe2v9ljbaXMnsgzQkae3utWtinhBQBo40+hHcPDLdXsrbukwqaVNp83//9i782B5j6p+/PM/oISwfBMEbxbZQoBiD0vyCQQhkcVC2UU/VVglVIm4lOCCRZQSpXApKlogCKTYVEA2JRgSILKqFEsiQlgCIUJkqYStQOv3129eDe9POg8z987cOzN35t7TVTP9PP30cvr0et59uttRJ9Eg3a4vDk3ieu9739uAXuOJPNjqjyZggsUweQJKAg+Eu+CCCxoQAWgwDsjTIx/5yAYUAYxtSQVGGC+MIy6gop0lv9wAxcYaYC4ww24JAKh88CPfQDsAM+AYrwAYeOpiK5pf6HBkAYBIPo1h4Y3nZQGkSUOe8S5lAjzBP+Mh2uIvfG4Oa/IXmjN3UA7mB9vR6pu8AWaUkbDCmAOknnFL3GuS1ZnImBcgTT61OT8LHeHBTAn+0FP4ry6l3iTuafH4jv+AM7y2qEBDEjAWMI174rn++uvbfNBChN1KwMKHjM8mpUG5tbXV/MWvMhb3phh0M7GVw4te9KKmsW9RxSWmtD6VDZ7gs37H0VQASwCq3VV4rx+ymPO0pz2tteP0KeIGKFvoSlpAWP2yuC1wxYSPbOEBpEd/CK5a+Ep438Vx9fiiUwtbyo4ygn4w7Uy90gcrI2mnTIUlP1gs4l8b5Kbs7QTQ7wpH0978PmCvvJMlvvKVr7TxSXwAdH2W8SptmnuZ4kBxoDhQHCgOHDQOFEC6ZiVqwmMCk4mHbYjPec5z2qSExpDJET+ZkNEaojHkFnlCqe2IhGcTnBe/+MVtImcyZOJDWCGEJ3xuOCWkmhAfGa+Ou9XedqNf/uVfbgKmrZLOv6MlStA0OTQ5Cn20iQi7tEUJ/cKb5KEPXS6G6tPEbrQlPH9ligPFgeLAQeSAvk5/qe/NwhGbcAosIrDSJrWt0qVJwMZJWj14Q2AlCAMi9be27Ns5IB7pAED19TQt9bm9Mabo99GiP7dV3ZZaQOpOfbBwTMYcWpoW1AAGjgwQh/SADc5Xff7zn992NQAKpOec1Je//OVtXDG2oBMNLoeyqBZaCf/AUcZFUrRNc2kggMBinDTRgRcAUotzxiTAr2NiaMDRfAOaxnD/+Mc/3raG08419qRc+MGbZQGk4kZvxjxpewc0OJLAuMwPwx2vMzY2xzX6C334LT/oDu2TyOSvB0gBK37iYRJ2XfM7KU/cdgOQagcALu1X3WWS//Yyw9+Qb4kj7pOiUE7KIUZ708+gJ+Xom3cm7cLc0NzOxXJXXHFFW6T53d/93aYZqV2mPm+XdotwDf/Cd3NVGqPqpL4wmrLqrHypl/w6msR5/3hkMck3x1GZl1u8Sf+l78VTYVKnAZPPetaz2iWl5uoWiOInvMt8XJ9s3i1uR7KIg4IEgNaYoQ+TlvgtbOn7zbml+4IXvKDJABaIHI0gDfEDvOVR2Ne85jXHlBjE7ygX9KmPFpMA4fpl/JCORajf+q3fGv3Gb/xGA81dIKjPthjlqIbQvYZFXCQVB4oDxYHiQHFgTxwogHRP7Fts4H5iJWYTEBMcAKSVZ7fO24ZoopYJmPPAaBH98z//8+jIGOA0oQVM5qy7TGT498sEOJMb2kAmPFbPAavPfOYzm9YocNVE2uTwcY97XJuUSYdglzhMzAiftm2aPJk82h7pJ31xmUxLV96Y0J04Qkf7WH/FgeJAceAAcSD9niwRRG2xdcHdBz7wgaaJSQglBBPOnb15/njbub64ByDEYVuu8/BoWApLe8mzsyAJs/rRgBwR1NO39uMKN1vWCfwAx62xxlH64p3YLh4/wMLjH//4tsXfFtyAfLagihtddiKgR9wve9nL2iWBxhngKW2qz33uc02jKeAuTS0aoMIT/h3ZAngl2ANFAUs0mFwqlTHE2AUkAODID41a4xZNKcCpRT3jJeCVlhQeR4MqY1LsZQKkwAplwkgPcHGb29ym5TO84+6nfNbRKHcGjclLaJ9EL//KH9gkjHf1G3ifetrHOSmOdXWbFyBN+1LHaFjrB+Q9ANk8+RSu51ueJ8WB79LWP7DVLdqj0SAVRvn4Hptbtm+jU9tyBJMFDnNJfROQTDlumkl/iG78ABjqb81zaWzSvMRPfItJmICm6i6+0Oo3z6Yt7xgQYfVbdgd4Fj9DS9Wi14c+9KGWXi5fSvzspGmRh+Y7rXz8Rgf+W4yyQHR0rHigbzN+2CUGyASeooVmq77QYpQFIvNu7dT4QtsVEGqnGG19OxPsPBM/wBw4ij59LRnCnQb6Xv2xI0ws3gFvaeZbADvvvPOOgcl9Puq5OFAcKA4UB4oDB4UDBZCuUUmaKJmQmYSxM8G9cHyeG8ESUGo7pckLgdIKPyEXsGnllzBoRfuqq65qmpsmUJn4mrAR1BjbpQhoBExApom6CaIJnvNHCalbY8GZptJpp53WQFDpW5m2An7rW9+6pU+7h1BMAwqNwFPp03qlCYTOTP6kKx2TNnEQ8L2jKwITP2WWy4G+PIbPy025Yi8OzM+BCKvDuhr3+WNcbQj9eGhPf8cmsPoB7gjYFp8AfPpgfbq+U79IwLbNnCCsvyWQE+gtjOlD+cELaYiXnTFkWk6NFQBFC279sSm9/4wXod23PNNmcimf8NFG8/1Nb3pT0zayWOa8T/4Z21NpOBmn/uRP/qT1+cAA+bXjAeCEdgK4PNrC7RxE4Km824UAjLtsrLkKEM7YCPg899xz2zgoLtvn0QT4sLCIL8AGOyt8c1Zpv/00fELnsgDSxoDxnzSUFb6iy/hLgzRgSsqQfRCN/G+N5xS28uKD903N87wAqfKUX9uVrx5rkQLYVmnwWV3XxrQF7UB72s6kfMzXLM44795iuGObAKXOvQecKVN1mBE//9LzHJO0xdm75/sq7dCiHdIyp4lPa9OxJOgLjfwxeWenbZpfWwCy2ELb38KL/sZCl7ktkBKAzL+ydrGp8/2Bkfpscfvml3jZttiHr+bjvuvPnPcM/KSooI8UJxATuOueAf0qIBUQSpHCkVsWI8SpzIChzjbV97o/gOarNijP2W0AgAWs2kkGbD06BmOVub7XfB9wK8+ega+hG43zmISLrRzUiWnx8NePRd5Tz/q6FF76Lm/zGGESb+gRfhpN88S97n77uuiZQoxyB8Br6+p1Fm+VvQUAl0KahzD4hk9kRXXrV37lV46N0crHdzzlx7zGvAPAThY1Zovfs7RTBp4Z4fOsjVoIMC8A9MednQVIcwPa18Z8tErTz2Kr8T20hWZpePYzZ0Cb+QQ5F22UjmjSq0/SSX3r0xQHzetzzjmnLTR4L1McKA4cDA4UQLpm5RhAUyesc8+gYesMQdPkyOTWd523Tt/5Sc40s/Lvcgvb4pmETxYz4BBOTeZs+TGxMsmyDYcwLg5bagClmTjSMACQmjj5bsVZeD83BNMYNXgR9tkAUnT3JrSwbe+hgWTg5Y9bmdVzAO/VI0bdqHJYfRlUitM50PcN/fP0EOv3RftCu+NJ9Nf6WeCnPlV705+a4PNDYCdovOUtb2lABmFFv+v4FKCE7Y4u/wBq9u1VGpm844C4/Hq3njPTANJh++/7hsTLD6CSJpSzqp1pGGNbPBoJ9ZMAUhqkxjHaSC6ssqBm/ABeAs4IXQR5oANBSJ4BqIQWfi+++OLmL+kZbwgzNGr90AKgibYpLVWCnrMUhbelVFzRfEx+8aoA0nB1OTYebxVAuvYAqXLSLthM2ohnCzouVaM5qY9yDiZgAHhncR54xwgLFAEs9OHj1jztw1/ylqQpAjgX2VnM+qWe1j7/+hS0Bwi2mCUswJJ2KEUEvHnHO97RNNj1YY4S0Z+ln5fmsJ/mFprYAUiBPLTu9d/AeD+a8+m3jAtAWOAuTXn9Kt6jR3/n0jxb7xnyAaCHVj9gHAhKmYFihDwkz2ijKey7MUb6ACMKD/xakAOMxoTuvM9jC4un6oc8emdCSx9X0iGb9MeLxa/xM/IQv/OCo9JK+p4Tr+fDYMJfebW7hUwI0CeHnn766U1BRt2we0N9sFhiDkPmJL+Zu+AZTWMax9qAhb+Ua+Yg0iFPAiK1NfWZljRgXpzi8IyGk8YKNxYfhJW28gXuA+jFoS6Tc6Xtx4+wFp/UEYCluZQz0MWh7pofmEcBeENTX77aUBYjtF1zGfK2eod2cje5Gl8oDWnX6FKPHVGnzTtjeDf1r6ejnosDxYH14UABpOtTFjeaQGUyqWM2MXOYulUtg4BBxAqZ7TZWrNkGCcbgZtJgwNF5ZwDzPQOOidK1117bDm83OBFmTeYCzhoMCYwEeatxOn1p0hyiBWGSbLXOavjWWOihSSAd6UlfWgFypYkecSRPBq5oLq0R+w8NKQZ8v36i4L1McWCdODCso+tE27y02IpOcNWH62/1hdqffjr9ogUoWj0uE9JH2vZI8GC422puUs4Iw2RCru/Oc9+um6fB3zSAFL/Rw7AzZiR4vgNIaS0BSGlFxewEkNI6BRQ7y5CWqTNLjS/GAuMHbRICuecApBbwbOsFQBiXjHuEE/klsBCYaLy4jCk8NW4R3gAJtFocAUMzCqjgx5/8hU/yVQBpSnE5Nh5vFUDa5m/mRqs0fVveSYO0b/Np72hNH+W7BXAAmvZv/qh9nj/WZjQPDWAljPB+aWfc9tMkP/KAJ0AXygEWe5zvj05+zGP1MfEfWzjmuuuua32zIzzU6fTJ3O2csjCjLzQvlg6e9OCe+PySHj/eA5BSMrhwDGKmn8JjfZ0+U9wUE/SFjmswLhwda3sCZxyvRbOUgoM+VnjHKaARoAV4Mp4At+1E4452+dLnOhtaP2lXACDryiuvbAtKlCXUG3JIX5bC9e+zlG0fxuVR+m5ufngwNMY09EQjMOGVEb757pmRX/nIODiMa9q7cnPswP3ud7+m2d+Xz7QwB8VdXlN3JOI/AABAAElEQVT/1FkazPondcgYr8xpJSsrijWUW8iOxm4ay4BMxtiuLMVhF4z63sft2YVm6jDwEmhJpuXOqEfqsjmSo9kA/OJgtB9xklGN93Y+AlmBnQx6xWP3iZ0qtLUt1EoHfdKy29LChsVYJvWovYz/tCG0azfCWZSw0Io36pc8A07xQZ9h3hJjcZc8rO6VKQ4UBw4OBwogXcOy1HkzOmc/72xCoUmAAcEkwKox9xiDTPxyzwAVN3Y/ocn3hGfzwwzjzWTN5Ew46Rs8TSSH8QrPPyO90JL0MpEJXX1aLVD9LZUDyiFmWDZxL7s4sC4cSH1NPxF7Xejbjg606+fcym6rpIk/rR7ajvpOedEfEo59J6QCBwkENHxoZNDgEU6fKwz/6esJEdxoOjibzjeTd4LvND5NA0iBjDQxaI4QLNJfD+OxUEbooHEhH/luiz3BBHAySYNUGAIMIZ02CmGJNoa8EJYc1+KSJRooeGCLfc4gJZjYLpoz/Bwxg18XjoEEwjuBHvgJgHZ5Ey0SPJAHmip2ORDigCLc/Bhpey6AdLtavPdveLw1BmRqi/16b7FPu1Di2nXe0+doL54db2GxnHa29u4dwHR0DDQABvkTPr91mOuhWx8qT376MeepWoyy/bcHOJJ3NoUA4I35rjM4Lb4w4vA9z/IIXOEXTwDH+ma88C19TcL1aXALQIp/gCj00gi1qCQ8EMbRHDTrjRO24evPgEYAUv2/i/s865vFRzPOwhtNV3m3PRoI6r6AU045pdEesBF9xhHp21JvccqClbj4R+PQJP9D92nvybs09dV2EpBn5En6Q8O//js7FSyUGTeAZEBieSIHGR/lXdlwm8cYi4wrtmLTnk05zZu3edLcb78pB3SoW8rdAqzx1oKiMdquC/788MSYq837xr966dg3hgalBd1oaYrTry8LgCtw3nxGO+nj5pf2snkSzU1Abdpj0lce5k6UcKRj7sD47psdOoBd9YNGu7PStRfpAm9dxBZQVThhpMvmx3d00aJNnL551gdoO+ZI8mnOkT6Rn/5Z3GWKA8WBzedAAaRrVIY6YkaHy+i8DUzsmOEkwuTCxI0BoBpUEo5bH2fiTefvu9W5COrekxY7cYk3E73eD1pMdAyC4jZAWW1kkpZn6YmPv36S6jmDIH9lls+B8F9K6o4y9OvrxPKpqBSKAztzQF3t62X6pE3rM+SBNgLBwkQdSGS7mAszfHORBmGd5gPQD8iov6X9Y0IOsEw7xRN9q76UZhFhxo4AWjBHx+AENxo/tCiFmWSmAaTOpqPBQSAGGqDNbxhPAFIgQARX6ewEkBLWAZXACOAvQMUWXfm2PY8GKSEM6EuLxJZRWlK0smhwAAhskT9prAlFqKXx4VZ62lF4ZSsp4YaQjBeEJOe7AlsJdjRI8D3jJJrxUh4LIMWN5Rk83iqAdHT1eAeQcXeVRh3Xd2rHO2mQoktZMf0cznv648wL+dMP0W60QGHrqzAWIvycg8lIl7/9NuFB5rP6ZFpt2n4WWkJj+gU2UNTCDbCQrf9jsmjVz6ncWO8oD7sAjhw5cmzePORlaMHDpBWA1BnMjlph7BDTt9Ns86xvw08gEnAXSGXLs8Uk8dDsc2wAsM/PESX6c8chSBOQpd92pjUQKnShw/wd8Apw1HcKK4/69X6nQCNs/Jc85H0Wuw8D5AJM6deNC9IcGv718QGl5duRDsBdgKgwgFb8pgVsrOiPAhjGN+ndkS+0IY2bxiT1O3V7kv+D4pa6Jz+OrwESmxsYe4HsqRu+p45TkFF3jLPGZ8c8ALeN7bRw1RVzh5jEQU5U34zZ5izmGuEx2w9A6pJFcZorkWv7uYe6ACBV3gFIQ5f0fLcAa4GUXAvstTtFXLRLjf9ZkA194YF6qF2cP9aEH4K30nDusGPhnMvqDFT9qLz5hkbPfd1O/GUXB4oDm8uBAkjXtOyGQhwy0wHH7geHPPums/ZL5y9s/5zw3BnfmLgnLDfPDD8GOZOHfGdLN34MFIlDmPjPIMKN30l5863M6jhASAM+WAlOea4u9UqpOLAzB9TL1E39SgQ3k/dNMvpBxsSaBgVNSZowznJmgILOsQMW0oAg/EUjyzbH3uhj019zt9WVZibNTxogBAMgJ6ET7yaZaQAprSECjLPoCDkBNfqxQ3wBSAGPEZz5EXY7DVJCCI0nQjitJ5ogeCBPtqsSeGmS2ioKFAZGyI+LQoCmNGMJRwRgoCo/hGXnmNJ45QakISShnVDNjSYpwZlQZ6um8Ueaff4KIJ1UUxbnpn5sFUC69gDpsK3nPbYa0T+nhtDwptEHTAQ8apu2wQISpoVJ2FXaAUeNJ4zFGn0uYBPgCHBLvymf+mzAjYUt29dpPLr0yIILsM6xAoz4hAMo0uTUDwHbYnzr58ZxDy/ZAUijQSqMfpjWGwBxa9x+9FsWwQA5NEPxG0BqTBS/S+1orjq7GlBkJwKwVfwAJ32jLcLAKgtLjDjN0YGM6Naf6ovlmYYgjTwLUOjJnF64SfnhvpNJnmnsGQeMfcYCW6gnmfhHI5BKHuVfPskjtkMbI8SDJ47+mscAz2gHGs8sNu42X/OkuQ5+laWy93OWrR+A0/ELypo73of/bG7qgwUQ54Caa1jw9W6Rk8azOsdfDH6KT9vR3iwCAyEZZWoc5gdoSvsaQNprkPKXMhGH+Ye6o49hUifNFZwnDOhGE39sAKnjAYCq5hloYZIvNKiH8mUhgoZr4oy/aJCaj4mLpnFo56f3771McaA4sPkcKIB088uwclAc2BUHTAxpDWSCkonDriKrQMWBJXEgE1nR235t69em1NWedpNoACDNHMLn1WNtMvmgSercOYIwgVt7JMib4AtjMYNGKQGA4JHvLuZz2QHBUDum3cAPwTya/JOKRPoAWOCFeDPRp5X59a9/vU3+A94STJgIPOiSljO9aPYEUJBPIAmNV+4BsbkDTJwFSqsVvfKs77noootaegQtAgc+AI5pekifoGYRh1BMQ4rwS1ABQNBaiRau5xjCsu2XhBhnkAJExQ3IVW/kN2USocv7JgCkoVdZoDlls45tITSx0elHo9Ct2eovk3JI2U2yk+f4FyZ1cZL/VbipY7QmUw6zpIluoJo2P4sGafgm7vBylnQm+UFn6op2cOSHmo2T/E5z68sqZRK32PoF7Q7QAuwDYAAcHLfRH9mR/kZa+hMgV0yf18Sbb4uwwwc8kTaw0fZzfRftdMd06IOlDYizACNP+i5gkD7aAg5w1GVVwujr5Ak4ZJEJWARs1S/rjy8cHwOi3wfo0Q7tyzZlw85Wb2UEJEKD8zfx1fEiwvJHMw5QxD8gVFrRIFW3hJE3fRr6AT7anPiA2LTw9IO0fuVVnO4YoE1rzKEBa9FN/uUPcAggXZRJueInrUU89azPj/YmHsVf6pv8PGR8dArAC0itTHzjl1aiNqlsjDHy76xcGo8njXccTANf5clYrGwsXAYglbbdB8Yp6RpPxeMGdgtvytuiJO1TNFjcNB7HcLPFm/avsZ0mozKgkCA95cCPsdK5mBb90Kxc0CysccuiMMBPnsTjfRkGyA4gN/baFRLeoyntM20TmO1iIrSqg0BI7+qlBWBamgkvjzG0lwGbFir1C4zv6p90uNti70gFi6nZGclf+gzAvQXcaJD6hi58Rpf2a66h3gNitQtxAW/VMQCpNDMGJf2j4x0n0SB11mi+Jx80SLP4IS59Wkz85L3s4kBx4GBwoADSg1GOlYviwNwcKIB0bpZVgH3gQD8B3USAdMgyk32CuR/hgCBAAPPcCxTCmfz7cc9zhAW2MNMM/5MMfvY85U9ciZ8NmGUn/rgRluJXHBG8fWdCv3C+x/S0+kYg4oYHBEvxJA7fhCWAEdJtbSWU0h4lRAMM+Ccs9ukIL060i9ezOMTf0+o54YTxvgkAKZrxF73oDu3h8TrZaGTQzKDbNl+azXFrH3b4Szy8Jc/imieOHZKY+/MqANIQJZ940PMh33ay8SvtMbwj2AOBaFXvxognJjSx0SktP/xxfuWFY2AQgKLcaWg94hGPaO04eeI3QEToS9zLsNE5pB8NthfTVgda6SuAafzKh/cjY0CZBrqFJ3yjAU+rFIgFpAOEAhgB4G6gp6WZ4wWAXbQTLUoBVV3WxwzpwBNnG9reTFPezgB9LY06WvcWegBpFn2E3draaoCWxSF8PX+sUQmo1Xc++9nPbtqjtO7lrdfy1zeiG5Coj0Q7cA6Y6F3dABDhAcALKGSLPvdFmJQBvlsge8ITntA0EQFreMn4hh/6b3kVRj0BnOUIAZq1eC6/wPf4ww9lBJAGpql/FtZsB59mAOA5axWvxEX7VhlYAMRXY4707O7wDSjoHcBrwQ6IDJiOsbCnrC0OOvpFmQLulCWalKf8qUtoxgf+1TcLnQBL2/5pMAPnlKk6KK+LMD2P8RZ/ALdAfguV4X8Aa2niC35bHOUfT4zPJ42BYyCkm+LlNQBp6EyZ41V/Bqn40MFm1LtJAKnwDH80S2m5WmhTv0Onumtx1SIoDWiLADRZhZUuWQf4m0uaEl/iFi8gOtqt3MXNlm4BpK0I6q84cKg4UADpoSruymxx4AYOFEB6Ay/qaX05kEkqCjcVII0wIA8m3kNDWApY4FuEw/jteUCo8M4Mw3gnBAuXsM3j4C8CEiEHOBshhbfEzeZvKCT1UfGTX+KQrnBDEx745lm8jPAJO3ynoUN4JKS6sIpgKY8ENWH6fPbxhKbQwsZTdp9W0tsEgLQvV3mQx3U36FTeaA1AmvrUl9e0fPRllXrTu00Lt0z3ZQOkKdvU4fBpN/kWJnXfM+2wI2PAL21vHj6FHvH0tIQ+cWmX4vbd8RYAOppZzid00Q+Qx1EgFi74GfZ789CzF7/qEr7EALsAXcAr22iBdYAeoKhnfWRoFZb2IPCK1qKzkwGNFm+AlezwiAapPgwQBjzNlvyeZ9o1ntHql76+DqDGAH1ozAFvGdr2ACkgFo05GvXos8U8i2y2ydOwpNVIGxRoxCTP0gb4XHLJJU3jn1YjLU5nnGqjFp4ATn5AW6C6PC3SyDMwjjaoi3Ror9L2Q1volB4tSkcOcKedC2h2jMtll13W+Iq/QEUAnXMwPQtvXHNWpnzSXJSHvs72eTEP7oFgoDb/2snRsWYhoE15OysccOmIAlrHgGXH1ajfwL1oRYobEChdoGnOk6XJi58AdACvPNnt4NxNdQ6AJ171RTtRH+yeMP7RIFXO/Xjf52E3z6l36jUtZIB1wFzx9eMlWsM/5YYmdRn96heNZsA7Lc3sEkn71s6UCdAS2O7oDcdayAs/iVu5TgJIQwv/4pCGeiN9bvKh7gP1aeRahAOSpx6pWy6To72qTQ8NGtQf39GmLBM2tBVAOuRavRcHDj4HCiA9+GVcOSwOTORAAaQT2VKOa8aBTFKRtWkAKZrRz0TAMPlmuPsFMDLRZ7xHGBeGEMiNIWz0IIQw/ERwEp/4894CDf6EF4+f8MCKnkZuwode/vlh+OPOT2jiHoHCc2/in1sfhv+kGVqHAhk/tGlsfySMun2ZMNanm7TE5SdPsxhxM/wLtwkAafKG3tCPd3meJd+r9KOehFbPW2OtN5pXKe9ZaEneUhdjzxJ2WX6WDZDKs7L20ybwkMDveR4jXPglTm0YSAe0mXerbvqjxNnbnlM3Q5+2zgCq8Mt5l7bwAhJd0GYbunqgLYfGhF2FjWYmtmd0ACQBuwzAJWAhbbXk2Tf89A5Mo9UJQNRHhU/5njKUT25MeOU9z+3D+K/v28WFJrwEYn7ve99r7Ydf3/xyhjwNe3GhCYBnq7FLi2jGBSwSlzTxXTp+8ioeWoyJY9jfi3NIZ+id1+7zrD4ArwCBeN3369JUX2mBAs7Qbhs3LUfb1T/3uc81oBitAbRdSqV+C4dntEiNnQBYZTPNAKUB287QduyMMpUubV5AqbxLnwFOO68WGItnQDWAmiMI/vZv/7ala0eI4xecqckGqgKj4w9wi0b5RR+tUiCpLeaAQ9rXjjYADtNoBBCjoefdtLzM455yxiugLbrwQP/ADX3KIUY94QaAxx/ato5psGgJKFaetr7T0kRvX2eEBUICgWlF898becst9sMt9mhIHQTkAmjRGQ1RYdGljWZsiX9pSAuoKu0ccRHa+BNe3bLgoJ8Kbcrcd3YBpH1p1XNx4HBwoADSw1HOlcviwI9woADSH2FJOawhBzJJRdqmAaQ97YQEk22/CDv5Hjc2w843fmnzEPhc6ESgJNjSmiCkEQC3xuATf8IQFqQVYaFF2P3xw680kh6BiNCWNHknQImDX2fbSS90+U7I4L83fXju3uPPc/xzi8AVt9DSv9PcoXWDjiNjjR4aQsIJ39MiLe9oZXxnkk9xJv72YfyXd982ASDt+dLTnvyskz3kt3fARrR++rzkeRL9iUd+44+d8p0UZtluywZI0S+/6q4f4Eq/15/JN2sewze2NhwgbNbw8Ud7DbidfiXlEjvtjP/Q7lk5SRfoBCSicaY9OwvQtm1gDO1F7Vs4Jnbibo4L+BMfk/g9c/NDp/5O3xmT9PmXb7afvPLfh+XG+N6H4y5v6bPybei351//LeH7+H0XT2y0AHZt68ZnQBsg2jZ6GqFDmvPO7ukST0z85L3/Frfd2sYaPAGmAc3USUBujkwRb/INJKT17J2GK01kWpUArVzS49xrZ05qHzRmgWCMPPRm+J5v5sGPfvSj2wVCDxmfcaoeONMS+Hzttde2c7JpGNMgffWrX93OdAUQapf80p50Xqlt9ieNAVTp2LIvjLNkAYa0X51xars3bd/UJ3x1Xi9QEDgrfoCtRUHgao4GMDYv0qT+hCfaJtDXtn7Arraeb/yiU7lxA/jaju6sYXk3L6D5CVwEEgN3laVwfsLgpfNbaV0DWJWhOPFBXeAPgDxNg1T5i0d6tIcBpLSpQ1u+p970747PcMmZIxPwNW08fpU1PosXbTkGQ9yMdAsgXWTtq7iKA5vBgQJIN6OcisriwMI5UADpwllaES6BA5lki3rTAFI0Z7Juou0cMpqQfgQO28EITf2Nx/LbT/wBojQ8XKBBICN8AEXFS3uJsSWPAJIbfH2bJtQS2miu0MYgnMRvhGVp0DpinE3npmRCEBpoSiXehGsef/g3dEvZsRk8cBs0f9KXJoGFO8Pds59nW0gJXtJ84Qtf2ITpCDh9nC3w+C8Cl7DhYeLmJ/R45ke83DYBICUkA+dcpKXuxKQ88r4udsoHfdHkUhbKz7e+LKbRrDwBDLYUCztLmGlxLcp92QBp2gR6tUXaby5ooSE1j8GrtG/h1BkgUtrGPHEB3IBtwk4qh76N8cOkbfX+5Uc/dv74zEzb0/Vjts3qC/hDb+JaZlmLm5FW+gzveKR+ckO/72juF4/iv/cjLBOaEw9e+KXOD/PGX9Lxraerf9Z+0idLJzR4ZmzBp/lmfLGIRFvOOajCJM2UXdKJu3T80MFPbN/94vaDlPb238cFIHUZlC3ZNDFpkUobLaFRasKoF4ArQB5NxZyrig94C4AEjgK4jIXhVfgr3mnGPNg5sbZ/uxhQGNqUAE0gp/EXoG97tu30bmC3fZ7mJL/O3jSGS194YzJQ13Ztx0kYr43NxnxtOXUBPeoVLWv5sL0eQArwBdgCXJNPPBFukSb1OmUCPHScA+1jRzQ46kG64T9bmeG14xtcEKZfUFbqH/rlHzAPKE49YlsYUdYWeZ1tm0WRlLW4p2mQ4k3qojruGADHAeSsU9+lET/iVC74xY1GLnAd+H3+uN8xR0p9wAMAKm1rGtrOozXeiIOf0FcA6SJrXsVVHNgMDhRAuhnlVFQWBxbOgQJIF87SinAJHMgkVdSbBpCavBPuGLefXnDBBc12a7IJvG8m7i5+oGEXYYV/YWmtCENoopUi/4QsQrCwNCzFS6MCgGF7JdDVtwgJ4vLMjcBHa8dWddvjCBARvKTN9IIBzRZbCsUJ2CAQMcqEf3H2NKeskna+RYihkUNbyHlztFD4JyRGWBO3MNzFTevDtkNACu0TdCROfhdhpLUJAKm84p8tpcqNCb/byxr9hb69kqSsaRou6pKYvdIjPIBUe9Ru8N+Pid1euj/1WP13iQ8AS13fqdzwL/FZnHC23m40SDsy9vRI83dra2tHundKRJ6Afc6SBHIAnLwfHZ/1SIsrF8Sk/qT/7Nt83HZKa9J32qz4iI6+DPRX+qHEjSbl1vdvKY+UDb/qANoY3wPUJJ58CyATmvI973u1LSRZeDIe0ODz225b+V7T22t45WBLM9AMYAX00sdPMuEVIN05l+pMtAeVBR7TtnSREbCLhqPFhNShlPWwDJKWS4dodRpDAZK0VKVFsxXgR4sVWIg+ICDw0BjGTRq0I22DBzAaq4yTz33ucxvYaYu+9IWjoUjT1Vm8aNEPML6rRwBi2q8ARACpy4gArUzqXPLUHPf4F76IBj22+QMp0QEEplEK3JWmPk97tbiqrjlXFUgqnDaiveijLahqy8pCPNoVwNixGvJDSxbwTCNdGEB2ytdRCmgw5juCI4s50k/+8V69AR5bNJpkEp/8McrHxU2O61Gu8gjclr45BdoAvA996EPbnMTcJH2EuiV/FnPMvxzt4DxTC9rT6tMkmsqtOFAc2DwOFEC6eWVWFBcHFsKBAkgXwsaKZMkcMNGNYLBpACnWmLCbYBOqAHG0SQgRbqR1pprtX7ReTNQJDhEGCALOJ6O94hZoWwpN2G0JI1wFrHRJCA0HICsA8fyxlgRQJQIQ/4A1NFw4vlkaoEq4IeRkK1zSTBh0EyhoytDA2BqDI4QJwCqhJv4ICZ5j4h5ggTsNHMAQGqVJm4TGzite8YomxAuT9COQsIEo8s0mRLvFHlCTupA092pLfxMAUnQqR5fJhAfc1tGEvkXQdmR8tMI6AaQ0eLWlmNTfvA/t1G2LItqA/oDZruwShr+DBJBq16kbNLbwhNYfrUD8sMWXNp7FIqARvwE8whNx6HcSDx7NYsLvPs64xRaP+Bl9WG/4ka7vgJ/0g6ErfuMP3b4J43nYV3pflEGP7fWM+hINynl5tCh6psWT8scjl+7RCqUJSDMRaDXJJIzFOuPhq171qnY0Q/gnj44VoPX52te+dvTIRz6y8dr3hE2ZTIrfpUgAUsAd8BIIZ4ySHiA2i5EWRY6M+yILhgFQE593wJnzNW0zNz6jxY4LaQP/uNPOtJVcfVC/gXT6cyCtxQGArHm5S6O0C4unwsujvCTPSXe3dviS+pH6Q4sWkKl/AzKjH50uGQN02novrwBMfGHQ50f7lPaosfT4449vc5mc6QsQBxIDr4HAFiNCQ3iBR3/5l385eslLXtLmSuLmT9wMW9lIR32h6TnNyE/ar3AAeBqv11xzTZvDALu1F4tW2gs+m2sAXRNO3PiDPuHMWVJWzrpVFuIOD6fRUu7FgeLAZnKgANLNLLeiujiwZw4UQLpnFlYEK+BAPwndRIAUi4CXLn2gWUEQoF0hXybZbr91hhnhz9YzggPBCWhKqACmOu+MgEZLiFapcCb1gKM3vvGNTTPFRN+WPlqkbkGO4EHbgvAIjBWv+AERwFJCTvjLnRG3c9EAtoQjwhKNCto7AFjxXn755Q3cINTmEgmCBTDWGWoEI9ovvhO4bM+nXeIsVemgkwAYDRJuEYY8S5+mB1oAtbR1pA9ADt8asQv4E9+mAKQEumiQops56ALakTUDSAnWFiXUTbxXX/M8qToqJ360cYsNttRy267cfEv5HjSAVP+hrcfok/AGiAFE0tb1a4CkE044oQEW4YUw2/EtcU6ypRvwQ3yJU9kBVPR1+mLgFE1C35OW8uPHdmoLNrT8fAe0WEQCbunLUheUMX+0Em0rtshlUYoGHdPHPYnW3biJM/GG7t3Es8wwfRnYVk9L0Zjn1nd9+9DEvzpi7ABgWiQDxAEvlZlx0XgCeHMci50UNGlpPNJ2pI05TdtQerZVCw/QVO+AeC4CQp9w6ocxF/gJRD1/vAAJTAv4iQZarbRhaZvSRqQpqi75xqgLOdKGX0CjumLBRD23GGrB0O3wxj4084eelCs6Fm3CX/HmWd+mnqMN/4zlFihPGm+bxw+XI2lH6GJS17QP7dhZuLRwaZ3yZ1FVuWlTFoXlW9i+LYrDOG+OYD5h3qCPSJ7RJoz+E334LK5Jhj/xxVZ3xGWRVnht1zhq7nPKKaccOwdZP8ukL5CmeNCgz1dPpE0blXYxkzRiN8f6Kw4UBw4EBwogPRDFWJkoDszPgQJI5+dZhVg9B/rJ56YBpCbZjK13tDOAmRF6TL59pxVo67vJOqHLBN1k/Pd///fbljaCicuZbHsjSNK6sR2MAAi4BGC6wRd4SbgHLBJIYrRzAguNLYIBod13W+x7LSj00HyhKeL2XGkBSZ2tRsC4bLxFUBoMQdG5XYBe56ZFuOUO6KUVhF7CL4ERuEnQAhbkrDe2NGM80zRBgzygk6ApfYbmK8Bk0Ub92hSAdJIGaYTIRfNlHeJTNkfWDCDVZgOE4ZFnwj57klE+vmmH6jCNanVd3qaZ/vtBAkiT3/AqvGHrG2iG0QakvQYkcv4xEBLI0QOQ/ZiQOHeyw2+29BJHbH3jkXFdkybALFt8U7b6ZP0RbTIAHBrVBTegWwDTByZfwC79F6178dvu7pgEx6Xoz5Wv36IMOnrAKXTEbVHpLCoe9NEg7c8gVc6TTPJmXLB1HYhuHoDvjDZljLH926KhcjOeHh0vLCozmqC0/+yWmGS0S0cSGE9pBhpLjb0AV+OscYtGqXER6MfdJUPG4dQBi4+OiFCHlKtb0+0U8SyvxnR0WygE7rmcjPvFF1/c+gUa0+YG5gCAQnkLQCr/4lFnF2WknfoXWz3lnjYJDHQZpDoEEKQV6rsf4DdAYgDIxCk8/nMXp7mDtiEfntPe+rz4ljYZG11x9yxcb0J37+Y5/hIe/X2aaJMvAKl8AVqTl/hT13pawxfx98/x37vxU6Y4UBzYfA4UQLr5ZVg5KA7sigMFkO6KbRVoxRzIJFSymwaQotnkmdaBs60AjoRrWgxAT0IhIYzWBKGDQMDQPvGdQM2dcAW0tEUPcEADhWaom2SBnbRGTfLd8urcM5o5BEUG/wgrjK18Ljqg0QTMjBDADzoJDjRabDukJeOsLXH5RqskQiwhw1Y7N1IDf4GhgANCKb9ABhqk4ieo0P5hE1htkwOg9gAtoShCCXAByEqTRxw0tOTNFkb5XrTQL++bAJAqPwI4DdKYvm3E7SDZ8ndkDFr5rYsJz9VzdZq9XZ2MP3XfQgXARbjtjO/SYQ4SQBrAQ77CA/xh9AEWcWh6WYwBGOEVzTNAmj5SmISL3QLP8JdyC1+Ft3VYe3K2oAUhmnyOAbHlGiCbfokGGY1+oBEtP32uxRwaaS960YsaoAVUs4AEBLtwrJ0vLLDX0SjAXxqI+nJHquij9Y2LMvKU/IUveV9UGouIJ7xn06rMmdluTp+kEchfftoYgNK4pS0Zq/DTOOdYBqAiwJIxdjqXlEYizU11aFobVd+UoXHRgp4zK+24cKSLcdOYY0eGi34s9NniTWPYeGxMx28aw86oVG+Vt7oE9AztaFKXuQuvHglnwc8Yaw4AOJcfWpuhxzjdG3VqUQZtjPYnXu/svj36Hn/JC7q1Y/U3Yb2n3nHDa7yTH89p9/Ev3hjhkkbc4i/usUPftLJMeLY4xB2bm/ChRZzDtONf/L73dOQbO/wSZ9y5lSkOFAcODgcKID04ZVk5KQ7MxYECSOdiV3neJw5kIiv5TQNIIzjc4x73aFtHTbhpiNgeSMCm/Wk7GVAQAEAoJ1gQxm1ns5VQ/mmsEAQBj7RMuDmL7fzxdj8C+ZOf/OQ2aRfu6BikjCZNBAnpMtr80572tAaQCk+LIkKA7wRD4CSB9YlPfGID5MQJvASGEhYjENiC9/SnP3109dVXNy0dwAI/NErlF7DTxy1+34VRjrY0RoCKP8Kh9ICzgAjb9WhzyS+AVvqLNuLeJIA0Z5Cim1lHwSy07bWsxHNkTQHSaB2l7k7Lq+8MUMcCBbBN2O3KTRsLDw8SQCpP8saEb9w8B0gJOAHcch6h80n1Ey6XA4TZQs0knvYyw1+fTp4BVhajpMUoE0d/BCDlDz3AWgs7FqoAZfpi3/ycLQ20s2AFYHMGpn7LhUG+AZL0n/o7N4BbcKJ9D1xblAkvxYcmZl7+tEBL/hvSlraB1u3ozTgaf/jpLGC8pdnIPe1JGgHBuPW82S574lTPxKV9Allpe1sUzFnd/ADxxQvQDc3ATwuXtFnVWeNx6kjSTLziBpCii2Yl99R5z2jv34c8S3x7sZMGGsSf9LznOXnzPe5seU/42PjSA/7xh8b0dX04cYp/UtzC9OG98xcj3PB7vsU2hzKXkrYy5V+4YZrxj375jp+ET/6ERwM/MaEpcbLLFAeKAweHAwWQHpyyrJwUB+biwKwAqYlNJjkmAZl0ZIIwV6LluTgwBwcy6TRRJaTQ0NnNNmt11U9dTr1N3HOQsyuvJtcAQduj0Q8gpBlpsg00cW6as+kI1M5XI5Q5e5RGCg0keadh8uAHP3j0a7/2a21bOzeaMbbh0UihkURws8UeYJrbc5NHefYMoKGZiZ4Lf3gGaYQAwI00nTdmi/vJJ5/czhrlhm+2GeZiqAgozhelFStfQIEjYzDLOan9GV3xi3nRTL3Tne7UNEhp/KANDWzALM0iQiYaPQNM0S59/EledlUYEwKJbxMAUnSqQ70G6YTs3MhJHYvwpwwj6N3I0xq/yDOwX/sggKeu7kSyfPoRjvfbyAOjrVsgAKbsZNT3hNsrQNr3ATulO+27dg+YDE2Jc5p/vOcn/oTL87Qwk9xpTDvT2AUr+heLSBZO9EkAqIAfw35dPZEe94A3aPLOeDaPcX7lpZde2jQAacXbXu0H5DTeiAPtLo/RPzsCgPa7dAOiAFhp8lsgct6iBSjgp77ZQpg40KPs9WX6PHUhx5JMyvdhdMMj5dPXk77M8KSvf/23vn717imj/vuieCsdi5zapx0hFvKUKa1YW/UZfuSnz9Oi0l92PGk3Pe/ilrR980v7Sz77MojflEXeyy4OFAeKA+vMgQJI17l0irbiwBI5MAtAmslPJnqEO2cxefcrUxxYNgcy+WYTPCdtxduJBhcL0AQxge8n/DuFW9R32+dsrbcN05bxbFWnSeLCJGeo0VyinWS7HhCAkAUgpQlhS6ezS4GrhDBbNglktDgBCOIDftpWSAs0QGYEluSZH9qZtu7RaAIyMIRTWqzOa3Oenm1/2je6gAUAAduDgdPiCgCRrYW+cXOuKLqAD9G26GmYBpBKy5Z7YDEtsfPHmrHcXPoA9JVmnUE6H0CKZ9pMgAflzG2TDHoBpOr+PEY49Sd1cJ6wi/Ybnq8aIJVu2l7ylP4vNMV9J9sCiD4sJuHVr1nMJFpmCafu6kscr0HrUv8BhHSTuL6w77/kLfllC4c+P+n7hV51wzMtQc+An2jXA0L1yT247jxRR4jQLMUH/n2XjmNN9F0WnLzr3233Bprais3wT/MbsEvz0SV3FqDK3MCBjCkpo3zhruxSHsoLn/2YlK13z0wfR/q/+G8e9vCnXoUW45Mx0iKl8dQOj9xw39O4h+RWGjTjds8rPPUecDR2+I7XeKyv5QYI1S7ZFrWUF7MOffFKmVmJFQeKAxvNgQJIN7r4ivjiwO45MAtAKvZ+IkSLw8/KeT+J2j0VFbI4MJ0D6h5jEh7BaDcTbRcmOEcs8SXFZdfhCAcuZpAWzUhb59GRfABBX/jCFzbNS9svaS45a/TLX/5yu3iCMObmexc6EMa3traagA0YJZz5RtMKgEg4z3Z76SV/0vMMIBUHgNQW+2wdzC27AFsXWtByQrsz+mxDZcQLqKXdCqRWJrRWn/KUp7QbqL27+RevIzDFFl58LrMA0A41SOXF9lPHD9CyAsigGZjw5je/WfCWztlnn32jW2Tbhz3+SecgapDKlzJJ2acu7pFdKw2OfnXuyFgzWT6Y5GcSIf03z8LLN3u/TOheNUC6yPzS3NbvJC+zxB2/6Ye8pz+aJTw/qbNs2tNuE7/kkkva+ZCO2wCe6y+y7V4YafDPVu49oNN/zzObUT4A0Be/+MWjxzzmMW1hSjz6afMdgM9Nb3rTY3m47rrrWp/rDGZHijiaBG224lsIY1u4Sh1Ev8Um4Kj+zmU/ZX7AgdSNlFtfd/hImXJXHgE9842dMJ4Z73g/CfT7gY/d/4vbz5hMc1hdMC4aCx2Zk/4GnQFTd5/a6kLif+pr7KTuG01ZebJ463t4zA8+q+PkAwu4LnBU//2yoyTtKXGWXRwoDhQH1pUDBZCua8kUXcWBJXNgFoA0E1MTGxM9WhR+BIYyxYFlcyCCiHroF8N9HkPwDUCaOh0hZp54duuXFqQtnDSNaA5pSwR32qEu73j2s5/dzu50M65vLv+gJUXQPuecc9olIvw5K48GE2DANnpbPt/5znceO/vOZRTATZci0eIIz/DLc7/FnmAHIGUIPs7XE7/0gQGMePQTwovbOWs0PI877rgGQgBZXVaBFnGzxUvT12UXth8SnPBa+tM0SIEGL3vZy9oFFfzzKwyNdbQRim2vpYFFu5bQtSgjbwcRIMUffMRPZep53nazKB7vNh70AkgB4zE96B63od37EYe875cJz1cNkCbd5Lsv/3n7PgsWW2OAlJmFn+YLPc/75xbJnH/ii1G2FoNoaNJcB04CKXNJj341/U3yGZrDk/CCLW7+LN5YHKJBD8jUj3KXnjZEGy7xffSjHx39xV/8RVu8oW2v76Itqo92PImLmByBoh9M3oFGFo8sRukrhSvzAw6kDLx5Tjnhd/gXN+/p08K/1A/f4o+dRciA5PG/F7tP2wKhRTx1xZiUNIf5Sb3ZS7qrCisP+GiOn3ED/eqvM3WN/cZ9btEQ9Wye4LJGY7x5g7oPJHU0kJ0ht7jFLY6V5aryUukUB4oDxYHdcqAA0t1yrsIVBzacA7MApLJowpSJXwBSE6AyxYFVciAT992kSSPorne9a5vwC7+XuOZNn7AE7Hz9618/eulLX9q2bxJA/BhCh4tI/AjNhA4CHU1LACPwFCgKxLNNn9DinFDaTDRH3eZr26l02EBXz30ayS/B3BZARw7kFnsAAEGP5odwwFH+XeBkW+hv/uZvtncggDP1bPEXBuDjTFR00ID9m7/5m6bZxQZWSF884iSoep4GkDr/1G3C4kV/BFqXWElDXBeOt7CiW/r8LMqg6yACpPIVbSvCqnLaJEFd+coD4Ml5tOoGk3rVXib8ySO/aQsJM8HrSpzkgVk1QIpPMZ7xBS3hY77NYtPWnLQlPHkbxtGnPfw277u+QHz6vRjgjZvnbW2m8Qm0AaLrq3pt0vhn64fCg54+efAOIAWMOkM5WvTSyTb+xPH+97+/HWViccrOANr++jv0ocWZzMBbZ5GqgzH6avFaDAKw2klQ5sYcSBlx9ZyxQ/nkW8orIbn7njIFYJqf6u+MZcplkf2e9pN+NQAsGpikg0Y/76E79K67PeSndztJ1G1H8BwZa/ObO+Crb36eLVLwox1qRwBVR1M4kkuboukdfq07D4q+4kBxoDhQAGnVgeLAIeXALABpJqOxAaSAFNphmZAeUvZVtveJA6mL8yRP8xG4NxRs5oljN37Ryrzvfe9rmpcEZlqQOVNRGwQ82hpPoKZxkTC2YT7vec9r2/dsb6c1CggAdgEInZ/n59IeggghBlDpJmVCHOEsbTQ8A5DaYt9vcY/Ax0/8Ja/OWEMvQdMt8rbaEkCBmeil3elSil/8xV9sYC06ga3oftjDHnbsopPENw0glS560YLmPANonQcIJHEOofSZ5Cvx7sWW9kEGSOUP32gBAnu8b5IhfGu3KXP2dnnId8CqtiL8fprQumqAVDsF8GlTaNCmQkt4OStfnD2chRFlsVM84pcu/lvkSXqxZ01XOsKwh8ANdxrmAEcabbTuacQ/8YlPHD3oQQ9qwLr6jg55jxEuccWNrW+00+CCCy5oAE/oFp5xnMmLXvSitsijbh09erRtkwfIit+P9ryFLdvrAUbOgk7aLoQyDplDOUrEIleZH3Ag5atu4Y3FMJq2X/va1xrQqe65qM04Ywzt27SyFM4YYeyxGHn11Ve3ccmYz8xb735A1fT/LOD19Sj1NHXWt5T9otOfTtnevvS0o/myyy5rxwIpE2WhvZkPaG/aByOP5gHGaTtlzC9OOeWU1vdwtwvGkTx2zxx//PHHeLI3Sit0caA4UBxYLgcKIF0ufyv24sDacmBWgNTkk5BgwgQcBSYQvMoUBzaFAwTTnPkWIWBVtGe7uq3wNDBsDyXgATAIWoRp55ASIrQxbS1tzrZ8t7e7QIn2KK1OICmA1HmhBELv8mcLPIGwB8HklQDDJrDRXHKLPU1MAkvOGpVu+OI5AqAz/wg96EUHkI1x27xLU46OQQIXQ9k+x7z61a9ul6fQOHPz87nnntvCJm5AcbS8aNSKV16nGenTPMFDmluAGgaNizJoC0CaOKfFz69fDMFROQREifvQFiZlKm7bMWlFBsDhxs+0dMXn+7y32CdOAiveSe+wGCCWBYfteLoqXqTtARxcbLadQa++QbvVPmiU0zYMILFd2P4bzS2gnLYsTj/1YTdGf4Mev8STujUpPn6k69I55SAf3BZp+rxIy0IRTTUXxemnbHG3iKPOSzuAFd56T7+TfLhlHsijP3vc4x7XaEYvv/of/RDAR38NqNOefEt4fcB73vOeFvb0009vAJ3t//wwyt7xIPreN77xjcf6svbxkP+lbNj4bDHMmGYh0Vnc//AP/9COXzF2ONIlZYdtwqQcaPO6ZAuI6uxqx7KknqQcDjmrt81+5h48ebboYMwGjNqpYh7irFXjvD4hfH/uc5/btEqVk3mW8lEu7Be84AXt4kjzH+2iymHbIqiPxYHiwJpwoADSNSmIIqM4sGoOFEC6ao5XevvFgf0ESJNnWtc0L2mGAtaAioBEZ3SdNN5CT6CIAUTEfOc732laUoRzW84BcoQMWoGEdEIgrVFAKRMBJII7N3GL02USNHOAsS5aYCJARtDs06ahyj9Q58h4ax2hiCE42TK6tbXV0pamHy0T+QNY3Ote92paZxFmxU/IookF7LE9lQlt7WXwJ31ap0ANW/cAuos08u5Hq4sgHhOe5D023vgmr2zaa3ga3sXf0OYXHwidwhZAOuTQ4t/XDSA13gJ+bP+dVr9wIUdspJ55d/RG2t6snFIvaYAD99Q5dVc93Y1Rb4UXT8x2eUg7sdVW3xSQMmH3akvbL+mELmco08gHQOIbIBPYqX8F0vLPhLd4E75Gg5RGPLpzPjOe6bPEQ0P+6HhRiGYod3GGp+K2oAMEveqqqxqYJIzv8g+8pVXqiBOgkS3gZW7MAeMbUN3ug2c+85lNy9ZivMuQnG/pcsFXvvKVx86gNi4oA/UTOHf++ee3rd3GRe8AOd/LzMaBtAt1Vn3WPozZ2pdx3YWQ2X1iDE8bpLWtjTh2IhrV5gDa4Ote97oWjv3Qhz50NkLKV3GgOFAc2GcOFEC6zwVQyRcH9osDBZDuF+cr3VVzYL8AUgIEE8GDTfgAOALMCOfsCPj8+s6N3bsDVggsiYMfgrc4En/v3zN3JnYABW7iZwIatJfxH/f4E0fe8z0299AZYYowKq24J7z30JDwAV2G6ec7W5jQKS5+p9HTh5vnWRo5OiQ0SmuS8d0vNAO6AVHysp0RBg/4E3cBpNtxazHf1gUgTZ2yxd4xFbS+tzPxnzqmTQFItfV5DI1zgJ0+I3GJW/1LGrPGJ/w8YeJXv3vaaacdAyGntatZ6ej9AcfSr4jXT9+gb7XT5bWvfW0DbLQ5/AOWPvCBD2z+hAstwnjOGaQveclL2mVK+C3fwruhnvb/L/3SL7VFH3QkvO+AINv6aYfy68I7izl2BqiHFpNsz7/ZzW7WNFRdGFjA3Q2lmfriqBiav0BQmooZT5SR4w+ca/mmN71ptDVemBMm9Zr2r50RAFSLaoBW/mhe87PoMeMGyg/WE56mHaV+J4d2vjz96U9vOx/s/lDn+Xd+OEBbewGCWrjlnri0K/2AS80e+9jHLnyRM/SVXRwoDhQHFsmBAkgXyc2KqziwQRwogHSDCqtI3RMH9hMgHQoaBAcCG0NQ700ANGH6cBE2er+edxL8fBc2QILnocDYx+2Zib/ht2js5Du/0phEr29Mnw/vfZyJj/skk/zF3sn/pDh2chN3NEiTD26TTHjHn3zQpI0G6ST/ceNXGaR8CyANZ5ZnrxNAqj7RhKalCMDZzgzroGM1aGNH03G7sP03AGmvQSpedLDnNerv0KQNDN29ayfCOJ4DQDovuDspzt5N3MlH/8yPPHKjwaZ9AqVplVpgetKTntSAUsdbCJ888P/BD35w9PjHP76d40zzMwCp7cU05FwIJe60Y3bSkq7zR4UHgIvrj/7oj9oRB4BSZQ5ApZ0KRF00P6S/yQYf1RkLTuedd97oqU99agM8b3/72zd327N/+7d/u2kCA+HsgGCMB4xyVZZ4Doh+97vfPXrrW986csSBPldZldmZA8O21IewwPOMZzyjXdZm8SG7Ob74xS82remb3/zmbeu982Jj8J5mqUvMnI9uHsZfmeJAcaA4sO4cKIB03Uuo6CsOLIkDBZAuibEV7dpxYL8A0gh+BA/PTIS1CCNxJyD2hnDBLUK8dyZaNZ5960HDYRjf4xb/0uNOs4ygHhp95xd9aIt/QAP/3Nn9t+QhabDRZ1tkNEwSn7Ax8Z/4+m/xw+5pQ0domOa/DzvPszNIaZ3FJI95j608wj80AGAceRBBPf6GtvjQLt/CFUA65NDi39cFIJUzdcat687JBLgx0+pw6pc6o74BRp2lOq/GYTRItZukl/baHOb4G9Kad7ROMr77BiC9613vunBAsM9HaJAmd20xYLJn4KS5jpvlHRdCe9M5li690x7TLvHJGaKOHnGZjLhinH/sqBPx9X0AP/o5xtmLtnaLDxhLcw6o5FgVoNGR8REl97///Rtt4pm3PEPLQbWVI+1fFxY6isKZ2jR+jSVvf/vbRy7so53rEizgXMruoosuahcBAUbPPPPMpuV42fi8V1vsLSyoF6mvB5V3y8iX8kib8kyD9Fd/9VebBimQOvMQl0M+5jGPaeejO/fVxWwx2odzzx1ZQYOUFnCOroifsosDxYHiwDpyoADSdSyVoqk4sAIOFEC6AiZXEmvBgf0CSAkIvaAd4RpTPOdbBBHu/bN3foYC3tAt3/v4CDVJI+7D96Q1DB864x5/iYfNT0y+e5duQAd+fAMIcEu4XvgSpo/Le0yE4N7/NL8JM4+d/NgC60IsJm7bxSNPaHIuLAFR/rhNM+IMT/grgHQapxbnvk4AqfJXR2a53FD96OsgsA24qi3MY2g222LfA6RpR/PEwy96JtXvns4+Tm1UWvrdaJBOi6MPN+tz4pqUH3TiNT/pf8RrEYRWIfDMGaHnnHNOO9f4yBi4tPWd6cN4znvS8T7kA7cY39JncbcI5expIGoPDPE3jCdxHFYb3/DkwvEN9s9+9rMbH08++eSmoa9vdrbli1/84rb1XnkwzpoFfLtZnYYp4NQt6oBuACmwO2V4WPk6T76Hdbl/p/1ui/2pp57attJHC1pZuIzRAoIjEpyrzqR+A7cdf+BiJ21ukeP3PHkrv8WB4kBxYB4OFEA6D7fKb3HgAHFgPwDSfsIVIaF3O0DsraysEQeGACnSMoFfIzKLlH3ggP4HiOTnWb3YqU/yHeD5tre9rYEtO4FX8R8QYB0B0uS9L4LwYVPaSk+nrcw0L5nevc9fgK9p33u/+/UMIKWpDGybxwQgFU7+/JLfxOM9IKK6uSjwInWJ5phzIXtwMGlvZy+j3olTHr/1rW+1dvv85z+/aZcC19zCDYDTpoGr0Y7r60V4tR3d9W33HFA2jiawjdvixtGjR0db47NGlZcLgoCjtty/4Q1vaO2aNrCjEICoznzlVxkB49773ve2W9VdBJi6uHvKKqQ2oQ96ylOe0i6+cpyENpJdIs95znPa4oNzX+92t7vdiGF/+Id/OPr7v//7kXNLaVmXKQ4UB4oDm8CBAkg3oZSKxuLAEjiwaoA0wkaEn9hxX0IWK8riQOOArZ4ubGDmFZhST4WtuooLB8so35Sx8p2ljAniDIHQhSCE++2M+DdVgxTts/Bku/yv8ltojQbpKtNeRlrLAEh7sC+gKBAkz3vNR4BGW29pkAJSpMl9mkkb9D1lOM3vbtz7+Gm7OdfS9mw3pDsfFNjm/Mucb9mnEX7F7r/V8945kD7mec97Xrtc66/+6q9GZ511VgPW8Vx52V7/mte8pgFttH6d5/oHf/AHo1/4hV9oRzmoM25W/+M//uN2lIJjFNy47ogHC1Jl9sYBZyg73gBPafla9Ei52Vr/rGc9a2TRwTm82rufS7VcbOYip7e85S1VDnsrggpdHCgOrJADBZCukNmVVHFgnTiwaoB0mPcILMsQhoZp1fvh5gBB3YUNTCb183Jkt+HmTaf8bw4HbCn8zGc+c2wb8zTK1Z11B0jTD6dfnpaXdXYHpjDyEoA0+ZpGt+/yPGzfO4WbFt+i3ZcBkPZ57ct7UQCpchAvzf3TTz/92JmgfVo9n1bBa4sYAWiBwdJ0BAEwjoYb7UQ3qNNADH9oyQUUpYmbs0172ut57xzAb/ylzevIEgtPbkNXH1M3XJIFDH3pS1/azrL8nd/5ndGf//mftzMxba1XVsrVWdKONbAV3Puf/dmfNeB771Qe3hjw0Rmkji+gIfp3f/d3x8Yzx4boo84444wGgF5wwQWtzXN3ORpgWz/gDFKg6qL6mMNbGpXz4kBxYBUcKIB0FVyuNIoDa8iB/QZIscTkd5rQtIYsK5I2lAPDLfapczVZ39ACXRDZqQei6/uiCOXDZIb+CfIAUgLkdka4dQdIJ9Hf82TS93Vzw+eUXQ+Q9uU2jeaEi9+8T/O/KvdFA6ToTt7Cr5vc5Caj4447roFMi8qXNJQB7T1133t4OymNm970pu2CF37jL3RO8j+vW+KMLW4/l6y5hOnSSy9tW7NPOumkdlaiMcNz7187B8SVWSwH8BiATYPX5WLOrQSQZsFDapdccsno6Hjb/ctf/vJ2K7rt+C7BoqkorDiUjXNJAd+0HV2a5QZ1WqRlds8BvKVBCiC94x3v2DR58T3zJ+XkZnsapI6qoWXq3FhlaeEBOApALVMcKA4UBzaFAwWQbkpJFZ3FgQVzYD8A0ggbsWVpkULQgllU0R0QDrg9NRqkByRLlY0lcqDvn/pkhn1VttjnIpzeb/8svnUHSJPnYR69D936vK3TMwAr9ALnbn3rW68TebuiZRkAqboI1PADKuGTsxxtUV6EEW8PdHpXLgFUhmn47qZ354DS0pxWF4fh5nkXZ+pxr03K3U/dAbjZog18c8HP7/3e77Xb1F1IIyw/pUU6D9dn86v89aFuov/rv/7r0a//+q+PnvrUp7Y6IQaLUMA3N6K7aEvbVr+Y1C3lIw5bvV3S9MpXvnJ0v/vd71g9TNm3QPU3Fwe0D8ccXH755U0L9N73vncLn3bku3KgZfqFL3yh+XOb/W1ve9sGeutf+FEGKbe5CCjPxYHiQHFgxRwogHTFDK/kigPrwoFVA6SZIEVI8h63deFJ0XEwOUAbKJcHzCooqZsxqbN5L/vgcSDlzZ5W3kM/ttg7g5Rgnm+TOOMbwZBAqf5twiVNaE6eZm0zk/K+Sre+3Ga5pEn+krd1zesyAFKgqLoYcAmAAXRaFECqPUhD/MoEb1P/J9UHZRCAlGbaMsoitEhf/PmhL3XAtuArr7yygXAANlu3H/vYx46e+MQntm3Dff2aqOvJiAAAQABJREFUlI9y2xsHAKE/93M/18A4mp/asK33l112WdNg9A2Aqp4qT7/U5ZSjIxLe9a53NU1SIDc/yjdlvDcKK7RFAqZv33jM4LF25ZgDZQQktaDgewGjjUX1VxwoDmwIBzYOIJ00ceJWg9+G1Lgic6UcSHtJon07WTVAioab3exmo5vf/OYh59iE6phDPRQHlsABW+xs2dMe0ib6tjApyX5cIbxHAJvkt9w2kwOz1oXkLnUidrbYA4S2q0/8ByDib50BUvSFLwAj2yQjAIcP62qHTnkA+tk6vl25yEe+y7PfLW95y7a1GgCwDmYZAKm+DK+Sd7wCRgEEF22kBYxlkt6kNLSJrfFN5PjOn7LYzv+kOLZzS3zyjaa8C5NnNuMMy4985CMjt3XTWgQKWWSj1Rgt19DYAizhb1L86NaPhN4kG7rDr7znO3v4Le+9n0nPw7Qm+dmrmzTwGDj+vve9r50Je9VVVzU331yc5Qb0Jz/5ya2epu7KQ7QYU66veMUr2hb7ZzzjGe0c0tA2a37j/6DY25Wfb8wsvOHXTx1kJoXt3Twn3t69Bf7hH3e/xNl/q+fiQHGgOLCfHNg4gNRqIvP973//WMeaATKd8H4ytNIuDqwLB5zpRdjIJMRkJRMWNK4aIDUJsuWGIIaOTIyq3a5LjTm4dET4ksNZ6hs/6mgm7ve6172a8Jb3g8upytl2HEi9iB2ANFo108LyvykAqTwkf7ZVXnHFFSNA6SYY7RNQEn5rw979phnlku/Gy7vc5S6jhz/84W0r6bQwq3RfFkCKRzHAyVNOOWVhGqSJdx4bSGubv/LI/IC9X0adUJ/Mk1zi9KpXvaotsjlf8cwzz2zge7Tj4ncZtIYH5JwTTzyxnaeJV2hLO+3Tjxtapj33dPLj1/tPmvE3fI/7smx13s3n3/3ud9sc1sI6kHSW8VdfnMWNyIa927JoXsd45R/PlF/KmFv4sx80p76hadX1aj/yW2kWB4oDm8mBjQNIv/71rzdOX3vttW1Sm8ntLAPnZhZRUV0cmJ8Dbos0maZBw5hADyckqwZI0eDAdoe8a6/eTZZqkjR/+VaI+TigjkVASMi0ibz3dupkbGduOYeuzOHmQPqr2AcVIE0pf+tb32oAKQ3ZTTD9uBJ6tfNpgIBvCRN/d7/73dvFLuvS3gsgTUmu1lYftHMyxtVXXz360z/90waUUtIwhznrrLNGxx9/fKs/NE6n1bF5qc5YlT4mY5B4ALKnn3766MiRIyML4Km/fRrC5Yf2GG5D08c9/LbKd7SF32gK3dx7GrMQ5XvvPo3W8GcYzzT/B809+ZevnUDi/eKRdNFGe7hMcaA4UBxYFw5sHED6la98pfHO9gsDpJ9BwICpoy1THCgOjJr2C40Qq+7aSNpGP6lcNUAqbducew3Snp4qt+LAMjkwbAPet6t//XcAKeG0FuKWWULrH3fqROyDBJDivnz5qed+3/zmN9uFG5sCkA5rkPYtP9OMb5k7eubfcRznnnvuvmpT9vQWQNpzY3XP5IoYbYHM8brXva61B5fV2PLt3FbADnCUZt6ijLqY+qhOitvN7B/60Ifa3O7Od75zm0fd4ha3aHM8GsCOhrAg7ggj7s6ApHkZ08cnb9uNfdt9S3yLtNHGSDd0Dt3ynd0Df95741u+K7fE1/s5TM/hBT70PA0PUtb5Fvdl29JFG6OcyhQHigPFgXXiwMYBpNdcc03jnxVdE1sTBx1tBtZ1Ym7RUhzYLw7QLsilC9MmH6sGSE2GaJCiC03eD/vkdb/qx2FL1/iQdpB6l/fteGGMYe55z3vW7cXbMeqQfEt/FfsgAaSZQ2kfaS+bpkHaV8NZBH5+/ORZf6C9n3baaQ0gtQtjHUwBpPtTCgE8eznDkROXXHJJuzBIfTnuuOPaeaXq0KI0SPvc9m3SYoXLb7797W+3hQtaq+hBJzfnxwJFabUCSNHj7GwL5bFpvvoGOBV3DPq9p+333+JnP+zQNU/a+KHMaCUqo1nG+Xni3zS/6dvw0g8/uA3Nqso8NCT9datzoavs4kBx4HBzYOMA0miQfvGLX2wdfQbDdLKHuzgr98WBH3CAcAeIZGfiM5xsrhogRUcAUs/ZLhX6quyKA8vigLrPqGsRDggKcR+my18m8mxnkNIgDWA69F/vh4MD6kLqBvsgAaQpwbQJ+ds0gLSnPfnZzpZHv75PiAbpMi4s2o6Wad8KIJ3GmeW6D+uSOmLO4tKyiy66aPTlL3+5gZM0SI0Li9SyVieZ0JBnaaDDmcB+tEUB+rb9Uxr5n//5nxHZ6POf//zouuuua/QCQ80D3ShuR5GjI1w05XfCCSe036mnntrOh+cvgKK0/fLeCFrSX/KZfCcZ7nHzLO+hJ+7xGzv+Mlb3bTt+DpuNB/iSetpvZ+fOTOPnsnilLaFHun25Liu9irc4UBwoDszDgY0FSL/whS+0jlXnbsDUwa66g5+H0eW3OLBKDtAkoC2QW3wnTYJWDZDKvy320SBFkzYb2lbJn0rr8HEg9S0536nu8R9hrM4gDdcOt506FIHuDW94w+izn/1sAyJ2mn/0/RxgwlEjwIq4J+5pHPbd2etXXnnlNC8/4p44aZFJc7tzNUNH8sEOQJrLMX8kgTV2SH6QmDwNyQ1/YvvujMd12mIPCAPGzQvAffWrXx198IMfbOHk30+9ZfRrPX/2ckmTeMXlt9u5uLBoOOmkkxpoEvp2Kjd56fMxzT9/8xrxDnkmDu7AyEsvvXT0ta99rYGkFDWATlHYYDN7pSd5SzxsbnG3aHerW91qdPbZZ7f2DUzXVr/3ve81P9/4xjdG6oF2zFaPXHxE45QGaoBWz8IBUcWnrwC+ulRTuZhH2sLPDYgKaAW89kBby/D4L7RNy3++Jy+9v+Qt4276WX4i400Ll3i2i5+fZRnpppxmeQ4d0+jt4+C39zcpbNxix793z3gKlFQn9Avu83ARljqDt8o3fO/DJr5F2Sk/aRiXHvjAB7b6NEwTTQG5F5V2xVMcKA4UB2blwEYDpJlEzZrZ8lccOCwcMIkFRAYgnZTv/QBIb3e72zW6TJIy4Z1EW7kVB9aBAxF4CiBdh9JYHxoIc35ve9vbRhZrv//97x8TYHsq9XH85YzCCHyABkAcgEEdA6iw/YaCYuLjvkyANOnERssmA6TJx062fGYs8hwNUouM+2mUN3oY9AW8mJUmwD0N5yGwKt7h3Hm3AGnqauhEW9xmpZM/4QOQZqv6TvEkTf7SftK+5kl7N36lBxx1JuinP/3pxk9gI8Ay/MZjNO6Uj3nTT3ziThqAzJ/5mZ8Zud0ebfiADv1LX7eF9QOSatv6LeCoZ9v1HWFmlx4NVICqvo3tKAF5s33f3FLbkJat+6k7wG0L4NwCnErbL2Xa12N0MmhFU76FZynf7fgjXDQR520f28W7l29oSh7EMy0f8bddWvzEXx+PspXf8C7pxS8bfx3LABSnVQwU/9KXvnSsbIH86qy4aMv//M//fAPIe3rEswyjrNUR8bsU7773vW+rTynD1IXYy6Ch4iwOFAeKA9txoADS7bhT34oDG8qBAkg3tOCK7LXiQISSAkjXqlj2jZgIoBHcAAi0cLhHuBsS5xuAQBgmNkBiHiOeAkjn4dhsfrVxZcL2W0eAdLac3NjX5z73udE//uM/Ns1AdcdP/tjqKjsmINdeQGFxAqv6up74d7LRAnADsmXRIG1sUtg+L/K0X8aW9re+9a1NKy/8xAN8ZAOppvULi6C5z7tLo+5zn/s0wDLuoSlpxT3vsfEarQAzW/MBpjRKAWyOFAhYClTTBwHd+HOeKZAOcEqrFIhK+9RRSjQS7WKiKa9saacGOJVuX74pz9CDFm4BAD33fJSPPrxwySv35JOd58S9LDt1X/yhQdroCm15T/vraev99OFDLzd+EkYctD+VlfIBbAO4vSsfbsovZ9XyS7PYeAUYJyOkTGgNP+xhD7vRDoOkE7pCxyJscaIfzyhxOOLhnHPOafQoe+XO9M+LSLfiKA4UB4oDs3KgANJZOVX+igMbxIECSDeosIrUteVAhIQCSNe2iPaFsAjDEeAIfJMESfWHYBuBTzjvtHloaXlnUs+2y4z4CyDdjkO7+5YyYvutI0AawGSeHKpfb37zmxvQ1YMrASf6+rpbgDRxhT42EEy7mMfgewDSaBvOEj55EN5z6Jkl7G79yFvS065pkb7nPe9peeaOB/LAn+ce2NttmjuFk64073SnO40e/vCHN6CyByMTPjzi328nw78+isapXwA3oBvglJYyTVrAqR9gDgAHcBM/zVMgnKM9PG9tbbXfiSee2EAxQKoLRfExfOp5Jv1pdPrG+N4/D/PkmzjTBw+/L+q9p7uPs3dXJ+QzNCd/yWNPa/KE18DOaPi6qAsIiv94DvQM8JmjE5SVcHhv1xbN3vAf7wHbfrbbX3HFFQ0w9T1tL/T0+VjUs7j91Ct1FH+8//RP//Tofve7XyvLfA89i0q74ikOFAeKA7NyoADSWTlV/ooDG8SBAkg3qLCK1LXlgIk6UwDp2hbRSgmLQBvhVeLqSNwnERMBkL8IywEVaGxxTz2bFD5u0iiANNxYnJ1ySTnsN0Da1y25TN0Yuu/EAQBpNEj7Opi62se3W4AU6NSDoWgNCLQTff134YBqJ/1Qg9S3tJXeX56TB+/SQ0fyE37F7zLspGl7Mjo/9rGPjT7+8Y830AodvqMDwOP7skzyLP6kZ8vykSNHmhYrN7/wK8/8b+fme8wwTIBMeadlKn8AOn0Z0AuIqp8C0rH9uHnPlv6ck8qmbavsAeS0TgF43oF7jiIB5NFOpWkYsDU8xWdxAwaHdHqP6b/FbdG2M1lDn7iTPj7jWQ80Ay+BnNHmxL/rr7++gc3cnA8KAOUH38SlLtkK70dTF7gYLVDp4pl2jE946Z0f4LSf8GxufuhShs60/shHPtJA2PB10bzp40u9wxPlLy/SRfcZZ5wxustd7tL4KM/hYR++nosDxYHiwCo4UADpKrhcaRQHVsyBAkhXzPBK7kByIBP0AkgPZPHuKVOEOkIegW87ow5FKIxfAvDVY+0foEIAB9+2i8/3Aki34/TuvikfZcn222+ANLlQ3qkv3FJP8n0nu99i3+dvUr3dLUAKYMmFqQEFAUHzausJAyijxSaschBfn/8+v9zxw29rrJVIc3KV2mZ4iAa0hp/a8zvf+c4GbgF9Ah7OW259Pvvn8AJvhoZbylh6zjcGNgEc9wIeSzO8Tj6957lP13NoRJ93ZZi60IOZQD9AoG36FotonuIfO+efCgccBZwB9sxpgX60TgGngLSTTz65aVbSZBVn0sUD6TOhN+/NcQl/NGH1HT/5kz/ZNDMdvwDkzDmuNEABudHyBIqGD8YBIOfWuC7LG63PHFMQsFP7kIbvAE5AqTCp9yn/5DPtMO/hRf/OTbkYV1w6Zpt++JWyHPrfK+vEmzaRuOVfm2GUqfN0Ac7J217TrPDFgeJAcWBeDhRAOi/Hyn9xYAM4UADpBhRSkbj2HMgEvgDStS+qlRBImFQnCHgBCWJPIoAwyH/s+CE4A7AATAEQEk8E0/iNzb0A0nBjcbby6cGF/QZIh3UlOZ1WL/J9aKtf2WIvbOJlq799fLsFSKXpRmz8U5fTXw5p2em9byPo6kG9SWHRDwDi9/73v387PzHlGPBlUrhFuEkz+ex5yA0v3v3udzd+AHf0F4syfVriDA3s/puyMP8DNJ133nkNYOxp6OmPe9xixz12+qa8x45/NhNaQhs33/r2lW8Jk3M0gYVAw2wfB5y6XMjPsz7T9nIGSCiPAHVgIc1UgCFNUz/f2UBF35NmC7ykvw984AOtDShzP0BoNGtphwLMAdYu1GLb9p5LrQDBaAZ4ygdw0A847JcxAs/8UsfxNSZu4Wvy3PM+3xIHOhO3S1svvvjiFj/3+E08SWevtvjEnTqVxRH88Q09D37wg0dnnnnmjfK613QrfHGgOFAcmIcDBZDOw63yWxzYEA4cBIDUBMrk1mRt0iRvQ4qiyNxQDmSybjLvAgxaLBFCJmWpFyjyzF8EAjbjW56bwx7/xDeMc5Hx75G8jQw+qfxkZK98TbyE/auuuqoJ1OpU+rftmCXspgGk+IVuedSP75V/2/FnL98irIsDQApYAlTMY1K28upZXvt454lrEX6jQUo7K/SIN+URerntFiCVP2dwAkf3o3zlwQ3Yymu/DVpsnf7EJz4x+uhHP9q2TKcO+Ab4CY9SR5ZFc9qZcevss89uQGHfz/geP309iNuy6NopXrSgQb1Sp4Cn6i/wDJAGcASW0sak7UhLExDJBkLSzPee+ijPxm1gozmxHy1MbdtztDJ9H/JnJ1qH321T1z+jnfanegkMBXrSAgXYSjPb3LNN3hwXmK5+rIr/4XNsecHrT37yk6PLL7+8afKmXgzratyT/0XRLN6kpVzwj5YwMJnpaZXmotJNPsouDhQHigM9Bwog7blRz8WBA8IBE7E73OEObfV52kTCirGVdxMzk7pJ/kxK+om9FfwvfelLbdK6G1bZOoQuaU1LM/H6XgBpuFH2qjmgjqr72kABpKvm/v6mp8xj1IO8T+oj428WO/EUQDoLt1bnx1hDOGcKIJ2d7/hWAOkP+KVtF0A6e92Z5BMPMzcsgHQShxbjFj7HFmsBpIvhbcVSHCgOHAwOFEB6MMqxclEcuBEHDgpAmlV92gG2YBHIyhQHls0B9YzwACCluWIrnLpIA2iS4Td1NQsKtv/d8573bGdr9YJI/zwprkW5SafM7jiwSFC0pyBlctABUlpatKbSJrLdOPnvebKfz+jJIohn5e6cw5/6qZ9q7vPQRgtNm0/d6e154lmU39IgXRQnZ4snIDv7mmuuGX34wx9ut7yrX9k+rE74LdskDXX6Hve4x+g+97nP6IQTTpiYdtpkwiybtu3iH9KSNtmH4RZ/+pc8myM67/Mtb3lL0+SUn1xyxPajgUr71JgurAX4I+MLrZzZSrMzcfXpzfoM0I0mqLgf+MAHtsWW448/vqUnrdAeusPzuEuLW9xnTXtef6mrwkm7T4+G7tvf/vbGQ3RmztP7mTe9Wf2jBZ+Uk/5UncVH57rmMqch72aNu/wVB4oDxYF5OFAA6TzcKr/FgQ3hwEEASCO4mqA5h8o2qggaG1IMReaGcoAwYLKuDtripz0RqghAkwyBwzd+hPFuUv/oRz+6beMTJgLGUCCZFN88bolPmkwJEPNwb7rfXjDEY3xNGU4Ptf0X8TAHHSC1LdLFOenD2fi5V/5tz935vyqPtNe0ebEAS+Y1AOGTxrewqycxPRARt1XZBZCuitM3pJM+Q526enzpEKDJlu8Acmn/QiyzLSRu6RmX7njHO47OPffcVq+9T6qX/CbcDTla/VPPoyGf0I3GIZ3chTM/dBbov/3bvzWgjUav8ZutbDwD3+ycyhmhp5xySlsQSf+e9Idp7MQJfAWSps+zSHTaaaeNjowBWOCeeNM37DaNnWiY9bv05Y+duuAd/QBKu8ve8573NF6heRX0hh7lhAYGPY4reNSjHtUW3OYtk1n5Uf6KA8WB4sCQAwWQDjlS78WBA8CBgwCQZvJmwknYc8OpyVyZ4sAqOKD+EQ4ilEkzgsIwfe4RPCOsAUse97jHNXDVxD6Te37zPIxnN++hSZyTnncTZ4X5AYAx5Odeyy3xHXSAlBYmrayYvfIt8SzaVh4BAHqgIOU0T3r/7//9v9Gpp576I21wv/JeAOk8pbcYv8Ad85UslH3mM59pF9+4sb1f3F1WnUi9Tfyp32jSHh/ykIe08ShAXcY2/lP/F8OJ+WLp6e6f+1jiHjfvfmjPzze8duzDFVdc0YDQ+En42MoogKYFEWUHyOTOhIftZYa/xJtw3sV7r3vda3TGGWc0jcjwOPVEtAnHTtjYMyS7Jy9JW3pJH21+ziL1c9brKswkWtI3b21tjR7xiEeMaOMy6nOZ4kBxoDiwTA4UQLpM7lbcxYF94sBBAEhNgkzUTJKuvPLKpkGayes+sbWSPSQciACp/kVY4UbAmWTiHuEYWOq83cc//vFNIBUm8XiOMOJ5r+ab3/xmEwrFH0EHrWgvszsOKJ/0P8oyF2ykXuwu1huE4cMAkLpgg8E/Zrv20zzsw1/fbiXvPW2ob6+zkOaiIwCpdqfuzBt+ljTm8VMA6Tzc2rvf1B228mc82/btAp/PfvazTTMOKJc6svdUbxxDDzL5krqcZyDpAx7wgHbxTWhc5Fh0Y2p294Znk4y89G2Kv74/Tt6F9e1Tn/rU6IMf/GC7vAnPE68w4Ysw6Ze4ee7H/El0THNL+n180nThkDPMHbdj4YjbMC/T4ly1Oz7R3kz9tN3+He94R9tuL39oTz77slgEneGbtI0Z4kePZ+nqX9VdWrkZUxaRbsVRHCgOFAcmcaAA0klcKbfiwIZz4CAApIrAZMnEiSaGyZr3TNA2vIiK/DXmgHrWCwremWlCgQk78N53mkI0R3qAVJ3tww7f98IKx09oG0yEDHaZvXFAmdqSScA98cQTm3Dbl+FuYk/fddABUtvNAaT4hY8EXc/rVi+BRAFPPIe+gBjzlDEB3tmladsZu/ZaZ+ahofdbAGnPjdU8qzepQyl/9UFZvPvd7267YPQn3NIXLJKyxNnXOW7e2W5vP2m8s+G8885rGo2LTHsvcU2iW3yhfVrc+M3geXiP7wF//+u//mv0L//yL20BkR/xJa3EKRz/eGQM974bAE54YdloMAcwF2Bopt797ncfHRlvt7f1ngkd/O+36Wkx5qE9tu32F198ccsbf/KG5kXTLW5xppzCy5QPWx/r2KLb3va2+82ySr84UBw44BwogPSAF3Bl73By4KAApErPpAlA6gzS0iA9nPV5U3Jtkh9hzRmkNEhvcpObHBP0IgQsMj80kwCkEViWkcYi6d2EuPAyAprnO9zhDk3rKjzebR7EqX58/etfb5plhNAI86k77GnGMSOf//znm+BNiN/OrzhSF5yz58ILgu+sRl5dbGKragT9WcPSlKLpI6975dmsae63v36L/TrkGSj3pje9qQEdeKMsjJ8Bg9TF1DnAw8knn3xM231WXoqjbrHfmVv49OlPf3p06aWXNo1GZcCNUS4BU9Ub7suqP4nXxU1nn312W/zh5qcuoCt9Bjsm4fK+znboxke8/cQnPjG67LLL2iWfvnEP/1eVL+mghSbpkTFIqh/2nvTZoRtv475qPqMhtISG4e32aOIvPAyNPf3cEj7f92qHLmeSPvShD21gKT6mHYWmvaZT4YsDxYHiAA4UQFr1oDhwADlQAOkBLNTK0tpzwCSd4GPSXgDp2hfXVAIJY8qQ7bcogDRCJICU5m80KxHim7SmGfRce+21TRstQFdonBYmcRZAOo1Di3NfN4BUHQMO9Rqy6k0PzKT+0JY3Z9iu/k3ilPAFkE7izA1uafN466igf//3fx9dPb7ASTlYeLDQ4VvK4oaQi39K+aKJRmNut0fL0PR0D7+t83v6vNCozuO77fb6T6Aa0C8A36S8J+wibDxPf402W+3vf//7twU3ZR5t1dDda8AuIv154kBP+BF6Et4irMuvLJgx8iRvqVPxt2g7dEgHfd5dAnjf+963Ac7o7RcLl03PovNX8RUHigPryYECSNezXIqq4sCeOFAA6Z7YV4GLA7vigMm7CbuJfAGku2LhWgSKMMb22ytAGiFP5tQN58bS8JsEkPI7zdCiJ+wnPnFtJxDGXwGk0zi6OPd1A0gBGN/97ndbBtUDgFAAOY7qTkCi66+/vtVJGs3zGHEUQDobxwBfjDNJL7rootF3vvOdG4FMAaayhXm2WOfzlb4i/Zrb7c8666wGOGXcyrfEnD4k7+tuq/cBHdVPhpt+85JLLmltAEAafq8yP3iLn44fcenQzW52s2PJc2dSRsc+rPAhZc3GOzxCj3HKIspXv/rVdibpNddcc4x/CbMsMtERnuivAiDf4ha3aDw0tunX0MfE77LoqXiLA8WBw8GBAkgPRzlXLg8ZBwogPWQFXtldCw4QFiJoFkC6FkWyKyIIWRHMPO8VII2wGWLctEzY5M6oNzsZfoArzoRLfKFxWtgIrwWQTuPQ4tzXDSBN2cthnlNvuAWI01994xvfGP33f/93u/Xbt1mN+Aog3Zlb4Tsb3//1X/919IEPfKCdTen9f//3f9v5oAGxlwne6c/UB7Q4D1Xfds455zQN4gCLqS9yFkBq51yulw95YNKXy4dzYGmSOhM0+cKHZRp0SA+Ip3wtQuA7ntPgVdYBIHu+L5OmneLueReaQqPx513velcDnfEOf1dhlFc0RUPTne9859EjH/nIVnfRssx2s4o8VhrFgeLA+nCgANL1KYuipDiwMA4UQLowVlZExYGZOWDibpJusl4A6cxsWzuPEarZfrsFSCPI9YKk+Ah73OY1H//4x9ulI8Knnm0nFCb9Akjn5fT8/tcdIJWjYb3mpo64NOxLX/pS23rMbVajDhdAuj23eiAu/QnNXgDpVVdd1cBp2m8AKGa79rx9StO/KmNG+kz6hbg7k9S5juaNQLy48x+/LeAG/IVedRMvw3/297///QZOOw8WKE2zVH6XbXq+S8u7C7Me9KAHNW1SmqRoDe3xv2y6psUfOvI9POQO4P3Upz41+uhHP9oW+bjlx/+iaRd3X47eGTbA1MV4znY9aXz5mPdFp98Sq7/iQHHg0HGgANJDV+SV4cPAgQJID0MpVx7XjQOZzBPOCiBdt9KZnR5CljJk++0WII2QnpSH79zVmVmEOv5o79ieG7oI+NsBKom7ANKUwPLsdQZI+1ynTnDL83XXXXfs0rDe707P6nMBpDtxaXRMQxC/8Fyb1YYvv/zy0Xvf+952vEHAHW16lv5g51Rv8CFNpo83dKAFXbbbP+xhDxv92I/92LEt6jfEsHlP8pc8suU9/HeOpu32wD5uyzZAWOWKjgDQAf3udKc7jR7wgAe0m9l9Q892ffqyae3jRy+Dd3jl/Fb5UFctqrgEjvY5f0BU/vo61se12+eUHRtf+vfESd752Z/92XbR3CoA76RbdnGgOHBwOVAA6cEt28rZIebAYQRITZz8TN76yeghrgaV9RVxIBP3CAnq4G1ve9t2i722OI8hYKjHMTsJHHWLfTi1OBvPCapsv90CpIuj6Acx0dr5p3/6pyYohr7t0ogwue4AaUCB1Hs2rTrtaVPMCSec0AR0eQkIgvbt2m/yLZ/6kO38LpIP4bP00ADk+MpXvjL3Fnt0f/jDH27bh4258pC+cBK90hOGxtxNb3rTPYFT4pKmbbYuHArvYg/Tl+fQJs/Sp8U3zf8w/KLf0eBn2zeQGW3qjTyhybvvbO80TD0v0wBJzzvvvLYFXPtDi7EsdOBh+BW3ZdKzyLhT59EtX7aJ60/D5+QzbXGRaW8XF35ubW01vjtXc1jG4TO61gH8Sx1wZMAnP/nJ0aWXXtrO03WMgG99HU6+w3vvqT/5tls7/MAfZYeHj370o0c//uM/vtsoK1xxoDhQHDjGgQJIj7GiHooDB4cDhxEgNfEyacoEjO1nAhW3g1PClZN14oA61oMiBAIapE94whOasInW1MFeWJiUB/7iJ88JO8l/AaSTuLI3N/xOv+G5ANL/by6G3upWtxqddtppx8CdnQKnnqv3AILU/9g7hV+H7wDSU0899RjtabPT8hB3/ob5X2Z++nSTjhvvnUFq2/E8xnjrZmtgieeATcn7MK7k8yd+4idGJ554YtNIm+Z3GLZ/l4ekBRyh2cYt8fd+8+ybX+i8/e1vPzr++OPb+ZDxs2obzbbbv//97x995jOfGTmbmBsAT/7kLYDpbvg0b36MYS4Qcj4mAFmaGdvEhbaYVdCTtBZhp9xTT1yU55gDfFfvucsrvq/a4KUxxjEH6qT30NnTsl887/kSutja/X/+53+OHP1y7bXX9qT+yDP/zCLzIK6Uq7qrTd/znvccnTTebu+cV9/9evp/hLByKA4UB4oDEzhQAOkEppRTcWDTOXAYAVITMJPb2CZFfouckG16vSj6l8cBwmy0fNS7rbFGw5Oe9KS5QQD1V53tbVRPq8cFkC6+TCNUsf0KIF0NQIrX6b/Zm2Rufetbt/Pw0Ny3XXmaxeyHEJ80AaTOILWNdh4DvPuP//iPY+c55ibpaWWX8rV4BMwAbKJhtybjvfCJezt+849mZmvcP9/mNrfZN4AUj1JP8IA2Hl7S5JUHtBpPjCuhe7u8tUzt8U86aAGSnnnmme12+yz8odX3mNCe902wlX1A5+TVMQe0IOVb/Qe4qcfyt0wjPbSEj2gD7Nluf/LJJ9/oW/wsk57t4u7TR7d66IdX6sd+3G6P3pSR8tJW0ATYp1V+1llntTN1k69lt52kU3ZxoDhwMDhQAOnBKMfKRXHgRhw4jACpiVsm8yZDJk8moLbz1eToRtWjXhbMAfXLLwKYuggwMUm39cw3Apk66Vuep5Fhm1ji7IWTSf4LIJ3Elb254X0vCBZAunyAFM9pJNGiw/tNM7RmaUXGyE+0m+LW26lf2vrNb37z9kmYZZuACklHmrbYX3311Y3/cZ/Flr9okGZxSHzDNBJXQKmtMTh5u9vd7ljfmO+z2tII0OlZvAx6vE8y+N3PD4C0+mgg7X6Z9O3oZq688srRO9/5zmNHHeR78pt8LovelI+jB2hDR5MU3/CvTz+0LYuWVcQrT+otnttub96sLNStafVoUXRJO2CtOPEYf4H2j3rUo0bONEYHd7QM+b8oOuaNpy93z2gEUO7H7fb4orzwiEEPo02fe+65o7vd7W7H3Pq62zzVX3GgOFAc2IYDBZBuw5z6VBzYVA4cRoDU5CgTfBMn78cdd1zT/gJSlSkOLJMDEWAizBB+TNRN3tXF1MnU02m0EE5pkNzkJjc5FkbYaaYA0mmc2b17ypDtVwDpcgFSbYJxWRBNRrdN79ROdl+6ywlp7OnBjLT75G1SqurWfe5zn9G9733vtiWUX26rMtLTb11//fVNC2zeLfbCO0MTSJJ8oj/Pw3z4Jj2acj1AOs3/MPzwXbjwK8/T4hr6A5DupwZpxgt2aPu///u/kRvWbbnXFgBPAU/Vr2l5G/JlL+8pI3E423XS7fahJXTvJb1VhQ2f8RD9+Mpmvv3tb7fb7bPdfhU04R1wVj/hpw2ZM6ALOI3vt7zlLZsbetaB12lj4U/qMHfat6u83T48kXboCF14ZeHpQQ96UBu7c1xEvpddHCgOFAd24kABpDtxqL4XBzaQA4cRIDUp8stkyeTTofdWkQsg3cBKvEEkE7Si7RE75PfCmLrJcDOxn2ScnWWLGKCUv9TnSX65FUA6jTO7d08/kj6lANLlAqT4rD3Y6v35z3/+mAYd900x2ilww1jTt9lp7Txt+8EPfvDojDPOaIsp3FZh0Je6LT3v84KjwgGyX//61zeAKUBFgGHfh0aaeGQByBZ7AGDPq6H/7d7FZYwXB77RPgYwTeM3d7Qx0pS+c2OF3y+TvCcf6MCfj33sY6OPfOQjTbNXPv9/9s42+IqqjuP7zhcVhhoSmYCMkaAiJJASiICEDyU1lplvbKrBpnHGaqbMqbGmR5sm32hlTa+akAkscQCBFJFCBXNCUlF51tTRDEEye5mfH33v//yX3Xt3793du3v/vzOz9+w9ex5+53vOnt853z0PyM7FfZkmxE71GDJ78eLF9rEZfCVzFfIUnde4zGCt+kr92bFjh82EZEZ12ViDIzqedCl/7iEZwR25OORx9uzZ1hfo5T0pGkPiUz0BI2TmQ7AI3vjp9uQT/7yjqstFyER84KQ4sUkL/PjQAGaU7TnnnBPNnz8/GjVqVBHJehyOgCMwQhBwgnSEFLRnc2QhMBIJUpWwOmPYLF2kg0SnyY0j0AQEeHc5TRibTn8nk5cg1SyVN954wwYtGtgwuHBzDAHaDgZXYANhzVLcpBOGhVfY5qjM3nzzTRvkFrWEl/JhAL9mzRobGJK2BveSI7TxjyxcnGLP8m8GjZIv9Jt0j7/Dhw9HO3fuzL30Ou8hTUqfvez279/fIkjlPsg223Awi5QZ400zEDt33HGHEaR5ZIecnDBhQotMzlon86QR9xu+o9yTPsuY+0mQxmXkP6QP8umEcMge3DC80yLR8QNuss1DST+0H0uXLjUCGiIPI32BPKEMoYwliVN4tJKZ+syBQw8++KB9MCBvPENn8gy8q6irpEF6tNmczA6RH8dZZaD6UDgoOSNUHYDwVd2lj4H+A0N0FXkK5SWMTFG4khb9fYhb3m3SY6sIyGbJqHSLSlN5cNsRcAQGBwEnSAenLD0njkALASdIj3XanSBtVQm/aQgCZROkDAog/hjE6NRk3DRoaAhMpYoJFgysGGyBjYjFdgMqnuEfI3+XXHKJneau/+EATW5ZM0JY9slbu3atDTZFpKTFg/yUM89ZsgkZJHIjS5qEc4I0C1K9+XGCdGiJeW9Itg+tdxqba0JNCVJyAZGEgazbvHmz/cdNeeCZ7tVG4VaWoS3h4CbaM/Z0VzsH6YVBFpm09kjP62aH+CE7ODN7lxPumSGtdlR5rUJ+8EQWbLaigODTbGfc9Bw//cRbcoCJ7rEhSXW6PR+9VF9Cf8IR/5ii8kFalBW2PgazxJ7Dr1iZw0xSyhSDH92bg/84Ao6AI/B/BJwg9argCAwgAk6QOkE6gNV6RGSpbIKUQQGDEZZxvv76660BggYqIwLkDpkEHw34dN8hiPnHD/418Lriiiui8847bxjGPO/WQJisXr3a4mMgr+WYSfGpnBkkskyWATZ1S7PRksKEbsjpBGmISDn3TpA6QRrWLLUd+gDCKeuPPPKI7UnKM5E/tE8i7cpuu9VmMZOU+sryb9KEXFLa8hPmpSn3YA2WtKnK0/bt242gZrk9H8gg/aoi08CUslb7zl6k7FM8ffp0c+M5eEvufuEsOUhf+iaUC3J027ZtRpYiK8/kryyZSQO5hCHlSrnhzofCJUuW2MoyrZwpSw6P1xFwBJqNgBOkzS4/l94RSETACVInSBMrhjvWHoEqCFIGKQy8IcAYSGAYQLg5hgADKhEUGnBp4JyGkQZlEJKauclpxB/60Ida2OKnW5wpM0htZpAiC/81QyZJJtLhIh8T3p4td9ppp5l/kSpJYUI3wjpBGiJSzr0TpE6QptUs3nHeX2bjcRgWM/5F9vCMd7SXNiUt3bi70qHtgCSdM2eOtSdqh/DPPQa5dG8ONf+RvKEe5J6tDfggtWXLFiNO1ZZWkR3SQi7Jxn+2LfnoRz9q+Gs2MQSq/FQhV7s0wnrIPToQYhmC+Y9//KMdAoes5KVsQzqhbqQ+qnyZBT1r1iyro02qp2Vj5vE7Ao7AcAScIB2Oh/9zBAYCASdInSAdiIo8AjNRNkHKIJfZMOwtCQGmAZYGECMQ8sQsJ+HRbnCHf65w0MUM0hkzZrTiF9Yth5w3f/3rX20PUoIhC2kRZ5LhOc+4OGRKh+JAuGQxhHeCNAtSvflxgrQa0kTvpt7TCW9/NKjjHqTUJt5R2mm1F+xn/Kc//cnabB3k01utyxdabYk+rkCSXnbZZTYTj5jAFIM/7rGbYtCFEI3hjELlgSX269evN6KUtjZs28vOn9p26gLyUe6sRoAkZcm4jGTV/37Y7WTgGR/2Nm7cGFGPyQtuZRlwg0Cmrqo+kp7wZDYus0iZTdpO7rLk83gdAUegGQg4QdqMcnIpHYFcCDhB6gRprgrjnmuDQNkEqQg1Bi0QYAwiuOReGyD6LIgG+eHgSm5x0eQHmwvDgOzyyy83gpRwchfWPM9jCM8BRhzKpaWglFmaTMStNNk3UOnJ7pQ28TpB2gml3p87Qdq+DveO8LEYeBeo+9hcE2pKkEq+8L3GjXfxz3/+c/TMM8/Y7EbcMMrTsVyW90t6yER6kHYcfslsPA6xY7YezyVLKHt5EhUTs3AkNuQO9SDP2IaGQ5v27t1ruFeVN+GNXOANxuALscdSez54sad0VfIgRycjLLHBEZKSe0jop59+2ojSl19+2Z7hzkWeijRKV+UIPqQT2qNHj7a9wTm4KSSbi5TD43IEHIFmI+AEabPLrzTpOykvKTX8oYjqpKRLA6VBETtB2htBSn3WLA7qOvduHIEqEOA06w9+8IM28CQ9ta9pbSyE2auvvtoauNIma2CSJi9+mI149OhRGzzgjzBaGs7/Tunix80xBIQV/ygnlRWzrNg7TgbcMTwnTKhHFUZ+i7QPHDgQvfLKK0asZo0XeepKkIIdBhnBUHhmzVsd/PG+QXQvWLDA6gjvPfUjrR6EdacO8iMD8pd5in2YZ91DFIXtVFYsCA/mqivso8lFfHkM4dU3kE3caeWWJ+52fkmDfPNh66GHHrIZheCP/HofCK/8xd3bxd3tszPOOCNauHChLf9mOTVGmHAfxyVs83jeBEN+IPjC5fbIjTt5pkzi+SwzX2Cow0fnzp3bIqcpb2Evu0w5ssYtbMCQGbkrV66MDh48WPnp9shBeel0e3C84IILovnz59usVvIT4ia5s+bT/TkCjsBgIeAE6WCVZ9e5SercqaOFjbLgYjCCrRks6nCiWDD4TYqra8E8YFcIOEHaG0EK6NRzjDr1dEDpDLtxBMpCgLaTGTksiYYwEYHWLr3du3fbPl9qo/GrNjstHH7jBCn1nHC06RjV/7Q43H0IAXDjiuvBSy+9tLUHqfDEX5JR+WUp86Tw7dwGjSAV+QPe1FtMWHfbYVGXZxqMX3zxxTYjLOtMJtUT5TmtPlWRz7IJUvKm/Or9oX1SW5Unj2EY4uV0cPblVXuXJy7KTrJ1Ez5PWqFf+h8QTevWrbN9SennsS8pxI/eA9oPyVd23UBXgSEfgk488cRh5SJ8kL+MNi3Epcx76h15eeONN2y5/a5du6xOkifKI8S+TDmIW+VJuieffLKdbj916lRLVu8Hz2gfQ//2p8IfYRYmiRt198knn4w2bNhg9zzn/eGZ5FcY/Vee5d6tzTtBWWGzzB9ZmEm6aNGi6MwzzzQ33iHKlXYNv24cAUdg5CLgBOnILfthOUcZhYqIe3W4Qo/yo04Y4bgvWpmFafp9fgScIO2NIKXua+Cjuq3OU/7S8BCOQHYEeHcnT55sJ44TSvVPbW88JghSZgfGTZp//BFnnCDFjbY8qd2Px+3/hyMgfQmGGvDhFu5ByrO0MpF7Oz/DU8z3b9AI0rJwyodqb75VZ+a/PYOJg7wgSNvli/eSMLyjMv3WSWUTpOQTTNTHhNRg1juzwLox4CfcTzrppIgrxDNLnHy4Gj9+vBEoikvxZgnfrR/VDcpcy75p+8GEZxjkkJF//S/DVhqQdCy3ZysPTIgpfkL5QhnLkKmoOEOZRZixUoPl9rSnHOKEHxFv8l9U+mnxKD2eQ0ozg3fC29tF0G/AqE6GZWAPKvwBC5Uz91ySh3eXQ8eYkcsp9+QHv2GYMkWNpzNq1Cjrb7G/66mnnmpyVilPmXn1uB0BR6B7BJwg7R67gQqJQuDi66M63Sg0OmKcQvjSSy9Zh4CvauPGjbMvbgrDgJB7jJThQIHTwMw4QdobQUqd5j3gwqh+y25glXCRG4AA9U0EKbNz1Ma2q3cMktnXi7aZ9pc4uGdQl2bwFydISUPtN20/l+JLi8fdhxAQftjoUfDTKfZDvobuKKewXMP7IV/F3A0aQZrWPheDVjWxQAxgFi9ebPvUsp8gdaaT4Z0ss650Sj98XjZBSj71npBv+qN79uyJjhw5kgmrUFbFozh5po8Zob9O92PGjIk++9nPRhArxFV1eZAeF0TTjh07om3bttlWGNQd8kOZVCmX0uKj3oUXXmjbFkh38IwLUzVOncoxy/Owzsg/Bw2xzQH7wYrco71XPuWvDJs0kIl0mQXJPe3GueeeG82bN8/cVA/KSL+bOCl3DLJzj8zU06pPtydtLvpGlBcGrHhfTjjhBDuwjRUfbLvBRwfwdeMIOAIjFwEnSEdu2Q/LOQoXpYVSeOutt6Lnn38+2rRpU8RyEr7Ys3cMio2LmQ4oEfbJ44Re9iEiLM9QOFV0FIYJ73+OQ8AJ0t4IUjpQLFNShxRbdfw4sN3BESgIATrwtK+0rQx8ZHBPMyJIqZ/4o8PPPVeawV8SQRq24WrvvT1PQ3G4u0gBlRX4c0gTB2rI9AvLQSNIwRgsdfFfuAvrutv0tSC5WOI5c+ZMG7jTD2MAn2R4H2Woaxi9r3Kv2i6bIKVMlUfwYpkzhxRBlOYtb+oKYVRnhGfeeFhSDkGqD1hVlYNkD9MDj6eeeiravHmz9dHBiDqktqjs+oBMIutIiwOEOGWdmbkyodxya4ItuVX/kFn3bGvANgc7d+40Pav3sex8IRNp0T+VvidN+gzMJJWukexly9Mp/nZy8KzK0+1579WvR27KkkvtMHgyk58PVhCm7WTvlG9/7gg4As1HwAnS5pdhITmgk8MXPTpaf/nLX+zQDzqhdOBRFKFB0WDoIPIVHZL04x//uBGluLnpPwJOkPZGkFLvqf/hYEr1vv+l6xIMKgLUMYh59sfD1sAr3gaH+WeZGgNlOvi0x3TuGQgobOhX98SXRJCiBzTw4p52hAMh3LRHADzBmwEXhnvIo1mzZhlpAJYaXPOccpZfBmgsTQX30A/+ijKDRpCGOHEPqchyU+29VxRuZcaD3NSDKVOmRJMmTep4IjV1DP+yyTPLvfuZ57IJUvBXfnmnmDkKIQhBldeAHYb4MCGW5pDx573vfW90zTXXWNuotlLxZYyiK2/CgcC6p13h/pFHHom2bt1qM9/Uhqt+dZVYjkCUS5gmy+0h6yDtqKPhuyq5c0TfN6/IKhPKzT3XoUOHogceeCDat2+ftfXyW6YtOVR3SYt78GdPUg4dOuuss6xd0LMy5ckaN3JLHmSlzuDGTM2qTrcnfdVV3QtPEc60pdRfiOZu9ycmbjeOgCPQfAScIG1+GebOgRQqNgqBTufvf/972xOGDbQ1uEZ5cEmZca9BnBSL3Njsevbs2dGyZcvs6zGdIi4G63RmIU7x66YaBJwg7Y0gZU9HBmIY1duwU1pNKXoqjkB2BKifzICAKOpkqNNxghQ34gjNKaecEp199tmmA+Tu74GQyGbHMY2Hoq1mUIauLMOgh1944QX76Jn0wVNpoue50P/UBXQ9H4nYL46BbB7znve8x/JEfJ3yH8YL2b9//36bDRe6p90jJ2lgWN5bFoZp6ffinoRLkpvS0Pspmz4V7yYEe78M+zDeeeedrY+JKg/sJEN/k/o1ceJEW9KqD+pZ883yZggVVjX1y0CQMoMUAlD5bCd/FXJCVD/22GNGlNLfhoQSORmmjztlILnDZ0Xes6qMw8fGjh3bIvBpe8L3ExmEW3hfpBxlxEX9BUMMHyYff/zx6NFHH7U2krZIBCA2bS/lUDbewo+2QLN4dcgjz1QfsGnX62AkM7ql3en24UeIEEfVnV7zAibUS+QgTsqMbTQ4eIy9hpV+Uen1Kq+HdwQcgWoQcIK0GpxrkwrKnQZfgwqUwt133x2tWLHCOrkoBxn8JP2XopAtP3QYr7rqqujaa6+1WUfETaeIATudNqWp+N0uDwEnSJ0gLa92ecx1RID22AnS+pWM9GSaZGURpOhldC6DSrbMgXzUIDBJFvyHg0HCQpCyjBQ9nsc4QdoZrU71IikGwohYqANBiowQliKDqDOQddSjJIP88ktdpM7hpj5kUhjlF9sJ0iSEjrnxrj7xxBMtsk64CVvKBuzBm6tMA1HHDDwOqWPyBDKQvsqbtJEPt6Ya5YkJJmvXrrWZpLST5EkktOp72XjzvvE+kTbjMGaSzpkzp0XMkr7Gfv3GXfVS5c5/ZO/X6faUIyS28MEGR/Z1ZfsTVneorHkmclzyu+0IOAKDiYATpINZrqm5QpHSyNPgo5A2btwYbdmyxb6E4oYilQKL2zwL/ZCI/BMvz1DOnGbJ4RR8faOjRKesyR2hVDBr/MAJ0uIJ0hoXt4vmCFhbXCVBStvvpncEyiZIkRCClIMWIa/Syk26HP/S/Qz+IUgZwOYx/SJIw31788jbJL+UDf2pOhCkyCKjOhO66Zls+fnHP/7Rqo88S6uTPFMYbCdIQeR4o3457+nDDz9sM0l518OyAOPwHT8+luJd2D6C8QCTJJAxTpwjn8q3XR0oXrLeYtSYBhvCjEMS77//frM5w0G4Q7y1a3N7k2IotNKjXQBn8D7//POjadOm2ZgMnyG+4f1QLNXcqbyxuTQ2hFxOO90+Ln/RkoIHuGGEIeV65pln2nJ7tkCRnP3Eruh8e3yOgCOQjoATpOnYDOQTFDrXqlWr7Kvniy++aIpBCjZrplEShEGJQLjGDfvg3HTTTbaXHh15fd2M+/P/5SDgBGnvBCkfEFTPyyklj9URKA4B6mqZBKnehdAuTvqRG1NZBCn6mbJi4Ieef/XVV00PJ+lr0JdfBoLS7RCkbMVAnyGPcYI0D1rZ/Ko8sSmjOhCkSE79EnkQ3qflSvWRGc2QR9Qt6l6aCfPtBGkySsIdPLlnP1Jmk7IEHGzpp9MH5154JsdUjCtlCjmIDck0d+7c6PTTTzfZlILqjP43yQZjsBSeyM4quW3bttnBQ5B9+BEO3JdpVKa07eCOAV+2OmCpOPuI4weDzHUwoTzcgxEEej9Otydt3hEMZaYJP2DIVgUctsjBmeDLs7pgWIdydBkcgUFFwAnSQS3ZlHzRuLNX0Xe/+13bx4mGnkZfCgLlgJHyQkHgR+6Ex+g/z3TJjVmjdMauvvpq25OUME3uDFmGG/bjBKkTpA2rsi5ujwjQDjtB2iOIfQheFkGKTkfvosshOtnnTW5p2VQ/gDCEhcRilQlh8xgnSPOglc0vZcI7rrKpA0FKn099O2TDSM60XFHHIOy56CdiFEdSGMWH7QRpEkJDmIMR5vDhw9GOHTtsJikzGsOVXPKTHFMxruFYgHv2xWTZ98S3955VPenUFhUjSXmxkC+Nh5SXf/3rX3aWw/bt2438F9bKc3nSDI3ZSEvtOOlddNFF0bx581pJI1MV8rQSTLhpJwPPqjzdnjLUxwPuKVfw4aJdYnw8efLk6NJLL7XtIhKy406OgCMwgAg4QTqAhdouS3Qwf/KTn0Sb3z6tHiWaZqQgUFZcHNbB8nk6AGyQr6UjCo9/KT1svsYR5uabb47OOeec1tc5+Xe7XAScIC2GIKWUVK/LLTGP3RHoDQHa4LIIUg0Ee5PQQychUAVBGg76kmSQG20dg0IN/lmav3LlSiOm5CeL7QRpFpTy+ZEeUhmxnQB9K8ivfhtkkny0Q+0M/kSQUs8w7fqiihfbCdJkZMOZbSLrIEnXr18f7dq1y95p8KNfLsyTYyrGFX0RlinyMZMUkolxAUblGr+3hzX+kdxqU2kvcSO/5BvctScp2SDv7T4AFJFV0sdo1i6yqKxPOumkaMmSJa0tzyR/EekWGQd4Svdw+BtbFuzZsyfinvyE9alTG5NHLpGiYXlqPEs8POeibzVjxoxW/c2Thvt1BByB5iHgBGnzyiyTxFKC2FwongMHDthgB8UjpUNkKINQIeg/J6Ty9ZGvvuPGjTM/KBGW7tDxevbZZ+3LG24oY3UEQkXGl2OWeLAnKUsV8MtzdRjC+0wZc0+ZEHCCtDiCNBPg7skR6DMCtNtVEKShruhzlgci+bII0qQ+gNySgAv7CtLL7Fu6fPlyJ0iTAKvYTWUnmxmkdSBIJQ9wcI+hjUgyev7CCy/YHqTUMxETSf5xU/zYRRCkxEP/U7KkpZvmzin211xzTevwFvypP5sWRmkJF/7rPi1MN+7xdHh/N23aZHsQa09Std9KH1vvu8J3k3Y8DPFqbED8kEyQpAsXLoxOPvlkS1PkFPhJnjCesnAK08h7L4xCeeWGTV7AnXEW9ZxxERZgdtcAABkoSURBVH7lh/S4D8PnlSHun7jAWHZYv3GDlGaJ+Ic//OEIfYPBPZQjvI/HX9Z/YRKXG3fe9d27d9uKx1deecVklYyyJZfi4T9x5TGq+8KDsIoPHIUr5DPnajAmft/73jcMa4XJm3YeOd2vI+AIVIuAE6TV4l1ZahCWkKAnnHCCLfU4dOhQ9IMf/CD1wAUpAgRECfCld/HixRFfH1EMKAx1clD47GcGUbpixQr7yhfPWBjf2LFjo69+9av29Y1ZqCzXI07iQ05sN8Ui4ARp7wTpU089ZYWizlKxJeSxOQLFIkDn3AnSYjGtIrayCNJuZKet00ARm8NHfve73zlB2g2YBYehbNSvomzqQpDmyaZ0afyQpnZxhHWyF4KUeJQ+OELeQdDJrZ0M4TP6s9dee60RpHJvFwdl1S+DXKz6evzxx23ZMnkWYSeZhEUVctLfZy9SiDrIUuQjXWSiLDC4IVPTjOqA5Bfu7OHMWIx8cpE3rng5lJFflSljLMZcM2fOtHEdaQl7faCQfGXIkSVOySO//GfpO/vo3nPPPTbrnGeSk+eh0X/lOXzWzT3xECfY6R0BQ+ovk35YJSHDnrOMtd04Ao7A4CDgBOnglOWwnNCo08CLgLz33nuj2267rXWiIg0/jT1KGsN//NPoL1u2LJo9e7YtqdfeRSGJSZx0Zl577TU7MfM3v/lNxBc+lnzREcCgUMIwEK433nij+UGRoPiIp4pOggk0wn6cIHWCdIRV+RGfXdpvJ0ibVw2cIB0qM/Y83b9/f+Y9T+m30NfAXHjhhda/GIptsO6UV/XtnCDNV75hn1SERzcE6amnnmoEKSui1G9GEtrfJCM/2CrDJH9lukHWrVu3Ltq7d6+9L5KlH/JAyEGOXnHFFbanI/VZ77AwQK40POWnjnY8LyHu5EfvLmMgxkrxfBedJ9IES6XL6fYst//ABz7Q+jggnPuNeZh+eA8mEPwbNmyw8aswivuRe1E28VM+2LpnvMq4maX2559/fkRbEC/zotL3eBwBR6C/CDhB2l/8S0udBh1D4/3cc89FP/zhD6ODBw+aG8+kOHHgHkVAY3/99dfbZuqQnbgRXv71nzByw77vvvuiX/3qV/alWvHKLx1QOkR0Jq+77rrokksusRMVcZcf4nNTLAJOkDpBWmyN8tjqjgBtrxOkdS+l4+VzgnQIEydIh7CI39HXUp+Jd90J0jhC7f+Dnwz40S/VBAK5Z7FZXssBpKNGjTLvYbxJ4XlOejL6H7rpWdE2aUk+ZoNz4Bo2y+1Jn/qkSRJVySPMIekYD4wePXoYPiEGVcgUptfrvYhIYY78LLd/8MEHo3379lk+wZvnjIHKNpKHdEiP/6ziY7k9JB9jPozaFex+GTABL2wuZMFGZurr008/bbOgwVN+kLWsOkK61FXJINmEEe0A20VMmDDBZEQWPePejSPgCDQbASdIm11+qdKroWaZMDNHIUlp8ENDw8/XMJQPe1l9/vOfj6ZPn26b/qPEcUdBoBgIi3/FK6WEHwwk6V133RWxdIpnCoNNOAxfTT/zmc9Y5/Jd73qXxYnS1nPz5D+FIOAEqROkhVQkj6QxCNDWOkHamOJqCeoEaQuKyAnSISzid+p/0RfjXXeCNI5Q+/+sjgIz4Sc824c6/il9V9pZ+rNankw/VkRjPARlxcWkA/beJAz9aNzKNuSRdNT3f/3116Nt27YZ0cSyYFaIqW9fhTzkl/wz7sBmJinL7Se+fc6BxhbIo/uy8Sky/hBrsOSiTjCG+uc//2mzIDndXuVfZNppcYGj8NSqPfzizvZpn/jEJ+x8CWTHVFUHLLGEH2GY8MjGiaxU5AAsVhlQdyV3kv+i3CgvkdkqO8qUsj3ttNNsOzrIUjeOgCMwWAg4QTpY5dnKDQ06e7fceuutppi5x02dIXlEUfIF9xvf+EZ07rnn2kxPGn46MGGnTwofhUQcGJQFgztIUjpef/jDH4wkRRHjR8pWSoz/bBZ+ww032HI4dTClfCST270j4ASpE6S91yKPoUkI0L46QdqkEjsmqxOkQ2XmBOkQFvE7+lEiPHjXnSCNI9T+P/3bd7/73UZsgB9XN4ZyYKkyNn1l+q9c6ufG45Q7/WwOLRXh0m368fjb/Vda+BFRxvkBzCRl0oTkpl5hJKv9KeGHPCMHF2ljQ5Jy3sGYMWMsRWQQNuF9CeIUGmUoq+6xucCXMdLq1avtwCz+U3eUz0IFCSIDY9KB0ANr4c/47t///retFlywYIG1JaoDQfBa3GqiDnWZfLCn6+bNm22LAtUlCVoknipD1VXwQQYM9yrbadOmWb+Lw9uQz40j4AgMBgJOkA5GObY6NjTcNOjYa9asiW6//XZThHInuygRNf4oUPYc5UsiHW51qKS85TcMxz1pQHDyFZo4iJ/9dlhqzwn3hFeaioP/3PPl8jvf+U40depUC0t8GMkUv7eH/pMLASdInSDNVWHcc+MRoG2tC0GKLOgItf3YboYjgL7DsORxypQpNiOmE06hjhS+ncIMT7X9P8Uvu5dDms4++2wrf1JE92OUZ/uT8NMPghQcRdaAJVcnORNEL90JOYUjiWmpLDMT8xiVreoPYclzPP48cWb1K1x1SBP9RLmlxSF5eQ6pw1JbPvjnrfe0jfQ96eP2Us6Sl7LQfShjWj6YPcrSZvnNK39avFndJSvpcrr6Aw88YAffqAxCeVQ3Qres6bTzhwwhbiK9WG4PUccsX/lBLt7LJBmEYbu0+vFMGCttZJcb9+AOOf3iiy+au/KKf71/wl5x9GILJ9mKizQg88CXdpqVg+PGjbP/8it59F9hq7BJE6OyFybUFy5WRj722GN29gV+JaNsyah4wrj0rJNNWLW3Sl/xqVyxuSBHebfZl5RxdJK/Tun5c0fAEagXAk6Q1qs8cktD40xHQsqO2ZsoPcjKr3/963bCPAolbkRuQox+4QtfaO2nFPfX7r+UBH5IHznYZ+eWW26JDhw4YIoDWXCXIkHR4HbRRReZfCxXQj6eY6SU+I9fN90h4ASpE6Td1RwP1VQEaDPrQJDShqOHDh8+bG0/7bgGGmrnm4px0XKDDQQXg1OwQTdqcBVPSzpRGDIbbmKwNDXuP+9/pav4CQ9h2csp9uRH5Y+eVz1Ik61qgpR6eujQIRMHOZV3YZEmZz/ckY1LsjEQZw/BvLOW2DvzjDPOaJWL8qxyKjNvkh2CFJJIWzSl1QuVCeG4IEifeeaZ6OjRo7nFhLzgnVGcIZa5I8sZgLQgZyFRhHfOKAr1DpYs+4ZkevLJJ22ig8YJvLOSUSSlyq1QIYLIKP/3v//9NqNx8uTJrSfIpDYRGZBLsrU8NeRG8rNMnFmQf/vb36wuUh95Rj6ztJFFZJf0wByb9GlHOEgXfYKRrNzzPO395HnZJpSFtPhPu531dHuFKareEA8yyGj8jR7noMC5c+e2xuS0b5RrP/GTnG47Ao5APgScIM2HVy19o8DoLP/nP/+xxpgGnOXuP//5z60DitJVo67OBmH4avilL32pdaJhnsxJmUt5Sonxf+XKldFvf/tbU2BSJEpfadBZ/Pa3v20DeikPbCkU/CmswridHQEnSJ0gzV5b3OcgIEAbWxeClOWEzJZ56623WoMtdIOb4QiACeVGe42ehuzqpPd4zjVp0qRo0aJFpZzcrjQgLJcvXx69+eabwwXv8I/ZcqwQEXmHblde2wWtmiA9cuRItHv3bhtwIxdloXrKfZ0M8qhckIs+GB+688oJOcrhOP0auJMHyFEOW4HowOCWZMib8ocNQfr3v//d7CT/7dycIB1ChzrOOwlZx56kO3futPYHH5SF2iHIH+0XOhS6+DvSpP1jCwJOt6f9wE1lrxST3PSsznZcbnBnhR/vAUb5F9bxfJeRN8pfk1cYd9F3oF3QpBXaB4zqShkyZIkzTD+OYz9Ot5fMKiPkQy4MM6Avu+yyaPz48VZ38SN/Cue2I+AINAMBJ0ibUU5tpZTSwOZC8TKoYXlcqFyIhP8oPpThF7/4RZtJQCdbDXzbhGIPFQYFEN5D1LJ8584774wYgOg5NkqZjhAysPcQMnCaogZSxMMzFDd+3XSHgBOkTpB2V3M8VFMRoH2tA0GKHAwA9+7da0QG/7lo27HdHENAmAgX6Wbp0jhO8qdwLEv91Kc+1dKdcf/d/EeGsIxEkEJM5TEMFLWFDnKjy9PyFcZbNUHKLGdm0EHkh4RAiEEoX13uVQdUJ/LIxQw96g35Vfh4PzFPfHn9kiZ9RGaBqk6k4S355O+1116z/Qc16zdP2k6QDqEFnrr++9//Rg899JAd3EQ5QJbxvqotUBkMhS7+jjQYAzA2oF1jT1L2bA1NWEfC+9BPXe/1fslGzueff7613J53kbwL97LzAd5KS6Qs/2kb2FOTjygY3MC6n3ir/mHrHtnAkrpa9en2oQzcgxFG8kHuc+gx7Q3boKhc+4mhCeg/joAjkAsBJ0hzwVU/zzTK6lggHUr3m9/8pp0mL2WMTeOMX07+YznFj370I9s3RadYqpHPmkMpBmziR8nqnrTodP3sZz+L1q1bZ1Eq/lAmHvDF+Pvf/759cYMUxeAXpeIKxeDo6scJUidIu6o4HqixCNBe1oEgBUAOAmG7FYgQ9AJGtv3xn+MQkI4+7sH/HXiO/sSg8xnEfvKTn7TVI//30rMl/UxElBdLoVesWGEEYp7IITfY2y48aZj4Oun0qglSZjozI5G91Ol3kH8ukaV58lylX71LnfBMkoll3p/+9KdbZdFNHEnxZnUL61jWMKo7tCusjqKe5JXbCdIhtIUnLtzzAWTTpk32LjCrl/dWswu7Ka+hlLLfkY7IOmbH63R7vYvIyaWxRPaY++szjjX1lrxisxXao48+asvtGfNwaSxVptSkTVroEcobTPXBhC04mAUZbnVQpixZ4g4xjPvnGR9kw9Pt8YN7GYZ4VQcpR4zaImyegy3byM2fP7+Fa+jPAvmPI+AI1BoBJ0hrXTydhaOBpjODYTAKIfnLX/7SlsSh8HiuBl2NOUtYvvKVr1jDDZHG4KAbI2VAvNxzoRhY7s/sAPbZgYgNZ5EiE36kkPkCeNNNN0WXX365iaA4u5HHwwwh4ASpE6RDtcHvRgICtJ11IEiRAwIDgpSZedIPlAHP3AxHAEzACJ2YZVCHXwbRkAhLly4tdIk96auM0NMMPCFI2e8tj2FPVT5+MgAnX8SZJW9VE6TMIOXAD/pAklFlkSe/VfrNgmM7eSA+rrrqKuv/qazb+S/6mfCN20np4Ed1knrEvpmrVq2yDzBJ/tu5OUE6hA7kJ+8mRv1xVpxB1rHHK89Vz4T/UOji79T2qU6QPu3bkiVLbEKHUpQssuXeFJv8qZ0hD4yHqNNbt261mZDacqLs95L4KXfqAHJwYSgHZDjrrLNsT1I+dNUVa8aOyK98hKfbIzPuMkXjKUzCeLmnfDHYbCPHlgXSgzwP/Us2tx0BR6CeCDhBWs9yySwVCk2dGYhSyMYtW7a0lDARiSjlnob9xz/+sW2Grk4J7nkbbuLBEAdG/4kHxYQsDK4gSHfs2GFLIaQ8LMD/fwh/8cUXR1/72teMWNXXU9yT/Idh/T4dASdInSBNrx3+ZBARoO2tA0GKvmGwvWfPHvtoB9bSL9ITg4h/3jyBBbhIZzLYa6fz8K8PjCJIr7zyStu/NG/aaf5JX/0C5OJD53333Wf6Oy1MkjsHVrBSReUtfa56kBQGt6oJUmaQssSeFS8qC8mcJmO/3Dthl1UuCFJmHuvDepjfotJoJ0u8jrXzq2f0Kan79CnvvvvuiKX2odzy1852gnQIHbBLKmtm6IIvNs/xp/IaCl38HenQ/jGWIV3ILyZafOQjH7EtuNgXEyO5ZRcvSTkxIi8mjjkfZtjijJmkwl0YlCPJsVgpU+kSXGifMbjTdmPPmTPHzqk48cQT7VldfsKyByvqDTjSRjBB6NlnnzX5yQMXmMdx7yUvxKW4hRvxKR1k0jh27Nix0bx582zbCD3vJW0P6wg4AtUh4ARpdViXkhLKAkVHh2Ljxo3RHXfc0TocSYMSdTxQfB/72Meiz33uczaoohGnMQ8b+V6FlPKQEtu1a5cd2MSXaX3R45lkwz9k3pe//OVowYIFwwZ7PHPTHQJOkDpB2l3N8VBNRYD2sg4EKfhBYHD4DYf7hG19U7Gto9zs4c1MQBFdRcko3U189CuYUYRbHsPMTLb7IRyDSWz6KZ3iqZog1R6kIkjJIzIOct9DM0jpFzbNhAReXtm7IUjjdSH+P48M7E0I9p3620oDW6aq+kia+/fvt7EEWPNfciCD/nfKg+Tu1YY8nDVrlm3XAX7SJUpfMpEO97Q1etZr2lWEF57IfvDgwRbuGispXyqDsmVCDpGOtNenn356tHDhQtuODRmEP3Jwjxth+mGUtmzKnlWUzIB+4oknbHsYnmEkq+SUO/+LlF+yEC/yoJsZdzMJ6LzzzjO84hjiF1OkHMdi9F9HwBHoBQEnSHtBryZh6ehCQN52222tvUfDr4OISePL0vrrrrsu4qsWAx8ab5ShnttNAT/6oofNBUl6yy232KnGUkxSBvrPcoRly5bZ5uwQtxg9K0CkEReFE6ROkI64Sj/CM0yb6gTpyKkERROk4eCuVxSZEcVMHgb6GpxSPzvpdCdIe0W+c3gnSIdmlbWrj0n1FTeIj24MBB8HENE3xxBXkpFM4fMkt6SwRblxujqn27M/L/IyXkAe3mVs3utQvqLSjccD1iLqIEpZ+i230G/V+IRp93JPXsBU5qWXXjLc2fZD9QysNZ4L/SpMkTY4auIM5cvMTOose5Jy8B4GPzyjTmisVqQMWeMKsZNMCstM83vvvTcCTzAT4VxFnUUWygv59J4wA3rRokXRlClTDDPJgV+M/kt+tx0BR6D/CDhB2v8y6EkCGlj2B/v1r39tS+FokNUoK2L8sPH29773vYgN+lm6gtLgKpogJS0ae+JGQXBPGj/96U+jNWvWmOLAj57JPzYdoJtvvjmiI+mmNwScIHWCtLca5KGbhgBtrROkTSu17uUtkyBFH2OoU9zrf1ZpRZASToPFLGGdIM2CUm9+nCDNRpDGUdY7QN82j9E7JII0b/g8aRXhV++7SKZwJinPmPRA/119+CLSTItD4wiejx8/3oi6MWPGmHdkAVuZ+H+519kGQ9UHjdvYk3T16tW23QhtJ/t4v+Md7zCb/2UaxmqMHSBGIT+RD0O/YubMmUaSIidy4Je60C+j8sYWjtQHEbfsScrBY1rFgj8MfvROFi078YKPylQy4g7BzCz26dOnmz7tJ7lcdL49PkdgEBFwgrThpYqSWr58ebRy5cqI5WIYlJcaaXVi+AJ4ww03RO985ztbSo/GWw15kTCQtmanohhIg1mkELQsIwmNFBUyI8/1118fXX311S0iNfTr99kRcILUCdLstcV9DgICtKVOkA5CSWbLQ9EEaZiqBpNyo27lMRCkzz33nPVDCKeBYqc4nCDthFDvz50gzUaQ6h2g7qufCvpyz1MShDnllFMyLbGPxxumnfc9jMfV6X88b3v37o3uv/9+O0hIZJn80K/Xfad4u32u+FUGtHks+WbFWZwsLBubbvOQFk554zn3yC+ij20O1q9fb7jznDFVSFjiVoYBU8hRYUu6WgnIntIzZsyIpk6darKo/PuJe4ghcghH5OZiqT0XM6KrMEqftHQvuXCD6GZfXYhSMA6xU15CN8K4cQQcgf4g4ARpf3AvLFWWsXEwE3u+SWHR0KLUUBDcM3v01ltvtX18aHxxlwIkDF/csIswatxJV3LwBRR52ED7rrvuai21xy9+sJU+X4m/9a1v2cl/iqsIuUZaHE6QOkE60ur8SM8v7aUTpCOnFpRJkPaKIrOgRJBSL6XjRbKkxe8EaRoyxbk7QZqNIKXO0j8N66zqcZ7SUDyQeixXVl83Sxykn8d/ljg7+dH4gHwjO3sJP/zww9G+ffvsP+MF5MLwvGzD2IF9kIXDuHHjovnz50cTJ05szWDUOEJ22TIVHT+YK3+qL5B627dvtz01RVoK96LTV3zIgCzIwBXHHpKWpeL0M6gfPK+b0QxS1WNmQq9du9aW24Mf7jJF11/iVznG2w2VKys4586da0Qz47SQKG1q/RWebjsCg4SAE6QNL8177rknuv3221sHKagRJlu6Z4PoG2+80ab402irEdd9kUqCOGnw1dBj44YiPXToUPSLX/wi2rp1a3TkyBE7vRHFLzmlKJAVmSF23XSHgBOkTpB2V3M8VFMRoB11grSppZdf7jIJUvQ2ptu+gWaQovsxGpRq8GiOCT9OkCaAUrCTE6TZCFLeAVZoUXdVf3kfVKezFovCjB49Opo0aZK9U8TR7l3gOenTJ+aQFw4rqmJJLmkiLyQTfXbuyfvLL78cMdagDw8myM6ldiIrFnn9KX7kkCwQTJDNS5cujdKW2+dNp1/+KWflLZRB9QPcV61aFR09etTKJPRTxj14U66SK7Sph4zXIKivvPJKO8tC9aUMWfLGGcqCnLwzslluv2HDBssXeVK+wL5IQ3zEjQnLVWlqbExbcMEFF0TTpk1rzcYlTFjf+e/GEXAE+ofA/wAAAP//ovi2VQAAQABJREFU7N0HtGxFlT/+nt9EZwyDCcOo7ymIOQIjYHgEURSz6JgwoGNOyyziGHDUUcxhnHFhjqgYELOiGBDHhAEFRUyY05gm///3U8/vpd6hu+/te/t0972v9lqnq07FXbt27V21u6rOH/1/SzDYQPD973+/YHvWWWcN/t//+3+DDYb+mimtndr7v//7v8X94z/+48HPfvazwVFHHTX4whe+MPijP/qjZVrEL/1VrnKVwf3vf//B1a9+9cH//d//DeSbJ/zgBz8YvPrVrx68973vLfjAqQsXu9jFBocffvjgZje72eDP//zPB//93/9d3P/5n/8pSbWvwXgK/OVf/uXgile84uCv/uqvCm8MS/1v//Zvg9/97neFJ/TDMLriOzyD78R/97vfHXz7298e/Od//uewIlcMu8xlLlPwUtaoOruFSPv1r399gHfCA9009XvGCvev//qvC+//2Z/9WZ1kRf+PfvSjwVe+8pWSTjkNGgUWnQLGyXWve93BhS50oRVRxdPG/69//etlvSFMGTVc9KIXHVztalfbQW9Is9KY+OlPfzo488wzB7/97W+Lvho31ut6lZ209Bd/g+0UqGnDv9tuuw1ue9vbDv7iL/5iIhJ1+w6N0VqZ0wL9f8YZZyz3X93H4+r44Q9/OPjWt75V9NK4dIlTLtzBvvvuOzEtfvnLXw6+/OUvD/7jP/5juf0r4Zo6uaDulxKw4D977LHH4Pa3v/3gT/7kT8o41v90fPhgGPppa5c20+SZYfUmLPXjjxNOOKHMBRKWNCu5e+65Z5kPyOfBN+PKEPeLX/xiYK1hvpO0k7Y5dEVjT/KnvGF4S+ORZvfddx9c//rXH1zwghdczjssT59h8CDP3//+9w9+/vOfF7yEpS3qTjv7xKMum/w76KCDBhe5yEXOw7+hXZ2+xrUOX0Q/2oa++O8DH/jA4Mc//vGyPI3MC82l7RvUFf41L7jWta41uPa1rz2o59ZoHJzmRe/QLS66kO/k/Be/+MXB9773veWx3JUBXTpOqw3BJfRBxz/90z8dXOEKVxjc8IY3HFjzpi5pg1cdFn/f/dzKbxRoFNhOgT9aGoz9S9YpUntnNZASjoxUJrVcAvYNb3jD4OUvf/ngv/7rv5YnLDWpGceOPPLIwY1udKMd8tZpZuWHP0Mnw913vvOdweMf//gy4erWLx2WpICf/vSnl8U5hcswps1gg7Fst4kzeW8G0u2Ln2YgnQm7tUoWgAJk50Y0kCJd5H7+iCHzhUXmLwB5544CvZdFKr8/wO585ztPrA/RNaAcj7A6PPFrdTezgTS0QrfMxer5yVppNqt8+OZ2t7tdMWyk79XNPwq6vFHnG5VnGuHoylgQmjOQvvnNby5GuhiJVlvPXnvtVYyMq+0rdf7kJz8phn4GFmMPdGmx2vqlQ7c85vLDQLy6IgNtbrjxjW9cjLvD0s8y7Oyzzx58+tOfLnN3dAToAWeyWlj6qm+80Gfr1q0D/WojiPdh+gJu6+mzvtsxrPwuzjYmnHLKKYOvfe1rhdbao72gm3ZYeesNC/3IO+POHwYXuMAFinEP/RlJazxq/3rrnjQ/ukQ2dPGw8eGd73zn4JxzzilptAekfZPWNUn61AE/eMHReMG7NgPVf2x38e6+T1JvS9so0CiwNgo0A+na6DbzXIRrJh8mAd/85jcHL37xi8suIMhEWRK68V/1qlcdHH300YOLX/zixThJiUUhzLwBSxVqAyMp/F/0oheViS58CX8PyDv/gx/84LJDRj7hoCmKQoYVf5qBtBlIV2SSlmBTUYCc3KgGUvKdbvLYKQXI+nnqq0VjDv0bQJfLX/7yZWFF1k8C5hHnO9/5lrOYLyi7Ln85co2ezWwgDU/6Azq0E5Y5yhpJNrNsDKQHH3xw2W0Lf3hn/I3iATxj3lbvFpsVwnAkC9Tv1NRxxx03wF/ph9XiQTbusssuZR7NOJm+G5efgdTOyZyYQR/51gr1OEPTYZD+SLsZUA488MCC+6j+GVbOtMNCL5tUTjrppLIGCc/rC/2jn5Ju2vV3y1O3+pxKOuSQQwaXuMQlShJh86RTF8+1vNdtCB8w7r3jHe8oO0ntPvz9739fxqMNMqOM7Wupe1QedVi/wcepBX1u9y7aX+5yl1vWIfh6FviMwjO048IVn+AHuKObkzMf/vCHl0+3SAf65JluHXk3ZtBq7733Xp67wSNjqE+cRtGvhTcKNApsp0AzkG4QTiBQCXpKiaB//vOfP/jgBz9YlGS3CYSq9A996EMHhx122LKSkDcTmm6evt/hQxnA3bF5/4Q+5SlPGfhHGkRh8EsHV0donvjEJw62bNlS8KY0POIbjKdAM5A2A+l4Dmmxm40C5P5GNJCS/dFZZPs1rnGNwfnPf/6iA9oCYTiXohljFTk/KY3sqr/UpS61nDeLyOE1rS10MxtI0dtC+8pXvvIyDcO/a6PWbHNZkNv9FcBLnhicEl674hgXGaEY1yflubqsSfzwCqiTkehd73rXwE7SSXFwHFi7k49bl5964oqPgdQOUnNSkPxJt5KbelIXV9hqy1kEA2lwhzN54eqBD33oQ4PTTz99mYaTtmsluq0Ur76sZxxVtsuWwS58HPrGXam8RYrXttBce9BcO2yMcT0ZvqQrEz4L3K3dslPUWCADuU772eVsJ6m1HXwXgeahH1z4ufD1OGrvyYnUWdBPHcEjOEX3outlL3vZwbZt2waXvvSlCzo1/nXeEtl+GgUaBXqnQDOQ9k7i6VVAIRKan/nMZwZPetKTBv/+7/++g8Al+AN2l/zjP/5j+XeVYiOQCeFR/1onX5+uujN54b7nPe8ZvOpVryr3SUVhxNVOaW55y1sO7nCHO5R2iANRHH3iutHLbgbSZiDd6Dzc8J+MAuTjRjSQaiXcs9i73vWuVwwZdsa0P8PO5QF6Dz3oRTqd60G3SeDCF75wOZpa7yKdJP9q0m52AylDwHWuc51iIM18JO5q6LMoaeCMh8A4XsJju+66a9kpNumdt9Noa2QDvncXOdkQvFdbPuOqObIxZC5qPpy58bAy1ImPv/GNb5Q7DIPDsLTjwmq+yByWW4fX+YUnnTqdBHPXpnE7T4BLeISLNubw7nRERzCqTX3grR9rHXHJS15ysG3JwLR16dg94x2o+yw07QOXaZcZHsCv4fPwjCvKHLe3uYThPmmnjUNdnrpDv3qHaPDjor27ckHoX5cxbz8ejVEX75AH7373u8txezTEK+HftHVaOId+qSPjyJ9VWRfDz+7+GPrFTRuPabWnldMosDNQoBlIN0gvE5QEKXjrW986eOELX1gmehQTEE+4R/De6173KveTmQQCCkHaeQlcisGCjBLwwMe/0C996UvLTli4ZTITJQVvk8KHPOQh5R5VbctkQVyD0RRoBtJmIB3NHS1mM1KAbN+IBlLynj6I3N9nn33KDlJ6osn7czkVjRz1tcgLrbiT6nQ7SP2BytDVF303s4EUzdHOR0ro2Zp3z+2txfbhGXjHwKRN43hJnA+JbFk6zcM4LP+49NNqfergetbDr6eddtrAR7lilNCHDEzjyqx3kNa4TNK+5Fttnm56O5XnbSA1N0cnuIG4Pth58sknlw+rJU14Y7XtXWu6rBfgxa8/ybbb3OY2xZiv3OC01jrmla/LA8Ej7WEk/chHPrJsnJ5UB6S81brWZ9lgk/4VRhd550d7d2k6+TduTK22zmmlC6/Ck/4kv+I6bv++971v2TiqHdJ5pglwIG/1H1C+sPQzN/T1x5vvhkS3yNMHTtNsXyurUWAzUqAZSDdIr9YC9lGPelS5KD2oiwsQpBY/j370o8sRMEZVCoHgryc4ST8rV90WvCanAM7efenWh6TcLQWiOGq/+1ke8IAHlK95undHezJRUK42bsRFSmlwTz/NQNoMpD2xVit2QSlAdm5EAyly0gfwBwyk9f2OJbD9TI0CjkrHQBqaT63wPxTEQOr4bb0opO9X2lnk6LRjpBawWRiOww3fZDE+q6/Yw4d+vdrVrrZ8ZLueg43Dd6PGaZ+77N33qO2gHrMboV1f+MIXBr/5zW+GzjFH4V8bSFfDj6PKWU+4I/YMpMbtogGaMJL68A3a4on8sZW5vDTZDWeu3pfMCW2cQDjggAOK7CEbrH3Ioc0AGXPaZCf18ccfX+iO5uic9nKTts92p2/Vxb9l6Q8UcxCyMf2sz7Pu6xOX1ZZd0+W3v/1tubKAznEik5FSPH6peVVYDWlbHbZWP7oBZapX3/lT5KY3vWnxM/x3ebhuQ/p9rfW3fI0CjQLDKdAMpMPpspChBKfLpZ/znOeUf8IjJAlWfo+F5SMf+ciBxQJ/lBMBm+MF82ocHDJRit8/+C95yUsGb3/724uCjcKFd4DS2rZ0fONBD3pQ2VEqTRRUUw6h0o5uM5A2A+mOHNHeNjsFyMRmIN3svbz+9s3CQGqxydhpTkKXxzBKXw8D6cxv7IxiyLJwzSJ/WPqEJZ/3ZiANVabvonMzkJ4775w+hUeXuMgGUnxhTPumwAc+8IHBr371qzI3N783fgMZ93VY4qbtWi/Yhecua9dCZK0QWQEXfsYobuKnjUcf5cEXwFk7fEDMnaS//vWvz2OYlibp+8AleOhrYG3HUOtO0hve8IbluHj+TJFm3vRGr/Bf+l2YTTf+zPv85z9fjtuXxoz4CT2nxTPpo7pcYR53Jlv3oiG86VE0DKQN3qeFT8pubqNAo8DSuFoaZDv+NbLgVMmlymedddaqJtAL3pxVo0eQa/sxxxwz+NznPlf+6bLLgmAkPKOATAyOOuqooqQoqwhU+ecpRNWN1eARRRmc3fH02Mc+tlw8Lk1YMvjm/UlL967uv//+pR3CKOS0q6s8Vk3YTZqwGUibgXSTsnZr1ggKkJfNQDqCOC14mQKzMJDSy1mMLle85Ikur8P4Mz+wUPUncE6UdNN135WXepqBtEud6b2jczOQzmcOvcgG0nCYufx3v/vdwcc+9rGyA7xed/hzhDwwRzfOM69P3mm7ylef3c5/+7d/O7jSla40cgfjKDk1bZymVZ5xGPqFntaFjtvbycs4/Lvf/a78IVWv/6ZVf7cc+OhfuOCBnO6z/jj44IMHe+yxR6F9ZHQ3/yzfQztu+h0t0Ukb/KHnTlJ/0gXf5OkLz/SlekBc4cYQ3r3BDW5QrjcJTjUu0nuGxdXpmr9RoFFgcgo0A+nkNJtLDkLwuOOOKx81cpSFQKSUuIQ9Ycq9293uNnD/aN5rIyIFNk9BSujDMcI/Ct49WC94wQvKhe+UVQR+2hW8b3KTmwwe8YhHlH/U5M0kTDyIsplLBy1Ypc1A2gykC8aSDZ2eKUD+NQNpz0TeBMXPwkBKh0ff89PVCRtGQroefPWrXy1fx3ZXpPzyjAPxmdM0A+k4Sq0vDp2bgbQZSLtc1B2fdpK609GORuPXPB3wzwrIksiES1ziEoPb3va25X7MGPKsiQDcZ4nXNNoPZ0/al/dvfetbgxNPPLH8sZQ1n7i+ocZFXdZvaIrW5AUDtS/cAzgvAr1DF7jwc2MkdSfp+9///sK3WasW5Gf4E5pyGbx333338uGmC1zgAgXX4Bxa5n2GKLaqGgV2Cgo0A+kG6Wb/Ej7+8Y8f2DkbwU7hZDLAvchFLjJ45jOfWf51qoX7IghQOGSRBLfgpA38voR57LHHDk466aSirOpuSTst7NDA0Zn6+gCTMIokhtI6787qbwbSZiDdWXl/Z203vdAMpDtr76++3bMykMIoen612NlBaoHqiH49hxmVX/nmB6AZSEdRaf3h6NwMpM1AOoyTzL9jlKODvvzlL5fj9sZw5u7ymf+bo8ewM6ysaYQpP2sMdV7ucpcrHw+60IUuVAx34vFzoG98Us803MjTbBpJmcJz3B7d6z5Jmr5c9As++jt+fWAdkl2QPuK0CLQODUMP+GZt6lSmP+k++9nPLl8RI70HTBv/UeUGx8Rb8zo9yUgaAz/6onfSpj3NbRRoFJgOBZqBdDp07L2Ut73tbYMXv/jF5aujhHQEp4q9E5SHH3744C53uUsxFgqXhuAX5x+yKAFxswY45t/kCHj4pR3C/Av6mMc8phhLI/j9E2mHadp81atedfCwhz2sKF1tYhitFcWs27Wo9TUDaTOQLipvNrz6oQAZ2Qyk/dB2M5U6CwNp6FXr5ujwxHVd8Qyk73nPe8oONHMDYeNAGnMF0Ayk4yi1vjh0bgbSZiDtclF3fIs3z/fx1VNOOaXM5b0bx+bq2WHYLWea78Ep8obrXkxHvh27z0drrYeSdpr191mWcVjLxVo+orNrDk5a2mRiQ411kzb2CXCJcbw2NKKrcPjB65rXvObgkEMOKbSvce4Tt5XKhjuAT75qD1d4+8jgW97yluVr37RNur5wr3GBU93H+lD9u+22WzGSMjRb34V367TyNmgUaBSYDgWagXQ6dJyoFIIthr/sfCR4CTqCUFy2/HsHT33qU8u/shGWSR/XV2kZF935kjLlE5806uVfNLDAoaC0++lPf3ppp/aD4B4/5XXrW996cJ/73KcoCe+ZdEXJlIw7+U8zkDYD6aghkHFi3GXiR64kfFg+6TLZjoyKbBqWvoXNngJk5c5iIMWr+JFO488farOn+sarkYF0y9LXhp3CABn3o+YGWYhxgXSj0pYEa/yBRz728otf/GJVpaTvJV5kAyl6BVdyE7+Gnqtq6JwTwZ+R6VKXutTgghe8YMFGe8bxQXRG2sk1X5sX9P0V+/Sx9oUu2hz/JO2ObENDmwJ80TpHbCcpRx+ln4IHnPBfn8DQZMPDO97xjvIRHPWZ4+v/4KNt4Qfp+8bpYhe72OD2t799OWmHvuHPPukwy7LRVd+iu7s0XXPg3WNt5WNEvojuw7je+wb4AHx3vvOdb7DPPvsM9t5777I+DS+GF/rGZbXlBx/GZTuhP/jBD87t6/bDcN6ypLd9AIuLhvANztKHrnjbeMr7sLJaWKNAo8B4CjQD6Xj69BYbweZi7Xe+851l8nPZy162XMbsKIjJKGXmMbF70tIHin70ox8tCzz5AQEo/YMf/OCyQDB5NdkAEZBJWwIX8CcCXlu++MUvlo9MWSAlHMriKHru+c9//sGTn/zkwV577VWMoyZZmVAuYPPmglIzkDYD6TjGq8dW5IOxNQ7qPMZi3wuacbi0uPNSQP/tLAZSrQ/f1pRYiYfrtDur/8IXvvBgy9ICy6IVoFk9trt0CZ25GfPRxdOkt/I3o4EUrWKQCf26NF70d33DwGQHHsN6eGJU/4c/tEsa72Ce7e/bQFoauPST/mbQXIshCm3DL2iH5j6+iu6j6K3u9Al/0lkP8OedK13epe0D1MFI47iyr9sz1un7mi/UO0u+gJONJAcddFD5uj180AEOwU0atJ8FjaZJd/gGtOfrX//68l2w4oRZJ9lMYgdt1ojJ04cbHkv9dj5e8pKXHBx44IFlfRu6w8mmnnlB8FB/+p3LSPqlL31pLl+3H0ULeLENbFv6ur0/Tmr+FeeJjOVPH4wqr4U3CjQKjKZAM5COpk1vMRFqFLHJw9FHH10UlnfCj7JgBKTMr3CFKwxOPvnkYjik4Ci2CEIIKut2t7vd4M53vnM5AiWMwmFYJfg9EZSZBEizSKAN2qV9/mV+zWteU443+MfTJAtIE7ppBwXxuMc9rtBJmvxjtkjtmicuzUDaDKSj+M84AmQDf+QCOTEMMuFK3Kh0iW/ufCigL3cmAykqh5eb/F89z1momleYI2RuEHdYKeI85id9gjo2o4E0tDPHIUu9k73mOxsF4OuOe/c5mltoQ9oyrA3GYwxNSZexOiz9LML6NpBGBqGVPx+c5jKfR6tJQHq8oRyg3MznR9GwW0fS7bnnnsvGJ2kSPgk+60nLyGRH48c//vHydXt0gUf4Az4ZF+upZzV58SGa+nBTPh6kfuFdmAetujhM+h4e0Eb0Peecc8rX7R27Z6jXF7NqV+qJi8bpcx8dOvTQQ8vaDa7zlg/BEb3hgyc8wXceX7cf1ffkgvW9UyA+Wrxl6Y9OBm/41lC3qQ5v/kaBRoHVU6AZSFdPq6mmJNBMIBkDX/KSl5RJDMEHoshjKPXvK+UmD8EXkN+/yo6lX+UqVynlSSO/siIkE5Z8i+ZSSoR82kih+9iUIw7iQNrC1T73YT372c8eXPrSly506Xvxtmg0WwmfZiBtBtJxPBJZYjzlGbdgN1mUJ2DB5s+MBotDAf2zsxlIUT+8TAdYbDcYTwE7SP35mh2k41Ofq3ulIwfqBW0tE1YqZ6V4cmizGkgzp8Oj2olumdusRJdFiIerOZdTTuYWk0L4Zpr8MikOfRtIgw8ZxCDl69123a6ln9EpBhr8Er5JHSu5oTN9QFeD8N1KeacZr05rEeP61FNPLXdjaou2oYtxAVfp+gb16Bvrql133XVwi1vcovA0HITX85950Gq97Q+/pBxtOvvss8sJxd/+9rfLMgfdwx9JO20X/dLP8aePjY399tuv7Iq2EQgu4YVp4zFpeXW/82csL8LX7bUlPIxXXXeCjv6IwcP6X3x0DbdBo0CjwNop0Ayka6fdunJGITPyOWIPokAIP/GEnbAomlSYcO8MhHe4wx0GW7duLRNXRxiidCIgM0HznjpS1iK42sM4auISIf+5z32uGH5dKxB6wFXauDe60Y0GRxxxRNnVUALbzzIFmoG0GUiXmWGIJ5Np42mlCTOZUcsOeeSPfBlSfAuaAwX0y85iIA3fhjfpS38kLqJ+mwMrjK3SsVsGAn9KGsNZnI6jHXozdNhBmGPDwqYJ6t+MBlI0Cp9yfWUazcfRe5p0nVZZdh4z+GXnsXLH8UDajG+2bNmygwFqWjhNUk7fBtLoUTTxXPva1y47vSbBMWnRLrTleq/Dkm6Um7yO5uePkEnyjyp3kvDMMcLrduK50/Gss84qxWReX8ugScqfNC18yK7MXcgyu/D8YSS8S+fQcNJ65pE+vKfuup/5XXOA7r/85S+XeapvHNVr3QovT+aPmTPqe/TftnQS0Bp2EaCmG3xqvG0GmOXX7cfRAw1juLXOO+CAA8pxezRNG8LLG4mHx7W5xTUKzIMCzUA6D6ov1RkB9sAHPnBw2mmnFSwSFsUikMAbBplUyMOwaNJq4WPrvTuL7BDxz9KVrnSlMkGqFdWw8uYZBjf4M5IC7yYsjMdve9vblhdx2uoBocthhx02uMc97lHaTWk02E6BZiBtBtJRY+HTn/704Mc//nGJNp6MNzInY6qbTzh5Y2HhyOA1rnGNFe9D65bR3vungL7cWQykNa/i3Z/97Gfly8ltV/PKfIZ29AN9a1FlXEevDsstPRqDe93rXms2+gwruw5Tz2Y1kGqnOY2dXKeffnoxVsRYUNNgkf14JItwuNdjsIu3uPCNtPf4wxytm26W730bSI0RYwlwHW83H19LP8uPX8xplYv2/KPGabcvkg4OXYO2tInvi/7mFNrNVZeH/wc/+MHghBNOKDtJQxfrF0b0vgEOaKg+NICP+Qwjaffr9rOg0TTbG3xD97yrQ5g7ST/5yU8WuuOt0H6aONRlqR/fctWf/hfmHW+LQ3cf3fUdjUUBeAE4m0/kzlayb9zX7aVP3r7akv5NXeqzIcpuaDtK3XuMxyOnpWvQKNAosDYKNAPp2ui2rlyEHAFmgXL44YcPHCmvBRmhFwFIkWTykDCVU3DS1WmFSyOO4vePv/t2HI261rWuVYyl/PIEkt47vID8/BQpPLmAX/q8l8DqJ7jUeFbRE3vdW+RjTL66COoJaHA0AX3e855X7lRTb9ogfd65Oxs0A2kzkI7i+de//vWD73znO+cZK9Ibw+SNXSe/+93vyuLKmIrMcA/dXe961zIRIweMLU/iMy65KY9bj8WMR3mUbVzXkLKSz3vCkjfpU3fSpN7E70wuWuwsBtL0qzbjIbvyfFChGUhDmem6GXcPetCDyo6r6ZZ+7h+eX/nKV8q9eT//+c/LmE+93fqMd3IjBiTv17/+9ctitpt23LtdVa7yMcdIXcqKf1Re+vVqV7va8pfF5VkJlIlXHdfErzsTPPShDy3z0Xm2mXGObtMHQH+M6zfx3//+9wef+tSnimE7eZK/FDLkJ/xjB6ndifOA8O+wI/bBbx54qdvpsM985jPlo7M1DuLob66xzTW++9bp1kq+42B3dOYi+hgNQ0d4pt/7xqemyTT88DZXcxes04pkHdpyzfO42h2aT6PO1ZQBL8bHa17zmuUL9/VYgV9N+9WU12ea4GPNPurr9mRLzRvyBPpuCx7ed999y7Ue1ukgOAeHhHH7xqeus/kbBTYqBZqBdA49F+FEYZk4WgwAgs2EABC0FEhceSJwa7+03ffkEadMSogA9VBCJvb+WWbsECe/uhhjQRYd4gh9ilM8Pxy8y5NHWHArBUzpx5GcI488svzr7Pik+rRNXfABcETDm970pstH9NN+rjx94DalJvZWTDOQNgPpKOZ63eteV8aPo034pB4fxrbJdOQBWWDHhZ1PFvbgPve5T9mtHrkgf8aZfPzDIGnEZWwKI1cCwgMZ40krPHWlrBr35NtZXTRpBtJ2L24f/I+3QF8G0uBs8XnSSSctz4kS3nWNe/KnNqD48Io72SeBZiCdhFprT7sIBlK8QrfhneiZ6JNhLaN/zjzzzMKPv/jFL0re5BuWPmEpsxlIQ5Fz3fyp+sUvfnHwoQ99aOBDrPR/Nl+gnTTA+AbC+oTozYMPPnh5Z2PqEwefGpfIwqRZZBcPh2cZQm06+djHPlbaI9yYQPv0yyzaEvrpV481qY8GujLNbsjgxBhp7jkvgFtwDQ7CrEU//OEPlyP3cAT4I+1JWq4w0C2nBE7xR/muzTnkkEPKPdHpd/2qn7v1J36KKLSiGgU2HQWagXQOXRqh+dnPfrZ8oOnb3/728vHyriCTVhiXoOMmDOr8w4DAJgTreOXEYOrYjYdychcMBeWIvjtMCVr+GEwj/JUXf11nXYfwbhvqtJP4lUuhv+xlLytfZIwhpaaD8q561asOjj766GIA9g7HTLKUMS18lL1RoBlIm4F0FK++9rWvLbslrne965UJqXTGNojcyOSZscI9wN79YWHyesMb3rDkM3mNHCFX4pd22JiLnKjjhHXHcx0Pp2H5hHdBvqTtxu0M79rfDKTNQNoHr2dM9mUgNW7VYRewBbwrQIbNNdI2coj8Ibc8/ijda6+9lu9bTLqV3GYgXYlC04lfBANpdEN4Oe/jWuhosvsbbWLAZ8k7Lk94uRlIz0sltEFHrvWPsZ4PCEktPPMB6fj7BnWau9g44qSdU3dkD9Df4uMGv75xmlb5wT28y7jniiXXujkhVBtGk3ZadY8rBz5A/8IB/dGekdTapYbVjLk6/bT8NT1CP7jwo53rYKxPf/WrX+3AI/PAF07m4NbvDP2O26NtxlLw5nrqtk2LXq2cRoHNRoFmIJ1DjxJQBJdFgLvTTL4YISwOHD8RFsVB6DEMRqhBV5z3GAHHNUG6QO0nID01WGQwmLoPxsNo6r5BBlNGVPEEcfJFyMIni5k6vi57Lf6Uf+KJJw6OPfbY5XsTEx481H3E0seabnnLWxbDrrq0FV7w2RmhGUibgXQU3zOQGtN2XOET4zoyhrzJkSvjxyLmJz/5SZkEnr30RVQ7PqRnoDDu+Bkq+GuDqXLJEEe4+O0McL2HdB5jN+NXPXnItIxZYSBpI7/yLi5h/KD7vj105/jV9mYgbQbSPrg946ovA2lwPuecc8pdso6gqzP1Jj4uGUCOkBcessL9a/lTN+lWcpuBdCUKTSd+EQykk7YEj51xxhk7GEhXU4Z8+LYZSM9LLbo9et2cw05ScwzXH5h7iPeMGvfnLXH9IeoiQ8gOx+zNi65+9avvIH+kCV6zxG29rcOLIPijvblb7iQlb4XZCan9Sb/eesflDy5oToZ7z+O4PfrrB3hlLI0rbxZxNR78aIhei/R1e3SAm6v1zAP33nvvMqaEoSUaB+r2JKy5jQKNAjtSoBlId6THTN4oWpMBQioGCQLXBdCMEccff3wRvMO+ykvIyQcIPWUNgygcaZO+zitP0kTxJ13KY+AgbLlbt24d7L777uVSbR9+YvBI2fLzKw9O0wJlKs9i6bnPfW6ZqAqjVOt2C4PfIx/5yGLQDS7wqP3TwmsjlNMMpM1AOopPGUj902wHKT5h2DRBNn5B5IEJoN0dHoaE97znPSVuv/32K2l/85vflONGxiejqn/ShVn4xFhKvimHIdW45WfIIFMch7VTnV96xlRuLUeM3zxwi8ziFx5IeC0XErezuGjQDKTNQNoHv+Mt0KeB1Ng1D/InzLi5DTwSTwbwkzmuLCKHJoFmIJ2EWmtPuwgG0lpfaEl4elyrGJLe//73l00L0uG1bjnd/OKV3QykXcrsOB9HJ3dG28140tJJFesd8wPhZEHWSCvR+7y1TBbCUFfXZffdoYceWnbhKSn92fVPVsv8U6cdaMvvvuf3ve99Zc6WNdVqxsR6W6Lu1McPgpv535WvfOXBgQceuLzZZb31rTd/cBtWDp7Fu66GMU+Gf9o0LH1fYfpU33nU7/o8x+132223UmVwEl+n7QufVm6jwGagQDOQzqEXCSsK2eSAC4R5vvnNbw6OOeaYorwi7CgTSjxgJ5Z8JvcWBATeaiETPHUpH8TPBXUafuVzGTQoAAYO9xfabcrQ8jd/8zdlRxpjau41LQVN6Uf9PmT1hCc8YeA6AhBBHz/c/WP2mMc8ZnmnmkUTvHdGaAbSZiAdxfcMpI6R7bPPPmVMZ/wbZ2RN5ID88TN8vupVrypy5y53uctyPmOMbJKXy8AhzBEkE0aGV3IuhlbxwrjycOM3phlJHbciZxhVyZzsQhVuAZU4/oRFlsUd1fbNHK7tzUDaDKR98HjGVV8GUnLGQ1+TI9y8j2pPZJN4eZy+IVsmgWYgnYRaa0+7KAbS8HHNO6NaJW0MpPlOwKi0dbiy5W0G0poq5/rpe/MMgE7mB1/4whcGH/3oR4uxztrGeI6bPju3hH58+g1e5i9OzzHSWWuZb5irRCbNCp9ptDJ8Hp6sXX6nFt2naX6njbNoW3BQV/z6O3Xrd9cdbNu2rRhJF2UNB1fARSu8wvWHnp3m9I+d0MKk8cwS9+AHL2OMod91WFuXNg+ZJ8MLPuLQuEGjQKPAeAo0A+l4+vQSSxFkAlBPFoQ99alPHZx88sll0pDKozgiAI866qiyk5MR4uylY6/+vTrrrLPKMX2GiBoyEVE28B6/ciNMxXXr8Z46xYOEEbQELmCoYBhlOPUhKMfxCWXHJRhQ1SHtsPJLAUs/yoNXrVSkF0aYW/gw7Lzyla8sYXX9wUlZj3vc4wY3uclNCk7Jm/amrp3BbQbSZiAdxefGkcmTPxTsBF8N+Kf8Na95TUl6t7vdrYz11eSr0xjb5IAFiEURl/zzJ48xSp4xWJBh/Nmh6l0acsATI2kMpbVRNTve8T95pH3S1xCZVsuNyKa40idd8oqDJ9njSXu4ycefd7jmPWV0XfmkCcRfh6fspBnlStcMpM1AOoo/1hMeHuzLQLoW3OqxQq44qkuuTALNQDoJtdaedhEMpJNij798pCk7SL1nHIwrK+lWMpDW/GuO7J1O5A+krLxP6tIH9CNYbVlJlzm7d/quT6BXjd9TTz213HXOoKNe8wM0D93jF943TtYy7sS84hWvWIyk2h+aBJ+EcfvGRx3TBnR0l+anPvWpwfe+970yVzLX8ue0NRdezFxn2nV3y1MPPkBjcye7Hxn4bMARVtO3+94ta1bvGStoZc563HHHlU086AdH9DOma9zlCdR8lLBpuua/17nOdcrjpFYgeMeFK38te5K2uY0COysFmoF0jj1PGFEIBBMB5Xj9E5/4xKKwIri4gCDlpyye9axnFVd+x1vli0Hh9NNPL7tPv/Od7xSDKQUYIKTVo6woI3HBo07HL6100sMTDBPowVG8shybZZzgXvayly3GUscmKLwIaWWDtD8KJC68lRU6CHffy1Oe8pRBvijK8EH5hDbcgw46aPDwhz98sMsuu5Q49ShnZ4NmIG0G0lE8Py8DacZ2xr6x7Uk4WWA8e4x/k06Pd/KNrIucYzz1zsAh3hj3xGhKNlhkGQf85BHZY7HIz5Aq3hP5EVmUd+Xxw9fDb+ION+/w9giXl1vnqWVY3Rdpt/TAeyBlJk0dl/RJ23XFNwPpZAayLg3b+3AKhPeagXQ7fcgVu5zIErSpx+lwCm6fO5Eb5jFk184EzUA6urfxDrnPjV7JeAtf5X10KcNj6AM6bj1Aj9F7fYJ2+3Pj85///OATn/hE+ZOUXqevxaFDHrSKHu4TJ2U7aZMvg3uHQ/oifSV8o0HNV+ZUdkDaSZoNNunzzGtm3T59zMhovesqqC1bthQUhMPJPGteUPNAcBBmrmqzkmsL+AE8xYXedXr+8FLCp+2a+xor5MD1r3/9ImeE1fjUOAiv36eNTyuvUWAjUaAZSOfQW4RQJkSEUd7f8Y53DJ7//OcP3QUhPcF2r3vda3C7292uKI9aQSvD498/Ew2uY0GOpPsYFIMpl3HRR6AoRXUroysQlVNDcFxNWNKmDAoihgrHZRkuXcBN4TGeMqI6xpKj+cmvLv4aP0rnn//5nwfvfe97l+/NoSwD6vKP2ZFHHln+MWMsCZ2TZmdxm4G0GUhH8fq8DKRkgjHdhWHhkR+RB949xrvJO5ds4JIL2ZFqpyvZ52FE5UonjbQeC6/kNwk3VrjkVI70W5iRH8JMML1LE3lGFis3eEbO5F0bh7W1Dq/ThiYJ48qfMvKedMNcaZuBtBlIh/HGesPCh81Aup2SzUA6GUc1A+l56UWm0xv0CDDG6vfogvPmPG9Ixmc3Zs899yw6bJKylFHrm1Fld+ta7zs60O2f+cxnyik6R5dTd2iFPvlDdL31rZQfPup3Is5xe6duYvCKvhcf2gbXlcpdpPjwHpzs4HXNAbqbH82jbWhZ8x46u8oN/ffYY48d1nPzoneNX3gkuJiHuraAof+HP/zhDnRMmln2f3jTXJYssCPXnLbGu/bXbZslnq2uRoFFpEAzkM6hVwghi26Ldgog4Hi4f09rxRRFLM3+++8/uP/971/u+yTkTBRMKCht6ep84vIvq3gKj2GUAYHrrlNHKtzt6YgFXAjKrrCMgA2O3BqnhA9Ll7jgBgcQPOHHQOooi8kHQ6kPQTmaz6/M/AOmPfIx8L7oRS8qH2xSnrbBGUivLvcHPeIRjyiXfcvj2dmgGUibgXQUz8/LQDpqHGb8dvGN3DCu6ydjWj7hdblZwChLXIyp5Adjad5jUM2RfjsnPD405c8jj/zkj4e8VTYjqYchVZg/ZOxGzbtdqsKDk3q1o9sW+CUNVzxIO/mFJ00dLm4YSNsMpM1AOow31hsWPmwG0u2UbAbSyTiqGUjPSy8yndznBrznVIRw4y7xGYNJuxrXqS3GkbqsusxuGdLhbTsn8ydgdFM3bR/v6qejHbW309p83zqBro/RTr1rocWk+NL3WaOhh6+rX+Ma19ihbrSBG3xmgdOkbVhNevRGY3MVH2465ZRTyulDbdN+/DNqjraa8lebRt+r0wMnbsC86pa3vGXZUYovw8+Jn5db48GPTvgmH1tmJA1/zANHPJl1Mro59eBqLZuU4AvXgHewUfk47Whuo8C0KNAMpNOi5ATlEERRAoQWYKz0FXYGSwJKmgiqCLInPelJ5V8gExggnPKiTGoFlvxRNuKkVRcjAWXIGGCHFfdHP/rR4Ktf/Wq5YNpl6XaadiHKqq5HmuAYVz2A4OVP3eI9yS8+cdKLY3iwk5SxlOGBodRzmctcpsQl76c//elyVytjb/KqKzhw73SnOw2OOOKIgkdwL4l3kp9mIG0G0lGsPi8DaWRDFy/jsxsXWSFcfMa2d3JAGBmSdHWZ4oV7Um5kgPf6jxoLgBhLhZOP3oWTjWQMYynDae5EtcNCOWRvvasUPoyj2YXq+C15Jh0/mcZP/tZ4wzeyTXiNa9olfCWQphlIm4F0JT5ZS3z4rxlIt1OvGUgn46JmIB1OL+Mqsp9O8W7zgtNfwumC6LCMweElDQ+lj2JglD91pMxuLjrQB1i3bdtWrqSRLvqom7bPd7rWWsT3GOhfaxf4M+Lxw2tUG6aFV+ivPHSxLrn5zW9e1iPC1J8+qf3iNgKEfmkDnM19rAU/8IEPlPlP1nGzaA98POHXvIf/tiydOmSktpO0xnkWuA2rA36j8BDno03uLzaPNO8TNg+o+dh89epXv3q5W9d8FCR+XHvmgXers1Fg3hRoBtI59QBh5CH8KaVXLn186E1velMxdkKpFlb8V7nKVQZHH310WXBHaRHOhBvXI12gjktY6uN6pAHKYBgw+SDMTc78A+bDT47om6z4J0yYdMlX15c6um7wiqu96gskPO9xhZvcuVLgZje7WTEwyGuiwiDsHlZH7YG0gbSLQeJpT3taMbDW8Um32d1mIG0G0lE8Pi8D6Sh8xoVn7I6SNXW4tPW7ckflT7g0kRn8IO9kjYe8InP4AXnNSMr1ZMcpoypZyY2cIlOVlz+xyG6TZePTQ8bVfhNY8XnyHqNqQWDEjzY1A2kzkI5gj3UFZ7w0A+l2Mhqz7Q7S1bNUM5Cel1bGlIeuMLeN7jrttNPKXFs4fZH5cp2mW1rGZzc878rI3HtcOeLc+3jYYYeVP/SiC1cqP/Ws1VWPp8bRWsNxe6fq6Fg6kR5lIKV30aZv0O7Qji6//OUvX75zYAce3SyuXo/1jc+0yk+b4io3fY3GjNMf+chHCt2nVedqyqnHAz+cQHBz4vCAAw4osncW/b8anINjjbsw80DG5nl/3d6Y0qfoRaYYR3ZCb1v6E8Q6OXJGGvPMBo0CjQLbKdAMpHPgBEopgohwcu/LscceO/jWt761jA1hJl2EL0Ph4YcfXiYQBF79T+pyph486mEM+OlPf1oeu0vdseJhSGVQzaRG9ZQEiDAO/iWw+km6xNfKULLE/9M//dNgr732Wp6EpC735TxpaUetnV3D8grzNfvHPOYxhdbwobBMaky2MrmpUNpUXgs4X9+0my207DbQESa0CK8NS6d/0pfi7XBmNDdBXQvYDQwvZeHvYXV2y5Xm61//etnhTImvBHDGJ1zHn/1jalIwCdhV7bgRCI9Okn+R0zKQusLCpe34BNT9QTYZK4x34Q+Gvze84Q2l3+95z3uWfGi8Vqj7PfRNWPddHQlLfXXaOi44CavDpU+elDGs3MQlbV1G4rquNHV6PEpuoqFFnnd+Y4Yszc5UNPWQYcKlM9ay6wfPklP6wx2oFgfGsz7L0X5p+TNGc3wqf2RlHBhrIHoHfibuPhYTWklj8ZlxKa/7v0ymA6GjPOKl9fCHBt6Nn7PPPru0NeWlDG7K4Q/9pOO/wQ1uUGggjfdxII182kEnrVUujaujxZ2rjxfJQKpfwjvmUfjZOJsE6q/Y4yPjKDw1rpw+DaRpE9e4AlzygBwwdjP2uCuNkXHt6CsuNERPz21uc5siv0bVJz1I2/Me+ZfwOk3J0OOPOvPxmh/84AdFduKR9Em36uAonox33x8DxGog9JL3i1/8YplrqwuIS3zospoy15JGG9y52TWQrqWsaeQxnh35NrYdtw+/owNc0xehvbERHTeN+oeVQSf6ur2djPgThC/iwocf729EQHfzX1+3t+YzLzBHIYO0zcNP36YP+mqnutRhfgQPc6CDDz64XMfWpb+0fY+R1bQzeKCjOfSor9vjD2lBXP6+24Ce+NdcK9fZGTc1/8KBXgUblY8L8u2nUWCNFGgG0jUSbj3ZCB6Ck0AigJ7znOcMTjrppHKck+AipIB03qV5xjOeUSZcEVgRZOvBYzV5g0+EtwmIO0wZTE1YXA1gYeoeU4sNeAX/tKEW9spJWXX96gF1vIX/c5/73B2OVCibYqa0n/CEJ5TjSBRQ8KxdH4FCt0te8pLLCgcu6qhxqvHYLP5mIG0G0lG8/LrXva5EXfWqVy0L7u54IJtMiCJ/xJsc+yPH2Lv73e9eJqnd8jN260lfnUb8MBg2FjNOk8d7nsiYvHMB1yS6fk+ayE3pUmby1OmFgciwblzCpUkcf8qsw6Q1oReXfPAgQxkw0Zmfa6HBz9DnQW/ylUzll09ZefRDDKkWCRbijCfXuta1Blu3bi1xjgQKlxagTQ0W4v7kAvCmj+CgLnJUmCsC7JQTF30lPu3kerQvbVQfA6kTCAzAwlOeutAjj3cgPmH77bdfwV946uEfBqm7GUiHUWd6YemHRTGQ4pXgpJV40ocxzAUmgRhIjUHlhQ/xbF1+t8w+DaSpSxvhA4x7fywa4xmfXRok36K48KMLyDZGN/InsqiLY9rKBdpNrpFlkaHpj1m2m5HoYx/72OCcc85Z1onBsdsGOIdvuHbzM6atBrQtcrIZSM+lGJoY0zZEeBie8VP4KH2RMREddW4J/fjqr9sHh/ShGvnDr/1g0H+pdLeNCb5ubw6iPaGzfvEYm9w+Qfkx0GWO4hoIx+2vdKUrFbzS70nXJz7jyu7KJu90y6J93V5f0iXZEe2OV3M/dAzU/KsPoosS39xGgc1OgWYgnVMPUzSEkYWkDwrZmSeMUKoVLr+FLkOhoy8mmQRVna7PJhCM6qqfGCHgZrLCYKodjJZnnnlm+efRhNLOqG5bKDBlaWviuvinfQybdpBShmgFF3mUwX3LW94yePWrX10W+aEHN2AS9ZCHPKTsJJU/5cqfNiTtZnObgbQZSEfxtB2k3/nOd5Z39NQTUBNexjvjhetPCmMFGN+77rrr4C53ucvy/WTCIxsynpUXqMdjwrrusPQpM2kz9jP+M1lLuHTi4M31pNyEp6zaFTcJ1O0ZlbfGvZZzdbi8KYsLVxPU+onRVJiFocdikct4Sr6afFu8mOwyKMRYml2lJr52nnrIUwv2XXbZpfQfmZ0/teAZuYoH4KReBlKGdHFonjajM/ykE8fNIx9eYSCFKxDXhfRhaMH1NANpl1Lzf0//LYqBtEsRPOdYKHcSMI4YpPAyfvQYi57w57Dy+jaQojccMqaMb/exq9cYgVs9bobhOO8w+JuDZV4bdxheaZM46bSPzLryla88NwMpnNwHij/Mcb3XeHbbkXjykAylK8nhjJ1u+vo9/a3dzUBaU2a7n55iIHXqKacj8AmaR/+Yp0T/n7eE6YWEjxnAb3zjGxfdC4+6n+v32j89LPotKTiTp+9+97vLDt6MZXH4NOO0X0y2zx3USZ7o38h4p9Fcv2Z9WMvKvvEZV37oJk3tZ2z+0Ic+VNbG+DS0q9OMK7ePOHj4k92VBde73vUK/9b4oKl+BrW/D1xamY0Ci0iBZiCdU68QOBT7+973vmIENEEP1IqWUvr7v//7wa1udavlf03FeyJkk69Pl+AMEJoRpNwIT/iYvFjEUwgWyY5ju7/UESXvFiQ+fJL2aof8aXPK9X6d61xn8OQnP7lMMtEhijHKWRmvXLq79fjjjy9Gghq/lMm4/IAHPKB8uY/xQLmeWdIueM3SbQbSZiAdxW/uRbJzsJ78mHiaMCXMOOSPAY3fY8HnyLWJlfeMJ25AXlCHeV9PeOTCuHLErQaGlSVfje8wXMWTK4E6fcKSz3viucITl/DkSdrEe6/93tVLZnnEcfUXPyMpeUvu+qPNXdFkI1mc3af6igy1cOfnBvQpeUE+cu06zSLfThmGGeml8yhHvAdenvACv3DG12984xsFp9QjbljbxcuvLR4GUgah0C35h7nSKLftIB1GnemFpd8WxUCKTwJwMxYYSPH8JEC+da9mSFvHlWOc9HUHqbbVOHh3rNRVMVxgvGQ81bQYh/Ms4zKe4UhekEcrGa+0WVsyN2Mgdfc+2VPTpPb32Sa4w4UMnYTG6Rd/QuIvtFgJtF0+aZuB9FxqobsHXfSDI9++cM8f/SM+fjnrsXNuSdPzqYu8wZdkgHUKIx0I3/MHd+k3CoQH4Y73jVl/DrgH1ilBetY8wVpspfE8rTZHLigv+KGzPtiyZctg//33Lx/OSr+LmxegW/DlDz/AG8+6ssNJLHQE0oDgXl5m9BNamtMxkJK1riSr8a5RmQeOdf3N3ygwawo0A+msKf6H+iLEjzzyyMFJS8frKdsoHYIfEEjuurnvfe+7vIuS0ooQ/kNRvTrwJEhBLfgjLMXzwxlu0mYBLSwKgnKw4ymP3UUmgoyn7l7VpjxpkH8HjzrqqGVjKoWsfPUFF8ZWu0SVF4HPNSmBD7AL4cEPfnBZ6MNJnLo2MzQDaTOQjuPvyB/jwVgwJjKujJuM2xNPPLFco+Hd+LPQzR8N8iScXzw3xlPvCRPO6JX05F3iUp53skOa+um2I2M3bh0/LEy8tg0DeIHki5u0eed64Bd/8iVN6oB74mp5lTKlE558CU+58qcvuN7FydOFlCUOTV0rYuwzlpKNDEYMqN7zoT3+/Hllh2f9x5Pyg3P6wwRaHzGc6ls0YKhxokGYP6F8tIJBw45TODHA+3MMDiBtEAfq9qSNwtW9zz77LPNKl0bS1JD2NwNpTZXp+9Nvi2QgDU5ai8fdUxheXi0FGLB8FEe+8Ohq8s7CQJr2GRPq88eUsRjIOE26hC+CS4eQrVyyg56B56jxXMfxe7TVEdrIXGFAGfEvQluDQxcvx/PNd/XTSqA90uHBZiA9L7VCW/rsk5/8ZBnraEvnoZ3xGz5ZDb3PW8PqQ8LbcvA7mWGt4hoJAFePvqzTlsgN8BM+TFvQ1/rNH+vugzWPQHfpZjEO1YGOqVO9Hv1N7pt/uFrIjl5p5g3h1WF4iKOn5v11+/Bn1sN4devSdSb4ONeCpB01PwxrUwtrFNisFGgG0jn0LMFj0uj+zoc97GFl10+EPWUgHgh71KMeVS5SZlywYKUQuFFMSdtXM5QfAUmI8oNMfiku+Hik9S5d/NIlnzjhHgrXTic7n77//e+XXRxnL33Uw7/uwqS9973vPfBBmBhxovxMhtQXXF74whcO3v72t5dJUugnXr7kuf3tb1/KQsfg3hfNFqHcZiBtBtJRfGj8BfjJGeMmu3zIGOPGGHX/GkNXDA/CjDtjS3ogrzHuMba8ezL2E5/wpOMmnXISnnz1OxzJTHGRN/zCPckD78QL964cbl2/MEDOCK/Be02jOl76GpI25SUu+eu8ieOKF1fH13n466ebti4rfjSwm4WRUj9pv77KIyy7SslYCx6LTEbMGFSFM5rGFd5ts7YqG50ZTBlJyVVhDKcm2HBXF6OpXQnSkEnSAPHapCz4pX3CYyCtaZM2dl1p5G8G0i5lpvuevlgUA2ndOjyDR92Xh18nAQZSC1ZjI2NYeeHPUWX1aSCt64STtqnPTu6ugTQ413kWwQ8vNIzhGU7eR+GbcRw+k57MyBF774lbqW+knQZE7qUt6g8O48qHn4ehk1wil1cC5ZJj6moG0h2phYfob4BGdJbj9r5wT8fQQVxpzEtW00c71jDZm75NneoyX/JxxG3btpWra5QWHk2fTlbD/FOjI/2uHUA7yUh3adoBid7i9M1q+Hs9LTImMhbh4VG3R5z6yUcfgnPsvm981tIW+KcdaPfBD36wnLDhxyOegPb1Deozn8a7QH+bwzm9Y/4lLrwL90Wkad80auU3CjQDaY88EAFO0ESox1XtK5eOh/syNMUDEsclTF2g/PSnP73szvEuvFZcEWAlc08/wSnFa1PC4ATgAYQHks47P6jjS8DSjzgCmKIgrE1+GI5NLHfbbbfypcII51pQy5c6LIwe97jHlQ9HCZNe2uDJtUh/ylOeUv5lFDcL2qWN83BNGNpX7NtX7FfLe8ZEZAy/yTFgLDNWsvDIuKpd/jzGH8MpVx55PeJNphOe9FzpEl7nEVY/yqnf+YeF1WnEA2HkgDZqGxnhPQZU79IxnwYAAEAASURBVB5x0vDXaRMeQ2vSJw035YuLX774U2be5cmTuOSFc9LBvQvi0k5lALRzVCrHpLQ9cUkrnTB0t8BkCBWnb5RJBnPTL4wUjg9GNpPP8uSqFOF4hA7T7+JSJpme9tf0YyQln2JYZVS14JTGw8hrR6oJO4OQeOEB+Nf97p2+YFgIj4Vm2lLTKmUIGwXyJo80oaE6x+UbVd6o8OCY+JQdV3g3TdL26apTm0ODut1OYmSHSZ84rFR23UehFx6Mf6X8iXclxbve9a7yJ0HKVEbd5qStXfzb1xF79aTfw+vqYyA1FgJwFJ+0CV8EN7wzSX8kD/y1qb6DVFjKSj8JmyWEzsGjW3d4JvGubiAvVwPypD/XaiBdCb/V4KEMpxB8xZ58noTWk6RdDS7S1GXGj07kvGPfdpPSVeLoTjowY0IYf7ecErDOn/SVflM/neaubjsZnayIHk+64M6t8VonGlPP3sVXBfANoK97YBlJyVvtlKfmXzRHk4yD5F2rq/y6npQTmibedUAHHnhg4V/p4RHc5JkWPql/JTd0q2kjzGPO5Hsd5mCuI0q4tPw1rt4DdXjC1uumPmUzjO65555F1/ijPXhlHHXrR9/ErRePlr9RYNEo0AykPfYI4UJ4ECoEiXcLPcrDroUXvehF5V+kpIswCkp3utOdBve73/1K/q5gSprN5KaN6OOh5NALXdAv0FWWFum+zH3ccceVHSTyAvkCBP8hhxxS7iM18YtBIPGbzW0G0raDtG+eznjNOIubcPUnjD8TqYTFjYxM+sjK2jWm6/f463Dl1e+1X5wxb4LPkMevDGmE5SFLhCVcOk/C46bs4EEmaTfXo01pr3B+sqxua8LrPKGTdBZdnsTHVY7wGGv5pWdQtOOKAUscGUDu8csTvzaomw6ygA8eaKAcoH2AoTJfsReXPtNu4N1CyaNcxlG7+JwOYHxSfo768+fdAkF9qSe0QWvymWHUo03aoY3eTdoj2xxpjJGVwdaRVuWGTtqVOuSHa/AvyC/9pB3epfdIU/vh6D20Sd71unWZ6gxPCQ/EHzfh03RTNlpoo0c/wActvYuTznU2DPD8yTdNXGZdlhMrb37zmwvPhj/q9o7CBw/Oy0AKz9XgOAr3RQzXJrxWj0djmzzL2A2/SRv/IrYlOM3SQBr6qRsNjV1h5OqksHXpqK0TV3hcGWQoHTIM0hdcD1D/WuodVv64MHqGgdTdw/xkFjzhYXwEH7Tw3jdoM/3ESOpPPnwLatpsVLmpDRlz5k9o/vnPf76c/kNzNNZecwD9QG/XY7kP2is/MgMO6jVfQX/GavJDPJB2Fjwwqp01/aTxjlb+2HX60SlKEP4QX0Pe0wd13LT9+pGR/+CDDy4fmgvuNQ7zpue029zKaxQYRoFmIB1GlSmGESQUZ62k+V/60pcOTjjhhLKgI3gIcuFAepOSo48+ulxAzT9P4T5FcgwtKkI/AhgttBc90M9TK47Eha7Su8f02c9+djmqHzrKkzIpUAtqO3L907jZIUYEO05C326b/RNsYol+oXE3Tc2bymH0cOTaJGkt4AiMna3KGlVnt1xp7RL2oS9jYSWAMx7hWsz7uEUmqyvlTbx/dRlcQHgocc3dkQJd/qrpVcfpb1CHeQ8fCPckf1xpQPIJ9+R9e+z234TFTZw65OHGL84kNeUlnmuyXb9HpiS/9zzCjIfkUyY+9aR85SW8zscv3MMvj/KANuBjLllnnNZhiUt8FrRcOzJBZGnyeQeMpY4XqzP5xQn3AIscxlY7+ZVnRxd5kjTCUr70ygHo4J6ys5euTLEASNvQyGNnKXqom18auHA92u+dq0zlAfUykhrL2mgBhC7BR9nCPBZKMbDCMTQtBS39pEw0BN6Dv3e4JZ846TzdcqRdK9TtU7f6gkfwS9ni4dQX1HRWR3gLHsFJGkfsL3ShCxU0Qru+cJpFuc1AOgsqr1wHHst4S2rjuBlIt8tVYy/yIvSpXbKhHo/SJ0+dbiW/OsyTb33rWxd5b948DiKn1DUP8AGhHLenO9PmtB9+2hQjXp84qp8+ontsxti6ZGhOn4U+kaXwqP194tVH2fQ2A6mdpJn7hPbqiy7ro+6UqT40xPv6F/29M1Lbbe80jTmKPqjHRvLP0q37uvbDAf/6WLM5UaCbJuF9u+r1oBf62ZGLp7s0lAaEr/vGq5XfKDAPCjQD6QyoHmFHmFgsMr48+tGPLkfJ6+ojmAgjF/L7QJELwCOM6rSbyR/6aFPaGuWXdkYQJy2XEKcUo/w+/elPD575zGeWD4RkYpLylEOJ3uEOdyj/jpvE1HGpZ7O4zUDaDKSz5uWMJ+Mx/uDgPWNYWB1fh9fp+YfFJc1a3RoX5eedG7y6bUic9HmSlhvjVR3GTw4B/jpOuKcbnndxJszkG7/y83gX7l16fmmFWxyApI0h0nsMlNJb4Fhcyk8naW/qkZ+fIVI+rniPtlv8hAYJ884vzoRavergV0fKIIM9wqWVh19+6YTZvSANHOw4ZTS1C9WHn7zDV9oa4KnOlMnNow4LpdrIy/jiPe2Bn3fG1hiY5U+ZdV3T9KfdcbWZvwvDwrpppvGOrury1LgkPEfsQ/9Z4TWNtg0roxlIh1Fl9mH4yXjDc4FmID33j7LueAyNarc7JjNm6zQr+eVxxP6Od7xj+TPM+7hy4CU+kLSzkAt4hWz3J//JJ59cDE21zoETfPAVnSdtn5C64EWHHXDAAeV6GrqsppN0SdsnPtMsG77p09DdqRGnUNxTz0+P08P0qH7om97aFzqqt8aPDt9rr73KnZp0u3SzwGcUzUM/bnDhoqU5hvvg0fKcc84p8eJA2jSq3GmHqw8tjRl0Y4e49rWvXYz+Nf344S79rHGcdptbeY0CoyjQDKSjKDOFcAKEcgSEThSLnaPHHHNMeY+QiUCUnjJnHN1///2L8MlicQooLWwR2h9hyw09grB3T5Rw4rmEed7dM/qhD32o0DZ5uRHodhXd//73H9z85jcv+eo0m8nfDKTNQDovfs5Y7NZvnA6DUemHpV0pjDwdBqkjkznygN/kFCSc64lczntccjzpU6a05JL3hMWfNuc98cqL3EqccuNPfdzkSb1cIA7UbT7iiCPKoowOgStjonhlWLRYTHpnLH3rW99aJuTe0SEyUlp5tckuUndhC5NGeVwLopSfe0eFedTDZdiMMTb51SWf8IA4T+oPXcQLD8CHLpROGu1XVspLHUnPlUZ6afLOrctVFsOoBQGXYUYe7/KL92zZsqXsRi8FTeEHLVxFADftSn/WuNW4wqkPqOuDhz7PEUk4aru6+R/wgAcMLnrRi/aBxlzKbAbSuZD9PJXiQXyGxwLNQLp6A2lXxkWW1PQMXce5+sCd0zYSmCvLP07uiFdX6lM2eaacvgHPpF5Xqzhubzcef2Q3fUVv0Dd941Tjgy4Xv/jFy1F7hrp6fpC+6hufadO/bl/KRl/3aDqN5g9XbVqJZ5J3va66zEWyPo6OR18P3rALkoEvfxyvt8715B9Gv5Qnzsapd7/73eU0JP4VNmtQJ9oZL3gWTcmD6173umVXbsKkARl/s8az1dcoMAsKNANpz1QmcAhwghwQKHY5nnjiiUUAdoUgwUOgP/zhDy9HXWalbHomw9ji0QQdQosIXW0HeefPZEdaCjKCPHkpmBe84AVlgZ6wlOEdfd1R84QnPKH8KyZuM0IzkDYDad983R1fqa8er3VYjGLdeO8pqxuX8JSzkpv8cev0KSuuuCxc+IXXccJAHZ5y425PsaPBLXFcMqx+r9MrN3HCa3/SDXO7OMrnUdc97nGPojfkM7kVnslsyqKLyM5XvOIVy3dfdReQqYMxzF2LylBWaCG9xZE6+JXJ9Qj78Y9/PGB8Yjz1Lj835SoLwDlh8nq3sORnaLXYZWxl0GXc9a4uYcrjlwcu4tWTMpXLD1Jf6iqBSz+hTdIlPK54tPK4V869XNMCO2LtvuHCC44euKi3xll8F/e14lGXW5ehXgbiXXbZpXwc0cKIHtF2wGUgFa+M4FyXsdH8zUC6GD2Gl/BXPQ6bgfRc2RW5kLE7rNfIDHSMnJU2Y3dY+mFh5O7WP9xBiv5An4yqN+GpM/o04cPqmFYYXNUH4Ogeasa63EmaddekNFgrfmivTnhpP9d1Xje5yU0GV7jCFUqxkZnwje5Za33zyKefo5vSBjrZcfuPf/zjRQ9r4yxAv6IxCL/BLfQX748+85frX//6xeA/C7wmqcP8BQ+jK5eh+aSTTipzH/T1BNLGvPfhqs8cwHwK6Es03XXXXQsfkw0Jl3ZWY6tU2n4aBWZMgWYg7ZHgBBpBQ4gQMlx3OD7ykY8sbi3wolTc7/WIRzyi/PNlcZLwHtGce9HaWNOiRigCWlhXWUQZcgMWm3aR+hKovBRPF/TDYx7zmMFNb3rT0i/SmNhwx+HSLWeR35uBtBlIF4E/jadAd4wnLuF9jr3U1cWljzrrutK21Ju4UeHSiUu6vCf/MDdpycF73ete5XgfWVnLxaRJvRYRr3zlK5d3kNZ18nuUEQMpmdlN08WlroOB9KyzzioGzbQh8cnnXZlAXd4tEuxWsLCxeBAG1+Qlo6WVL4sj+d1ZesYZZyzfhyYMJB89LD1XuR5leZcm78Kk4yZMvGfL0g5Su4GmBWj0pje9qSyGGB3tuGUIhhM66D8PWtjN5f5Xj7hu/9Zt5Zcvbfde0zn9mDDxjNHueRamz+Ehv3q9M1rD0UeafAADTiB1pExhKVecx3s3vs4nTw3j4up00/BvdgNp6J5+mAbN+igj+MVVB97LHaSpM+3xzt+FOn/8cbtpp/2eMZn6fKSJXBoF0mWcciPXTjvttLKzXHwg7R7WZmnMX3fffffl3e/JV5eRsHEuPDzubk97pB9Vb9rKNed0x/y4e+/H1b3euMjsj3zkI8XQpB1keJd2cPXQaaH5euuWXz1w4KZOspqR1GlAd7uqMyBNDcEL3osGNS/AM+2DJz+d5Yozu3jzR2XS1Hmn2a5uucErOOUdzc0p9EH0apf208RrpbLgFRy54UG84/Htg3l+3T741TgKc/WGayOMcTwa+iZd3uMKb9AosJEp0AykPfceQWLBxSUIjz322MEb3vCGorgJkhoI7dve9raDeyztAjJBEU+4U/K1Yq3zNP+5FEBfdKKoX/jCF5aPCYXuaCs+sPfeew/+4R/+ofxblsW4SWadJmk3otsMpM1AuhH5tuE8OQXoici5e9/73sVAulIpdNKrX/3q8kdd0g6b2NYG0qTLwifvw9yf/vSngzPPPLMYSIPbuEVJXfc+++xTFtlk8bg86o1cZ1xkkGDYGwZ1OeoKJFxYwrn0SL3Y5XfsjTst8CErX1BHYwsP9Vpo+hidP1LRULuExzhqV5d7yeW51KUuVT6kEjrBWXukF8at2wdv7/qDqy0e+RyPfN3rXlfmHRaSdCH8hDMiMubateuDdxZKV7nKVcr9bje4wQ3Kh7yUrU5lZ77Dn3C4qKfGSVxw5Q9e/CC4bX/r53czG0jRL8Z01EPrQPom74vgwi944U+8vsceexRehF8dzx/eHoV70qADwH99Ql2fdpBHxu8oPKWHU8ZvXAZS4y3lcZXHHQX62ckzH9ID6hyXflQ5k4bX9ZhH6695GUiDu1MLPh6E/nY3og1Aw8io0BpvhOeSf9qu8v25xEjnFIIdegAOAA1rHpmF3CsVT+kn+NIP1l5f/vKXi4Ff8dqO/nSC9kYHTKnqocWEJzN+4Jf1EH1Fd4be4YehBc0gMDimKu/mAOTGar5uL1+3jJTVh2snqROY+HjUNQDw6XtM9dG2VmajQJcCzUDapcgU3wkKyoGA5ncB81Of+tRyITMBHSUdAedya7sfGe8IGOEWKgRmEzgrdwwaoTVl/K//+q/ljj20AxSzOGnQnQH66KOPLrthTFgYoTcTjTMhGDdZbV+xH81T7Sv2o2nTYhaLAvRE5FozkA43kE7SY/XiiT+0pT+maWRhBPFnqd2ZvhpNZkd/+SiVBafFPoMpYyljHgOwhQmd5bSJjw3Kb+HCrY0B+AJoQ/xcT9qVePLujW98YzF2ukZAWXCBg11w8JGG6zgl49WWpR21juHvtttu5X6ybdu27bBLih5WT2iW+U4MqAkvSP7hJzo6OHP7hM1sIEU3fKIP09+ha/ihT9pOWnb4Uj54mrvYrWwODOr4EjDkB4/hL2OEf55zOjvBjJ2VaJ12Rb4w7NUGUs1Mvw1pcgky7puB9Fzq+HPH/FYf2B0fXkDjWW+EULc+JqOdWusetw/WXT5I+EZy6QcG/nzdHl9qP7obk7NYZ6mPbkmfo596GfAdt/cHIP1Vx8+LxjUO6f/gskhft4cT/OBrzuEbHu6mD4gLSDNMtye+uY0CG4UCzUA6g54yuaEg3vWudw1e/vKXly/xCiNIuICA2bK04Hj2s59dFikEjMldJnjSNhhPAbRiEKWITYx86MqiDqCnPpAmishF9Pe85z1LesrTQkK69Mn42hY7thlIt/czQ7hdT3hiEmgG0kmo1dLOkwLkGblGRzQD6XADKZmeSTw3/lET+eiA6Gjv09bBjCB2bVo41wZSdenPGDstOmNoIZdiMOXSaWS9BR9Zx3WU01eUGZiA8tIe6bXZglH5/AxKPhbFWGt3DQPphS984ZJXPFrRqx4LfNfYuOfvgx/8YNGzEjKU2ll6zWtes8hbd77FEJA6pQvdQ080TTvFe5dG+4Oz8L5gMxtI0dFjN7KddDXt+6LnWssNP3DhyWXIws94sA5XR9IMqw/v+vqy8TAvgJ85qB3YNX938enKF211PRTZIC7jL+3v5s+7OpqBdDs1Im/ItFNPPbX8oYOWHoCW0sxKxuAFvEzO4kt3klpvwKOG4F2HbSR/1l6/+tWvBu95z3vKlS1ojs5oYA7uDz7vfQI6qqvub/UHD/S3AzJypU9cViobXhnboZV3+hmtfHDY1Te5tqBuU/KtVMc040NDO8UPPfTQ5TlG8BKfdkyz3lZWo8A8KNAMpD1TnRAjsCmNRz/60eWeNAKkFm4RKre73e3KHV/exYOk7RnNTVE8WlF6JiLod8wxxwxOOOGEZYEdwR2auuPq8MMPH6B7dilsCkIsNaIZSJuBdLPwcmvHeApk8k+uNQPpcAMpGoHo1Zqiw+JqXRH6DstblzOpv95Beqtb3aosNoKLsuKv67VwMp+AH6MXw6m5BUMMw6V4O6Y8dg/ScQywjEZ0gqOedp4yqMRwY77B8Pra1762GEgZQRlK1UGfBvjvd7/7FcOT8tVtZ+v3vve9wTe+8Y1ypJXBEV6Musqwy8SRvCtd6UrlfcvSn8BwADWNtTF0Fsdft1tYH7CZDaToh1fs+MUj+hldw1d90HOtZcIVP4Dgyd/lg/DEqDYIx+92OPmTIPmTT5l9QuozB/3+97+/g2G6W6926p+6vfyf+MQnSt6MD/lCn1HtaAbSc6mrD9IPZJE7SRmdycbIs9C9pvG5JUzXF1y4+sn1JAylW5c+eKM/6z6VBg9sJMDr6Kod8Ad0G+Oee8gBeqdtSVMievgJPdUJL30sjIv+/jjcd999Sz/Qj/Omd02P0DD42rTz1a9+tcgE+j382wPZViwSnvDK435ovHzFK16x4JV4BUnToFFgo1OgGUh77EECg/AlqH2t9hnPeEaZMAmLYo5rMeP4/fWud70iXORpQmbyzkFPgMaOKj3pSU8qyjolUTBoG3Cfm35x8bQrDmJcTfxGdZuBtBlINyrvNrwno0D0DNnXDKTDDaT0ATqBuPxoNkzPJixu9Ere5V0vdA2kFmtwy0Ke3wN39fJHf8HHYs8fe3buiKe7Yri04yR3mFqkqks5jJMWiOqy69M9pnba0Ymvf/3riyHVDhtGJmFpt7z8D3/4w5d39aX9SScNQ6uHcchXjd1Hd8oppxTclMlgGgPBAX/44EPanD8p0+aU36e7mQ2k6IZH0J+BFF31IV7RV4sI4XO48Qfg3n1PXO1qnz8AnA5iIA0YG2jRN9R4Ghcr0Rm+0gQ/729961vLrjFhya/t6bthbdC2toN0O2XQjZwML7mm5AMf+MDg7LPPXv6jIHFxh9F0WmH6zdoiuyfhd5GLXKTswMsuezKf/As/TKvuvsvp8nsMeMJ/8YtflDVY7tS1xjUm+obghJbRKeqFGzoDO3hdDUMH5bRE33hNUj48jWl4c+uv22tfTUc8PAvI3MN8A/3gaIe/P1RdXRCAH5gVXqm3uY0C06ZAM5BOm6JVeQQEIU2w/Mu//Es5ThflHYEdhUhIv/SlLy2LFopU3ggkboROVXzzdigQZYJWaOYftyc+8YllkZZFpHA09wATUDt7HRcQtlmEejOQNgNpZ3i0101KAfKOHCO/moF0uIE0+jPyPW7NEkkjTDx9wg1tE17nWY+fIdG9nwyHdpCS2ZkXqLfWR5k3pK+Dn/RZWAvzSCMvncdgajenhz5kJHA/n51VDKWMoxZgDKZ2gbpf7GY3u1n58rIyxKVOC6KHPvShZXGv3TV9vId+cFC3HaauAfj2t789+NSnPlXupmOsk88dp64C2Guvvco9k448bl3aUcWQEBqoPwYi5fcBm9lAGt7w4RT9r3/Sl+mrPmi6ljKDl7x43XuMG/wefLUSSMNAethhhxUeDg1Wm3+l8sfF41eAZ9UXGId30slrbgp8uO2MM84oBojk5Y5rg3HaDKTbKR46oWn8jHXvf//7y47G9BMZVR/F3p67v1/1RpfoL38U+TOK7I3MI2PD9/1hMr2Sw79KDK+GvtpKBzDueeii7tiYHibnlkR+MMbCw5Oxwy8cjbOmZiB1HcyiQPgVPtqBT9gD8MeJJ564fG1B3bbQve82pK/1Idy46OhPTzv2yd1Z4dJ3W1v5jQIo0AykPfIBgUKI+Pf+UY961OD0008vtUXQRHBbFNznPvcpiyQCvMHaKBBliOYUCnC8jOHZ4i+TEG4tyH1d0hftCXhQx5WADfjTDKTNQLoB2bahvAYKRM+Qf6sxkEpHBrr/8uwlg1lAeBYOkYF2utgdIJxcVVetv5K369q9uEhfse/itwjvdnXatclYmDtIp4mXftKPHv1tUROjqXe7PHM831dzvetju0LsNGW4pUcclbeI53/c4x5XDE81D8QPd3XlPX58ZUerx72AjD/f+ta3lo/kWzjDwxe43RdtweVIvt1Vl7jEJYoRl9Eg5cIdPwaEhzdTp7iEx1/H8QNGajtd1W8xClduFoAl0ZAf+BgbaCJtjd+Q5CVIncpnLEDvcZC2apc86nG/K6N22iU87RhVlrTmQAxE/CulH1XORgpn9LeD1OmgRW9z8IuLzscdd1w5VssvHA/gee4owLPNQDqKOtvD/SlkJ6m7YRmd0Ax9QU3/2r89Zz+/6neXoz+H7HYmQ4zPYTgFg400ftMOtP7kJz9Z/iRjnEwbxK+Gt9P29brqzThSN/lpzedPOsbqXCsTmSt9cF1v3ZPmh5+648KV/vza175WrotwrY04AN/4vdf+WeCvfn92ukrHsXu6ObSLjvLOL22DRoGNQoFmIO2xpwgDk2cfM3jWs55V/rkioGsgOPbbb7/Bgx70oOU7k+r45l89BdCbAmZkRneKwiTEPaSveMUrym6WlEaIE9jSmJgwYG/btq0sQIRvdLCgcjeMBdUoJWmhRumGFsPSoY94fCveBx/sCDLpWQu4ygBeyoryXKkcaV1UbjeSfl0J4IwXuBZL7SNNK1GsxW9kCoTfjafVGEiNIWPqVa96VfkyurFSj8eMeeXFQCpNxpR46cdBM5COo872uL4NpOkj/QXSz/qfX//aQSWewfLtb3970RcMlO4+s9PU3ab89IlTLmSpPxQthCzst2zZsrzjSXnhEfV5pzsAvSwu78GJTLfYcwz2M5/5zODDH/5w+SOZQY/RwKKVsdROH180pzv8oRxIW5RdQ8oPDeo4fvHiuAy0eU/6LKS7+fJuR+Y555xT8K7LS/wwV9lo0gykw6gzvbBmIN3xj4rpUfa8JWUMiXHslsFv3JzzvCXMNsQfIe7GZGgiOzLOa3kR2dg3ZmSBev1BRpbuueeey/I4cggOkU1x+8ZrGuV3cSVj/RHlLliyHkjjyfqiK8OngUddhrqAetBX36f+rUunF1xv59i9sL5xqfEa5o8uFQefmh/8qffOd76z6B94ageo05SAGf3ADw7+WD3ooIMKL8MfwG9cW2aEYqumUWBNFGgG0jWRbfWZTKSf//znF6WcyTyBwXDnnfvgBz+4HPHOP4irL72lHEUBygKdCW+Tope85CXl3+OEia8VD+X4sIc9rOxYmbdyHNWmScKbgbQZSCfhl5Z241KAHMtEdDUGUi2Vx59G/vCIHFQGP71k0cJv8WYHKXmZCXjSj6NYM5COo872uL4NpF0M9JunBu/mIHZ2vvKVryy77g488MCy2DF3sZhlJGXIZBCkSy2E8IXj+LvvvnsxijBiMpzWu/aia9UXw6iwAL+6ATyU7cg73mEs9XGVL3zhC2XXq7tSGesZZm90oxuVj5y4Q5UxLPmj072HV7N4DD8nvKZDwkpBq/iRl9HYDmk7QVN2XeawYtSjzc1AOow60wtrBtJmIB3GTVlv+UPGtROMpPWOxsimjOdhZUwzjLyw5oODP59ucYtbDLYs/eHUlUfBe5p1z6Issje0RNv8CXbqqaeWDRba7kSDNJm/9IkXeoe2XI8wdesDtNcH/pSrZXny9Ilbt+zgykU7OMIDnuhGh/gz0a7ozNuUUberW2af73BiBLeT1HVB+Bnu+jaQduS9uY0Ci06BZiDtsYcIiOOPP74co7MY8h5FENdujac97WlFsBB+whusnQJRKBZeBHIEtGM1T3nKU8oxQkpEHBBPkdt16h4VX+n1T/hGh2YgbQbSjc7DDf/VUaDWK6s1kNI1733ve4thrM4f2ZhJt6PVjFPCJ4FmIF2ZWn0bSPVrIAunvNN5dGQMiIygjvs7Wn/IIYcUYyTdSE/mDjQ84yoABgbPN7/5zaJPGVJzhJ7h1M5POz0dW7RQ8s6YScfCI3Mc+IX34BWdLA0DJIOpctXDUMp4yu8uVXXaScpA62hxTiZsWVrkOqpvwabsbrsTpj5xeeeCuMGxBHZ+QhMGFgvU1YL65G0G0tVSbG3pmoH0XN5eGwVXnytjSI6NsIM045v8cLLPF8IZIGs5IY1HWJ+QOrjk8GUve9nB/vvvX9aCZHPi4RB/3zhNq71pU9qhXLiT5+6jduRem8nZWu5Pq/5h5cAp8xp1xi+cvhBmB6k/CBlJax0wD7rDK6B+71x089iN63E1zjwB3eAVeuJjJ038mUnnZw0eHOdBy9Td3EaBSSjQDKSTUGvCtCbyj3/848uk3j9lBFwt9BT3d3/3d4MjjjiiTC66cRNWt9Mnj6DO4gjNCe0s9F784heXj2IglHDpY0jll+55z3teuUtloxOzGUibgXSj83DDf3UUoDciz1ZjIGXwcrTajg55M/lWW/xcC0cLyewyXR0221M1A+nK1OrbQJoFC90W0K8xjCZcGFze9KY3Le9kYhgPb0gvjR0iTllYPAL61YLXPMfDaPq5z32ufAjFDi1XsTBWMbB77C7dd999B/vss08xmtqJGj7jAnWqD1gE0sn4kCuNeiwI4etaAMdlP/GJT5RwddnJCj8f3vABFIs1vI7nczQ/7VJH7fceED4KxGm7P10Zcr2H1qPyCIc/mjcD6TgqrT+uGUjPlePrp+b4EvB0xsqiG0gj74xVMsXYfde73lXklj86tCVrhfGtnk4sfNAsf0Cp2x9Ujto7ck9eZcdgZOF0au6/FG1DZ5D5BvoC8w7H7f3B5CNOwms+Kol6+AmfqquW1+hOjzHmwZvOoKfcgR1dFNx7QGuiIrv84Lj9u9/97nK6Q/vwSWCWOKsLHelFPG2u4E5SBn96Ht7ou9H4OLRs7s5JgWYg7bHfv/zlLw+e8IQnlCNqBDLhG6FFmFDSRx55ZJnIiyOMI8R7RGvTFh3aEsLoyFCKxpkQUcrugs0HEqSv6a1PGBjuete7bngaNQNpM5BueCZuDVgVBciw6JfVGEgVSt+AyMy40VF5Z+h0/28tJ0vGFX6agXQFAi1F920g1Wf6MX0JI2F0It0YEG+h9cY3vrF8jMlJCsfn8ZSFDb0oH9d1QO4YZHQMpB56V5vcH+pIvg8j2vF50kknLX99NztMlW+Xybale7+3LO36tMtUfcEVjuZDcfFlcAiPWtTaVcoQ63Ek/33ve1/Jw0jquJ+PPFmk2RXL+GCxFnzhX/uVC4dueAmofqTTVrt3LP6DT5VkqFfbpG0G0qHkmVpgM5A2A+lqmIlso6fIDPLKWDb+jW1jNbJoNWWtJw0ZFCBjyVfHlBnoIpNiGEu6jeDWOEfOcrXJ6QC7SE877bRiVEP3mg59tA9t6ROgPnikTsY7BnNGacY9euOOd7xjOUkh/ax4QV3DIPQTh0/hG5c+wcPak2fW/Ks+dYfG5hfG0c1udrNi8A+9uQ0aBTYKBZqBdAo9RXhFABAUBAMB9rKXvWzwmte8pgiOVBOBLL0dFc95znPK7oqUkfikb+76KRDlRik7Zu+rrpQ3WosL7Ql4O1Ce/OQnlyOBmSjBIGWsH5vZlNAMpM1AOhtOa7XMmwK1/FqtgXS1ODt6bafHpHqpGUhXpnDfBtJxGET3JY07SBlIHU8/9NBDlxeGiY/+8zFJx+ZXAuXTsRaddmcp3+7P008/vey8ZJBlSKWTpWFwdVye/nUcf8uS0dSxeYZUhk3GUvoZHsElbaCnxSnLjiR1MV5+6UtfKrtNvavL4tfC1w4tx//sanWkUh1dg7GylVkv6NSbOrXJuGCktSjMXEG8PNykDa3kV+ZGMJDCHdRtTjsW2YW3u2pve9vblv5NH4ZnhuFe91P8yTcs/bTCUhcXhNZvectblr9in3D8VfNiyVD94EE7toxf5SRtyq6SFq80+fMBDxurawHlxyhi17nxBYdR9aoj7eSXDq76zJopYUnD7RvIDV+3J5vQRJ0Zw+oODniifi8vPf1YGx6w9GE6MpBsCg51dcLQLzSs4xbZH5wZIk8++eRy3zTaJpwbmRo+7rs96qzpSR+h/balP/DoI3FwiZyv+6P2zxLP1IuONmPReU5xaAuoedh7wvlB8m9/m/6v+siCvffeu/wZWssFdYuvcewbn+m3sJW42SnQDKRT6mGDm5CnzGwzJ0gf+MAHFqWbgZ80quR/wAMeMLj97W9f/CYHJilJOyW0WjFLFCCI0ZUwtmh6xjOeUXacdBWGvjNBuv/97192nOSiaURcaYK6aIRuBtJmIF00nmz49EOBTDTpn2Yg/c9+iNxDqZvZQJqFJLLRvd15jbkOI+nZZ59dDJt2gLpn9GMf+1gxalqgMlzSwYyYjJq+Yu++0RiBLKJrwP90PMhcinvWWWcVfW/x6Fi8uwftbLXT0HFK98Ar+8Y3vnE52qruzBmUVZebd+WeccYZy9dUeK/xSf4s9OVDA2UtsoE0sgS+aQOa6s+NAGisXw877LDyIbEswMMXw9qgnSD9My7tsPxrDQt9ufEri4EUnwbgtdL8k/E/BlJl4TN5ckQ4ZcVNW6V1hYodlEC+SUD68LgyjZ2V6CdP+gWOcL/NbW5TDNrqDi3iToLPWtP6Y+WEE04o8gh+6g4EDzhPSp+UMalrHWK3PXlH9qFRF9AO7UPPbvxGePdH00c/+tFi4GOox0Po7cmfYn23I2NBPeHl9LM/0fbaa6/BNa95zRIX/KTlnzXUfR2+DA706SJ93R5e8EXTPfbYo+jX/Lka3PG5eO8ryY20s7mNArOiQDOQToHSBGUGusHOb4Jz1FFHlSMcUaxxpd+ytEPikY985PIXgk0sGFbnIXSnQIKFLgJNTSa4BLa7SN095J83IJyAjt+C7LGPfWxZmKU/GU+jNEvCBf9pBtJmIF1wFm3oTYkCmVyST81A2gykq2GrLFCSdto7SFMuV114c9jcJosiC2UGTEZjCz2nPBgS7Yyxw8vCKgZN9/PZbUpP2wkqPPVw63qi14W7+075DEKO/yvfHaZ2O7s3zTF/O1h9XModpna+xFiacoKvspQBN/WZJ2SOUdev3oBwdFhkAylcg3/mO9qc9qcti+xe6EIXKsdjd91117Lo1o7020p4p52hwUrp1xOvLvXETVnZQVrjslIblGNcGAvy5Vmp3dL5s8AfFMpInweX1bipI/jGHZXXODGflo5fft9hMP5qeoj3PgtQF7ngDxq0yB8s6g5NjPG10mjSNqQecs+VJ1u3bj0PD+dPmdB/0jrmlV6foyXgJ0Ndf+a4vbUz3rA2YyCNXO0T19RRj7Ga9/xR56j4lqU1e417nziNKjt4cYMvXsEL6Ea3jPq6/agy+wqv8YPjDW5wg8G2pR25IO2YNz0LMu2nUWAEBZqBdARhJgmmoKKsIriOPfbY8tED4SDCgktY+DjTne50p4HJHAEtX4TGJHW3tKujAOXhzha0P/PMM4sB1KIwylF4Tf/73ve+g1vc4hblTjZKm8GRMJdmI0AzkDYD6Ubg04bj+ilAJtFBdEszkDYD6Wo4qtZ10k/bQEpXAvp1JQgucfExo6X7RX0kzMLZ8UFHYPnpcneMMgZtWVq0Xve61y0GUzutvMuvrLrulA0Xfoty10ecc8455VSJ3asWlup03NeuUkYJRlgGCju5lGeeoG3mEgyk7jM39hKubCCMHy78QBrvi24ghbcHvp74SyMW/Aeu9RH70Bza6YdhTdAvSVP32bC00w6r6ct/3HHHneeI/Uo4GRN4NHfsaqsn47CLc+pEH/NhfA+ETwrhk9Xm1xbGr+BgjRS9paxA4vPep4tOxrcd7Yx1PgCX+rmeeQBaXe1qVyvfqbBzHp76NXQKXnmfB46T1hlay2dthRf8cXXiiScWY73TlNolbtyYnbTeUenRLn0cOiYseewgdcLA/bA1zIv+db388DWObLJyH6nrX2J7qPGdpV8/ZxewfnRVzk1vetOiU/E1nIWvJNtmiXOrq1GgpkAzkNbUWKM/gz1C1WT7hS98YZl4JEzR/MAE7qlPfWrZ/UApExKEWT2hLwnbz1QoEAFMkaCx92c+85lFIQtLOIEO9BNh7qg9pRghn7iSaMF/moG0GUgXnEUbelOiAPmViWYWmlMquhiR2h2k06LmjuVs5iP2WoovA5n71GGJ67rSJL04iz4GTa57TB2Zt9vL1+ztfmPoZKi064jR1LFIH4Bi5HQnondH6S28jRNle9TjMfdyvFMdymT4NIdjJHH01v2l8vloyhWveMXy+ACUXaT0rOOv5hQg5fLLU7dXnHQbwUAKd7TzB36MMtq0EcBu4K1Lxm1u+oM7DrKYxyvhk3HppxlX84hy6yP28A7fjGuDea0j9voroFz9OApSr4/wOWKPNxM2Kk83HE7dPOPwTH55PPDm3vOe9yx3PtZ5hdfvyTttVz01GO/uJHWFBiMdyBpgVjipU9vxpV3s/qjxR9CWpT+A0AxejOL6TLpZ0AlO0wA448uua+eu60/wYtZi06hvpTJCw8jr8ENoykVzpwuMsfpe2KRVR9KvVN804rt8iF5w1Ba6DO+6uoCOkjbPLPFEzxjA4Yc+5NM1rnGNcm0BYzN84T1L2k2D/q2MnYMCzUA6hX6OsDfYCYJ/+Id/GJxyyill4m3g10KUot13333L8XsTMfERbBHUU0CpFVFRIH0QIWxBZCeKjzFZcKH/MIVsQfT0pz+9LBT0Maj7sqpi4bzNQNoMpAvHlA2hXihAJkUHNQNp20G6GibDM9GH0k97B2ldfvxckHoTLix+c6DwsnSexHXTiWMUtaB2RP/spd1fjuQzcNoFxohqvsWY6aMnjF90+j777FOOz+ejEcFH+eoPMLoykCr3q1/9ajFsnnrqqWW3nbwMFMq2w4vLKGsHH/yHzSfUo/xFNpDCMYta1xcwLJsvpe9Cm0V2Q2fzuoD+yBwuYXG1Tbz+1Je1kTFp+nC7fK0OuId38572cMcB/s5aQlvH9Zm4pMXb/qzR7yvV0a0/4zVtydgdV3fGh/rxFgPg3e9+98Jryk9e7qg+6+Kx3ve0I64d7G9/+9vLnyOMTDGQrreeSfLDRX940IHB39ftXS+CX9N/s6LRJLiPSxtekSb0TlvpIV+3d0Ud3piUH8fVOyoudcABhJ7wRGN/zJENdI2TC7e+9a2LkRRPgPArf8rinwWkbvXmq/Zx6Zl83V46PCPdrHCMTIUP3iVf4KF+Oviggw4qtO7SfRZ0a3U0CqyGAs1AuhoqrZCmFqKf+tSnBs997nPLETGCgTAgFAjdCIL73e9+5RJ5RizCVxpxBG4E3gpVtugJKBD6Z1KhLxhGH/3oRw/8ey687h9Fe9cvT3va0wb77bff8oRkgmrnmrQZSJuBdK4M2CqfGQUi3+iQ9RhIo3vIvcjKfMVeYxLPlWYUiGdYssixqJDWk/zD8tVlmjxnd8G4epQjXrsZs3yAj87dKLDZd5DOsh/CWxbYDBrZXer4MIPTZz/72cLTvrS9ZWkXlnvluHjNH9b8IHqf39yM8cZYYIC1s8xRZDtY7TBzT6odrIyljGoMVO6BtHPV070bFZ/aberLzb///e9LueqpQTvgAPg98jG8OuZJryeNcGm9jwJx8IQ7/0rjKfUq14er3OO5swDazMtAisb604M3yM0ujOtnae14xrPhn8jGbjndd3NgV02oe1ZQ8yI87SCd5x2kw9ptR6NrN8gS/YGuMYpJrw3pk5XG4bDy1xJmB/uhhx5a5IH8+gz9PDXU9K3DF9lfzzmOP/74QnftEo7uiWc4tbmIwa1PCA3hEDozlPrTiJGULglOccMP3f7oE8+67OAsjM5673vfW3SU+VHu02avqP8MCc4pp2/c9SVcDjnkkHIagx+EhsGDW7enDm/+RoFZUKAZSKdAZQLFQP7/2bsXaFurum78SwW1lPd9dSSB13NQ0VRIRIVUlCBQQPGKpmipjXRkji54GyZqZY0yvIwstWFGVoJXvCAKclEkpMArikIodso0u/z/1XgbVirwPp95zvcwz8Nae62191prr733nOc8e95+c87f/M3bb36fOZ/laLsTh5dffnlRcuqs0ZiYvEk57bTTiiJmUTVRxRbfzPwkkIUgC4Q3lW9961vLQmxyZrI4ZGJ2xf4lL3lJabcskvPjcHY5N4C0AaSz600tp2WWgLnKGmJ+WgtAqo6Z9+QlTydpbKAzd8ZGm7mSuzbSuq7sZBLAsk5T09XulCusAaS1ZObjruWthFmfIJ0P16Nz7fcxfmu6/mdzqD/qy06V+mSEU6ZAQ+Fsm7ZcnwfUbO+uaLtK6XNITg3ZGGdM2KDLS/8GlgKmAEzyBnoHpJfPXe5yl/Jr1E6Y8gP+le8FAmOM4VXe0RG50z7C+K3nAFLpxUmnfuJHjUP5o20AKUmMN+S4aIAUV2k/bcWk7Ytnwj/2EV5I5UqtZMl3XBYNIB0uITI1dwRkIk9htanHL/e8jTL8IrjvzZpPvHDBV+YP5dfzw0baU+I7fR847Qf06uv2qZf6moMXVTfl1bxZK8zn2kBb4CM07JjUJf552to//S/lCvOyxbe7rQHWqJWMdExdh5XoVxtn3bKewkLcujjssMN2n9qv+7H61PVabXktXZPAaiXQANLVSq6XzuRCYX7FK15RvollAjCJx85gd0XCCVInAkwUwk1Icfeybd4ZSKCe+MnapMuwP/CBDwze9ra37d7Ip5281fI23rdInSK1EOZN1wxYmnsWDSBtAOncO1krYCkkYH7LvDUrgFSe5ko/kuPUXObQSSqMNr9E7qXhJCbloW0A6SQSWxtNLW85bXSAtC8N9ctmy9ioDV1LPGDUBtyjj3/mM58pn0ZyYkxa4CZAMt//8w06pyqdFKUbfOc73yl6Q07tOWVGjm6nAEvlB4i12ZefdPQJeQJfXfu3uaZXsNF48MYI8+AXje/fObUkPuN93GYWbQNI69Yf7SbLRQKkozhJ+4+KHxZur+HzEk6NjesT/fQNIO1L5Ca/8ehlhhON5gjjzqON0k6xp5X7TaVM7lI2kNav2z/0oQ8tcwKgicEHHsSbNxbBz+Scj6ck68xr6uIllE/V6Z+A/5waRad+kfv4nFdHkfz7coyc7eEdoAHyxSRuVNrQzdquy40c8R0Mwlr10Y9+dHcfVn7SzJqXcfmljdOX/bjiscceW7ASYbXs1ovHcXVo8VtDAg0gnVE7m4zOPvvs8uNM3toEGI2CKx5o9fKXv3zwiEc8YvdCkIneRGByaGb2EiD7etHIBom8bWScELVJCk0mZX5vC5/1rGcNnvrUp5aNjbw2gmkAaQNIN0I/bTyuXQJZO8xXawFIM+/hKHMh8McjblIjrVN1rhIDiyYxddkNIJ1EYmujqeUtp80IkEZC1mx9OC8467qnXzv16fQnPQBA6nMNvjfqpbfNpevyruWznTR16gXgCTAFetq824wqQ/8HVMlH//eZCreKXMsHstAPnUqVxikw30WVrw239AAOeWQM4tE1fuBdAFJ1E08/YY8y0jaAdJR09gzXT5YBIN2Tq8l8+ow+G4BUu3sm0VcbQDpaxjm4QkbWM3OB8VbLNuN0dC6zjUn5Trf7VXCHNzIH1HvImsfZcjCf3Go5kru9sRet+SapUtXPXF3Xcz7c7MyVDBnjKGMJn9nfm7t98sAaYAyaj6VJXaRZZDvU/KbcgKS+SXr++efvXl9Sn501XexfvHnIC8D/qEc9qtyQyPpXy1E/aKZJYD0k0ADSGUjdREMB96M/fjkuJpOjAW7CfPKTn1wepwf4xXviTrpmz1YCaYcsGPGzLR5vectbyhtiC5wwBm3azeL3i7/4i4OjjjqqTOiz5W4+uTWAtAGk8+lZLddlk4C5yobBOrIWgDTrkDmQW57yntZIb0MJEHIKJHPqSvlkbkbTANKVJDWbuFrectxoAGndL+v+NSw8dWXHHSnyp58nju00qOu1wEygiP7sJCjQ0+NqPjDKOAGU+i4doMJpU8AFv+932kijcQLKaWxg6R//8R8XMItb/uLQ0DOAsNJbvwPIqh9g1K//smMCIsQ/zFaXBpAOk8zNw8h5GQBSbTat0Rf88Ki+NC141ADS4dLOGsjWN4xXP3rjsxrkLcwjnuFehNE/lAlE8qLFKcZct8eX8PC8KJ5mUe/wrH76sLqw9emLL7548MUvfrGAe9P277XwRn798SjMXhEf9oj2867bA0vN28KliezVa1E81+WqNxniUThg2Qs/3+O2pgnLgzb8cs/TRB7KS3+1TrqhYY3z+QLyEh/aefLT8m4SGCWBBpCOkswU4Qbxju6XTk855ZRybSsDPxOOSchH/F/72tcWBUzWmfy50fXTCG9mNhLImz0y1lZsbWLhEOdq0qmnnlo2ROITp43QmqxteF7/+teXTctsuJpvLg0gbQDpfHtYy31ZJGC+MkeZu9YCkKqPvGIyT7KnNTbdF154YQFIk+dK+aBJfANIp5X29PS1vKXeLABpLYm639X15fb0N601jbGU+DqcGzjqtCnwn97npKn+DogUB9jcd999i85gs+fX4F2HBb7ROd7xjneUE9byRw+IBbY6de1xpRedNRxYCji1eXzSk55UTpICQMRHP6nr3HfjtwGkfakM95t/FgmQ1v0qHAljMhcmnJ24OixufcE3SPUjdPovMyyfpIndANJI4uZ25oHsIYz79773vUXOXm4Ywyu1y81zXHuItjb+lc3tpclDHvKQcqrdCTzh4XvtpS0uh9RLiXEHiNSvnX70o3v5AbNJ+vZauNeuyvDUbYw33351uIZha4P73e9+g6OPPrrcNBSe9NyLNuEX74DRfJ7A2mHdev/731/WfHTqk3ougs/IUx8lR+Mo8nST4sQTTxxs774BvhH78CLk18pYnAQaQDqFrA1sk6FFiDGxWIyYP/qjPxqcddZZZbDzo2UySVK8Xv3qV5fvTmVCKgTtz9QSiLJisifLuh2SWSbhLBTCExY3v/bzZti3Y72Bj3JR05ioLTB+gMt3wLztSr7cFiB9Qn5OEgtj8zPyzIYGr9zSJ4/0IX7uhEuvbI/84y6Zdn+Sf/y13QDSBpDW/aG5N68EMm+YH9YKkMqjngMzN00rPZtuJ0jNrZMYdch81gDSSSS2Nppa3nLaaADp2mq/ttS17GzWncZxOvQf/uEfystWm/hLL720nDi11gM4nTJ1Nd+LVgCoDWH9g0s4ApT6Lqp4+cnHFVPlecG+bdu2kg8wxA82uZKf8TlszEYvcvIKsEMvoTsZZ/L0MMmjrhcaG/799tuv0GyFP+q8SIB0ljLVrl70O203rZkEINWP03eyRqQfTVte+hmbDk9/ft7znldO4skr8ePyDR9JIx2T/lw8M/yT/K+77rryA0LGFD2fyZ6ATBi0k9ajJFjjH3PBCSecUE6xJ6taPiuFJW6ZbbK0RplX9XNythfXf9iR/yLrkDY2NvCj3z360Y8e+KamfmHPFjt81W1SuxM/Tzv9EU9k6AW2NQef4uoxjg9htUnfrsNm6Za/xzr5uMc9rrwgzBomPPzPssyWV5PAShJoAOlK0lkhzuRmwJqgKaBvetObygf5hXmisJp0DHLfsaQEUDLWYzJfoSobLopClW+Gkq82MIFqEyaTadzChfXDtZH2YH/6058u1+xdn6vzSh7a1FUWAITyfTdF2gCeFBRvEfHDKFM7i49fOfIWxuaXL1puT+ognEFX88M9iWkAaQNIJ+knjWbjS6Beb9YCkMrHvOr0m3ks8455aVrTANLxErPBPvPMM4u8n/CEJ5QNwfhUs6HQ1vVa0gDSyeWatVmKyDFjhW7gh8k8gFMAp18PtiH1/VHhxoYTUXQIJ0Rdxbde5zuk3MZf8rKJdeoHGOvxXVN6An3DtU4bSgCq06pOr9rwSo83Y9cJV3nk5b60afu6LqkPW7zvqwJIuft0aDaLSd3UswZII6ONUE+66DwBUrLQb9KvyMyzGhnJR7+s87BueYmQ8OSbthnWBuKyNq2Wl2H5jgoLL/T3XLf3Gwb8GVNowkvqMCq/WYaTg7nEHoUczSFMeIkbnb5iz7RRTGSLX/PYJz/5yfKJEnVLXxIXt/BFmJSjnfOYk/3GiM+t2BMKJ2/jpm8W0T8iE2WnL7CBpL5Z7HbBsvy6feRDVta0Bz3oQYNt3UtBfTX1MNYy5hchv/DU7K0pgQaQTtHuBmkGpROFjoYLc3X+E5/4RHEbwIxBbWJEz/37v//7ReGUjuKbQT5F8Y10lwRcJfrDP/zD8racPE325JlTltogi1cWJu0kjF+b8EsnfRaOHd11OWG1kW/a3YbGCZC0n3yAoPqBzY1TITYo27pJHZ0Fku0HFlKm/OJOucoLf+LyCE89xMeIl48n/S1xsRtA2gDS9IVmb24JmCMyT60VIP2DP/iDwQte8IKSH6nVc9E0UmwA6XhpNYB0vIyWkaJet7njN1ZirNfGZG3oCUDTP/uzPysgKaDTqVN6B+DTmk1XoJPYaN/lLncpp+roEV5aAO+UYUMrjZe5vifnpCk9BEACHPEccMAB5deVfZvQRjg/lkb/URadFH/ySx1Sj9hbBSBNG5FFDZAmfCPY8wZII4P0F3onfbjfx0O3kq1/MfLy6JOPf/zjy3c0kz+bCW3x9P4YYzUQmOikjX/Wdngyf/t1ey9BmPDed5fIOf/RDtrEPsQJRuBSZJOiA9TNWz4pb1Z25qPsdbxkOvfcc8u3YLlrAE2fWM/6KdsD4Dv++ONLG2QPGnmoT+o0b15TjrIjG2WSJb6sR8vy6/aRD77ssfVlp6J9XgbvjH5eu5Om2U0C85BAA0inkKqJJZMbMM51FornS1/60nI6IBNPP0tvk4Cod7zjHUuUQS6fZlYnAb/z4TAJAABAAElEQVQI+5rXvKZ8vysLDDsTp1xNsjYaNg4UOX4ApnYjf/TCkg6t9nTKw+mOTMSx5cntutz++++/O71viHmLLG/plWWTQzmxycnmxsfUbXgApiZ+m5mUX/cFi73FK8pAykWjfA+3umaRQ9M3yrdIu8YXGfVp/KohBQMf8htGpyzxyhKvrn6swgK2GuOD5viK3IeV2c8XDcDF6TZK3jgTWbHJ+qCDDirtPi5dHU/pBcQz8mmmSWBZJZD+bgyvBSBVPz80+PKXv7zMM/XGY9q6N4B0vMQaQDpeRstKkTWhXr/qMG5rVX8MoT/99NMHrukar3QG1+mjewA96ZTWWzqJ9Ytu4XToYYcdVoBPPwRFD5AGWEpnke6v//qvS77KoGvSU6QLeApkxVfWc2Xw4zG6BZ6F8ft2ak6QLms7zIKv6D7kBiAlc4Ycxpm6/cfRzjNeu83zBClZqGvqy0+fXc0nGPSt9D1u8peXfir/lEVeK7UBHZc+aZzUaeYp5/CETzL3ozfGHd00vKqTeHVkIrPimdMfZWbs2qMA5+jZDL7Eb2STMcpWF/PdJZdcMtjRvSgSpo7kLS7tsMj6pkxtjR998sgjjxw87GEPK37h690Oyk9f5NZfjLll+XV7bZc25LY3tXcDktpT49daxdR1WWQ7t7K2lgQaQDpFe2fyzSTtytKVV15ZfuCHssoYwAYyE0X0Oc95zuAZz3hGAauiGGSiKoTtz1QS8B2aP/mTPxk89rGPLYAl5cSCmQ0DEM/kSsbaIzZw1GYDcGnzQCnLSQ2Knnb90z/907JgoNW+0gqPseHQnmztfM011ww+8IEPlA9LU6zxABzwYwtOjOCFAVS6Bqc8PABIne5w4pSSlxOnaPUbT112zQMacR4LxTDTANJ2gnRYv2hhm08C5gBrkzliLQCpfHxn2Y8NmqOY1SqiDSAd388aQDpeRstMkbWX7TEGY6zNMRlDdD/r+tve9rbdp86yroujO3joLl68Ol1Kr3G9nj5CTzAu6S5eutMfnK6xeZROf6IL+ZXtq6++uughbsTYBANM6Tte2Ob6J34zb+DDgz9GuG+Quv7P1PUpAWP+TEs/Jru5Rqcd8dxOkA4XdfpwYvkBcPrkNEa6/h6JHh19d5q8gFBA/HzLd9F9Tl2MWyCpX7c3bo0hfHjiNpbQztNkblGOcsnluOOOK2C/ME/4WLScZl1v9VMXe6tzzjmnvCQyx5GBviV+PUxkr1/q0w7F2KMaI/hl0DCLbgPljirTC7qLL764vGBxu8BYDJ+F2QX90W7a0ZrloFHWLj9weMghh5Q9c1hZqT6haXaTwFol0ADSKSWYgZlJ2lVvv2rIiMvizzZhu6b0ohe9qHwrSnwmyimLbeSVBLyxtcnwo1eARUBmPndgUuX3OInhW0G+W0N58Z01bjTonYLURhYF7UnRkiZXZqJQaDcPY6Ny0kknDZ7+9KeXzYYfdvL5hFe+8pWD7d0v78k7+Uuj3PzwgvJtYrIBCg/4wC8egKjAUxsTYCoA1Rthbg8QFviJj1ELHj4bQNoAUv2gmc0vgawr5o+1AqS/+Zu/WX6wrl6navek0mwA6XhJNYB0vIyWkcJ4s/ZGJ6h5TFzCMjbpGdJ4vNy1uY9+gTZredIby/QSG216Ap0BDSA0Pwolnt4A/LQZd63eKVF6jA0mHZQ+4xv51157bTmpSjeRDo109Atpc+uF3qAcm2S6q/zCW+o0iT1MNpOkWw+a8KqeQGE6GDOq3mmj8Bq61cyTyWOttn6yiBOk+FRf/RnQTv+expAdOUmvj8XW32PknzZJ2DBbH9de+mzaJPYw+mnDah7SxskDv+oRvn3L0bcxMybRpx79tMljljZe+/3PSXM/KpuTpAEP+3Sz5GMeedVzZ9qX3Mk1P5hlbyUs8fPgI3nW/UJY3b7c4VecfZx59NBDDy1zrrDwmD4kbFEmvLOVbwyyrTHWCKdyAabCPOpT128RfEY+yuIGmnq5l+/rJn7RfC2i7q2M5ZJAA0inaA+TCQXTQgPUMoH8/M///GBHd8yfMWAzeNkWIlfB/eqoRRy9MHHNrF4CANK3v/3tZSNvUzBOnmkTJVIktZ0NR8BSV+ptPACZ2tKv+1kkkm/aNRw7hUHpsLmwQXFawwlhCyEwk4Ktr3jkod0Z+SQvC5JTIuFF2XgCzto84cPmRjjjrSRwVN7AUWVTTm1uhG3rvnsqTN9UBuURj3m7rt+l/7Hx5ftlAWalycJuQUITv/KjVLle72RLPkMgLkaetczk2TfepuJLnDKG0fTToAG4OB2j/cYZPGSckVm7Yj9OYi1+I0sg/d14WgtASgbWq5e97GVljpHvJONzmOyM1/PPP7+8oMrcMYxOWPg3F5m//Iq9Ocj8Oa588eptLvetRfPpRjEA0jPOOKNsop74xCeW04HqXM+7dV3IienLpPajSbuNohdOzuZSsiNr68673/3u8tLPlTZrSfJBow2V88IXvnA3gITXGLTowkvd5uKSV+KTrralZ9DUdElb0w5zh89hcesZlvpHJq7Y52bJKL5S59jWc2CH9Zyu4sWvNRhYSv+wNur/4rxIpRPQRXJ1mc7CT3+lU+R0qiv6yqCfKiNAq++Y+rER67V+oj3S3qkP3lMn8fJmAy3whi79Bm3aR3jfDAvr08zLn76mfk7o5uXzKJ5CH5tu5tertc16GW0EIKW34stTj8c+X+Kzl9F/zEXmTvPCSiZtygbAuUm1XkZb0bnJP3XGF/c8Tb8MfnM2OfqxV2Mq86u+pG0yTtBys1dqn1nxb1ybzwHJTMZg8k9dwsu8ZZdyZ2Xjm7wvu+yyskfg95B/9Al1TD1nVe60+RxxxBGDn/zJn9w9J+oTeOzzpR9lnp22jNXShwfzgTlk2K/bk2X6sHKkiZl3n1EWHcXLuqc85SllHYv8wkt4SF3CW7ObBNYigQaQTiE9E0SUCpPbxd2x9NNOO23w7//+72VSlpXJzSSH1ibjt37rt4oiEdApA3mKYhtpTwLTAqS95GVyt4hSrLKgajMKItDyPe95z+C8884rb4PTluhqoz21MQXIpmR7d3rUBsPGhKJso5GToJRIbsqK/qEPZCKP2wKkLG+ggac2GOycOnXNzqbK5gOP0ivHZggv3DZAubrvis2P//iPF3AQDf7xm3LVxbdnLDRM6ic+Ch1epREXOQBIffMsQAR6DxP6hMUukd0fdW0AaaTR7CaB2UjAOMs4XQaA1HzhNIIfLgTkmDs8xr85om/ECVcPNL7bZfNrXsv81E8TP3rlbUSAFLgFIHVlGkCajb62jKnnUDqHutZh6l8bcTH9fIRHXuSdvOQLYAOQWkNsqK0j4tFpH4YbQIqGSVl9HsRJy4gbFi8u6UPHjkkd6zqIEy6/Oq3wUWWIWxYTnr3ctZaT5zij/tLRHYAc1vLIRDh9VN+nNwC5dnQvVq3RPvHjqr22Q6/NgKQea7DTo2RGdwUwaH+6Bp2DLqEvur7/yEc+stx+ksZ4VKYxya3fcEdfUBft7sRqfQop9VZeeEebcO71NPhKH8efB2/pw33exKW/RbZPetKTChjdp12UXxsA6PQF/EXOo2ScOtBfAesBykfVOfVI3uwGkO6UClmQm7Hou/X0anO7PiI8bYE68ot7Zw7z+6t9HaRw1dvcYc6x12DjL/0YB31e58fV7HKO7O1J/NiQlz/qkXqxU9/ZlTp9TtbTn/qpnypjxrzJhE918GgTdnifvpTJUwwrR5h5m97msxH6MxO+xNcm/kXwqwx92b724Q9/eFnP8JX1jSz5mY3Yj2u5NvfySKABpFO2hYFqUAKpfu/3fm/wV3/1V2VAysaEYTE0QJljjz128JKXvKRs9sRJG7sQtD+rksBaANLIP+2IAe4Ybqcr3vCGN5Tvy1ok0qax0TrN8cxnPrMsJBbmww8/vEzggE2LjD7CTXG16bBI2/TbmABSgefclBbX22xgxHtsYmyILAgmfTxID5RkyxPw4LHBUY4TQJQDNOiVKT16i7OyKEoeeXsbFz5siNAoN5vwyCSLDbkxTp1SAIcp4pFt7JKg96cBpD2BNG+TwBolYLxlbloGgFR1csUe6IK3lQz+o4Sb25y2MA9KJ24lY54yR21EgBSgBZQ0N09yAq2eV9V7EtmQXZ9O2shNPLd28ovM2cj5JnfSidcuQLEXvOAFu8HT5COPlQw6eXmG9YWUI4+4k4bNxF881Z9+eOgrknV3qhO+yND6CiD1bdHUtc8gWo9+HRDSmu07bMaFsSKOjsGNVl4Js/4DTOkFgE9rNuCUfiBcfHihd7hlQReIvkB3oEfIjy6DXvlu6zhZum3btgKy0he8EM7YVQ9pAKTKqts6MujXdVn8aYvIEl/cw0zqwvZ4Ge6TS+z1MvjQbuzInXtUHfApnrnoootKm2m7cSb5s7c6QFrLN7IkQ2CzU3heVKQ/sT3iV2qTcfJfTbz+cM973rPMH9rMeK37SOYReS+at9XUJ2ki87TD1772tXJrxdxjfou81dUT+qRfpI0X+zwnnu0Vzaf1vIm3msd5t0NkRgbpk5GXm4x+W8NvfeQwjrg6zaJlp4+SDz7oJrCVbd06hPfIrZbhvOW3yPq3stZPAg0gnUL2BqlNAvtd73rX4H3ve1/5gL4sDNJMNMnSdykf85jH7J6sDeAM4tA0e3oJTAuQpl1MmpnolZpJVJvURrgrG74tmjfroc+Gxabita99bVFK3/zmNw9+7dd+rSiM8rKhsLHgtlg7YUp5BWjKz2ae8mRTagECYmaDAjB1esNiGgDTggDQ9D0bV+YsrgEys2jgWb9Ujqv53NLI32kSGzInDLwZFIZHG5wAtmygrQ2QK/AeJ19TXuRzxRVXlGtEgFkLPEWEwYeHIe/aRM7CGkBaS6a5mwTWLoGsKcbdMgCk+AlAas7LyTNzkri+ydqZedrVXkAQevPcSsbcIt1GBEjN/+985zsLkOUUaebQzKnqJizzZzZ98ddyiVwTxz8qLDTyRmMetwY59cT48R8vzawzQDPrkDVJGCDISzbrFECIrX3lWZfHnXJqt/z7dMLQam+mrjN/P70wRruLw/8yG/Wq6wQgBVzif5SJPNnoyN4PCLHVV5g4bmt53PIjk+StXD8kmu+qA0jpJvl8T06dCpOGHgD01N73vve9C7CiTHoMoJUuAXhFlz4AuH3wgx9cdAf8fP7zny9l4CX1xlPNl7hlMXhkyJDBZ20XT/VHPNqkows+7WlPK/pWRbZQZ3hWaPjjTp24a5P+Id5tKW0rrM6npo9bvHqztypAWsuCu5axOdqalRON5nimbpNxMi4JZvgn5dH37UeBdIz2xnvN/wyLXUhWkas5kNwdbvEtWPOavRCTei6EoRGF4MG4MT/65B6AL+uCJJlLQjcim7kER4Yy59aHrenL8uv25GQ90sb0QusPHeRxj3vc7jmXXJn1kF8puP3ZlBJoAOkUzZrBR8kEflIqbCwMzkx2aBhv5l/3uteVI+GhMfkkjymKbaQ9CUwLkCZ5vRBQCrQZw10vUBZaIOLv/u7vDv7yL/+ytFno5MFo81/91V8t1yP9UJcfNzFpp31N5jYW6Q/S5VSH/mCSB5yyKVGAU25X6YGZNjTobFD1JTzJz6aVDcgEnFLObWhsatHhy2MhAXLa3Nr8eCsYQFa58ndd/+tf//pgx65reeiUIx+PsmyCt3Vv6pTno/zSonfCxCJKblGwyFN9hbPV2RMaYQ0gLd2n/WkSmJkEMsaMr2UBSPPjCQGCMgdkruhXPkq5OccGzmaOUbeVjPzUe6MCpB/+8If3OE2oPqmTenNHBmSorrUx19fxmf/RCJdeujx13uLN2cIYac3v/Nno25gIN6dbj7Z3n5LRNtYlYdYiQJnH6VPrhTXHyzxriBd9wDRx1iQGL6NMeK7jUz9h3B48xR/+S8CS/6EDnHnmmWUjX9erz7Y4copN3kBIstUH6rRkISx9I22dMCc66TP8ZCWth44iXJvTDwAK9AHggrAAoGxt6IUrfUMdfKuOngJUF5543/vWJ/QNJm3DjrsOL0Tdn7o+CVuUHblFNsrFz6h+ii76Prd+/tM//dO7N+uL4nuSckbJtW6Lc889t4Ah9VwwKu/Ihb3VAdJRMsq48wOul19+edHt05dij0o763DtnHHP9tIDsGTPwGjH9AXxi+ZvLfXNGpU6hH8vcYB7Ph1hPyM+NGspby1p8ZZ52hx61FFHlU+mhD95a4dF87lSefaDF+/6dXt7U2sQ+kWbWnZ1/3Td/rDDDiv77vBUz8sJa3aTwGol0ADSKSSXycEb+Ve96lXlerMwg9YgzgRn0vNNsec+97llM2FjIUx8BvAUxTbSngRWC5DW2aQtoxyIE5Y2ZPtlSsCnU1A1fehcOXM10o+RvPrVry4TtXTJE50nk3ryUFbK4dYnbFYs+HkAkB5lA00tVk5tcgu3SbGhQS89P2MDZZMKPHUCFHBqswp4sImhzNvAWOxsfvEkPxskmyX5ewsL2OC2AcrmyaZJWDbR8qFoydsmysZZnjbC4tj8kQe7AaSlmdqfJoGZSSBzjDVoGQBSfJiTzBXWPX6mnvP6lUdjAyGd7zOa2+rNQ58+fnlKuxEBUnU1r5vDtSE9wTrA9mQtSFjWiMTzR9ah5U9aefb95Bagkh2gk6zN1eiFRafBo7Dk5aQrt3DlcKOVvgYtwwO+rC/oGJtD64R1CnjqUa71Qrj4+K0reGHX7vCdOOXLP+tMKWiJ/pBVdABsOb2p7Ubxi1Y8mZIfeVjfvUSVV/LTLql7qps8a3l85jOf2Q2Qhr5PJy9lKddj/CmXTkAHwbO+aqOs/OgRaLQv3YRRLloGcOrFasBzuoJ2XjZDFp700Vo2w3gVT16hIws/0knvWi+TvqB89fAIy5js8yU+fdInooDo2n+cSTp2A0hvkhZ55Mk6JtZJUt90zNjVZzxoF2mUl76wrTvw8KAHPah8MsP4TT+o+9AieVttWfitTcajujrxTu5uzaVdEl+nWaQ7bc42ZwCr/U6ENVXbqE94jL0o/mreMm+wrQO+J+9WQF52R57pN4vgkTzCI3d4NOceffTR5aZDzc+i5bcIGbQyFi+BBpBOIXOD0pvxt73tbYN3vOMdJaVBKZydAby9O2Xh26NOwrSBOoWAJySdBUC6UlHaMhsYQPgll1xSFrB6Y5J2fehDH1pOXPz6r/96UTjqfNGkT9Thq3HLJ2VSZG1UbJoAAzajQEtKgcdC5lGHHd1pT5scipANSh/QtIFxjX5bpzQBLy3W7Gxk5GFjJA+PX+l0cprbKVR2gFvysdDbwEpvg8dtEcsG2AkTP/ygLniSP3mjlV49M6bQxO37QsDabMrFRR6RMb+xyCStDbdxqKzEyZNJuth1nsrywf2arnjanyaBJZNAPWaWASBdq3gAOkCXSUzG/EYESCepX02jnTNHcZsvzWnWAza/J35zZT+cXPNijW0NQcf2SGtOFoc2czK9x9xu/TCn85tTzdsxysIXG3gZutpd02fdUo71zNrl9CI+lAVElTZAaPJhi0MDYA3wlhOs1pr6G9/CvSTMmhB+2bVMa39oEh+/ulk/+uFJm3Bl1SbhCZNPaGKHhszVjUkYmTi1SVbCYhJf55H4rJ02t2TL1LyHrk6LJry50u9FK2ONB5TSM7zAcEiAjpFPBnn5CgjFpzbOGqs9vWAFfmsXugAdA7im3fQj5adM7vBDDtypBz6Sr7iY0KhP6pS4edvKVo+TTz55XQHSaetJTnhn54p9LdNR+aFPH1oNQCq9vq29a7fy+Kcx5gA/XOblSdKq0yiDRrx5R7/DQ/rTqDTThCf/pJG/xzg5++yzi76s7ujMYcZyXX7ao59P8pulbW72aQzf+yZHbY+XyA8PTHhJ+Cx5mGde2tiaQu5A6vTt1IedfjhPPsblbT488cQTy0GWtH8t6/Db76vWaXSpQ92P6jKlQ+ep3aGRP5Mya39dtrnfN8rdGjB2yDflJ418kqYuL+GJ469NPzy8hKbOX1jiIxNgMxk6EDSsjsmn2U0C00qgAaRTSMwkZONw6qmnDoB0tRFncDKu25x00klLeeWm5nmjuucNkGpHSr6JGRjuSlwWJGHi4gcmWix+53d+pwCkmbznLVs84iXAHz8+KF0ATXzYtAgPYLpj11V6JzxsbDwWWJuXnN6x4QQq2hjZyPhsgA+8O4nKb5Pmh8kslPK2Ycqm2iaKUmIxdZ0faIEfZXgoYvK3oNlUyHtbB8xmA+vEiXGkXhbhKG1s3zQEWnKLVz+2h4nc+euxqKwApGhquuSDXrj6eITjvwGk8+7FLf9ZSKDu8w0gnQxYnYXcF51H5qvMYZmrzK0xaGIyl6Z/sM2f5uvalo+1Q3ho+NF4uOk9gFOnXtBZY8z35nhzvid+8dYlc3jATf7wo7yYlCEOvTVCGvTqxcaTPJWvHGuKF3OAN+sPOht+AFzScocHNhAFDRAPeOrJWmeNsP7ZrHrQWONrOeOXP2HhH2+eUfGhY6fe6jqJqfNVT6eh1F0+NS/o+nwlf3Fuwmgb7rRBHZ9y2GQpf3TWTcCycPlrK7b+YI3XFnQJAAS9wHfV6RRoyBuv3NpUvuogDVlb/8mZvN3EoQswykp50mh3NpN6402+HmH4ikl4/PO2ldcA0umlrI3TF9PfyHIaY6wDSI11Jv2GPcz08w/9MNrVhPXz4/cYLw4VuPad09XqnD1GXVZ4lG6exlzrOf7448uns/CCJ+VmfKX8tE/8y26rAzmaF1y3t1/5xje+Udiu5zdzCxOZF8+C/yjbD/4ec8wxZX0KP3jvt0PmucyHK7FKBmnLPp32ZOQfQxb8/TBl4VFeXrT5JJA53h7R/J1ywhN/TNx1ntzKkmfkzhZunCQsaeWVsOQbmzys6dJt6/aRfvzKSxt9uZkmgVlIoAGkU0ox1+u9kTdwM5DZ/L7T6NuUvo/BjBrcUxbbyCsJzBsg1ZYeE62rR743S7FJe1MsTMomdWGAyNNOO+1mAOm8FIv0NWVnsSOe9DXxNiE2HjaBFiT82mDaVMZvs+IarLo5Deq0R8BNm5mcJKpPE6UZyIZiapG0AbIhshElE4sl5ZWtLJtZJ0s8/GjwwS9vvLGlwa9NGdA0myjyNd7wZEFUnjw8aSt150/+kY3Nr5MweGPQM5FV8XR/6nyEkUUDSCOdZi+zBPRdfd9c0ADSzQuQ1n0w81fmM3G1mx9Nwrg9WZOEe/QbJutI8i2B3R804mI/73nPK3O0OVuY+dZjs+KJG4BqvjbHs/mtJ9zWHeHCuOVVP/Lhz/rDBrZ5pLdWhPcAn9aaPPgNX8lDOdZt60CegATS9dcSNNZQa5w1yZO1zrokzjqUNVBe4UXaxNVlWt8YvNembqeEJyztgX8vCcmNfJg+jXxDLz7lAEitn+SirsL7tOiZpJFPAFLhdb786S/0AO2BP2mtmwAJn+lRZl6SsrV39ALtgp58hEXebrQAr8k6wHX6aM1Hyq/54g7/aBdhlNkA0ukkrY3Sbvoyd93Gk+ZmjN33vvctY1CenozjUXmERjw3E16KZw1/RuUn3Hzm5LVr3w4X1GVyo/Fwx78GViZKagw5lHDkkUcOtne3HunWkR8etE3ahX+jGPUKv2z7mwsuuKD8MnvqZR5katr1qJ/yzX1ePLqN6CAKE/70CTRpl9jhte4zCavtpFfvyCTx8aNhzOEOodgTeqFmT+ilV8J8n1oY4xYgrCP9Q5h8PAnDd23EDeMj4VmH2XHLy/ognTDrjTBPwFHzgHhrh9/dMB+Hh7r85m4SmFYCDSCdQmImkDe84Q3lyjVF1SDMJMBtkL7sZS8bPOxhDyugWRTZKYpopBNIYN4AqYmYAm9ipti/4hWvKFfKbLpqo71N7pQMAKmTlnV/4EYzC5O85Jdyk2/8eMliY9GwgNnIxYiTT/pqwtniYtTTRtSj/hZLm1ObH1fsr7nmmgKkZiE1FuSbzY8ys5jZWDolgh8L2sEHH1zGh00VGRtT8laO/JXlbe+O7rQrf8aZtJ5spigVQFSyV543msrCh7JTV5ssb2jRi6tN6hyZRo5onLptAGktreZeVgnox1mLGkC6eQHSen5KXxTWNwnLfKd/JIxdhyctGpuPzInCk4YeA8gyT59yyillrk1c0seWPk/y0DdHGbT4sebI31O7xVkrvFADMlgPrBvorB1Zg8TbCGet4s5LNe4AMdaGrFPyTj3Ey1/ZoVVnMvFwq4cHHZ7wgH9rm/XFAySVv7WKW1p+NNYngKr10HqVU6zWMWtY/VIwbRH+lJUr9mSpXCZtWTzdH/wlDRp1GXXFHh0adtLIL2FO57k1Ik9yCY2yUo5wvCaOXJRHd5CPtiIvL0m9fGUDimy8pSUbtkee2kde5G2ja323htOtuFOWvMNneIkswktkMk9bWQ0gnVzC2kw7ace0lzbPmJs8p53fUgbiG1uTGH1Me6W/TJJmFjTpq8r1qSg/imVuqg2+Qid8EX2Y/JXjZYRvYT784Q8vshReyyjjrOZ32d3Zv8W2Bjj9SK9XP0/kvQhZj5MXfsxzJ5xwQgFL+Rnt0Dd1e6QOaFIPYTHGlfHVz8c66duiO7p9Ftva4tac8KypxgvA1kEbn2GzHti/4c1tBrTK5Je/x7xtHVSmcWmcm+NrW3+r/dLU66s4fnl4Ut9+uLLRMaHpu0tk+9MksEoJNIB0CsGZRPxoj0k2xqRggqAQU34BZTnmnQU5tM2ejQTmDZBqTxOzCVgbnn766YOzzjqrKP1p79q22Xn9619fFrYsWOLrhWoWNU9+WQiVkT6WsJRjw+WtpEWqjlM3RljCa56TXljis8iyvQF3QiTX3W3cbICcDrGw1htVmyX5ZMHMaZycDHFS1AbMBsPbPzb+KDXSemy0vHE39lztsIgrS90tvDah8s+GVH3l6dQpGbi651tLFtfUM/WXByNc3ZjUWV0aQFpE0v4suQT0X33Z2GkA6dYASLU5Y76KO900c5g+kTh2whOW9EknPE8/zvxprnc7xtwaOnmGh6ybyW+UPaz85Jc5WdqsVeKEh39x1hnxATWtg8KsGdyA1MTh2ws4YdaTAKncADtxwFYbPo9wYdIr1zpjI4YPZebht26Ez9BGd0idrGfc+JePDaJ1C731ils4tyfrGsAUmGodk0b9GPqGtVI6T/JOeWwmbePWU06QCsdv4pImfvEMv1tQPrXTj0saNr5TP/WWd8oTHxnqP9zkjZ58yRlfwFInk9BrOzYjb/K1tquzfkceNu0+bWTdx1voa3fJYAF/lNkA0skFrc9rY3aMfpN+krBJbGPFIQBjQx/w9PvqsHzMB/qOvoUPaRZh8KeeV1xxRbly74VB5BC+05cXxY9yjVlzjB+c9RsBjLDwVrsXwdcsykhfiK0OOzow0AEPJyEj71mUtZY88JX+h1eA/3HHHVfag9+jHdgxoc+exfiJQZf4hOlz5lcHW7761a8WOVx33XXlhZV5GJ5h3bM/8yLKjbvt3Yli87+9lL7h5Z4XesacMhxikcZYNv7M1eZ4vLDDQ/y1LX3tr+nDM5o8aGMSxlYvawM59GlSftI1u0lgNRJoAOkUUrv00kvL9yhNMiY2g9LgNFgNcosLADUbiHrym6KYRjpGAvMGSE36JvxMxq7ZOzlsgWUy+Yq3eFkgXve61+3+rELC2bMyygw/yTN89P3obLJcP7KwxQhPGn2TiRLELcwjrB8urbDLLrusfEvJxqbOi9Jp4yO9TWpO+liA0fJnAypMXhY3sovNbQG2KNuY2SDi3wbEqROLvE2VfJRno+uUqU2XMozH5EsB1obyJAdvQOXpQ95OomSDavyqh0da9WTaCdIihvZnA0ggY9PYawDp5gVIR3XFet7SFzKHCWcSlvDM27GTr/kztMLq+IT/0i/9Ujnpwl/Ho6/DuPumpq9pa7p+ujoNOvH6eb0hslFCRwcbZpInOmtU1ip+7vj7boCk9cY6A8ywbgmz3vB7UReAVb784QMvys36oqzwER7RaqPUUb0YdNZv62LAWe7oJAFRlSGcvmm9s04CEm10rW/WPusnQEDdmPSJyE+ZKRcfykbjqQFS9WDQhF+0HnygjzwBpGSR9kgZaJJeGJnRFdBav9m50knO4mOkkx95qJ965gcmgaUBivGzSIOvBpBOLnHtTrfSvulH+oX+xZ7GSO8lu3HBpO1j9/NSRsaQX3HXbtOW2c9zEr86pxy8eRnjlDWglBzEMzXNJPmuhQYfxpJ5wdyBD3ryscceW4AwPNVzRHhbS5mLSht5x1Zu3PbuF110UZm/0/8WxdewcvCgLTzagZwPO+ywgiXY/5hT9dnwrw9nnQ7/0oqP31y6o9ur+uatuTjrlzUr+yVz67Zt28phLi8ZgKL2SMoEhJpjjY+ULW9lpE/YI+MNvx5zc8ofVk9h+GT6dMKFqRs78bFHpSuZVX/wlzFeBTdnk8CqJdAA0ilEZ2Gj0FncgHQ+Tm8iMtkYzM997nMHz3nOc4o/yuEU2TfSCSUwb4AUG5m0uYF7b3zjGwfnn3/+7rffJmPG4mARAaC6fqAfJG29aBXiNfwZtkiknH62wi1wvsfCDk+hy8IT/yhbPh51ZDNOj5K/zcwwg07+KdNC6hFOHhZfpzptLAGdTmrahFq8A3xS1iy+xpUFj9u4M6byNtNCTaHwkL+40KLXZpQ/boogm1/ejE2mTRawlCKQa48BadFT5OWr/mnL1EsekWPqLIyJrLiTlnsl+sSh65vktxJNP03zbx0J6B/pZw0g3XoA6aj5YVR4f2SsRJc4afSxF77whQWQy3yYvDI3hT7+xMcWPyxuXHg/3/jlm/wSFn/KjN0vo6YfFqeO1hQPt3WMO5tDaYRbKxIWHdGa5rGG1WHWJeHWM2uRNUmY9PxZt5SDxpO1i1s4E961SZ6sVfzWR7Z1TnlZI9nWQ+smO+7E1+upGygAqNAEpOWXb8ojb/zk8YM0yqz7SNyhTRtJE7e6kQeZqauNvZei3PQDOkMtHzx7gKM29m6m0C8AxvQED15Hmbrs8I4XcmMSxibP1KHOD/1GB0g/9rGPlR/y0gfTFnUdIwtxZEA+3G7K5ce1+vQr+XOdN/nKj4xXY7RL2glP3KPqoBx9TBo/pLutA4jQp71XU36dZljZwpiUE79+/JnPfGZw+eWXl7ESGeAt7ZB6JE38dZmrdSfPOr2yHSDwSSovR4wt7c30ZZT0s+Sp5mUt7pq3uOXHrR5f+tKXBp/61KfKnJJy1N08y06dho330Meu8xeWtIlnj6NRjnL1TenNwfrmkUceWebfOi9riRd1+S4oMBQO4TFfOhlqHyWPvCwzb3PLU/s6KAIMNT+is+dBk7rjAc+RFzth7MglfNf8hTb1Rh83u86nRHR/6jQJYwtnkkfxdH/q8Nqd+GY3CcxKAg0gnUKSUU5NsiYHSpu3NBQMb2Z++7d/e7Ctm4RMNgauha6/sExRXCMdIYF5A6TarN/Wn/zkJ8vnEyj+fYMeQOoqN8OfhaBPuyi/TUMNkK613CyKAFKnSMlhNX3b9Th8yU96NkWMvD3GjLyzqaS0WPB9JydKAUXARopyYPNko2bD5mHYFn6nZwCflIJc6zc2cwJIfn5MAhBqI6bNxGdDiDd+aW0U5UepkKf88WqcUywinyzmbOH4VE9uBn1o42fX6UKT8MhZeJ7EsZvZ2hLQJzKWGkC69QDSRfT+zE8BSBdR5kYuo56nM3+nPuZ/hkwDCFr7gCbAwQCu4qxv/F5I+pEmIKr1kR89v/VRujo8ccLRTGrwhHfGxtlaaA1UB2uetTbrozUt6yyAEp0XstZS9Pz0EDTWZP6sh8ohB09kJUy68GB9VR6a1CcAgTKs216wWs+ZrLHKwjtQABDgRoo1HI/krAy0qaf86SDKVWZ44vckDfrwUwrs/ojfiABp+Gd/9KMfLT9Gqq+ozzCj3pEN+ZGFbxO6kjutAVD5VJI8RpU3bZ6T0Csrbf6sZz2r8D9JulnQpNzUl1+fBpJ6oUCX1SfTF/W5mEXKCQ/Gt29hOlmo3fGC7/COr7gXyVvkMalNln2+ydw85Lq5E7x+5T510L8zL6g3Iw8m9WX354e6jIyhhCWdMmKE8XuUx8QfOuH2HMaYvuGlAp7Nd9YE48f+xdrgpZAToA572IM6CWy+s1/JaVBzorzDT3hpdpNAk8BoCTSAdLRsbhZj4bBYRHGjKHibs6M7Rer7iEcccUSZhExGJjHKYb3Q3SzDFrAqCcwbILU4aWPGgmJB9Ibul3/5l8tbumFMu2J/6KGHFuU7Sj66LHjD0swzbB4AqXp54w0ktSmb1pCpBd8CHuWFfKKARW7CsphHYfFRcMpMNoPyMsZs/rJJpDzYQHnkLz+KDkCTUsRt00RpIB+PjRRbOYBXiocNlzexxrS85WOTZxOVt67GOIWEEiO9TRIacwSDPzwIY+fRn/DBz6SeUZqE9+UQupKg+5P4pEl4s7emBPQhfULfaQBpA0jnMQrMNUwDSEdL1zhkIqtQGpfC+uGJH2Ynr8RZ61wPtcG3CQc0Wje52Z6ArdYeG2dx6H0vzst8fusZujzik04afumzJvf5wE/qIc666bEesrPeobPOedCzA6xaL7OOos86bH3lZ5vP2MogP/xk3eMnDyCxtd6a7UWnQwrqGXlLiy9lAW6t+049Zs2Wn0fedT3VI2XhXbw8Y1J/fu6NCJCqL97V67zzzisgXeSWetY2megfbAYtAC2/ul3TjnNvVYA0Mq/7j/2jG4k+40XvrGnqPjlOprOKV6Z5wg/y+CapMaOtjYeY2h9+E7dMdp+3eg4xx5kXvRwwh6izuUc4I21dz4SxtV/k0Z87zFmhlV4+MdKl7ROOJuG1baxdeOGFu+dmc5wnoKdTvkBRL3+8pPDyxxxnbrOnYVLf8JoyxXEnnL+ZJoEmgZtLoAGkN5fJyBCTJwUhk1wITXJRIAAxJlsmE17omj0bCcwbINXOtXKuHb/whS8MXvWqV+0+rdCviROkD37wg8uioz8wFqB6UeqnmaffpmNWJ0jVgQzYX/7yl8tGjWLXHwfj6iO9hRywOCpt5JXyQufXP22ColCgyyMsY45i4bHps4lCYwNjM+WhhApHI40NITdDwbChoihpu4Qnfzb6KEXyRqO/RMEid3kAYm3MzAfZANogihM2TDmRX/oMt7qn/vy1qf2hqeObe+tIIP1G/2wAaQNI59HzM8c0gHS8dOu5GXVkx92PE1ab0PbpApBa18R50Na2fJI+eYqnuwAPxQUAMFd4kheb39qWcJtvaxW/06kBU/GSNRTgag3El7yFZ42VTpgHTZ03XjzWu+jU3PELA6rSw6ybNv3WZeEBWvnRpBx1UEaAU8BHeI0+kPzoBL5hCnBw2irX8uVZyxDvysQXo6w6nnujA6ROMfpBSnUbZcg2MkifocfR56Y1WxEgJSNyY9J/0pfojr69CxADgpGzfhwTeunjTtw87JSxrbsN6dftXbc3zpjE1eUOC6vjF+2u5Zy+ikfyNpbJloz5vRz4i7/4i3IYwssTdTbm1Tf59Pnvt0P8KaNPX8sn/NRjqR8f/yWXXFLmVXPT0UcfPXjYwx5W9hXmMHsVj7lQXtJ4+jwnr4TXNInr89v8TQJNAjsl0ADSKXqCicnkagJlMjEJp4DxU8hMWhRLYW0SmkLAE5LOGyC1mFhIKfVRDN70pjcNPvjBD5awPptocsVeH4hyw52FqZ9m3v5ZAqTqQx6MPs2vXqnnpHWRxgkPV0OMIWMjC/ZK40Q6p0ed6LRJ4ydbD0PRCT+1YiNPmx+/DGmM8qO1ccojP2MW4OvKno2kKy3f+ta3yiNeumzKAnCGX+FRWMhI/jaNFF0bReXYdJkPQqdtAsbaYHhLD0y10VIPeeeRH1lJK46fSTy38Ga2rgS0v7GgbzSAtAGk8xgJme8aQDpauvXcjCoyy/wcf3IQnrDQ9NNlbFujXLO0/ipHujzD0ooLnRNqbkfUdP21M+VmHkHrm+pARHpQ6NHV+ShDXHQB4GR+xd66FV0BCOTBl/y4xXNbL9FxA2IDxgpHg1Ycoyx54CHyFmbdF26dtCZbi7mZpCdD7tpIg94LTWs7wNSJLCex3DwRp6zog9y1LKTfiABpLTuyjV6V8FpG3LXMo2PRx+hz05qtBpBmvJBhbYTXYa5Q+1wbmUbfE6+/oc1Yq/OYhzt93Jj0YsJJUnMBk/6Bp0XxM20dI1d26iKPhOvvPldy9tlnD84666xy4IP+ffjhh5e9An2d/NFlrEsbk3zij50xUrdp4sjKHCI/duao7Av4M3ex48YLet/69cJqWNkrtYO4mp/aHd6a3STQJDBcAg0gHS6XoaGUtUxwCDL5ZCKlODAmIWEmtmZmL4F5A6RZRNK+Nhevec1rylUYYX0D7PIjTt60LouZJUCaOmWzo5+TQ5SHxI+zpaFU+1xBnT4yjdyjjPB7lOuXeAGrNjjGFRrh0qIRlvTGacYixYdyR9GQJgoG2roc+dpA2YBKv6P7bIYNqU0akBPgKc41/nwDlRIjf7by8SNffuVRetjCzAc2ftKz0YvLW2D8ajObMhs1pzPi5pdePmQe3vtyGyf/Fr85JaAf6xf6QwNIG0A6j15uzmEaQDoP6e7Ms16PUkrWKwCWU355QZl4dtoGbfKo450g9QLQumbdyZqZdKHlF5c8XOEEkFrXYpImdmhjo3VdWHnC0Hm4PZmn5MePPmuusvEozGPNQ8MW58kLTes1d9Zn7sTJA608mPAgzNqMh+RZCHbRCGeApYBSL1ZdZWWsz3iJ/Epg90feGxEgxX9kmrrxq98wo+6eyBKNK8r0uWnNVgRIya1vIk/h3Pr0pz/96TJ+6Jx1/w3NsHz6+a7Fjw96K17op/hwE+34448v+qi8jS99Bn+j+staeJhV2lq+eDW+vcA588wzB2eccUYBRr0IOfnkk8s8Zx6yx1A3cjZHxPBnfjCHkBG66PncZEFX5w4NOumEc6PxxC1/8cJSBr982fiWn0c8OvXyiI/hZ9A00yTQJDAbCTSAdAo5mnwyOWUiqicqCkZoTF6ZtKYoopFOIIF5A6RY0HYWIwvUJz7xicHb3/72csW7z56FDkjmBKnvaw7rD/00i/DPCiBNH06/Tr/X1+sFetI6uSbvNCiTvIalVW4tS29881Hy0NfpwyeewhvbZsc1IQpL30iTPJI+NH4EwndPtb98KIwM5dBDeaI82giKA67arAE/Ex/aAK/K8saY8hNFRz42duE5ClXKQke5Ug/pbNxy+lRe4jziUse6TtypG7dHWTGhjT+0/KGvw0IXO3F1PsPCQt/s2UuAvNPvNyJAiv/0H2PG5zSMiUmN9L5N7EcXbHKamb0E0j4NIJ2dbEfNkxkPdbzx4CWh8VHP3zU32ihpEm79cFXTS72sMYmL3U8jH4/vEAIQ0vahZydNHSfMehlAtqbjRttP1/ejixFXpxGuDsI9WZvZ/OISj1Z41mJua7M12pprzTZXoM86nTRkLd630o888siSj/kVXdZttAz+NiJAWsu2bsOdtbr5X3JCF1p+18LdtJnWbDWAtJYPuTO1HPWthOufdOT+dXu6nX6Llgl98imBM/qTvGUnf2Xe7W53K7+x4HQ1fVO4MWU81CZpZ82XfOs8U054ZOuTkSVaNB4ncv2w7DnnnFNOtxvHDk085CEPGTzykY8s+zb7JX3ZPMlIR89WP3mSf0BQeecR54lfWu6ExU5Y8g5d6iG+dg+rC5q+6Y/LxMsr9HW+iW92k0CTwHgJNIB0vIwaxZJJYN4AqQXFY0FkX3DBBYPzzz9/QLEDimWxoyzst99+5UTkb/zGb5SFNqJCk8UrYYu0ZwWQzppnyt+O7nTmNIYsAaSuwFNuxhltRjFhAxYPOuig8sZ2XLo6HkDqxA4jnxhu/Hi48+gr2juPTZbHJoxN8WW7vu8tNkWMH8BK0aSAATmTnzB1kG8AVWH6nzyVD0wFkgZ0BdTnW2qu7nNTZtFJ65E/f/gXxqROcbPVBb24GH4Gb0zSCU/d5c+fpxC2P3OTADlrD/Lf6ACpuhgX+mX62DDB1XHSmFdsgIynZmYvgcwBDSCdvWxH5ahfR+7Gg7VPmHEek/j4axud+Pe+971FR5HWw6yUDo3x5QQlgHQag0dX+q1x62HwXtctdWbXYA5/TOjZ5OyFJjDKmmxNtd5a08hTHn35b0SANHWfxu7L1ovuBpBOI8HhtOmL+h+3MXTttdeW9Yy+RwfUH+l5ff23Tjs899mE6v+ME9VHdi8N6KTROerxk9L6fSXhq7HrvDKnKZM7egC5GJtoyQp/ZHj66acP7Bfp8r4xivdnPOMZ5TMadGP0yaPPm7japJ51WHM3CTQJbF4JNIB087btpq3ZvAFSC2YWRwozUAtg5o05oM4CDHw65JBDyqmEd7zjHYNTTz21AaQT9LiNDpCmilGW9BVufUKf4fZweyht8VPicoolaXLqVLg33b5bCiByIi5KXwBHfo+NW95o40fZTrxQGCmGFGlp4gYS2+iyvRUHnuftuDThO7Y8Ey5MWQy3h4lSWYdR5NGqU0zkEX+zZy8BbaA9tNlGB0hXKx2f7Xj/+9+/bsDMavneKOmMY6YBpItrMeM6cq9LzRwsbFh8TcvtR0hch44ZlW8dbz7ZiABp6sCuZaPOdDlhCc8aJjzuWjbCxAmzrsWd9CmjAaS11Me7t/IJ0mHS0b+Yul/RoZz89pknIKm1PQBgncewtHX8LN10TN/0P+aYY8qtLHnjK2OndtfjaK08RA+u5ZOylaNc4zNuuvS5555b5j0/QOYFx7Of/ezB05/+9PItT7qwsRzQV3p59/OfZR3WKoOWvkmgSWDxEmgA6eJl3kpcowTmDZBaPCkjFl1KgYUS+GOhtvgmTjX8qvub3/zmBpBO2KabBSDVJ2pDuUpYrWjVSlYdH3rKWR79K0ArN6CUouw0jn6nL7KFhzY0bPnrsxRWeaJh66/AUrZya/DU5s4j3vX9nDhlA1GjeEYJVka/Tqlv4kIb+QhnQpfwZs9GAuSbNt+IACkppI/0JTKqz6SvifeYV973vve1E6R9Ac7In3ZoAOmMBLpCNvp25I0s/lFjZIWsChDge3s7ulsb8pwkDzTmk40OkPbrOqr+kTV6D39o46YTkknCI3P+BpBGGpPZDSAdLqf0V32K3gbYu+6668onvrwwr/vn8BzmG4ov48C38Y844ohyIpOOmDGjdDRMHVYC1vAncomdMsIPPddJZmDohz70oQIqi/OJDN9ONY85PeqAQEzyIOdaX00ZfTr+Oi7pQ9fsJoEmgc0ngQaQbr423fQ1mjdAGjDU4slYDLOIcluQ2cAj370DkL7iFa9oJ0gn6HkbHSClJGl7T8xKilO9sQo9G6CZE5f86WvcDL989Tt03MICjAb8BKi6EuhxvZgiDUTl9jh9gAa/8vDgianzFibO6VJgKYCUW9kUS+Cpa/t+1dQpgijG4bOWiXwTrhxxCeNvZrYS0G6R70YESPHfH0/xixtl0CStE6SuEuvvzcxeAmmPBpDOXrb9HNPnI/P4+3R1/+/HxS8tgNT3S2OSb/x9WxrzyUYHSFOvUfVNuLWK4feovzAvFBlrIz99z7pLNjHoG0AaaUxmN4B0p5wyrtMP+/5Ik7z8un2u2yc8dvps/POw8ebJmHBLyaerfMOTLpgxZGygS51myYt8lSNvNt3U945do3dQ5bOf/ezgJ37iJwaPf/zjy/eTH/zgBxe9FQ/hie3JGDa2wyvbIz4mcfE3u0mgSWDrSKABpFunrTdNTecNkBKUhTGLMD+Qicm1jPgtym9961vbCdIinfF/NjpAWtdwJUVKXBQu/ahPm5OZ4hIf5YzyFkWzjhMfxU5+efCUtE6ZAl+dPmB7nEB1dZ+CLfxf/uVfij+no1MW2wYw+SVPSnFOlAJPKcT8gFKg6b777lvAVGMj/NW8po6JKwW0PzOTgH5AtuS8UQHSUcLQj4YZda7jzCsA0vX69uEwHjdTWGTdANLFtKr+zZB77Z62dHPCO9/5zt1X7OVX5zksv8wnmwEgTb9VT7KIiUz5Q9OXDfqsWWxprI8BiZK2AaSR6mR2A0hvkpM+ln53U+hNpxXF5bo9EJA+J03df9M36/Szduv39D77HmUDFr00P/roo8t1e3yiAVqKq8fILHgJkKmuePA5Kuv9Rz7ykcGll15aXuI///nPHzzxiU8c3PWudy0vLfBAVuyaN7zKpx7ffR5r+fbj+OXRTJNAk8DmlkADSDd3+27K2s0bILVw5rSAhbJeaIFKlADGov3FL35x8Ja3vKWdIJ2wp210gLRWnChJUZTq8IiCEqaPMKFF5+FPGnRMHZ64Ol0h2kXHnbK50ddpkhcaPABG9V2KIiXbiVNhTpxSNinhfjjKqVMKqHR9RVw5jDhjAFjqJAGw1Hhx0tSTH4pyFUuc8RPedubQ/s5SAmQbhX8jAqSrlYV6p+7mlXe/+93tBOlqhTkmXeaaBpCOEdSMojNfRu6jsg3dSvFOkPpBHSZjZqV8M6Y2A0CaOrNT59gJiwytdwkLTeKEi/cS0Boag64BpJHGZHYDSPeUk37V1wETlvHqdxA+/elPlx+KFedJ30zaPXOdrY8ORy9ULt0v9t3vfvfBcccdV16S48d4QEcfnKVJ3nTXD3zgA4N3dL/74LvKXvo/61nPGjziEY8YPPShDy0/mqvcyAY/Sdu30akH+YWeHXkmLHMB+maaBJoEto4EGkC6ddp609R03gDpOEFlobVw+u6NE6Ttiv04qe2M3+gA6WS1XG6q9F/KIfA0ii93/K7pO40nDnhKERXGD1ylqOa0KpuhRFMuKcfcbMo0ENVpA+CpDSZ3rvK7sg9ERScuCm1fUQ3PoyQ7SXyt+KKPGRa+kZTiyEp7biWANO3HNq+85z3vKX20Dm/u2Ugg42HZAdLMA8aCx7ySsNlIYmPlou45QVrPrWnPYbXJfLJZANJhdZxVGDluBYBUn2DSb/h3dN+1Xc2v2F955ZXlFkv6Y51vKWROf+rygGoHHHDAnEqaTba1zOll9KyLL764XCU3t6U+6OJOyfyLMHQnJzb9YO397ne/ovPVvOANTeoyjKfwGprURx2l9eL+c5/7XPnhpc9//vPlpb7viz7wgQ8cPPrRjy6/SL/PPvuUrKPLDSunhY2XQGSOMu2g70WuadvaHp9ro2gS2JgSaADpxmy3Lc11A0jHNz8A6sADDyzXYqKAjE81f4oGkM5fxtOUoG/kqU/GyCMKa+IpT2iApbnqVV/ld3XfSYd//dd/LfFo5FE/8qVsAU0BqPIGkgY4dWXfhhOIKty1LidVc2ohSpt0+Imfnbzjji1cWRS90ONBHjYdqR97Ixp1Uh/yaADpf27EJlx6njM2lh0gJcicYDJXmTe2sjE3NIB0fj3AuNgKAGkfONGvAKTf/va3pxKudE6Q0hGybrE9mWOmynAKYvkrh1l2gHSUPLyk/uQnPzn4yle+Um4AqUtNm/rNW5bKjaEDevl97LHHFtBS+LD+Eh2FHUMni0l8Tqt+9atfHVxwwQWDyy67bHDJJZcM/Pr8McccM3jyk588eNCDHrRbLzTfq69HHouse3jfbLZ20YbWT/Lkj4zZdZ/bbHVv9WkSiAQaQBpJNHvDSKABpOObqgGkO99aU9x8TB4AN435p3/6p6KEShOlc5r0y0wbBUe96rrltFWf99CFlhJKiY0SRZHidtLU6VLx3PmRKICqq/xOpArnjsKFNm4gptOk2opbHwaSAlO1o2+dsoGnyo+JUjysXsKYlBE/nj3AV7a6JS71TP7LbuOXDNSjAaQNIJ1Hf83Y2CgAaTZ2ZGFcGB9b0ZgbGkA6v5Y3LrYCQJr1MWul8QQg9cJ7GiMf4J6XEKzEAAAAQABJREFUqdZk6zgZCvfM06QcZSw7QFrLoZ6/uIHLbq45ieslUOLnLb+ap7iVSYfyMvwe97jH4HGPe9zgTne6U4kWl3UjbV2nE1/Py+Gffvj+979/8Od//ueDq6++uryQf8YznjE46aSTBve5z31KOWhrHTD5NnttEkhfGpaLOO2ZcZS2HUbbwpoENoMEGkC6GVpxi9WhAaTjG7wBpA0gHdVLasU1NFFO+aP4jAtDGwU3tNJGkRLPTTn2lt+DzqlNQKrHiQhAqjButhMJHvHsKG1AU+UBP/RvD8DUBjXfQaWs50ekxEuDJ+nkEyPME74THr+4jWLwnPo1gLQBpPPotxkPyw6QZvyaO84999zyq8b77bff7nlqHrJZ5jzJowGk82sh42IrAKRZ0zMP6FcA0mmv2EvnBKnvnmesspPv/Fpqp16TMpcdIA2f5BI3O/qWl83XXnttOVkJUAQWhm6eMhyWN/0OX3i4y13uUq7b+zxHdK/ob/hTn+hh0ggDrpqvnRL92Mc+VoBfuuLBBx888Ev0vi26ffv2PYBXfCSv6D6RVWQ0jNcWtrIE0ofSZmkrbctNxkxkHXcJbH+aBDaZBBpAuskadCtUpwGk41u5AaQNIB3fS/Y8HRvlJ+miLEU5Eh4lN+7Q8EdJpjAnXJ55nHbolyEdRZryBRz1BExlBzAFouYUan5MKkBqypIXgNSJUw+g1DjA/x3ucIeivPsBKSdQ871TZQBcGfl4oriXwA3wJzyTYQNIG0A6jy6bcbvsAKkxYPyaI4yFl7/85YNDDz20hM1DLsuep7mhAaTzayXjYisApLUE9SlrvFs23/nOd+qosW7ycvrRyVPrMr/8Mr+MzWANBClLFhsJIK2r3JeVb3Kef/75RU9CJ36RRj+gY+UkK5t+ddRRRxWglMzpcHQ8vPXBy69//euD008/vfwS/VVXXTW4973vPTjhhBMGxx9/fLlGry51mtSfPSy/xC9SBpu1LGspeV566aXlUxonnnhi0am1ubGrraM7b1YZtHptbQk0gHRrt/+GrH0DSMc3WwNIG0A6rpdQfpgooPELqzcsFKWEZZMhrAZOEy4PSlOUK+EefnbyYaPNg4c6j9CGJ8oYQNRpg4CmOYH6H//xH+UUquv7//zP/1xoAJ8MHuUNEHVdH4DqtKnxIcx1sDvf+c7lJCpQFT2Tcotnyf/gVR3JuAGkDSCdR3fNeFx2gDR19zLl+c9//uAlL3lJAUjDf+K3im1uaADp/Fpbv9oqAKn1JboCiVqLPdMY4MqFF15YTj/Kj+nnO01+09Bqq6zryw6Q1vUKz/ivZUUnIv+Pf/zj6/Y5KDxpUyagGdsPNz32sY8t3w1NXQKoqQ9g3bdFgaOf/exni2733Oc+t3xf9F73ulf5nBK66DXsWg61u5aJcDw1s3oJRIaR63vf+95y6vuUU04ZOGCQdqRjA76baRLYrBJoAOlmbdlNUK9ueeyQmpuuxXYrZBdy4+Azl//14A2vPW3wwIMeMNjndj88uOUN3fdoCkBw0we/51H9DuoZXN8pJXt3wMoPru9Ow3WKwHf++Z8GV33l6sEhDzx4sG8HtnyvA3H2vtVegx987wdFYbjxFot9o5t6U1K8yd1771t3YvO9RcrGTrAqNIu2KS6uUfsm5Y0dP504u//lz1BWbnXLnW8pKUf/9z//7+C//+u/d8pdmphavD4z1/lv6GR+Y1cWKm11p7vebXDD3rdNiolsPPpOFp4pDFEaJkrciBYmAco5RY1NoaO8ebhtHrSjeGAqGu3I6FMeYC7QlK2t2Z4jjzxysH379kJjLGUTsIzKtzqpizpvFYA07ajO2seJpHe9613lG7cL63xbrCBy/oVf+IWyScq8uIzjQbMASJ/3vOcNXvrSl5ZrmlusqUp1M0YApE5qmdeEGTPj2g2NK65eIJlbJjXmXqfanPhn9BlhmZ/4mfBWPCv8QVfz2vevkHR3VMqq89kdOcQxjp5sUh+22wm+kegHBoeZutzkHbo6LmHDaBIW+viThj0sLmE1HXfSJ77vD33C4+/TCxcWOu7IJ2FJyy/+jDPOGFx33XUlTeSIRjp9lLHeikuaErjGPzWf8wBIU29s9utes17zkfBhYYmTr3jyYOQtLIZu47uuAEc/kmmMoWHXdKFnD+MvPLBD0w8rERP8wev+++9fToH6dXsvo//u7/6utPt555038ODNHOOX6A855JDybVFjCW+eWbf/BGzvQYI/POiLkWkIIqP4N5ud/qGe7373uwdf/vKXBy9+8YvLQYLV9onNJqNWn80vgQaQbv423sA17BSkIQDpVV+6cnD6H7998O//3//fAZHfG9yaEv697m3WrW/64ZZ5VLpbswc3XN8pcXvvNbi+Wzw7uKWApP/zvf8pxXUXhmgeBSAdAG1v1Sk0FZY3D55G5fn9H1zfXTO+DXbKIn8DQHeXgjUqzbzD8dIho51Mdil6nQyBt7fY5e+XX4CuLtGtu7eUTg0WQ3krGfWpu7bpwik0Xa609k70HaDdufe5wx0HN+413Y80AddSJgUpClEUh5uX3kLWQwLaJW0TxS1tVPujbPd5REsR1saAVKdUuf1SquteyYMdhbmfx3r71aH0+64eWwUgJfO6nb/5zW+Wq4a+bdfMbCWg75uLgRdO+fjub4Cu2ZY0u9waQLpTltYw3/UDSHFnnmCvZAAaBxxwQAH/nBIyJ05iApCSfwCa9BX9SD4Zt3V+oanDuDP/Jjz+fh7CmX540q1kT5NGOXhVD26PE6RPe9rT9jgtt1J5ibOexIR/dj88caEdZkuDbhJa6cM/9zTp0A8zZOhJXnEPo3UizS+UM1mXyTRAOttLS3HAv1F9Y1jeK4XhLW09D4B0pbIT15dL3x+6zLfxs7Ux+siD2w82/e3f/u3gH//xHwdnn312+XyB2zFHdVfczdehlR59TL+fJG4UfeKTPv5+PnW8Pmat8Ovz5p8PfehD5dDBPvvsU160+bbofe973zJ+6nzkHb88ap6S/3rYNV/rUf4iy6zbtwGki5R8K2uZJNAA0mVqjcZLTwI3B0g7Fac7pflfg29c+/XB9R0oekMHBN6mUwR+0C2kgw4fdWATMOYUYe2+5Y1Sdv86PXpSdz+P7oxZB4xSBLs3i7feu1Porh/84IbuKm+XqQX9tre5dbeYd5sJYF63yO+1Vwfsff97ayqzrsMo97D63G6f2w/233e/wW1/qDs52Z0cveH71xdgF3iIvl+3UXmPCh9W5jjZKpNcOgSzAy67P50sb9mBo6N4ueXet+qa9JaD//n+/wy+8MUvDr654+8H//nd/xzs1Z0s7QS+My89Zpe7bCw6RZu54UYnEPYa3P5/3W5wjwMOHOx92x8q4ZP+8Q27Hd2PEFBUtW02lPXmZdK8Gt38JBBFri5BWF+ZTfuFLum0Lbd29eQ0qh8bsPHlp6CjAzDkhEvyWQYb/+qH/60CkPbb10Y637VbhjbZTDyQtTFgLADN9DXjQX/rj6tlqXcDSC2PO4GGeh3TjjU41m+vzIfa2g/BOIE/DUBhvXSC1E0RxpyZb0zzp78oh4mNp5iExc9OXcKfvlfT1e6k64dJw/TDQx878cPoxXnIB4iMb+vEc57znHJjp59H/LWtLkzKqeOmcSefYWnqvNGFNvakbRp6+dXySP5ph/j7vNRliyO3c845p/w6eXQreaBjk6c+4hFmvR2Vd7+scX75pD7zBkgjKzwpU9l54o8dvjMuM0bCq3TGoccPMwGXAaK+AfuNb3xj4BNDgFLxXhA6yfz0pz+9gJM1HymHLc9hJvQpOzThKf5xduqGJ9+c9Wv0gFE/umSsAEd9Iz7fJjVP6JOeUbyNK3Me8emT9VXy1G0e5S1Lnml/bdEA0mVplcbHoiXQANJFS7yVN7EECp42ZB3vVLUCjnVqVAeCdsrfLqDt+lv+oMtbAg9luHY7MUEx9Uzq7uXReW91i+7ays6zox3w2eXfnXDdeRW8O1HQZXsLYGnHz15lQ9kp/XvhYQ1l7lGHuj61++b1+aEOGD3w3vcZ/HAHlBZdqOOrk9Rud0GPi56uDp1javeuehVrMnenAnfld7yWsjphcg9tK/l1zw1de3byluCiiy4cfOFzXxh897++W1pvWBvesjux+/1dgCYih1X/zx3/z+CgBzywO118my6fyY1vWfq1VYohJYHySnmLAjl5To1ynhLoK9NR7JTZjxOW+MTVfmG1P22d8Gza5LNMBs94w+9WBEjVWxuxp93ILVM7Lisv6V/ZwGfs4Ld2LxP/DSDtls9uPMT026nvD522FscGxlgHR9EmTW0HIAWuysOa6eWFk/nyCU/imHF2QJOUEd7qfOSRfJJnwurwYXF1fD9N4vrh4QUP4gA/hx9+eDltW9PGHV7ZScM2ntDU4fEnjh13nbZOgx80CYtbXrU76dFrp9DXdKHp2+iZYfmhFS+fmv86f2njB+bpEzFJB3AGoGpj8/g97nGPwdFHH11+cDG0a7HTd+QxD4BU/ZTBqBNTl1nHcXuMC2MFyOmlvM86ebnw7W9/e/Ctb32rAJ5uRxiHZOP76YBFJ2w9P/IjPzLYb7/9dn9LndvnLYxdt6DwNM6E1/A7ih5dXZ/QJYwdo1ygIp4BuvrHU5/61MERRxxRrt73denoVnUZCavzTf6Lsr/whS+Uz5Mce+yxE78AWRRv8ywnfYLsG0A6T0m3vJdZAg0gXebW2eK83bLTMXaqGZ1909q7WwnpoKudwECnHA5u7L4Vcws/zILQQzGo3TcHEXfmvlL4nnk47diV2PHUlQfc65S466//frf4X9+dJnAlCKbXxXbKwC0K6NjR3woParFSOeJDs2eZe9ahrk/tvnnet+u+zXrggfftFKrbdnyhBaB4O7/TfXP51PlN4r55mTfVoa5P7b553eiRRVZ7tNXO8m/sToHeCNjtkM4CkH7hyk6h/O8O+NzZ3qW8XXIu7o6lH/zANwk76HwvJxBcf9unA0gP7k73TvcNUm/nfXeHohBlgQKfjUIn0GbWSQJpD8X33fUJz3pzECU7dp0u1ajDArRR5Cn54rhrmqRbbxtP+FXfrQSQknvac73bYLOXb97T/5mNIPMGkO7ZIwFbASUyt+1JsdNnDvGgAbL4piH/pPOefuIEqZNj0inXtxF9AzV5Jy923OlTdRi3NNbdzG/oEh7+kwd/HdcPTxmhSzweYxJW5xP60JCjekamaAFX1om6jnGzhxn54End8vBbw4BLwtB4Ep8TlfGzmVxJr9PISzjbk3y46/yThj0sf/TagJEHt/TqzxYvnTgnAY09P8ID6HPSEdAH/AtILp/IOXn6AUXXsV0PB/oBnf0gzPbt20u+6NZq8Jly5wGQph+Ro7Jqo1zA5d///d8XwJDt2rlbD8BRgLGx5gQoGZLHPe95z8Hd7na3wX3uc5/ykIdvdDohSk5o/M6Asuq6KUu+gFdtkn6IP494ZbATxkanXyecO2kTLo47/rjRJa+k4TcP+PFL/JHL/e9//8ExxxxTQF7ykR/68Jm6RHby17fWy3zkIx8ZXHDBBYNXvvKVBYReLz4WXa52YbRHA0gXLf1W3rJIoAGky9ISjY+bSWAUQGpBtdjGOCm4lx9G6v7N1XSLhtOqZTHvCi3fvOwUEIsJfm7s+OK+VTkZuXNxuR5z62Ao7BSr29/u9qX0Gzo+OjWqLHjrwM7uIjsJFjdepjHnnnfu4IvdNXuKHZh6mKlBdJ9csLhTJu9/v/sPbrtLwR+WblgYBd+b7/Q1NiPPZpZPAmkX4487Ch5O+bVfaIQlXtgw+tCIo+hT0tl1HmiWwaiL+UcdtxJAmrbQLlkPErYM7bJZeKjHCllb/+qwZaxnA0h3tkq9fmWOMEYmGSfWP3KcZt4DaABIgT7pJx/84Ad3r6VZR/t9ZhQ/ADi6DFAOjTp4MuelLhn/iU9+/HHjJ/Sx8RFQMGE1fdLXcdzC8QQUBVQdeuihBeATLj92noCIyq/jUg675g1PdXnyiX+UW5p+3LB8QkN+w/Ksw0KbMPmFT2An8BPQB9j72te+NnDSMSchv/vd7xbQD0jqQQ+sdcLRCUj9ABAKFAWg5bo1GnIVxkan/FkY+WTemgdAWvMIEPaCgUy8HHAV3ilQJ0TJCFhqbBkvgE9AKEDUNzl93ufOd75z+SV3fR8oiib9qC4n4zvzch0XtzrnyfhjCxtmS5fwmkZ4/HV8nXfcZK0P4Fk/AgCL4/eZFvXqG/Fpa/lLt54GP8BR33AGkOZH2Go+15O/eZatjoz2aADpPCXd8l5mCTSAdJlbZ4vzBiCN4SzeTlfq4IAE77apUBX57vBZO6KqrVRWaJS9Et2seavz84b5wAMP7BTPH+4WuTpmdm5rqLzZFtSdp1Nnl39ykv8FF3RX7LvrLq4NDatOLeedvOzcRFHADz7oAZ2yvXeym8h2gtQvgzJRFiZK2IiaBBYsgfR3m4qtApAuWMStuA0mgQaQrr3BrrnmmvJtw2lyCkDq9Jr5CMjlx1mAaQ9/+MMLwDYqvwBY5jNA4hVXXFFApEc96lEFhASYePJCJGAKO255x923pU1YTRcgpo4TPyw8NGwPGqcd61+xT1xtp+zY8q8N2r4hv+QhrgaNyCjzvjhu8QBM7uTXD0+a0EjDLV3ykVY4ox39CBBgz6+Q7+i+y84N7DPGcvqRzQ8IpXNt3769AEpAv23btpUf6gHy+V7rxRdfXE6UamNAKNAs/JRC5/RH31RPD4D0rne9a+lniots8RH3MBmGNXSMvggMNVY8ZAMU9QgHhAKQudEqk15+97vfvdg/9mM/VoBjfSinQ4HFwwDElL3R7MgU39zafSMYvJ533nmDj3/844NTTz21APobge9Z8Jj+bQw0gHQWEm15bEQJNIB0I7baFuF5NEAaZTL2YgTiNndt6hOLCS8cVXTDaEI7TzsA6e07gHQoojiDwumI3frZKX6+w9qB1p37Bt+DLdf4Z1BAsujKOb8GSCv5pm51UKeFdV9A6PjpePnfd2gAacTY7M0pAcqsjbeNXQNIN2cbt1pNJ4EGkE4nr2HUawFInRo0H9lgf/jDHy4nyE488cRyNXhYWeawPiAFmHDl+NGPfnQ5TSceXQDS5JN08dd2HZdNf+ITh8+YhPHXPNXxqZcw865rzieffHIBUPplJN0wWz7Sr9bgVR7KDPCa8tkeNB5utNrFtWfjg2yd7HPSD+Dp26CAPLdn6pOOQG4nO4GZ9EoAFwDvTne6U2kX4N7+++9fHuAof06CJi074O173vOecqKy/nRNLdPVymNcOuUDSclDewFvmciJWxyDDuhLVmQTsDOnZgGfgGOywrv6OkkM7CUncsgpULJxKtSJWX2FLDw5JVsDhmm3tfSLUoEl+6NeMZFx/Mtq47kBpA0gXdb+2fiavwQaQDp/GbcSVimBmwGS8tmpv3QnMzl2eXblv6dvV+AsrW6NTxlluY+nV0bN93oDpPM8QVpX+/rrnUKgsNs01DFrd9Ot9jhBepOutce3aVMSxcZnDtgU1YMOfkD3I03tBGnk0+zNJQH93IbKRq0BpJurbVttVieBBpCuTm51qrUApMAlcxJQyhV7wNzjH//43d8erMvpu6VhPvrRjxZw6rjjjitAnHmOMc8BleKPLY679gtbCZBZKS75jKIRr45ORQYgVR6TtDt9N/0dlhfaAITih9GIZwKcxZ+cEy4vgKcf+QHqOfXpqjfwUxhAzylPAB/wT7ugB9gB8PwwklOO27fvPAHKDwiVvxOO9CkgKYC0PvmJH2VrO+7wEz5r/5lnnlmunYf3YfVN3KxtfODp2c9+dqmn/H22Cdh51VVXlZPOZOSTAW4RkQ9ZkaXTtNoasLrvvvsOHvjAB5ZToE7GesiPbADEwNL047oOwP2Ec6s7nrgjv0XKo+atufeUgPZoAGkDSPfsFc23lSTQANKt1Nobva6dfgyTXC/Q0X35EZjoSMmuF685Qeq6zrwUrpzkkH+t+I0UxiojKCq+BZQr9jlZbLs0TL5F0dwFkN6hAKQHDfbqNgDTmHbFfhppNdr1lID+no1fA0jXsyVa2csigQaQrr0l1gKQApYAUXQDAKlP4zzpSU8qQNwwzqKjJA2ac889t5xkfMxjHrP7B1LQ1TT9vMQHjOvHmSeZlNWP7/vRD6MVJi7zLtAQQAokG2ZqPUk8/lMHeeVJWnFMyqnja54AdkBP4KdvXAJDnfz0Az30F8Cf693onBT14BXQ6TuQ2zsQ9Ed/9EcL2OcbmOIAz4A+AJ8TjsA+5Uem4S3rTcLDe9+u+U2cK7t+oEicU6TyZ2KHbtZ2ynMi9PDDDy8naH0fFCAKACWrgMZkpT2Bw77l7yq8a/FOgwJHAcTiyQdQ3D8FmrqkrcmplhVePHVY6jtPXTplNHu8BLRPA0gbQDq+pzSKzSqBBpBu1pbdBPWizu4BSO4CKG+sj2gusp479evdJe7B2+7QDrSr3HtWoI6Yr3sRAOmXvvSlwec+97nB8ccfX5RGSiGFcJjSt5baUlTGAaR7yLyjzwnSnQDpwQ0gXUsDtLRLLYFstIy9BpAudVM15hYkgQaQrl3QawFIgXIMncA3SJ1SfMITnjDy24p9vUG6nCA94YQTClAljG6Ra9Kjamg+RDupQSvNNCb00gYgzY+49PPp51/74waKAeVyYlH/JUMncYF3QFCgp2vx/K56owfMAehyqtNVby/FAXuucwNAXfUG5AkDjkqDDsjnNKPHCVK8eGpAN/VM+/B7QlvXVRg6NhM7eYTWCVIAKVqP8pNnaOZl7+i+oXrhhRcWWTgNSlbAYHJyWpZ8PAGMyYWc6uvwqRce404da3/qJCzx/XqJCyBKn97egdZ4mrUO3S930f66/pHRonmYtjw8N4C0AaTT9ptGv3kk0ADSzdOWm64mTgfugYV2OmxRvW5x0zej6kpPp+LWKVfnHqWCL5qPYdwvAiC9/PLLB5deemn5gQLKN8U7ivQwnlYbRlGpAdJa7pH1HidJu2+P+iaqdHf4367YA0hvM1Xx7QTpVOJqxOsoAf3chsrYawDpOjZEK3ppJNAA0rU3xVoAUteSA4Q4Qepa95Of/OQC5g3jDG3AIrb57JxzzimAoBewwMd6nkvedV7C0KzF1OmHldHPG5+AyGc+85m7f+W6TxO/vIGaAE5XuoF13K7Af+tb3yqnF8WTXa6+iwfSObUIwAPcOcXI7buWyqbrAUABe4C8fAtTucr04HOUG521Q32H1Vk64X3dTjgTWxnxo094naewd73rXeWKffITDySs6UpGM/6jPP0Q2KwvOhUKJO3LK7yHH+mYyJA7NKmjOHTCkw5d36TOwqWNX5o3vvGNgyc+8YmDbdu29ZM1/zpIQPs0gLQBpOvQ9VqRSyKBBpAuSUM0NpoEZimBRQGkn/rUp8r1MqcUVlIMV1M3J0UCul500UWDz3/+8+UkShTxfp5RZG0oKMJOJtg03P/+9y8nJvr0K/kbQLqSdFrcMkmAIp8NWgNIl6llGi/rJYEGkK5N8uYUwJ0Ti1lXh+WIzrqPxnrrWreTcOTPiAd0AvxWOkE6LO+Pfexj5RukOUGKRlk54ShvDxOdQLxHeM23MCZp+JNGWOL7aRKedCWTXX/oGa6IA9l+9md/tugaKcOJWbIDgrr+Duj0XUtX4l3jzq++kxc69DnJuK0DyHwHdL/99itX4elW4oCgeZxqVG7Kq/nkzqnEXawujUW+ThRfeeWVuwFHOt64U8GzqAC5KB+IfNJJJw22d6c1tat+uwwGQPqUpzylgODLwM9W50Hf2KoAadreuDzrrLMGX/7ylwcvetGL9pjj0GTeCX2zmwQ2kwQaQLqZWrPVpUlglwQ2A0Bab0pci/INUsCn8GHGhsfGQDy3xdsm4gEPeEADSIcJrIVtCgmkv9v8NYB0UzRpq8QaJdAA0tUJ0Fxi3WT/zd/8Tfmm5TSb4ACkAEBGPmsBSH1TMydI5WddN8/V4KZwPIbv1CF+8cKYpJNHTOjYTPzc0nnQ+46qE57crr+rK2ATPTCTbuL7lq6/cyurvp5NJ3N9GsiZq++AT2CoE6K5xg14rX8FHoAY3sJfeGPXJrKpZVDHr7cbX14+kyP5BMjFd13HefCpbLLUNk7i+jSBMudd7qR1aQDppJJaDJ3+shUB0nosGhtOfANIX/ziF5fPiWS8sDPPLKZFWilNAouVQANIFyvvVlqTwEIksBkAUoLKAuwEqe+d2pCMMmhzGsDi7XSHq3kHd1fsKcPTmHaCdBppNdr1lIB+b7NJsW0A6Xq2RCt7WSTQANK1t8TVV19dAFJzSzbFw3LNust24sjpQCcmGWFrAUitw06QAhTxEFBN3vyelBtwMGHCw7uwOl56fjSh53fSFe/AUCc782vvAD1h6semWwDaGD9qdOCBBxbQbXt3KvFe97pXeTELDPV9UjoI0NPLWnpZH/AMDyWz6o9wBn9M6FKPnLqk8wjzyHuZTepQ16fvnhf/OXncl+e8yps23waQTiux+dLrq1sRIM0YzcuLM844o9wm+JVf+ZU9TpDWc+p8W6Ll3iSwPhJoAOn6yL2V2iQwVwlsBoDUQp1NwCc+8Ymy8bKBsekZZWwWkkZ6m5f73ve+5XTGqDTDwhtAOkwqLWwZJaCfGxM2yA0gXcYWajwtWgINIF2dxM0lDNuV8ACd1tRhpt4kS2NT7dvkQERG2FoAUicynSD1jXMmAGlArtjCMweaB4XzM/z48HDjkR4BAAV86iv83Gy8o+EHggYoAHD65ic7YGdOg/p8gKvwAUWdHE350jM1T8mzROz6Ex55k7aO77vVpaYD2tJ/lBO59NMsi1/9a3ksiq9aZuTNLIusGkC6qF4wWTn6x1YESDNG1N/YAJB6WXbKKacM7njHOxbhJW4ySTaqJoGNKYEGkG7MdmtcNwmsKIHNAJBaqBmbAFft/u3f/m3FOqO3QcjiTQn3uO6XvFbMoIpsAGkljOZcagno78aIPt4A0qVuqsbcgiTQANLVCzrrp9OTWUNrIK7O2QY6a6t0QDqAqG9tMsJmDZAqL6AWNx6BmsDM2Ln+HsATX67F84tj3CqhL7DVz+nLXIF34tP1d35gJ5o8ddr8avzP/MzPlNNV4Uu9Y8Jv4oRz1zR1mPBhtMIzz4eeTdZ+eOiggw7anU56clG/ZTKpc+rH36/vvPity1G+dhnVr+fFw0r5NoB0JeksPk5/2YoAacYJ2xzicMp1111XfmvCfFjvsRbfKq3EJoHFSaABpIuTdSupSWBhEtgMAClhWaSZKNSTKrXoGFfyr7rqqnKqtARM+KcBpBMKqpGtuwSMkWycG0C67s3RGFgCCTSAdPWNkDU2G+X4R+UYOvFOXTpx5FfZGXFrAUgBf06QOrEJ4LSesz1efPrBI27gKOATEBqQlM7gijug0/c9uZ2AssmnHwmz2Qdy8ud6unR5SiV2/VGX1JVtznWy1i2Vpz71qeU7pIlPunEgZfKsgbp+HvwMO/N86OV/xRVXDL7yla+Ul2PoxrUXmvU0qQ8eotf16zxP/tImiyxzkvo0gHQSKS2ORv/YagBpPXfEnZdKTsubd/LSRfyweXJxLdRKahKYrwQaQDpf+bbcmwTWRQKbBSCdRnhReGNLaxN1zTXXlI3TNHk1gHQaaTXa9ZSA/p6NcwNI17MlWtnLIoEGkC6+JcxDgMoApDbQTl2+733vG3zzm98c3OMe99gNQg7jzhwGvLLplhbIyvYNTwYYyg8IBcQCQ0OfX3fP9ff4gaCAz5wOxU/8ysHzWow8lHnyyScXoHQteU2TttZxLrvssnIF9ud+7udKFnXcNHk22vWVQANI11f+/dKNo/UCSM1zNfj4/9i77yjbiip/4Oe/WY5OUEfFyMOIOWeRZ8QcMaOgjgomzAkVRDHLiDmgD0XFnMVBRDCwzAkzKg/RMWCaMc5yzVr3V5+Cb/+K6+1+fbv79b3dr2qte8+551Tt2rVr167a39rn3PEx7bckz2ZL2pZNjM3axs3UZ+O6qW3013ze6um4Tm8EGXSAdCP0UuexS2BKCXSA9JyFQwdIp1Scnn3DScAipAOkG67bOsM7UQIdIN2Jwl2ENDs0DpC6JoLUvyC3DtMkErFhjj4iQTlVAE10gJuAT4BkIkOtc7wX1NF9j8Z7JN5RpBM6ARoAqn63Cd3VgAzKdoC0lWg/X6kEOkC6UsntnHJsw6wAUi1Svwj12LFcc721Y6u1YTtHetNT1Y6AaGnfZmnb9NLYWCX0mw9dzXyq79J/udYC3xuhhR0g3Qi91HnsEphSAh0g7QDplCrTs29QCViEWFBaoPQI0g3aiZ3tNZVAB0jXVJzLIsYOBSAVMSoBLX/5y18ugJ1LEYoThY7EpqEHIPUYvGjQ2Dq/3Xcv5ZRxLk97zfWk0PZbnuTP/WmPyneAdFqp9fyTJNAB0klSmd01tmJWACkgiX1r7ZP1nWttiq2Tb6Mn7Us7tCttG2/zRm/nZuN/XC/Td+k3v9uUPm6vzet5B0jntWc6X10Cq5BAB0g7QLoK9elFN5AELEAsRjpAuoE6rbO6UyXQAdKdKt6JxNmhAKRnnXVWBS/ZpNY+xWkaJwAQkNznQPntqKyolJZG7iXvOC11JsUZS3nHNvmdPO315Z4r2wHS5Uqr51tKAh0gXUo663+PbZgVQKq1LUga+8gWSmycazaIpNXYsEpgjr5am9yezxGLnZUxCbTzvFt+00n9l3naubSRdLUDpLXL+leXwOaSQAdIO0C6uTS6t2YxCWQRYlHSI0gXk1K/vitJoAOk69/b7FAA0jPPPLNGj8ZRwk17Ps4dJ2qSA+URU1GoeTw+AEHyhg7arnG+QiuOmOu5l/w5LnY993d0VEcHSHckpX5/ORLoAOlypLR+ediGWQGksVlsmRQ7xQ6OR83n3vpJZufVlM0v9lw7HSODnVdrp7waCUzTRxtNVztAuhrN6GW7BOZUAh0g7QDpnKpmZ2uNJWDRYRFpodIB0jUWbie3ISXQAdL17zZ2KACpP1jyu7VNAS4ncSYfsNFRcs6eOQJFcx6a43n9llK+PW/vteXkyT3nK0nKd4B0JZLrZcYl0AHScYnM9jdbMiuANC2P3fvDH/4wnHHGGcPvf//7wbn3M3v38r/9278Ne+65Zz1PmY18tCFG7tr6l7/8Zdhjjz3q+6Y3cpt2Bd7paeZ3/WaD1HvCL3ShC9VX47ifJ0FWO+eupzw7QLqe0u51dQmskwQ6QHqOw2Qx8b3vfW9F/2L/3e9+t/ZWHm/ZSIZ9ndSsVzMHErCg7ADpHHREZ2FuJNAB0vXpijhGqY3jfuyxxw4///nPc2nTHQNasLk+/jhqv/32Gy584QuvW1vZ/KxHZvkv9uHDGinRva1O5Ly9P62QgO7+dEt7Q89R3epM1Jm+2FFKefnC+47KyJcUmef3+FFeH7y05+P5/HYfvRyPOuqoYd999x0udrGLLTw6PV4ueXN0v23TeH6Ak0g8+X3CV8qlz3IfP62cc72VrWttmiQTeSZdT7nQWCpP8s7qiMdZAqTqFzHKh3nWs541nHDCCYN5jY11XWT9brvtNuy9997D85///OHiF794HQvp0+iFY+SMZqsDZOueMea9zlLGk+vJ77rzlk7O3UtdziU01BMa7dF9tEI7Oprjn/70p2pPv/71rw9HH330cOtb33qBTso4qmNSlKl7kjpbvtpzZSOnmnmRL7RCRxZtCp32KI+P5Lokb+ppr7nnd8okj/a7lv7JMfnDb/KjgT/Xw6e8zn2Uz+/w5nfKyyON30s519Xhd8q0R/d+8YtfVD0E1Cey2dzPjt31rncdHvrQhw4XvOAFax3qw2to+u18vF14Sh7n8oXHnBsD3kkefpIv9Nry8iifdsm73NQB0uVKqufrEthAEtgVAdJ0T4yo3/7FfiUAqT+WCEDK2MbAot1Tl8A8SYBOmvzpaY8gnaee6bzMSgIdIF0fyWeudfThaL/tbW/b1ABpbG2cMJFcANKLXOQi6yP0UkvkrsJZAqTqT9/HAQ1vOcqTFBAkv3d0DI04wm1dWZeFhjVa8uXajo6hv1g+96VxB32x/Ku5/tKXvnS43/3uN1zykpdclMyO+F204Lk3lCe3gBJ+t9e0030p+VyTR4oc6o/ylfLt9fY85dqyk/pIvrZc6M/yiKdZAaRkpP5vf/vbw+tf//rhXe96V90kuMxlLjNs2bKlnp9++umDj/TgBz94OPDAA4crXelK9Z/vlQWgZrz57ZMxqoz+9bvtj+R3X/70iet0Jr+VcR56bV5lJfST3zH1jJeV969//etwvvOdr+b54x//ONzxjnccvvCFLwzHHXfccO9737u2A41Wb0M7dYd+2oVum9I24BowWLkAzWlHmz/n6LqvvtSVe46tbHJ/UhvxlVckpB3KKyOhj1bamfbUm+d+RabK4El+58DJv/3tb1UvQssxvMmTsm3d55I9z0EZ9JIiz4Do4etrX/vaIOr9z3/+8/CGN7yhRowqBzS9wQ1uMNzjHvcYnvSkJw2XvvSlF+QWfrQxdFNP5OC6D/1NmxzTB+P8K4eu++P3Qjt08nu5xw6QLldSPV+XwAaSwK4IkDKU45MYgPT73/9+nZim6b5f/epXdXGiTAw32j11CcybBOinxYFFRQdI5613Oj+zkEAHSNdH6plz1eac8/n2t7998Ij9Zk1ZD2gfu+tRwvvf//71cdf1anMr91kCpJ/61KeG448/fvjd735XZRFHFH/mI2smMuLAXvGKVxwe85jH1IjbaeQkouyVr3zl8OMf/3h42MMeNtzwhjesj98eeuihw7Wvfe3hdre7XY1SQlO96puUIjN8SfLl2lL527Zoz2LrwLTX/dB1lCaVcS9gg/sve9nLhvve9741EnCpNoQ2uqG/VP7UL6+PvHh11C/GrN/nP//56zU8nXzyyXUc3+EOdxjufOc7V/Aq9bX1h7ajFH6cRw45d2zLOvdZjHf5Z5nwNiuAVN0/+tGPhv3333/45je/WQHDJz7xiTViFJAICAJM/fSnPx1e8pKX1P668Y1vPBxzzDE1All5iWz1Z871id/pG3SiC8A7v5VR3if52mNohOakfGig655zZfyWci31+t3ScP3UU0+trxMw1kXGpnx7RDeA2yS6aY97bbmcuy75jdakFL7cw5dPwEPnkrLySa6lvX7nektHfe29nLfX5W/pOtdvjkmhqc60wTW/235Vzu+UlzfnoeEohT4aoZM8yiWf8p/73OcqeO3aV7/61QqEKmMO+MxnPjNc4hKXqDYf0Bn+0fBpU3hRVr7cdx3f6Lvu6ON+7jnPNeWTkif0QiP3l3vsAOlyJdXzdQlsIAnsigBpDGwMpu7iKP/gBz+oE+k03SeC9Dvf+U4tgp6PFONdf/SvLoE5kEAmf/rfAdI56JDOwswl0AHS9euCdr4FtnjEXhTJZk3sLCc5DtmuDJC+9rWvrQANoEZUlv63RvIhH46stSiw4mY3u1mNCPMI+XIT3bLJDaTjkIsoAyL+5je/Ga5znevU609/+tNr1GXmwaVo4wdv8koc8KWSNsibfM6XWgO6rw6OuRRZLFZHdEj+5USQyh+wIPRzbVIdod+2IaAS3k477bTh2c9+duVTpKLXRGgr0O0pT3lKjQA75JBD6jsu0yb1oOcjjfPjWgAM58mb8u0996VJ1865M7tvfM8KINXqww47bHjxi188XP7ylx/e//73D1tK5GgAI31nTHn1xOc///kKVP3sZz8bTjrppOGWt7zl3wlNWwCuQFXvTBbVx4Z5XyTAVUKz1aX0ibLuSXQntk9/yuPo3ajeG8oWinJ1Tb6URRcN4JkNj7POOqsCn14RkDon1dfeU7/2a4O2ijT1jstLXepSVQ54k59MUk6ZJG3dvn175Y9NypjO/UnH8O8eeWunqF2g3x7l/ageLdfWtj7twAu7pT78GVfk4SOJmGUvx8uqjy2VXzvUgx7Zyeu+j3PJuWAe6aIXvegCPWWUTZIPDRtZbOfuu+9eeSGD1h4kn/ag8etf/3r4yU9+UtugrXhGx+eUU06peqctfGx2HV/uKZ98oRle8CA/PcSHjZmk6FfKiFolM7TIXh+Qjba1Mk859/Hs44kOr7/xSfRr6lnusQOky5VUz9clsIEksCsCpDGq6Sa/E0HKgE6TAKQeb2GYJbSk/K4/+leXwBxIgG5modUB0jnokM7CzCXQAdL164LWGeIsecSeA7tZE3vLsYzjyknfVd9B+qpXvaq+/1C00MEHH1yBtMiGXnDyyck5x1ZEmGvLTWTtHYwiGT1y+853vrO+3861a1zjGsPd73734clPfnKNVkIzc+Fy6U+TD+2l1n/amPqTz28pv9v65A/Q4TqA9F73ulcFcCbll6ctQ65SQIn6Y4ov5YHO6lQf+QJ9JBF8H/vYx+r7LW9xi1ucp8/wIP84j+gFdGpltVh+9SRfjq7NS8LTLAFS794EQj3vec8bHvvYx9aNhsgmgJDfgCOR2YCsxz/+8XVMuK4/gIif+MQnhhNPPLE+SaecPrrpTW9ao7GvcIUr1HyusdnAcvXe9ra3reM1fYzWi170ogpsPuEJTxgud7nLLfT1MSVq9R3veEcF/dAXKe69qDY1gFRAK4AWsPDNb37z8JWvfKXyRW8BpI973OOGG93oRlWPyRyQCaAHuKrLOJfX9Y9//OP1XaxAyugVm+Jdl14vIKFx9tln18e/gW+PeMQjKnAMZPZkA6APb6LRpfBXf4x95R6aotjf9773VbAN4KY+r8RgmwIG4xPfr3nNa6r/CMyVjCuPm2tL+o4Ne+ELX1gBV5s85EPflGcjtxRA3CbFZS972YVx8qEPfahuQIosBoi+8Y1vHM4sf4gk6ROvI7jVrW61kB//+hYgifZnP/vZGjTkvaC3uc1t6mYTUDs8oUOugPb3vve9NWqfDgHRr3KVq1RZXvOa1xze/e5318fq2Qll6csjH/nI2u90hR6JaBbdDwilR/LZUMOHtquH/t3znvesj+Rrj3yua6fNMP4MXs0z9FM/kKEyN7nJTapeqI/86T9dxBMQHgZCvx7+8IcPN7/5zTVt6tQB0qlF1gt0Ccy/BHZFgDS9wohmYmcoTaaM8zQJQPqNb3yjGuRpyvW8XQLrLQH6bmFmYdEB0vWWfq9vHiXQAdL16RW2R4pjwyHjRG7mCNKsLxw5n95Bere73a0CCusj9f8PLKlvlo/YAwJe8IIXVKcVeHmBC1xgQQR0gowir6zJFjIs40RZm9xACJFyAUit6652tatVuQMRRGlFB82Fk5L5UQSbCCpONfBGRJQ+nJTUDRzw0S5gi7yLtSPtRBsA4E9E2oir8Trkl7RF5C3nHsAhAm+xOmxAAF3wg35oLJYfH2yhKCp6Kl/yOgLg/KEKmQGuvP/UuXEMBAJsAWtcS12O+MWHcwBLotVC2/Wcp93W4MqRD37cly+0x/On3KyOeJsVQMr/APyJsHvFK14xXP3qV69yosN0MPIlS/L77W9/W2Wrj8nWfZGFwMdPf/rTNVoTsKUs/f/Wt75V9f+Zz3zmcPvb375e5yeJPgU2PupRj6oAHNmnX7wXVNDIe97znuF617te1SuA11ve8pbK55YC6NEbtPF/5StfeXj1q19dgUT8PfrRj65jWESsvPRLXvRFyu61115V14y3bIgA4thWbQRQAhRtSKlfW9TjFWpAT6AcMB+YB0wDotFR40n9NnEk+Y2Lpz3tacMDH/jACuChPymRr3dtsnNeJ4L32Br+IVne5z73GZ7xjGdUIE9edIF1AEvjScQkuekXf6YFrGMXjHtgtD+j0l6Ro3jEv6cXtQ2Qe+SRRy7MLV7Dgf5d7nKXGiWpv32016sYRAYDE8kB72Tkz70AsPi46lWvWtur/f6bAzDNZwA2Guf64nWve91wxBFH1N/0T3vxItocOOmPswCtb33rW6tuKaM+QKSjdqFn4wVg7xUJeKMrZAhAB1yyBV/84herztAVf1KXd+jqa6+U8B5TMmbr9DG5ooUmcBgQr510xjt4zRFobCn6pY0B0r0rVVsTLT2prydd23AAaf4d0/todH6UwDEDeVJD+7UugV1JAgBSBjqLIm3PpLpWcmDcTL4PeMADqmGft/GnvRZlFsUWFtMkhtW7tZTPAk75eWvjNG3qeTenBOg5He0A6ebs396q6SXQAdLpZbbSEu26wnzJWUnkzEppznu5rAO0nWMpSobTu16plfk8AKTASn8k0wJfkVF8NLLBN+AGIGKNCtwMoCO/j4g50VTeMQow4HADZ7QTQMrxpmNAI+DJU5/61POsPyMb82HmRTx4rybn/swSceUeJxo4ALDgOKub/opGEsUFaACCuCYBH0SBee+pOtDAh8hPOiCCChgh+oojr33AGRGu6kJHVKYoOtG29EWUlEef2SvrVACKaKzIQj0+ABARXYAJQAeQaM8996yRy0CPRIoF6LF+FYXnUWb5yTjvgBUJhr663/SmN1W5KucVCEAGoI0oLLIGmJE3gEIiRwCKSD6+OLrkIpL3Tne6UwVK0RLtd1h5RJyfDjgBoiqnjPbgRfSdP3MZf1y2VjQHX/icFUAqspdMyd4/2Iuug3fgSd+1R6LKNdfJXz/xX0S20z06unXr1iprtpluByAERvETAYeiD0UnitwESKGbFIAUaHn961+/RqaKbAVI+ZOePC6vz0Vt0lW0DzrooOGjH/1oBV7VyV9EG6/GIn0DBh9++OFVL4wFYwDYSEcB+NqDf7aA7aCXxindNp6MsQMOOKACgXRLpCjb4N2YAExAaEBDdfqHdW3TFuO5bWfa62hzBt2PfOQjVY+BsNopkS/dVpfoa2AiEPjLX/5yBYZF6Yp+JG8AKVtjnBpzoivZDu380pe+VIFL7SIHc4k/CCZbQKmxdt3rXrfyqB+1VWIr1C8y37jy6hE+OVASkCwBIYGswFB65F3ZbJ2NFjogH/2g50BHQCgdcD9yphvkLj+bAqSllzZU6BegW1+xA3QU0Kt98tAj/OlD7yUFvHtlhw0e9hDY6TddAebbbNPXAE264hwfdJLNM3foS/m10z12WF/oJzoEVPW4P1mbR2wAkJ8IaNG406QNB5DaCZAIygDJhOa4mJJPI5Cet0tgM0jAgobByw62NmVSXav2zSNAqo1SbIHfPlk4LrftdstM6hataK217JbLR8/XJbAjCUS/LRR6BOmOpNXv7woS6ADp7Ho5a/LZcbBza2ZvJesCNleadn1RC63iq12PzBIg9d7K5z73uRVkAGZYd3KSs/4iH7Jx5OwCwzj95imOuj/0sk5Nkg94AVAAuAJigBQrAUgjIyDBtm3bKjDBIeeciy7iPwILRdGhLz+eABqcc2Aqnq2hOdv0GmglogsYIAEiAT5ABBFKH/7whyu4qk5tEXUquowzjzbHHyisTm0EepJPPsBagAFwhQzxCGx1TfQVvxc/6ANgAR5AAaAN/tABZgCN9Ydz+QGW6id3QAFAF9gjwo8stF3f6EtAA+AIn4BcvJIZ0ES04Mtf/vL6yC7w2rv+yEZ0IgBG3+E5IBd5Ky9KzqPewBR14QkgS3/yzsrowLwc8TkrgBSIRv4AN8D7+Ht76RNg3Xjjo0SmxgugSf/aEACAAYjoSR53d49u+Od7YJixAYCly0BEABRgS/52HItaFPH5wQ9+sPY33QHSiRZEj/7Ijx+AonGuj7cWYBNQSt+MKXToiMRWAN7w5Do9Nt49/g3czIaIcQhc80g2/vBL79TJhnhcHu/Gpjz0ki7a6BBpuM8++1Sdwx89BkzSTeMVf4slPABabVAA4cgSL8aZyEaRn8BMALHxZ6yLbjVOAJ1sgDZK+sCj4zZ+yF6b8cWP1s941x5ltA0QekyJKrepwh6oUx6RleyWMWpzBD/6X7+L6hSFTs6uiagEELNR6jBmycBHvYBL7QBe0h2yonf6n7xtbCQ/eZGpMl7pcGYBmp2rJwCpvAFI1cl+sFk2T2B3ZBh5y6ssWbFhonP1N0AVCKv9NoHMAzbDJLqFP6C4DRa6Q2Z+a7/frpM5eUmuqYvt1v5p0oYDSCmORFAGGaUkDEpCCD11CXQJnPMeEYsaxjaGgjFayzEyjwCpvl+Ldpr0TGYWdJGZI9o9dQnMkwTopDFurHeAdJ56pvMyKwl0gHR9JJ+5NvNi5kq2aLOmrKfa9kUO7bWded7WN0uAFEgi6uda17pWdXRFTLXrpHFZ4RtwAuSwPgW2cIizTuXftQCpCEORVisBSCN/QCSnWWQb2qKegBNAKO8l9GdPjnGeAS6ccM45QIRzDqQEpnhiyuOn6OEbGCBSSqSSNoimE7EF9LN+BLB5fBSYIcKM4y8KFW1yIgePrYoA84jpD3/4wxoVpg6gK3l4NBVgobyosi0l4gsABAyxTn3Oc55TwRf5+cLAKvmBuIAJ4KV83g1MlkBZcg1A6xFu/rTIXe8MFIEHiAFQAOLQB67qK4CYd156DBsN5+r75Cc/WcsCZoAq7C9afATt1w5RYCKNRdsBYgBh2iDyjSxiO9Jvsz7S1VkBpIBjj0XrR8CWvqVfMA9HsgfeSVn7OQLz/Eke0EgfiAik18aaa/LoC4AUoBwgT98BsKIMRXMGIAVCJqmTLqlTRKMxQTb4g70AwYF9QFVji54B5YH4oow/8IEP1LUpOwHAM2ZEBJKxvDYl/Maj3wBSkZge5wds0WvgrMhTvCrnmrbQW0CwDQpRysYgUE4kIRnQW9e0IfYID8aBtuB7sSRIBtAHZxJNDnxVd3RVxLgxoD/wYJyL6nSeukIbMGpcP+hBD6o82zwJQApA1s9S+HQN4Aps9ii5ZFyyH2RCR8ib/MnCOBZhqk+NdXQCTBujwFzXIjsyoi/GIx0A4Ir2NSbJPZHsaEtkoL36gDzJw9hFE0DqUXwpAKk+BuYCVtlL4DfQ3msHJHz4uA/gds4Os3OJlAWaA/DpBhtFPwCe5Is/9+gZ20x+9EtdXq9A7/QTO0NG7FKA+crAMr42HECqM6QoaM4Jt71WM/WvLoFdXALtuGjP10IsGwUgXUm7LR4tcBnl8YluLWTXaXQJrJUE6DcdNTd2gHStpNrpbGQJdIB0fXqPzbHu9mGHdpWUtrZtX0//o13TzBog9ZgjgAMQxgHNXMSZjVN7QIlKBLAAeoCAnFjgiffVcriViUyBocAQzrJorJVGkHKK0QXeAIOAowAGEaucfms80VWAU5FNwCGPNnPq9aWoMEAAwAct79UFDOJNFCUn3OO1gAURkuoBvAAAlJEfyAhIAsQAcACkwFfRZaKegBZ4UR9gQtQW4MTjqwBOUVrAEKABMMojuOQKGPJ4MbDFo9EAR4AB/tEXJQesFGGGnv7Bg8gvHyAOMNujqkAO7VMnkAM/AWLIQuSf9omqBYQAxdUbsA4gApg6pkS7kQtQmdxFJyoHqABkaKvrolo9gi0y7iEPeUgt4/q8Jfo4K4DUaxr0Cx0DlALcY1/wdUp5d2wif8lN3wIhRRqKwqN/dEB/0VfRpqIp9ZXyQD2gv6hL4Jkx6I98/D6gjFW65pqkXmXacemRZeMSIAiEy3siRTYCqYwbH4+vixYWPQiUxZsE5KSbogbptHrZA3pIPwCHHj0HYpKBecY4BdDhmw0xvgSwAFSNE4/d0z882LAAbErkElBVW9AyjkUu6l/jPiBgLdB8GUNAQ4AwG5HH68kDHeUcgYf0W7/Y0LAOl0d92iSf8WHcefzceGEnApBqp3FuHCinDNBSVCSZkY8+zQZLxiV7KuGBPUlEr7qMT5GqIjDZHiA5PtD3kYx/ayV02R5jF1BOLjZuJLTx5Zhyfos61TfaaJwHIPVaD1HFbCswl9yM94C6wE60lJNEwwNC9S8wm6xF2isrApXe4D359YlNGz43U/kAAEAASURBVECwzQC80EVR9oBdsiNb+uWRerwYF2QVGrXiZXxtOIC0bZPOmrbBbfl+3iWwWSUQQ7Yzx8e8AaSLtTnXp+nrRJAGIEXDZ2fKcxr+et4ugUiAXmYB0wHSSKUfd2UJdIB0/Xp/V5sX4zC2El5vGbT1zRIg9eclHsu2TgJMSNZIcabxKYkQ4iADBgF6ojg5rJx3QB3QT+Lcimqy/vLP2IAYgMlKIkjTTxxkQJEoI2CIuVLimHPy2QpgAEDH48wACfyK9pIXqACQxCNnnXMOfAHGaLd2cdABMQAf+ZMAjcoAoQCYop+AHtoDxAgIJT9ACOAg6o+MOPfKA6CV97gyHgK4AGUAGx5tB0CoBzgKWAYGAxLw365ZATF7lH/U1ldoAVSBumgB0gAL2gqgEL0GHCIHQK+oNCAIkMox0VjkTL4AcLIA6OlbgBXgRJsAuPpZwj/ZAa1FmQKG5zHR3VkBpCKEAY1AcpHOwB59ROYZ+/TXI/b6i8xFFALpHEXLAab0HxAfwL5169YKWAKogIzkrw5jULQo0FGeA84FSEVIt7ojihH4RYeUo1v60ljV/yI+AYR+A0WVZx/oogQkBb75iCQUdewafqxbAfeiXY0leiGyMRGkogSNOdGUdM99PGgnoFR0Jluh7TZqAMEAZjziN5sw2kN+gHnjLxsjsT/jemgzQNS2aFTAZysTek/22qov6LtNBrpuA8H92AJ9py2uk7FoT20FSHoMnu1gE/RvZI4/EdzGHduBR/YAOGqzwqcF/QCkxirAGXCobuORrEVzkoG2qwNveJLHb5sZors9Mq9P6IT/MFEnfnz0tSOZosN2xnaIJs1rRwKQosVuAD3xrO1sGZ6jO46SqHsAvf4VXR8gmA3STuC5OuVnL9g6QDNZA461gR33dIIPG0UXbSKozzhg2/OUwHg/L/Z7wwKkOljSYRGcY09dAl0C50igHRfGyVqnjQKQrqTdjGwbQUqWPjtDjivhr5fpEogEMs7NiR0gjVT6cVeWQAdI16/32R3zYtbim32ODEC1fhL++5ratcgsAVKABIAUmMdp5YwCDTiy9AB4AEQEvOWdhoAYj/ECd4CRwBn54ywDDUR3AhQ4+wCTaQBS+hhazoGBAAzRbh6FDbBEqpFj+lQkEycdkCmiKtfTAyK/XAcoAC1F6XHuOegexwX2BGxBmwPvfaBAGlFgHqMXnQfQ9Bip6E5AhTLt+w6BSABb4IAIPYBy/mDE4+4cf2WAK4BfPIjSFDEmMhMgAYxIG/GpL/AUgISMgAjAE+fAHQAC0CRADHDIKxREgwELgV1AL32Wca8O/HhVgUeQgauidOUVoQb4Oqz8YVMLkAK/XQNyAIDyOHZleE6+yGpWACkdBfh59yVgDtCl35PwJhlj9Ef/6HcAKQAJoCT6jv65JmIbPSCZMWrcAQnz/lAbF0DTrQW8MzYBc6Iuk4wDEXtnlkhNUd/eV0lP6IBkE8Oci0ZAQlGrxoo/9pE3STQzEE1ewCoQki4fUwBBIKyI0BYgBbRpG76A8MBKUYb4007j0IaGKEG06CCAFHjHxtC1vOc48hJB6jrwLuBj+GuPokwPKIAxPeUPsmGSdusD9bBPrht73rNrvOZxeX1jvElsirGgHaKylSHvvAtV26TYHBscAEaRpGwi3oHawHCbIjZD2A+JjTWOjFU2kyzJHB/sHvBUFCl+0ME/vuiZ32TpnKz1G733qg1tjK6xEcBvdNkJmx9sB5otQKpf9QVAmx4BoWMzyRPI3CaR8GyFfgcUbymvEGEbtS/tFEEq4YWdAwTHdriu/fjCI120ySQilWzZXLaPPMm71UVll0obFiAlKB0rtedLNbbf6xLYFSWQ8ZHjWslg3gDStl3aKrEROW/v7+jcRMBYZ7G/o/z9fpfArCRAvy0MLHo6QDqrXuj1zpMEOGscQBEIHMOsFeeJx83CS7uuaM83S/sWa0fWFVljrKeOtXKeJUDK6QeAiD4StQQgbHkzJ5mb2mvAP4Af5x4IOv74K8DCH8bk0VBjGXAp2hEYAgwCSoj6BBwBIAEg6khd+sxvZT3m6z2cAEOgo5Q+kye/RU5x1EWuccIBGZI2cKrlBaqwK0AIvFsfipDkgOMNECwBOfACmABWKqddnHWOv49HQgE8eAEyWHMCs7yPVAQpgAJtYIU2ALaktFM5wICPaDpgKoADaKoeoESrk87xJWmPdokCI08084g9vskKOIEGuvggf8CS/ha51/YtmqIcgT4APVF+2isqFsgDEAJWBZwQFRkwJ9FuaMxTIpNZAaTk4JUNZAR4Bsw7SvoxsncE3ImO805J+ksPRdWRv6hOABvAMX3uqD9sbAD63Qd4039z5dYCIonIFHWaMvrRWEM3Gw0e5wZwGg82MPAiAeMBhfRGNCd+AF5AKzoPXAv/wFL6QWcAu/TMY/MePc87SAGixjiAC/BnjESP1AdoB5jhW2QyPTz77LMrT2yMzYkW0Cc/78PVbmAvmS2W/DEacNm4EfHKjihPN4C86Hh1AXshr34iJ3aRrOSVjFEgLkCWLACL2iCinQzxKHI+gCr6aHrM3NEGiGTzgSzIjCyNqQCwxpTodiAzIFKdbJSIdf2NVzbE+JaAu/RLOwCv5Kbfgcw+6kQ/bfD+ZYAn4PPAAw+s9qK1HWwf2kB9wDuA2mYQW5b2imZVT2RIrvrU5prXqWgrsF4EqXaykwBhr+mQVzltSwQpndF+v/W5/F5HQb/IkAzY31a/2Nzlpg0LkC63gT1fl0CXwM6RwDwDpKttsQhSAKkJi9FnbHvqEphHCdBNOmpR0AHSeeyhztN6S8A70fx5g8U8x7J1qNabl15fl8BaS4DNj+M6S4BUhBqnHEAnKi0RTeFtvN34FqHEseas5/Fec5cyPqKPOO/ABICN9yWKoLLeBM4AUQArIkOBJwCAPcpj41mj5Zh1G5AGQJLHb/GkPh+P5wKG3AfcAJKAQUAX0V6RM76cowE0BEQ6FzkJENEWQJDoKPmAIxLnH6gABNQGkZmAI468zRvyCp95HF3brT+BuR4NJSNgDhmjnbmeTQPQJrIQaOnPbcgJIAJgkAIsaANwGqAAwAQUAEgBM+61UWCJIM07AOUBoIoiBFAALLSRDPETwFrf+QMVIAfwRxlADl7Uh2dtIA/XtxZQy7lreJinhKdZAaT6zHs06fppp51Wo+XojcjJgPAisYF2InrpgT7QP/QQsAX4E71HzwDbgCPzomv0W6Sf/PQrj6Dvtdde9VH7lAF2eh+qOgDvNjOAigB7AKkxAAwDztFDOmFMAeiBheZfYBsADuiF7gElIpN+kK8NDHnorFdD0B91elxdRDWAzxhX3nwOGDQm8CtSkI8GHBXZmkeujRtjyKaKMUG/yKzVL497uy7qO+DxJN0T1SivR7ZtmADiyACIq402EUR2A4QlcvaqChsMxgydN0YCVAJ3yX5LiZLU9kTGs3UiSI0lCa/AQgCjzRW2g7wApAA/Y4cNyR8R0RfjUp+Ikg9wyD6hCwRlJ/kHxr9+wrv8gHT5tYscgdPqAp6yJ2wU28SmAK1F2LNFovz1jf6mGwBO5egVPWIjgfzGvA0xMhJlqw30E8+AYfJQBohJN7TdJoz20XltDahJPiJlXacjZCTRLTKnI+wxe44OfddvxpA2iuKPjGvBHXx1gHQHAuq3uwS6BCZLoAOkk+XSr3YJrKcELEpM+hZiHSBdT8n3uuZNAnHYbWx5vMrjdnEi5o3Xzk+XwEolwObH4Z8lQAokEBElsoqDHoAwvE1qn4gr7wfUBgAHsC7jFmjA0QZ+eKwWXYAJgODUU0+tYIGILqCpjQ/OP8ff+/KARB7VbWWjfs48EBRwBIDBG+cceMAJB0YCPkRe+cMlABJwFHhgXpVXcg7o47wDhUV3iVri/Eva0j6CqxynXD5OPXBEWQ4/kANAEUBZeQAl5x5IAXwQacXpB1QoD8jBez7KACb8Qc/WAjQCqkR2AWM8wq8sMCRyEcEnik078QxEaP+kCfghapDtFIlHNmQLwCAPADh7Sj7ANiAR+gCQU8qj+voFfQCyiFrgSgBSUWDaqgxwRmQtMAPPQGT9Nm+JHs0KICULrx3Q76IRgaE2BMhQv5G795SKzgMeka8/FTOW6Bz5A6qBWsYkOW8poBwwS6SyayIX5QNiAa4AnF6pANi0qQBopMPANXUBNW1MJIIUT8BK4BOQDX/yAwjppUenAaf0whgDptFFY5BuG5MixUVe0httUId2Aw7RoMtAYmNDRCM7Ydwb7+yIzRZjLm0BStJZkezGEiAOoKu9xo36jWNAJjmdeOKJFcyjk5OS/PIAdo0fY8cYoccid9khtgOwp28AfkBNj4SzXd5JDPzTFsnj90A6edkfNoFdy2sywoN69T07wW6J9KWPgGrtAxCyHwEOlQMWigomX+d0RAQl+3xYGcN0w5ikP3jSLhs77JEIz2y0sFd0ST79ZKwDq41l/LLz+gkN/U4PvB8ZeA20ZLttbNkEY0P0hX4EYnofLv7cd852iTglK5tANrr0D53XdvaWXpAn3XJP/XR267mbK/qVTmejx6sE6C/9c90mkChnvNgEmyZ1gHQaafW8XQJdAgsS6ADpgij6SZfAzCRg4WTh0AHSmXVBr3jOJGAsWDgHeHHeU5fAZpFACwLOEiAV9SOCCwgpIovjLJmPJiV8c9oBMsA5jjiHGZDB0UYPeCaaCT2OtyggQCgH3TWAC+fXI/ailDj0cXzVG9kAGQBvQCIgI1AWKMfhl0fEmn+VBvABabwmANDH0ZdEvmkXoEF+Gy4cbc46Z997GD0OD4gBeAABgDWxOY6c+YAcwAN/zsLpB3Bw2MkLbXnRF/WHJsfeI/bAJnz7AxTtFJkF1AIWAIgAl4AGchNBB2xBl4wBXSL98C+iDpiNH1G/ACjXreEBV0BorxYALEjap74AucBTfAPD0CEHsiVv4AkdwL9oRHJUPzDGPQAHmQJj2GHt1cfKAO4C5sybjcbnrADSgEEASSC8KEL9A1QTKQrQ805Xf2hjDOh7cvQeSSC5fvHIvfEFPATu0U0fegtwowsiA21IAACBbXSKLgFeAZX0GvApqpAuAu71J5BQHfJ59N3YJC9jDh1jjL4nilJe0ZrGL2AUn/JrB5ANwBjgV73AXeApMBB/dANA7wOs1Xav1QCWAhyBa3RNPmPdeDF+jSuAZTZJ1YkX94wV94B1i+me8vgxxrQTUBu7sqUAzsam8nRbck+EpXHARhkHZOg+m4dX41dC1xgAQIsyN1bxER4Be8eUzQOvT1AHXgCKZMAeshXsZpJH4IHB7Abg2vhWhs7YvHFfVLJrElviMXhjXj+o2z16AzzW13RPm/AvetkGUv6IzkaKfGwnnWRL9TmdZWe9hgSozcYBlNl3tgdd9oaeiAQWxUy/6FQ2SsgQMKyNaABvw595AxBts4b9M1a0lX4ZAzbZ8m5V9PAEgKf7+n6xvo4c22MHSFtp9PMugS6BZUugA6TLFlXP2CWw0ySQBZXFTY8g3Wli7oQ3gASMAYvgNk261t7v510CG00CbH4cvVkCpIAGgASwUmQZ8LDlbVyuGYuJjhJdxOEGGgBrtImzy/nm1Iti46BzoAEaAAAOM4cccCKiSSQVQNW4D/2WBw45QA990UUcd4/OxrEHBPozEw47QEO9gEEOtcdngVAAEvVz7D1WLKJVfcAEj/ICGAAXefw57QYIoe2eNgAXgTJ4BmSSF5598Klt6gKQqlc7gEUiVhMVB3AAGnsVgIhAYCYeAgKpC4gFmEFjt912qyCZf4kGRgM1PHqMtj8yAWKJ8ANG42lricwS+Qe0IQcRZgAp/SuqFn/AT+CxCD7vFQTqAitE05EFUAbwxUcAvvkAKwKAjAOkuR65zcORfGYNkGaMA4EAavQe2GS86F+yBpLhNYBY5j86JQWocx0Iiabx5Tc9ojc2CdB0HR3jQDm03U+ST0JbnX4Do4CeeDRWlQd2SfKoL9eNOwCao/rRBpKFrvzopN2uK0s/1IknAJhydFL7lcG3e9pgTOEh0cpohd+Aaa75KCfJPylFHso5Fx3JBsiPb3Xjzf20AR15yURe4B5bkjrdl19KXzlv+VE+/Zp76mpT8qs37XJ0Hd3IBa8pK1rTOblFF8hGfnVGnui4Rt/0L4CUviUvPtBRl/v6SFnyb1P6Pdf8Zhvol/qyWYWGsuFDm9CW1Jn2OY+c1Z/f6Wt08ExH8EP25gYJ7WlTB0inlVjP3yXQJVAl0AHSrghdArOXgIWCyd9ioQOks++PzsFsJZAFtYX0ShbFs+W+194lsGMJxDmVc5YAqUdGva9SlBnwklPPmY0TO96S8A3MAByKEpI4s8DQA0okmT8Dsrb02KnIKSCkR0BFDgH/nAOLRD4BBkUnBpDhVI/XzxEXeQX089g+YMWjsQAC79j0DkTAZoAYoIY/K/GYOX4Bk6LW8AgAFNHF8WZbAIyiyAA2AESgSUABvBxTIsAAsCL5PCrssXeRmHg+rDz2ChQgKzZLdBpaIq2AmYBjdYjq8w5G7ykE0LimjQALvKAF3I2tAz55lN+jtYAIvJKByDL1ezeo8tqjrR6JF5EFuAJ2W0OILgTkAkzJAn1gmr4BdgJG1Y8+3oG/wFN64DeQAoisH7UXDe1UJ5kCyAGv+UMZOhD+nc9DwuesAFLtV79+CzjYysf1cVAveq9PIueATOjlvvM26S+0HeX3Qd81PGQsJ5+yOQ9N+ZRzXXIePpxLKeMcfXRTJvW0eVyT5AnQmHrS/uRRbhKfyrsX+n6nTOpu5ep+m+QFvrFrSdqsbMqnXjzJr1+03diOfJR1ri5HPOmjJOXQa3nLvZZGrkVOye+68lJo1R/n/kZDwhvbGfA1vCvjE1mEfmvLlB/vN9eiJ+pAvy3T9hP+5HHMJzqCTpvG29Dea89js10Lz+M84s+91NmW39F5B0h3JKF+v0ugS2CiBOxge0m4f8fLPxPG4E4ssIEu2s23IM3EwmBrG0PbU5fAvEnA5G9h4DEX7xpa7gJjvB3eYcShmbTAHs/bf3cJzJsEskiO/jv6ZOE/b/x2froEViKB6LeyswRIAZ0igqyNRCoCc1rextvmXsYowM177ERBAvFEa4r2QQ9Y5xHaAJHyiQ6yzkwk05lnnlkjIQGexrc5EH0p5zm6DmhVRgQkukDVPco774B/KeMoLx4AlXjTRgAq8NO7DxNRl3agqR7zLjmEB7SAlR5vxrfINrSArd6JCHiVAjAACzxui+6W8vgugAUtHxFR+AacAovc84ipj7akXmWdq9dj9cqQJTAYDz76CL/ySvhJPhGn5Kn9ros0TYSf/MqJbvWorgg59z3OrO3yue9j3SxaDa/a6pN2ag+ePL6Ld/2szLwlfPpjGY/uek2DKMD1SuSnHyV85Jh5LNfqjfIV+bnuPPcdlUEv8s8x9/RrrqUeNHxaPtzL79Bv68p5e2xpu56U8n5Puh7ekq/NEz1MPaEhb8qlvbnnGF7Gj8q09OVNamm6FsDPeegsdr4Yn/JLaI8nfKRc7rW8pUzy6bc2f/Lmmt9t+1xXRpp0PeXaupOvPYZOy0fKhEbuuT5eZ5sn5dBPHeHbPeeSe5Lf0UO/w0vuJ09o5ej6tKkDpNNKrOfvEugSqBIAkNpR9jJmCzALr3YC2chi8siRl3BbtFqo2KliiMd3bTdyGzvvm0MCFgD0kp76x03OHF3NAnuaVnaAdBpp9bxdAl0CXQLrL4HW6ZslQLralmuHuUriRE9yhldbR1tefT5x2Nt7k87xJv9K5tJJ9FZyTf2SI/ngyTGyynEx2i2YkDyhld+O6C4ml7aP2jJoqz/lJtFt82+kc232RzaCQETSBtCepS5sJPl1XrsENroEOkC60Xuw898lMCMJ+Gc+7x/yj4B5z8eMWFnzau30i1qw4LMgyiLT7566BOZJAnQzmxMiQBIRsxIeO0C6Eqn1Ml0CXQJdAusngRaI2sgA6SSJZY21I+BvUtmlrrUyS76s6/J7qeM4MLlU3rW8F3mEZiuXSW1KvknHado7qbxr6ky9LS+55zh+3bWNmPxZjHfV+lOtzebjbMT+6Dx3CaynBDpAup7S7nV1CWwiCfhXRf+Mt99++9XHq7KA3AxRliJGs1NsUaltHjt23lOXwDxJgLNizHlXUnTW75U4KR0gnaee7bx0CXQJdAn8vQQCULmzUQFSbWhT5qu2be39tTq3lpPUlzqXom3NJ1+iJJfKu7PuLSUrdS7WjrQV72j4tO0IXcflykN9KdfWHRq5vxhP7m+UdPzxx9cIUu9d9edYdKF9H+VGaUfns0ugS2B6CXSAdHqZ9RJdAl0CRQJeGO9dR949tFJAZl4FabGXT7ug3AyLvnmVeedrZRKIno7r5vjv5VDvAOlypNTzdAl0CXQJzE4CLRi1kQBSfLcpc1TbntxP3uTJ9ZUeW3rt+WL0Wp6S37FdDy5Wdq2vt/WTR35HNjlOqjd5x+8tVWY8b2i0dY/n8Ts05c/5pHwb4Rpw2SP2J5xwQv1jKn6Oa9q10du2EeTfeewSmLUEOkA66x7o9XcJbFAJZBGU4wZtxg7ZTvssjmaxON4hgz3DLi2B6CchrFZHO0C6S6tSb3yXQJfABpBAa/M3EkDailYbkiYBTrk/6V7KTXsMzZRbLu1W3ik762PbluW2YxLPoeO4nPXtPMpiUrvW4po/qvJHXVe+8pXra4xEkOYpnbWg32l0CXQJzK8EOkA6v33TOesSmGsJtAulnK8WoJmXBmuHZMG4Wdo0L7LtfKy9BOioxbt3kUor1dkOkK5933SKXQJdAl0CaymBrLfQ3EgAKb6lcUAv7Vnsfi20Bl/tvOhcWgoUHOdn1gAZfvIJULdcntIWbY78Xcu569OmVp6hvxp609a/s/NHtmlnfu/sejv9LoEugdlLoAOks++DzsEmlsBqFyCbWDS9aV0C6yYBC1wfr4JwHF/E53fGqzxJHKhcz7VpjqEVsB0t56lzGlo7My++Dj/88PqHBP/wD/9QAVc8LuVATuJHeyOztJVjgZbf0iSa7kdWzn16WnsJ6INx2U66tvY1d4q7igQy3o1z5xnv9G5c1/zOR77o5ni+5cqODWlphE54WC6decuXdkSe2uj8tNNOG04//fRh3333rdFtaX/uO2q78u4B1pxL7uU8v+uN/jVTCaRPHPWR1J4vxpy86f/09WJ5/+///q/qQnSgPbb1LafexerY1a6n3yLLVo7tNePWWrSnLoEugfmVQAdI57dvOmddAl0CXQJdAmsggXaRz3GIs+y631KcSMf//d//rS/j98dHAQsTsTENO/7sa7VRndPUt5q8HKZXv/rVw0EHHVTJ+FOyVlbLpW3xH1mlfI651zpn7ukHcudEJO9y6+v5Vi+Bdnysnlqn0CXw/wEdYz1gAD3Lx3gPUBB72+aNrZhGlm2ZzabTaY+jxFZKv//97wdyu8hFLrIgWzY0Mncvc5uybHPAmtBAp5Wd3z3NTgL6z0f/6DvrCPPxYim6kbkzxx3lTzn52vOUc01q9ST3+nH5EpjUH328LV9+PWeXwCwk0AHSWUi919kl0CXQJdAlsO4SiNPhyFG0SJUC6HEIOOvnO9/5FoA6zon7HJVpE3o+WQxzNObZ2fjud79b37eFx8hqJfymveSl/WhEjn5H3u39FhxZTd3T9lHP3yXQJbBzJGAcJwXoaW2p+2yFTaTWVsrb2ojQ2NExNGxs5d+mV2K/dlTPLO7HjqrbuTTJTpNpZO1+gNJa4Nyv0Ere9l4/nz8J7Kifct8cq8+NnaX0Pvmz/pE3H7rhOr2RT1rJ2mf+pLjzOcq4UlNknHNHcszaKEfXe+oS6BKYPwl0gHT++qRz1CXQJdAl0CWwhhLIQh9JjoDfjp/61KeG97znPcPPfvaz4ec//3kF8fxb6YUudKHhjne843DXu9518NvC12daR8Hjj8cdd9yw2267DY95zGMWFsjoqH+ekgV7+CKftHclfP7tb3+rES9xGP7yl78Mhx122HCta11ruMMd7jD8y7/8y/CHP/xhOPLII2u+Rz/60cM///M/L4hD/SsBSBYI9JNFJaBPpJX066JE+40ugUYCsSWxIbG/P/zhD6u9/fznP1/t7Z///Ofhwhe+8HDxi198uMENbjDss88+w7Wvfe1KSZlp7e2vfvWr4eUvf/mwffv24aUvfelwqUtdqgISsWsNixvuNLY04zcNMI4jX+10/69//etw1FFH1cjSxz72sdXefvzjHx/e9773Dbe+9a2Hu9zlLsM//uM/1rzKh3Zo9uNsJdD2h76Nrc5xnLs2T3tvsfzyGKPtfec+Gbvy+L2ScajsrpgyNskt55GD38Zn5Jlj7vdjl0CXwHxJoAOk89UfnZtNJoF24WLS7KlLoEtgNhLIWDQOAXif+MQnBs7j2WefXZ3yy1/+8jWS6Uc/+lF9rxsn84ADDqiPnPsX05UAdgBYdVztalcbjj322BqVkYXybKSwdK1ZtGdxv1pelSdvj4GSwZ3vfOcKlF70ohcdfvKTnwz77bdflevb3va24TKXuUxlruWh28yl+2u1d9eqn1fLRy+/+SQQ3TKGgS4AOqDlF77wheH617/+wN7aKAFmnnrqqcNvf/vbYe+99x5e9apXDVe5ylWqQKYFSNFiY77zne8M3/72tyud1dqweeqZVqb48pt8cxSFb5767//+77rBR+7vfve7h913371uRj3taU8bHvnIRw7Pe97zhgtc4AILYE3Kz1Nbd2VezIE2E771rW8NNhGydllMJhe72MWGW97ylnX9Yszo9x2tV/S5tY4/+brSla40XOc616nkP/nJT1adutnNbjac//znn3qTYjEed4XrZOqTPnAuEtdRn+jHD3/4w8Mee+wxXOEKVzjPpvCuIJ/exi6BjSSBDpBupN7qvG44CZgU4+Q75nzDNaQz3CWwgSUQ0E0TnAPnAJdf+cpXhic+8YnD1q1b62P13jf6P//zP9Ux4UT+5je/GZ761KcOBx98cI10nPS44lJiOemkk2pZ4OCb3/zmGrUTHqZ1/peqZy3ukYsUvjyul/enTkOfM9A67X5z8q561avWyKUnPelJ1WEHiLz3ve+t/fGgBz2oPhLLqUtfhc40dfe800mAjPPZkUM9HeWee1eWQAvQAO3++Mc/Dsb4ySefXAFMNtdrTAAw7n31q18dtm3bVo+HHHLI8LCHPaxG8ccWLVeWZ5xxRrUxAFLR+1e/+tVr0Zaf5dKax3yL2cZcD88A0jvd6U41gvQDH/hAfYIBEPbRj350uPnNbz7c4ha3qPY2rzXptjaSm5/jO9/5zrpZ8Mtf/rLaaPZZP01KwE3vD//Xf/3XBUCOTuzIpr/lLW8ZXvjCFw73ve99hyc84Ql17gWg2xx+zWteU/VmXLcm1d+v/b0Efve731V52oiwrrQmEuF+97vffbj97W9fN949ndRTl0CXwHxKoAOk89kvnasNJoEsNC0mLPY9tvtf//Vfw49//OMKuHh81K6hiVH0xBWveMW6eAmQkIUPhyAOKxG4P56nFY176mzz5T5a7kmhm3vjx7b+0MsR7TaFv9D0zsZnP/vZtV23uc1thgte8IILC7lxvlIPes7RkMgPHYnTJLn361//enjBC14w3OQmN6k75GgnhVb48Lvl1TnHyH3n7qfOcbnkXvhVR8o4TznHXM81tNIOeXuaPwnoqyT995KXvGR42cteVh/pfOUrX1mjaaJH8tFHj2qKuDFWRVVc4hKXqCSU1+dojgN6MtC5vL9LBClwlaN+zDHH1Ovuc2A5M8pHP1u6zr1Hz2PoePHIv3fqxdFXdz5oyC+f/MaRxyctzMOHvGmfvBkXHCHgJfsU+tFl94CkgAx/EIFGWzb1a7NH6H3UK797wNWMDc6CR2c57c985jMXHC9l8K9uZeQPz+EXf9rGLuSPo/AhfytrfGg7GomOki953U/bwnt+u7fZUmSfvvZbIg929V3vetfwxS9+sUZQe70E+dIz0Wb3vve9K5Cib5IiR0eJDHPu2NLPffINH5G5vAHfnbsuRbeT37XQRYcO4KetVx4p+Rzbc3nRffGLX1wjFQFDHNQ8XnxO6XO+w8c4z8mDL2MS78ZL5GosAxPw9ohHPKJGRYaPlHV0Lbw7pp2up23J3+ZzPyk0cj/Xc3Qd/45SWzZ51uOobanbUYToPe95z9pOkftetdHyqf0/+MEP6itNjHER5eyFsj7ag2b6P21IO6MfZ511VgVgvUtZ9N2ee+5Z+4n9od/6nX1pdQ0NdejX2LF/+qd/qjYkdbdH5/iVl41Ut0jYjJUcw7P7ePeb/rBnABNl2jxo+cSGRoY5arP86LFzbD1ejFnX2Vt8aZ/2eozeb5tQXmHg3JMT7qs/8gzdHAHW7o/PB7mvfvVqi4/+iq13xIv7Pa1cAvrm9a9/fY30Jcsb3/jGVc50i+66Rs6SIz234csuKZs+ki92KmXkd19itx71qEfV1/8897nPrbTM0caC1zF4RYX8bRnnbcpv9Nvkumup173kdY4Hv31yHv11P/qZPG0+98fpps3yuZd257drUq6nfHs/55Hh+NH9pNxDL2sWNF13tMljk0Y/ArCVNe8eeOCBAz9p3333ra9vQk+7M4ZCH42Wnuupv73nurajEduTvK731CXQJbAyCXSAdGVy66W6BBYkEGfP0eMThx9+eJ0YL33pSw/Xu971Bo+/WEx7xMzC1qMVr3vd6+q9TICIZZHgWpIJ0cc99E2+JuN2IjRBj/82WVrkKht6OW9pZkGSo3rVg14mV3UqI7kWnl3zWyQYh+de97pXjcbLoko5dCzKQ8vv8FMJnvvlcbhDDz20TvJvfOMbB4/gSnZcb3SjG1Wn58lPfvJAppF32kOmFvMSWaCvvixUXG/591vK/XF+0CdjZcjFwkUetKXIWnkfeXvaGBJInz/4wQ8e3v/+9w8Pf/jD62OfrkdH9bnfNjc4EMauMX3JS16yPvYGbLlleZwt79KMHpKAqFOPeT7lKU+pwCowQMSk6EmRqB/60Ieq4/6LX/yi/usw++DdpAA9iW6hZ5NF3XhQP3DW+1CBO3GIo7ecarblP//zP4fvfe97VVfppEU5wMajrNqDDmD4G9/4xvCMZzxj+PrXvz587nOfG4AKIhm2lihai/ovfelLlc/TTz+9OuwAYoDZXnvttWAXON3HH3985V17Rcdy2IGj5OL9rZe73OVqW/Dp3jWvec06jsmGLDnx7CB5P/7xj6+AAQdCBJmIFgDJK17xigqu4N+/NJOV62wbu5Jx73HEo48+uj4yqC558OzdssDt2A4yxk9k5/dmT61uAzROPPHEKndy0e/697KXvWydmzh0ZEnHnv/851cZBvBeSmZso/EjD/31e9wujs8rkXt7PWPPOIidzfiKbc8RfToAoJFcz/jxGy+uyXOrW91q+PKXv1yd0yOOOGIAgKGLZ8ecKycphxd61v62aYKOcQ6UINszzzxzeOADH1jPgQrGamSOBj7Ri3wqwXO/3MczXlNG3vAT/iJ7/YeeMvK5Ls9i521dszhPm0Qx7r///nVTyPtHAXb4luQhB/1o0wq4aZzbVBIRCmAAGoo6DagYeXh8nB16+tOfXvWYvWQjrSdsTn3605+u9pYdUJYN01de56FesnRkb63d2EMAoY1Ytlmd41Fe7ovWY2+ju94x7fUA97vf/WrZ9PdHPvKR4U1vetPw7//+79U2HlM2ydh+bfcqgAc84AHDn/70p/q+UPbWEwvs9UMf+tBKD2/WH2TCvuEd0EtOsfV4NY/ZfJcfbTYwv23WWzeJHmW3b3e72w13u9vdajvRUa+11/e///3BEw/0GQ1l2OK8+iT9pc3mNW1Tli6KDjbf6Ge25P73v/8s1G1T1fna1762BgdYW4smNQbolUTmSa75HVvjOj1w3ZENc4xNydiRb7kAacqgIeV3/VG+cj11OCZPy5f80dHkyf1clydtSn550+Y2X3uecupV3rjJNbqLhuRcncpm7nA998NPfkfv5XEPH+65rh4JLfW5Ht6NMRHzxhRbgi/lbaixO+ag0IqslM952zbnkjqNv7TNteRLveNHeXrqEugSWIEEyoDsqUugS2CVEiggxagssEcFOBkVp31UnIFRAUNGZdE5KgvOUVlIjt761reOClg6KpPcqIAlI2XKhDkqE9x5ave7TIL1Uya7eq84eX+XR1kp5f1u86GR1F7PNcfQzxGt0HO/PfdbavP6XRyGUVlMjwrIMSqPLtc2uS6Nl/c75R3xhc+ykBgVUHRUFvujn/70p5WG9pTFxKiAU6MCAI0KwHMeesrnk3oiE8ecn8PJObyMX/db/SmfvEsdldF3knKtnJcq1+/NTgLRORw4L6DlqIBAo7KTPyog/AJjbT76ZvyWyKZRAeFrnuKAj8oGwKgAjAvl6EA+BRwcFQd3VB7dr9fK4nhU3l86KgvkkXsFCLVKH5WFeT2WaL1ReS/feeovDv+oAIyj4hCNyh+YjAowOCoL6lF5T1i1G2xJq8cF8BqVR/hHBcgaFRBgVKJIRmWRXdtXHO1RiaSq9MtGxuiGN7xhtT/lT5FqGfnw41OAslEBLKtM1FsW75UOPm5729tWGxZGya8s0kfPec5zRje96U0X2oTPAn6OCgA9Kg585ZNsisNe5VYe36vjGx3jnL0soMWoRDBW0mecccaITIpjPipA6qg455Vf/LGr5Q9GRp/5zGfOM7bL+01HBVBZkC37WpyPUQECRiVqrdqUEsG2IDP87CqptW0FXKt9UoCcKlM6ac762te+Vu02PaevBUCseldA/dEJJ5xwHvtofNC9pHa8tDrpfptX3VKbB2/GWJL8LT3XW9va1ute2485T3nlMuex1WWTreoyPSmv0FC8lk/+lFdHrtVM5Su8+32f+9ynjqvyuHK1CcoVgGtUotBHb3jDGyrt8fLKhX7O8dbmS9vaa20Z91tZOM/9yDC/1SGN/z7n6vp8pz2prYCJVW7GcQHXcvk8uuQim0AP00fsLZvFRsROa1c+hx56aLUr7K0kP3urngJWLtgE9sA1tqUAF6MCmNb86KiPvS0R/TV/7K21WnnsuI4NmeVlx571rGfV9Q5bLg9bzlY6pwNtH/7Hf/xHHWvWRuz/uL0tgHutI/aW7WJX2VtyCq2ymTEqIGy1t+W9zdW+qbeAX5V+eWy+jm35ffBJ58vTSgv2Fi/kUDaL6rrKWo0tUJ/1qDmkgK9VTmwtu88WpC8drccK4FvLZQ4jV3OTuQANNr6n1UmArhWAtM795jFzt2vp31B3TcoxdiF64176b/zc7wL01/5mF/WtudR8Xv4wbUFvQtsx58omoe86nSubq6PyVMKoAP0L9le+2NDYKmPZvFNehVH5C120Qk8bYvNyLK8bqGuF2PbwgG7bZteVkd8aLuv1lItMUm/ysz8lwrvSci/5Uk/WgX6XjY7a1vIe15qvrV/d7EzZCKrrFbTa9oSeY9rrXN3WKuYX/ZF2h8/IUd6co6ud1lvambwtP/L31CXQJTCdBOx49NQl0CWwSgmY8Es0QF0sc/qBGCY7k5VJzpEjZcFp0iwRTqMSuVVrNZG5b8JbalLLZBlWTayZJDMpuodGe08ev8dptxNzaGYBYSFgsm3L5F74yD2LKgBpeVSngsG5jmbqVcb19l7qdOSYcwCApBYpScpZbAFh1Z/yOSZf5Ox3+HSeep1LyuFJSjuct/RcT57I1X3X/W7ztufo9DSfEmj1w3mJPKpAJmeYw1milEYlovI8utP2bc4t6DnChxQAzwJ5PHFmjAULXGWAlyVivDregMOHPOQho23bto3e8Y53VIeZw8ohOaMAgxJgoDwaWR1VDn6Jcq1jo0Ss1Wv4Pfroo6suZtFfoj6r3SkRk6MSwTMqkUK1Pde97nWrk1uiMKvtQVtdHFttuMc97jFyDygK1OXoAheACGjiExDMXgEA8Bz952RzrLds2VId8RJBOiqRSqPy+Fitk4MNROU0SRw8dB/3uMdVcMIYtXHEgefIl9eR1HzGPjmV6LwKfOxfNprQLe9KG5WIsirHEi1VHTkFjMnyOO6oRO2NtBeoqi8BtGxJgIcSTVbppx+1w2ezp7RXO8mKHIHYZFOikur8YX4gi9i88qdl1bmjDyXyrTpq8mSuQQvd0HZUNvJ0nnvOQzfXlM+1HHMvfDiGXu6lXFvGvfDv/nhyn/MMQAJOAW+Mg/EyqUv52PnU41p4KI9FVtkZ30nKsgUl+rnaj5Z3tNqETlvXpPNcW+w43g+hH+ddudiG3FvvIx4iM3WXiM5qY2zi6IvY2wAm8rSyIns02NsSeV4B0kn2tryuo9on/aE8gJS9BTSyW7G37Ch7xN76sBlJeAEMAvcAnCeVtUiJBB6ViMhqi0qUXV2DaA8baO1W/kSqAoU2bt/+9rePSsR7tTUlenUB3GXjSsR+tbexT+ytuac8bVPt7TWucY1RibhcsLfl6ZlReZy62ls2mP1U7ymnnFJtNntrDgDSsovmhfJIdN0c077YUfa2/MlOta1sKtngxZgGhqELOGIzjQt09cuLXvSiKhtzCfCVfQakSvpDW0tEY6Vj/sAv2w/AZt/JtkSTRrT9uEIJ6HN6R2+A99kw0AdJxkhslOsAtfKY/UjflT9Cq9noYMoI0LBhWqKRQ2LZAGloKOhcvXh0zh4ZM/TBZoY1hjXMxz72sbruSGXySzaT6Gx5bVbVUesc480aP+3hK5Wo8BF7K9CkRJ2PrAX22Wef0datW6uv8dnPfnbBZuBDfeqVn88AsJffODA+AY9sZOxM+Nm+fXsdG/y3vcuGgXbYMGCzktBPfkAkHdcG46M8nVDtjM1G9Mura+rvEnlex75xVV5fUO+Vp2bqGogd4TdJkaUxThbkh2dt+eAHP7hge8KL+dm8bPPSxjLa1p3kYgOvRMH/XTBJyvZjl0CXwPIl0AHS5cuq5+wSmCgBE255FKsuYIEPJsqAdO1iwkRooQNcsBg3wWeRgbCFhgW+ydPC1wRvt14EGEeinaQtcji4FrmAWJOrBZVoNNctitFDXx4LEHnaBVPo4d9CH7BiYaGMfABcvBxaojTwsq0AJhYN7mWxoE0WZiK9DjrooDph4yeOQyI15JdXnWiUR71G5bG2ulgpj3XWKFGRbz4WUNqnHosmtFoZkBWe8WpRZKcdf0cddVR1PhKNpk71oYPGcccdVx1ZQFh5PKyCQxwiNLJYifOJVzIUxVEeQxuV96BWvgBeFm9S26Z6oX/NrQSi69EJfchRtaAXOSRymZMocoJjethhh9VxbGeervmgYXEMyOeY07OWLtoWqhzF8hhu1Q+OA9DRYplziR59RE95jq5I1vLPzSOL529+85sVYAVicXLQ9MEv8K+8Q3FU3ota8xI2OuXR+9EBBxxQIzLCK4DEuGCPOO02bOi4BT3wQJntxTGwoGdb2A3ApLYZG/LikyPNqRItxcbhRRIRhQ6g1RgxbshCG9g3dIxl0Z6S64BjDhybIK8jfgACucbm4EOfiBwHisiLPmAYkAHc47TjRWSVPgNasCf4lhdYpR1AEnwCSNNXsUOVsU38lb7KkQ6JwBUZBvg2F9EX8kge55I5DBDiA7ynCxKbKxoQqK5/6A1bzqZHB+RzTi84i0Ab9lw+UWwAFX2TqCj9AggD+Jir8ORa21+cW/ab7U7/4VnEEpCGk1j+bGSBF/yGBv1OBKnIae12z9G8aMxlMxPv6NrwtNmAT/fMP/ICgowF8zN+jWH3jfPyOPcCHTSMQZsAIsLNIWyKiEHzMPlE7torr/rK6w3qmKTLQLwjjzyygonsifzyou3chzwAfGjLy8aIptTX2jjLlP7Dg/ayt+Wx8mobYm9teojyxj8Ahx6k/x3ZWzq4dwEuJtnbQ8pGFRAp9jYRpEA/Gymxt2RlncLesh9sIpsksZ3srbWWfiBfH0ALewt41I/aw+7ZvCHzti/oOCBL1LWIVPWhod/ZH5H91iABaE4uT8ywc/hEM/ZW/dZvdMw8kk10Ywkwyt6aK4xD/JCrdYqIU/bWPTS0DQBlfnNfMlbxIipWfWiznUBT0a3GKL3BuzKANnY4mwHby3wBNAZyl0f9RyLnyEB9ogGBveRInj2tTgJ0B5i+xx57VL2iu+140kdS9Mw54MxTAfqT7qKhjI+UzQQRnknLjSANDeXac3pivWQM0g16UV6vUOdj16wZrD2UYauNyfLqnaqvNjEBgp5ckbf8j0EdH/hmm7NWAZKyu8BOOuncOsA4ZEvJAP3y6qOqf/J7MggwKT+g0VhTj/bScXqrnLnM2sHaDzCJH2PBmk09xp35A08+7AxbpF8Ao9qrLusMbTDf2YQ0BqyBbBTLz77xZdgw6yBrOOMP39Y+5IKmNtvUseYyZ8lbXpVRx6a8eLD20R4Rqtab+ASMsml4wDs7oJ09dQl0CaxcAh0gXbnseskugSoBk56FqIUJB9RCRcoC2rmJLUeOIafM0eJSsqAt76equ4AWoBbIFrwWnBaedlMtaiUTpcWu+jhqFrwmaHktuB1N3hw2eU3aojBMvibjdlGFnsW9iVVUg8WMRTwnFnABYAHuiAwQMWZRwrm2MEqbLNZN5BZDHAngBHmIOrNQaxN+ONacFLu0HNlDCwCLvvb44J+ziw4Hh6OgTrwnkZdoNAsQ9VjIi3jAL4eLo5REzhYb7lkkcsryaBp5kTeANe1xJAcLK31gMcbBURcwC98ceUkfa1NP8y0BOi9F9/WbBJDgkNJBC2vjiA5yJPW7xS8AXX4fzq+FL8c8EU36P/REFRhLnAHXAeoWrOgYv62OqZ8jYGEsaoFOAZos5OkkMCeLaHk5ScYd+4IO+j5AhVwLfY4zHrWFk288KC9iyDWbEGkT2gAxj0labBt3EtrkZSyyARbukaOxjg4HQbtyXTljk61xH5DmnnZ6NYHopUQkObIxPgFCtdfinzziWIUXgDE+jFn9IJV3rNaxCfjQZgnfkno5O+wJRyqycU+e9rdrmzG1/cK5o7ucKsCTe7kfmTn6cK4AbfLpO0k/e0qAHfVhG2Nz6Q4AUUKTM0gHzBn6RlSf/MYVvQDSmrsy/wEiRfsC0GO78YEW+y2iRl30Sb/hzxwl8pn9Z5+NGfRtPgLjktTB+VVvIkjdM27oGsc8+oe2ek8uABZ+zGvmR3nMWWj40ClHAL05zxgzdtBBA2gK4FQvvswdAC5y0wdAt4wDvLBDNhmNWfcyR6mDvpOvzQY6Hr3lvAPktBlwpg4fEYk2U9Jv6M8itfoV+8gGAQpjb+kFmWgDmeo79lafaadxDiCNbNOO6C0d0nb2VgLasbdokU9klfxkAjgk38zhbIg+cp2d0P8SHvQ9e4gOGvrJhm5ry/UJAB/QwnYDGkMjUZvWEmx05KBufardbK+UMtZt7By9PuPcJwsA8K6xt/Qt7aoFy5fNYbpiDrMe0052FQAqv2STF02ArPs2AQKQAlSklq5oUusyc5jrxqj1D/lmfsNzPsaIvgB89bQ6CZApEJ6tACiaN8251vo2INmIHG3AsLf0i6/ATtpskaJT+o8dZu9EYyatBiDlJ9hUYJ/oRDZ00aYr7Bmd3FYCK+ikdbn5AO9AR2t/fLFrNk7YWmNWYvP5EGijQXetKyRjkl11j1+UFJ9IfsBoXi2Ez/I+7ar7Ir/jR7juaT9ziPUQungy7m2oahPQF/gvWXtpg3mAT8XWswnaBgC1vrHxbG7SLhsmxo8NBnTZCesb+fQjv1F58xj7w0fhF7qmvHFr3ciWAVT1pevK6Uft57NZM7IrdABI7Lo1Jf566hLoEli5BDpAunLZ9ZJdAlUCFvEWxiZmE5/Fp0kuybkJLBOc686zePEbSAPE5CzYTbRoFtEJBEzUVJx85Sy8TYTq5cgBL9Aw2aJjIWLhzyGxsLD7amLPu7rUiS+0ALNoiKaU3ySdnWi7wx7l8KiHhbXJ2qJNJIxFjoT+7gXE5DxbfHAoOAvkoZzUttVCmrNowSdZyHAMOQAcZzvniSTZvn17BZzUbYEioSXaxCKB4yRyxiLRglI7Ocv4C9DDmeEIkIlFm4WXBZdoG7uuHHf31ZWEFrlbcB5dItfIQMSQspyARJskfz/OvwQsLumOTxxVXPtt0WmhKaIAWA6go4scWJEIcTI5xxa4FsSJLg0NR5E8HBpOiProjYW2Hf6MF/nck9QNAKB/HGsRm6IP6J4xaYFsHAOf3LPQTrl6cu6XscEpodfGrIUzh4NDDLwBdHE6gADGJd1Xd2hxTGx+WNSrp70HIDXm8ZXr7Bw6iYwIL9qFR/JzX1nX2Aj8HHzwwdVJkJ+zAETjyJO/xH4AmNmG7WU8pj73OCoiPdANQAqQ9pujJ0WuOXLW9WGAj5ZeLbDJv+JsaTf9YHc522QfGbmX83Fx6MvIzNME7CdHjjMKyGIb2VwbesAZNld+cyBbqW+Uod90gd2Wz4aWOYZTKikHLAMaiYqU8GSclj8VqzQ4/olmAz6iTx9EpQLd6DRdZ8/pH51DA1gZvU8EKfrGBL3mZAMX0k736AtZ0UU8mjfNZRxzY9Mmn4hW99gGvABx6S/HG882I8w5e5cIIu22WWiuNWejzSnHm7S96LrxwXYY92RsPjafc7rZIq+vOONcwAwQKIJIGWPeWgF/+5fHUIFYIjQ9oSKlXbF5+V1v7sQv9eTT6pdrsbd4FOmuv7Tbmoa91c90l70lW4+PTrK3gIMW9LGpwt6Suz5oEx7U7XFb6xX2VtI3+lQZfcbesiftBo18kZ9zAKEndmzcekWLcvoIOI1nSV0BbQD/7G+S/mNvjQ+PxMqbRCb00r3tRS8kQLz1EXsL2Ex+MpKMTfnpp/t037lxRydbXrJGdT1jFOAznrYVYMtYMs7JLnUAn4wdNMOH+8cee2wdj3Swp9VJgDxtBtFtemlNa3w4+hjfOWf/9HcAUvNdG5iAlkR32LPYUNemBUjbPlceYE/vbFQABqMP7Dndc48Pc1IB+Nm2zMXKSvIbV54CYLeA8gBHfkjKk0E2HbRFfv4AeQSMRydjTX7+gLkrbWcfzTk2kLafO6aAoPLyPVxDI+NJWY/cWz/R64DB2iD4hC2SH31lbJyYz/CcjS9rKXbeeJbXxzpNH+A/cx/7YW7Tj8DZJLTNr2yKdaA51TVzN7vvunaRR/g2D8aWyddTl0CXwMol0AHSlcuul+wSqBKwwDXpWdx7pCpOj5smxRzb80zcJjYOlsnVJAncMIm672PhY8fVYsB7bxJZoR6LDwslC59ErpgsOVUcVmVMkurw2IcFCGcqwKHrFiMmcot1QKU6LfotJDgK4UUb5AVcoCPSLmCrxQzQiPNp0kd/KYDUTrbFvoW6hOc4pBYx5IEP8sJ/dlzx4pq8QBUyw3N2bO3QWpyI4rUw8UinRYWPnWD943EVjo8+0n40OUwWm0At9NUNcLaYs0ABbOU6J5QTbvce8JrrtSH9a24loJ8kfWun3SOsHIXoQe7lPgfehgNH1aaFczQAc3SfY54detfpkqOFLEAIbb85BsYWHZMneu2ecx9OKgfbePLbGPLOPDoIKAEcsS/AI4tp0SHsAHoW7gBdkRHqsWEAOFEfRxbvFvQ2PYwD9RgH6CfhBTCsPMCRfNq0GEBqfGwrTjQe0i5HySNioicASRJwYCmAVJvxYbxrK/nqA9eSWoBUBBa7o702bQBP7EjkqoxzNoyd3JUB0sjEppp5wdwR2xU5yeMjRZdTzpEeAxnpDwAoYD89ZEMBQDbggIb0x7xFd+mIKF7jJjqrX0XisLke94wjy9kFBoj2QSO6xHk2HwFigT8ijth/euweunjEN9AHCI8XgKnxjddpAVLtRQOQFoeXnhtT5i5Ob6I51Qno117nkicVjD3vigOyUuF2AAAtoUlEQVT4yotHbRXdag41R9FpeqscZ918DmzgcKvPPWPDJgp+zFHaSd/ZBeCpce2aD5DE2AEymv8yLtUt5Xf9sRO/0neO+NIeNpEd8FvKPe0MYEpXyA2oQkfpzXgEqbakHcBtG5Zou3ZGAZDZMWMeqJJ8yqQcuwpYZ29dI7+8o5StJFc0gSEeubVZzdboCxtVAH62mN22IUaX9bc1jzLAw7QPaENPRfTaeEoij/CJ9zYtBpDSl23F3mZspD3aCBBjb62JzEvZDFsKIKXXAaHa+SC8qCsAqbYDsrVl/wKAKqt+KbptjiS7gFah04/TS4BsAaTWGvSEfplL2QavE7Hmz2/+hzWwdbexYj5Mf6aP6Agg0Hom63ZcLRcglRcNyfiN7gnGiD10LfVlzJsrtm/fXiMu2XB2m34mb8anPNYHxpLNA+MtT6HQN/NJyjji2zoBQBsaAUjlZwfa/DY05DcfZeODDM1B5kNR2+YVH+c+XhlGltZcxhNbwEfLn5BpY+o2BrSBvYrdFhXLnxFdHl7MlfgIQKo8u0EuNnRCL0c0zSueFGAz0DFX0At8ue9akvnU+pP9086eugS6BFYugQ6Qrlx2vWSXQJVAnCmTEnCSEyRlkssE5uhaUq7bBbQQFVmSyTR55OdgAfh8TPxSHqWwoLBYDV2TtkddgIr4sdhwz+LcY2U+7TuIOFqcBbulFlmSSBjXLCpC13X8WvAE/LSzKlm8WNxwagAciwGkyvtY7HH25E86+eSTq1PCCWgX384tKOTlKEoiVS1sALnhL4sVC5VDy+PSnCwRb8BWjlYiJSw6LWD0UfrJAon8PUqWBKgmPwCMRZN61MHh5oRy1DkN2oNeT/MtAf2UZBFrQbp7AT84F9Eh99tzfW1xSg8sviXAHH0E8gfUC236wUE1FuJ8Ax49NsrxNy7kpaNSzt33CCa+6FR02bkFtXHIrhi7ACT1xw4AWzjz7ACnyHin79ohKohDALSN05H2JMIk7cWnyCuLeu1u02IAKbkYO9H/8K59QFrRFyKtJWPGwn1SBCnwKmBoHAhjO1Ea4WUcIFUvgIjTLhpPwoNEhpLNEo+v7YoAafo2Rzoryo3dZuvJiA5Gf8ePKUeOgGbgHfANIEnO+jl5zAv0EDBuDuDgBpTkzMqX+tAzf7Hh5j501C2SjwPK6Y6td50dxzfAj832hAWgF0ilrvAgrzpsfhgjeGH/8RtelhtBaj7i3KJDJ9WBPicZIECfJHLAK2deHQFInQM2zLXKSZlvAARx/vUF2q4BLzzRYKxGf2vB8pU/9cEXesa99gPk2AbOs6StAL9EYdWL5Ss8jNPN/Z1xTJ3a57U07C17kHVG6kz/sTtAOHYF8GiOZW/ZVIDvJHsLjAM2B/QhB/YUjYz5cXvL1srD3uoTMgkPgBD2VgSavmZbrFVEm3nCgA1m12xK4Y0dZofQYIM9ruu6pP2iwvACyNXu1INP9hb99pFn5RYDSOkde6t/JbqnDkcR1fjy/kf2n721dlkMILUetLZyHw+ZDyrhc7+2NQCpTQZ1sKVse0Cmto89GaQvbAr0tDoJkCu7adPEK1GssfXzeKJP0akApOZ8G/m5TjfRo7OANfqdNA1Aqkx0Dm023pxufWEDNroY2qnfb9HWwEY2OWBn8sUmGQ/WZcYZHc5aRVBGdF4Z9dBN9oS+p3w2I+TPeiL5s3YwRhL9LGodT3wOtpetz1G7zHfGrsfwzQFskN/GoKTeto3OY+Pds5YyHhJ4ge+sbwKQsjfqIpft27fXtlXi5Ut+yaa1tvIDyd9cQS/YVDZRveFDHnm1M3aoEulfXQJdAlNLoAOkU4usF+gSOK8ELGg5hybPPHqeyU3OLGxcy/VMru6JdOEYmlDPKAtu9/KR38Kaw2XxbaKX8og9IC9gXb1RviyAgDT4MUlm0uZkAVg4Za6ZVPcvu60eyTjiiCNqcdc5dqJKLeLlwUMmYBM6ANXCwqPtkgWPSR6IadG9HIDUQiQRpOhzZixULCjQSH0WFBYD8lr0uG6Brm3qJycpcnUeJ0s0iEf1LeQ8bqaMKIfIQ15JdC2AVKRInCnXOCTKcCIsYCzy2l3Z1H0Olf49zxJo9QOoQseNBY+xSnQi49Rv+RPFAGwHrLsGcLGQ9phywJDoqkW8TQ7vf/K+R/TYBuMWQG9hK8Whds5Jp98WzO6LIgBIelQK2IE23oAHXvuANp3MJgenR+QQ3U2kc3SYvmqj8crpAJpkkS+/FB1uAdJxAGMpgFTkIGdcihy8QzKAVCJZOOQ2bSYBpJwiY1uKAwFQII+23+LkaH8ejw14JhokedMm8rCpJH/AkuSplW3yr/SHo3Z7egCwmNePtLJwnvzE4jc55gi4Y/MBPlKb12/zgkf+OPNspN/RAY/mJqVOQBkHFECaZGPPvGAuDOBlrAATjR9jBU9AcbxwHM19krEW2nSNk8ixVcbYCS/LBUhPKhGkeDGvZZyrx0aieSHjzzX2BIhnjqG/eGRfbIrESY1Oym98ZT6KPNXBDpjP6b12a0/a5ekRemzcumbM4cX4Zl9sBADART4lAlwfyTueIqfx62v9u62HM49Xke10Y5K9Vb91DXtL36wr2FuyDdAnT2TJ3noixJqBvSUzawfyICuvxJFcl5SjD2gBX2JfgETsLXpklvWBzTMbxQCnbQWQySsq2Ft2Ou1z1B/srLrZ2owPjwzjxYaPfg/vKwVI2dvtBUjBY+rQNnJTD7upHcaANkZueEyEnbWU+/TWfeUAauNJm9sIUtGzxiZgPuMz7aFnoqvd7xGk45Kc/rf+so5lU63Fs2kZnUMx5450wfye+S6Ad+7Jb+61dqHXScsFSFOX/g5N49OcLqJ63M4lf+qxVgfE0w3gZ1KbD0Ca1wFZe1kXZOxof/I60k22GUCacWAMGKvGWjaj1SM/4FB+99kACUBqPrThZv1l7PiwVY42Aw8pUbf6gWzDj3WVxK6ou7WxLY/sv80V85rrPlnfBCDFJ1/NpgJbl/Lo55xf2EamG7eAbu1kw6SMQ5uD6LG16ZOaoX91CXQJTC2BDpBOLbJeoEvgvBKwI+nRIk6bx7csHDJpZ2J0dM0xj2+IUrBo9oJ8iwdlTZIpq5ZMwKIeLJbs1LqWxa6J3KQrmah9AAkBUrIYUAbIIwKAgwlg4MgCdPKoI94sBCwksqOZiRf9LI7woq2AE0l7TcqcT7wsBpDWzOXLDi8n06sD1IkuAAPI7LoFgGt45vAEIOVEWihloZIIVm1GJ7QAzpwsERQcGYstTpZdVYCNfFLqEEVLBt4XGWeKk8Eh8Cg9R5ucOMz6gJPHoZA3NCrB/jW3EtDn9El/6Tf9StcAhsZjFtTpT04858FrKjiJgE7lOaYi3DzyZPwCIwCSXvXg0Svji74CUOT37jiPv3OqPTpszLlOZ+nm/mWDghPOaUHbu0BtFNBxNMO3OoBK8lrUA/5dM/7R9qhxIkfR4RDYIGBXOB3y0+k8Yh8HCi9SHrG3GGeT1JtxshhAirYxAVyIwy6igRMk4s/7e/O4qboXA0g58sa2+tgP8tOuHUWQqpN8RbRzDDki+gMwqr2AAH1n3O+KAGn6Tx/7sFnAJLYdiJ0+pvPJS6Z+n1E26jwWLC8wBECpv20cRX8dlXOU2EjviozNTZQkXUOzrefo8uoSEZrGED1Gg44E/MyfxtAtcwsbzfbr24CdeKPz4T1HbTDm2H+RrSuJIM04pN90Mu1k+zm9xmva435AN0A/sMwcyundXsCsyImMMlcBPTKHui+f8cEhj9PrujokACn5A+lcR0c+YLf5mL1QfvcCDAMaAAfaHpko4yPlWv2xE79a/vHN3gLFAQyxt6rXFvaWjdVnxqw8+k1f2tgF7MTeostesLd0SP4A1qJv9T0ghC7F3qKjb/Yv9hYPwIXoulc3kB8eA3qQO5rkaQPZa008YaI+IGAe6cc/m2dNw25bd7Vyz0Y2e8aupg8ApEB0fdpGmKFHDvQOOEQvJHYukW6ir2Pr8cnWG2vsrTWMdhlL2rQYQOo+vc0Y3RFAqh6yZGvJAzhP1pL1lehS67c8uVNv9K8VS8AY9VQE2wdoI2PX8kGYLvkdnbJ2t86l+3m9hnzy6O+8+zljxb1pANLYotRr3IrEFlXNL4ltY8/ZaU8EeFrMpo55A2hnY8i8nhTerXWAfjYArPnpt7YYH8ZO+1oJ7TF/sHf0MHy1mwRZO0RegENrJ2MKcKgMAJQtwJ8NA3WQUz42OtgcvpI2iRA39kVKp078++gfc5RN7Ph/NvDYC7YifBhzbFkAUnTJkFzIIPJwVMY1Y65dI/ERtR3/iSCNPOP7kVvWXrnXj10CXQLTSaADpNPJq+fuEvg7CVjIJzKLc28CzkRnkpMy4cnrD1sACBbkJlqPyHk/jwV9AM22nMmbU2gBzHGV2sUA5yITtnsWAybQ7CK6p36LGBEOHDNAISBRvXb+0ZA4CBxdUZrhxfVM8CZ/ToyFRh6fDagKIOW4LAWQ4sPjmtrPqQjfHmGzwOYEWCAlAUstKIAdHEKLMFFK2mABiV5oRGaAYPx5R4/yFjwWW65x1tGQUk4UYaKZsshLf8mnXk6IxRLHE+BCvpwcSd6e5lsC0Q1c6nc6CwACNnJq6bSIAk63hXD+7IWj6h+CE8GhrHdT0SVjiS5y4DkJ9BRwaiEuiludHFYOO7vA2aGHFs4AD9c5lCKvjTtJRJzHS9HHgwhRIIjNEzTonrEQh8mCGBiDNnDTPQ4V3tgkYA5QTJQExyhAVyI7a6XlC5+AFWBLojUis6UAUm3l6BsXFv141ib122DIWGNfjJlJEaRsG/BCfRwI7QRgkEV4wGcbQZrFv/4QKaafbFIBhdkuERfo6A/Owq4IkKZvI0N2ma6zs2xZ+ib5OGtJIu05gwB/DiIQieMNuIy9cwTGSPQRmMTmAk44uIlOGwfj9RmH2aZUIplDk1NNd+gTmh5ztiGR/tYW44P9p6vaFJuND7QBUfSS87y9AEz0OaDqciNI8QwIokOtE2qsA/ry3kh1m/O0FSBFj/GgDUDQgEiuRd5ZL5CnuV8y5xkfAAXOffK65zwRpCeVyNb0kyN5ACOAV0DbQw89tG6CkI+2hk7ki170wfnOTKmHjugD9tY4BRrE3rKl+xfQkt1gw9hj9pa9UJ7c2Co2jEzZW7ZQf7K3Hu9FM/Y2ACk7yS7F3qqHPWSb6BPwQ0JfdBt7Kz+Ahr21eRuAxjrFOkLfAjKsqwCLNtk8ScCm4oftsaGmLvbUuiORc6LSrOOS8Mne0oE2wsz9pQBSem38svHsrbUkG2fdxN7SLYn8lgJIE0EagDTjsBY+92vbWASp/gC8meusG+m8OVOfsLc2R/DWI0hbKa7snKzZWrqtr9lTyXVjObbX71w31m3mm+/80WmuO2Zz1TrXa7ySpgFIlVFf6vTb2DV2gPZZw7geH4R+48Vrqsw95pSTTz5ZloXEfhkfxg6fyG+2P/OHyPiMHeNV248uACl7wcazL3jy6Dte5M96Qn4f/CSCNHOJDQ/jxvi27miTtrCfbLLNEXWo0/gTtW792CZ2nD0yFoxBfWF+Yuva8T0OkKJhDJOLpwm0PYl91xZ9ZjMQTe1kixJBmo2m2Pe0kxx6BGkk2Y9dAiuTQAdIVya3XqpLYEECJi27nCYtC/M4PTK0iwnnFs52BC0WgG4mbwtbjigHAAgQp0Z590WzWJR6hMuEKOUdpOpNxEm9Ub5MkiIdTZIWA2hIFhkWsXjkCHACwm8mZhOthQmQFKCSsmlHIuIsfDwe6b7FgsVKHjtuFzf5d9TQsUtrEWERlwhSvFlAWSBxPu2QSup0jrbdUu1Eh7MoasSialJCV9vt9HI2OSrjjgDaaZOFD2cdaCCRv4UjJxkg3CZOqEUSR6tdaLZ5+vn8SSB9nYUkfbeIBk7qS/rC6bNQ9TEubEiICpCvTSJOOdPK0GNgBLCTY+/RUECRRz7VaexyYIGX3p3L0UdbnT6AAWNeotvKiOaUP9GonCTn7AsaIvQki3a6qg2cdvREkxpDokX8+7Cx7DrggZ2ZBJCSiTq1AXhrvOAjMvOYKMfXHyKkXk6FtgN02CX01U0W6hRJEacGj8a9cczpyPjeXsArwIIPkEmy+AdKoWu84yF9Rk7sZuya/JwIgJgNI86MtgK2tJONBHbjzbhNm1qaaOxKCbio3zzKDUSJXY6MA74Bs8gZyMKGAixbm5t80RGgDvvtVQcARToUB5ceyq+O5E/UPhsbHhyVBUKp11wpMtjGIV1KPiCsMWpcxbENXX1ps80Y4Fyam4Bz6GmPeQ9vElCSUxvQvuXPnECXjb3U4T45oG1uTH73zS/qiB4D1wBgidbKnK4NZ5RNTmMNPwGPXcMLvW/tTdocgFRELVpeW+DPWkQrSuFFn+Ld/M+GBDBzP/nqyU7+Gq+PrdIum5HWFtrO3voYs2wi/QE6tu3Hpjk47ae78rJH7K0/rQF8xN4CHukFe0gXY29tyOpP9taahD5GtsDl2Fv59bkjcAPYCUxNfpvKdBLP+DUm/LZ2sB5ig9gbT/jgOxGk4wCpOqMDee98dJit0j4yEulNdsAcm130w2tF8MfeGgfWYjadY2/Jnr1lV0WeoSEBkMiFvstL5/5fe/eWK8FtnVG4MhJnJspM/Oo5+CGGAc8igB49CkMzsaYSfhX8crlzOpGlyLEbi0CfquZlc3ORxcsmq8+ei6eBdHW3/yzOQKTN4eVZ+u4YuJykVn51gRejKPn6brrkfh4BrBlIzTVttLzOQ7+Sro6cWtcujP9bKzDQ6Ys9A9rNc3NHHp4pbUK/qN2IuxOL2p52uTYh37VTz4S1zuY/+21T/uYM2oY2rr0w8PoZEO31N7/5zf2dTPKdPjafsnGxuYF+zDjgGbBZSq/lLd23x3hvLsBASh9l31t14j9PkEpnTWT+Qd4Ofsjjm2++uZ9ZaWdsJMvzgP1+nkh9kMlYbR5G582TlNvmiDmatYe4dGT41D+YC60fNr7p559GWQc9PMPWhasbOuvT1lcq7xxG+hl9ysq5+vG2x9Z+K+fSdY1ABP42AhlI/zZexY7AfyNggDbwWfybVDNmGtCcvLF4Nzh67Y6BwiuuBkMDpDDOSUQLKpOHX58dWQs3A56PxReji8mNBZGdTfltt5ThcCetxBdmMmAANfExEZ8TbrAWxojjt6QYRLyOalLASW/gNblhEGGwkM6g757BwaLG5Nt36RhEyVR+C0RxnUo1YXDKYZMbk3InhzCim9Nuc1sUmNxZkJDBmQyYdDMCMZjQhZHWosTHAhRf/pzJoP/kaZJn4oLXDLbyNNlXRm5ltrtOp70qLG9GXHViomQSJy5/8rcTjhu/6XoL7c8/LAH1rq5W/+5N3NWpkwuMNl7tZHzQFiwg1b22tY802pRn1GTUophxUTvVzrV/O/fiiMvPAlXbNSH3bGqD+gLp9RvaFvnTz71n2qJY23Qi2ilJxhD6kivOnL7FBoPFO2OUfkd6upske16UzyJLmWya0OuZn2eEnvob6ebEYWRieGC48N1H/2Wx8e3p55TdyTan//D4/hg+yaenuGOnL6IX/4WRKz1ez3gWKxZaHH/xPefYji9/cfSjyqYfxVT/oW8SxrjmZOlOmJE3ndx/usONc8WLcYhhgxGZERQr9YutumF8Z9TR5xqrtG11w+hoAcfPK8H8cNRWLOSMURZm+mPtWX0wGlo8e31X3OlADwvrbUqtH169MMxYzFqc0tWJvmda7Zls46iNLPUsnBz5O9U2XejJqLPFtnFEW+fobhPEK44MXOLi4Dn75iycjRe/OuOktsTRjwGCTsaFjTszkMrDc06uMVTZnXbUv0w/YU4V4q98ZAsjwxi6DU9+4+E6A6HnWznJZ5jyHM4wJp5nAVtjlPFbmab7ruL9PZx8Vg75uVd+/dP6Wwaab08for/FXb+hfUjruvT6uPW32pN2Kq66XH9AtragH+OHy/pbfaNT5Prbtd3lgae2r570/fpb8xRzEv704MSTVt/PsP3HP/7xfi70X8Lkr59RlvU/ni39rf5MWXzE1Xbo6RXabU7LQ17aq35RGZSHnvpXhnmstBXl0t/6Z13fHQPU+tUnO33996cvHkM60EVcutJDWcxjxv2Z3jNs/KAfGdKIxzCkPtSjTX59iLHNhpQ2aU6a+3kE1Lm+jTGNgVQ7Xzv8SvLqWF9sA0kfxehoLmzDwHzcphjDuzjqnnO6Uz9q7i4Pdc5obv68+TZdfOaeepgTMAruH8Y5gMG4atPC2Gv80H6kl698hBlLvJVgHaHN0NGzp42RTxfzb7oxeD77OOGeA/2lPk4ajpFTn/1qIJW358WYQJ7nCi9y9EPGkungRLp1hcMqjKEbz8ZAH2UzRXzjhj6cIdVHfM/SnH7ehgSDqhOg2Hp2ja0M0uPrGTQuyZNB1AlVevhuk+2352dXGELpS29zTO3CWOFZpht/TjmNWcrpWc9FIAI/nUAG0p/OrpQR+CsCJsNekzAgWgAxlDqxYKJgweUEgNclLLJMoDewudqR3IRAGq/WOi3gtTAnEpyI2o6ggdI/3GCgEMcg+XQWD4wCwg2SGzzFMUk2kO/khsXGJhiLZ5ClOyOpCQDDrEmvMvAzAXoaEy3KTD5MfiwWlMfvgxrg7Vgb8L0qaaJHL68BmeybWJk8baJuB5nOysyAxBhkEmFCIa7FzSYJFid4mmjh67SoXXN5WlwzLm0SaEJvEmTyZGFLvzn3jFB2ei0+x8JkywLXxI2R1yLd6SP5mXyY0GzSNlld/zkIaEM+6v7ZFmi/9sXfvTbks3hLMxkr8dK5zi2NRfXCF/a8PuXP/ynf/WTt3nXtWxrPrjh7huc3f98XX9qne6ZZ2DOf5f2MZ4I/A+mMMGSKuw8Zkze/5Tv/pZnsVx1f44n/5OWZ9dqz04J7dl3pxEBgkWhx8v0xFKwcy9P1k91Yroy+M74wZFgEWrxZ2FrU+lkC/a5+X/9m4crYgyVu6ufbsyg1tlm0WZgaE5wc0z/bwGNwXR0wpFhkayMWoXNkqdP/OKccbUo5JfqsF+mNZ/SS1jjKADMnLeOSnwCgK0OATTv173S1/l+59NniccYnYxd54hgP1q78pAZ/C1yGVWMJuU4+GauNaxa1czY3vJaJn4UyA5cxaqf1Zkw1BjMmk02Wn7jAa8YLbJR97V5bteBn+GR84hbm/tdn49R4tBOn5gJOLRlHndizWP79739/j7H0s9lqjJxT3ifn+f89rqvzXV/z3PMs3L3P6off0s1Pen74vJaL//ojcr5y0j3ZikPO4i+f5bs2ve+Mlk/Hfzq75566Td7STJ7v03/X+S3u9GRo0tY9g6/zDnlOt6WfHr6vXIvHb+Hyna78ueW5++nPaOsEtfmbZ3pyxWPQ4m9T3Hwq9/MIqB99gnmsDakn668kr27VlfZhXm8N4WNTzNqEPJtLM7ZJw0gvrrcztGsfbwN4S0a/6fvapvhzy893Y4r+zuayebqT22Raa6ytL75ymIObrxuX9YnWPtYp4qytydfJaj+v4afBnnnL8/sznus/bWrM2YCV7/5Pw/xdrSVsgvmJCOXilp8+W19Jb0Zk45gNkm1qTCdp3FuHYOqULP1t8th82SbDymwcI5cR2jwFJ8+WtZPNBWWcTGlsAJFpbLWWIpdBVpqV35jm480kYSsLOfw9h8Iwfu0n7sz6E4EI/GgCGUh/NKoiRuBrAs8JpZ10/4zFotHiyKKGYc69XUe7ijuxadDbx8Bm0ccgabFpMmyB5t6izeBuANxAud+2sjC0gJscGhpo5c8IaiBemg3c9LOwsvgzMTHIKsPKIZ6BnUFT/hayTvswjtLFaaLn4GvCZVfYYnOvx+FggLdYU35GXgxMsP2moR1Qi9g58oQxVFqgW8RjYiLE4MkgqZx0NElhWDWRMSFXTuWxmLYw/MMf/vDDKRFlsXPLwCz/LTDJ2KTTBE2+GI+DXWa/IaT8TrXaeWfsVQ6GUlzJVie5f3wC6nvPAW13z//ZFub/WqKlF/6Mo708v0/2niXfpX1e3Wt781+Y78uHH7fvX8lbvq5PWdLtWXc/HZ9xXtNM1vJZXP77zI/uO0Hq1O1OGAl/yln8yVzYdHJ9555ppNv3Z3x6OOXllAwjlH5Pnj42apxQ1y84abXX4aaD6+6fMj/1/tkeLBYtLo01+kT9uquxypXxz0JzhiacMMXQ6Rz9rD5anyiN/peRcht4Fn76bptS5JGl/ibHda/v2gjj1OWzPmx2SfvNMWwyQL4644vTc+rdGKBvXv/P0Lk3J+iifTJI0pWB1FijPMK+++67WwajqrFDnk6VGqOMaYyW358xiG76eoteG4TiYcDg4EQPZoyk7jnsnIjykwbGD+On8Vwa7dUiljy6cU4RGbP//fyGKAMp/eaw8SqpPLfBpz7lPYM2PW0YimPu4OdutnFK1lPek/Py+L++yuOrPNcOlGnuK32WftfFXfp9dxXn2T8s36dcdT3/pdn3Xee/dE9/vOcvnrB3uoj3fN7E557yJoteX4UJF98Vq71ir7/1HMpb+GS+3pM5Ga/y9306+D7H7+n/vGdMs0HsOfKKvT5WvvTTx+4AAMNN7ucRUL97Rp51+79Jlc5Hu2LI0x+tj5FW2Jw2uvYzv9X3rvwXh9/8Xfnvu3jy+f70lfKku/DlNxn85WvNYLzQt0+/xSHrmde+r2yv8YRzT3/fn/Gfeoq3PPnTh17GLDrhpm+ePNdn+pWJQdSaRF9PxvzFXxr1QK78nuPp9J1cV2kYUb0JYzOCDuT6cOsrlvb2PH+kezp6vPo9w7uPQAR+HIF/Ee1MqnIRiMDPIHAGr+v8LtV1jIHX2Xm8zinM60wgr2NIu85gdR1j5HVOI15ncXQdQ+l1BsTrLJbuHHd/BtHrDNDXMUDe17Nou84JqOu8inKdH8G/zkL2liXRmYhcx4h3/epXv7rOIvHO16MszplAX+d1lusshK/zCv11FpA/5OPmTE6us8t6nYXtdRZ211m8/aDPGYwv+dLpGByuszN6nUnAxf8sMq9z2ug6C+PrLPpuXeTHnV3RW5dzgudOj8MxTF7nN3VuGdicBeed3j3dz6mdW3d8yKHTmRjc+Z3TCDcz/uf14essHq/z+snNWH7KeiZX11loXn/+85+vM6m588f4vCJ06yitctCFDPqcxe11JvJ3fuQIl/ZM6u8wLM4C4C4bHc/u/XUM2tdZbN4czynf6/yW0nVOwv5V+cnK/eMS2DCnLczx2/fd71kUx722qT0s3vxd9/xKu/SuC3N/Jqv380CO79L4uCef2zN0fzl/JmN5Lq545EjnGeV8J0/c5UFf7lkW3ydHPLKW7/JzJWvhrzLmL945KXKdTZrrLIyvczr8ZiS+OE/9VkZysZAnXaebPu8Ypm5/chdG1jhNP37uySBLOfVx5+dGrvM7Xnffqo/Rr51Th9c53Xc/q+dE03UMaLfs5TGZY0z2p7qxVjfKi6vxyhilzz0L2rtvNJbo187m1c3SuHEWdXdbwxwzcf/0pz9dZxF394nnVe7rX08/foyhl3tx9O/GC32/sUh/rM/lpgs58j5GxXssUZfP9kE3cc4G252e7quztX15nJN11znpeh2D6XUMkLfexkPlEG9pzquS19m8u87J1PtDR7oo3zmFdB3jzz1eY2CcMe5qP8ptzDgbZbf+5J3TVfd4geMxxt5hxm2yzincm628z6L7HueUhSz6kn9Olt7l1k7J4NSHcd84L850lz+HlXEY52MAvds++cY/+mOFkXnGMXxfx2B6GYtx5T85ZK0O3P+SDqvn8/X8vnu6iLN4zzYw3cQV77UM0qxsS7/v2Cz+GJNB1vyf8t1PxjO/5/10fY0rjg/3Kps+PuuTn7qI7zu581+/JkwZ1g6+++6767wmfZ03lO6rPpOTdnrJW15kKYv0HBnc8pncMRKf/iv/4q1ck0/2eWPp0p8e4811jP93WzV/0v7Nkc6bBdfZKL+fxTvT/vwkAl/Vx+rlK4HCuLWjpV8dLky8+WmTvmtz6w+lV8/agnv9kvbzlEvW2sry4ffUT9siXzzy5rTR5T8/18mXzv3rc/SUvftdJ1+a+T2fI/Lnrw9WVo4e3MpCDhmvae9I58+zrPp6eo4bGT57tpbGlVxxlw+/ZzmnG/9n3tOH/9z8pOGW79I9uT/lLn3XCETgxxPIQPrjWRUzAl8S2EC0Qc9gaCA2iFrAG8Qs3kxqfQxmmwAIk34DnQwsKhn/LKAsEM/JmHuQNUBvom2glJ843AbvySbPvevyEseHfnMmuhbC/Dnx3W9QVwbGWHpbdG1SIK544nNjYEIlv+nJAELGBvZzGvXWaxMLMsQXThY5ZCgXf985+SqP6+6lJduVUdoiXBhe2JBHj+VNzvR0Lx23Mj+vi0e+usDJIvmcSLvOKdIfJkLy2QLkFtaff2gC6txndU1Z9z5z6l5b20Ta98V/+j/lvKbXDrnFmWzfydszyZ9M/ltQLO6eicmav6sw/tNr+T/ly+eZ/1dytF+6CBPflT57fvl5HvURkyf+eaX3Oj87cZ1T4tf5fcQf9H/KoedTlu/cU6c9m9NbOVYW16/KKa7PysNw9Nvf/vY6J/Z+6A89o+fk+XVOk1//djZ11OUz3+f9f2n1eX9Xn7sak2ZwwQ4D/Zq+U5iNO/7qGvv1w0sv/trAeevgOq9t3n3uOX1/94ev7XdEl35tjT8/7Ug+5K4+nt9Xv0u/dOLMTzp6+NCDIVw/PXnPNNJxa5PiaF8bI8gwdojnujx2lVYa6XGjv7zEf7ZT8ZaGv/uNIRjbXFzZhK889Fi6Z17uX8cY6eSvjmz80Yefdo8D/cdgMvd9V3J/aSev5fe8rvzy569t/Nj+dmlWn5P76r/vyo/V3PLDdDK+iiud8MVZPq77POWSoQ64+Y/97Xn+KOf6VjJweMaR3vfV9+rZBu85RXz97ne/uzekzMfoNY7TzXxlc0J5PmWv3fNf/JWDnPk90zzvpbe5ft64uc5PTdybBPI6p95uQ+l5Pfk6v7l7P4PTS165v50A7upDO3LPPdviO4nqX9vBf/VNju/aHhlrfxsP1r7JXBt4yl8bnN9rnGebdy8vMvVN2unTbQz4qn2QO11X/sniz28Mnjq/6rf8+H8VX7lf+5rJe8qSn+94juWuwui2qzyF8Zs/ndWfKyePpefn+8LIeY27OF8xe82X/NWre+EcXXIRiMBPI5CB9KdxK1UEfiCwwcpAtgHSIGyykoE0A+kPDaWb/3cCJp2beG5yukn0lPM8m8i+TqLFf/o/5WyCTcb6A/eL457zXfgW0PzI5G+C+5SzCf5Xk1xh/DfJXrqnfPk88/9KznPyPb03iacbvwykSPzzudXnrlsQaxPagmsG0gykv2TL1sbWBz2vz76Iv37ox/a39J2s/+l+Ydr/s79dfhlI/7I5sf7AOLL+Ar/nvXEhAykqv7zDXTvVbt1z6mbj/DsNMpD+hczmT6/cMpD+hVF3EYjAewIZSN+zKSQCEYhABCIQgQhEIAIRiEAEIhCBCEQgAhH4cAIZSD+8giteBCIQgQhEIAIRiEAEIhCBCEQgAhGIQAQi8J5ABtL3bAqJQAQiEIEIRCACEYhABCIQgQhEIAIRiEAEPpxABtIPr+CKF4EIRCACEYhABCIQgQhEIAIRiEAEIhCBCLwnkIH0PZtCIhCBCEQgAhGIQAQiEIEIRCACEYhABCIQgQ8nkIH0wyu44kUgAhGIQAQiEIEIRCACEYhABCIQgQhEIALvCWQgfc+mkAhEIAIRiEAEIhCBCEQgAhGIQAQiEIEIRODDCWQg/fAKrngRiEAEIhCBCEQgAhGIQAQiEIEIRCACEYjAewIZSN+zKSQCEYhABCIQgQhEIAIRiEAEIhCBCEQgAhH4cAIZSD+8giteBCIQgQhEIAIRiEAEIhCBCEQgAhGIQAQi8J5ABtL3bAqJQAQiEIEIRCACEYhABCIQgQhEIAIRiEAEPpxABtIPr+CKF4EIRCACEYhABCIQgQhEIAIRiEAEIhCBCLwnkIH0PZtCIhCBCEQgAhGIQAQiEIEIRCACEYhABCIQgQ8nkIH0wyu44kUgAhGIQAQiEIEIRCACEYhABCIQgQhEIALvCWQgfc+mkAhEIAIRiEAEIhCBCEQgAhGIQAQiEIEIRODDCWQg/fAKrngRiEAEIhCBCEQgAhGIQAQiEIEIRCACEYjAewIZSN+zKSQCEYhABCIQgQhEIAIRiEAEIhCBCEQgAhH4cAIZSD+8giteBCIQgQhEIAIRiEAEIhCBCEQgAhGIQAQi8J5ABtL3bAqJQAQiEIEIRCACEYhABCIQgQhEIAIRiEAEPpxABtIPr+CKF4EIRCACEYhABCIQgQhEIAIRiEAEIhCBCLwnkIH0PZtCIhCBCEQgAhGIQAQiEIEIRCACEYhABCIQgQ8nkIH0wyu44kUgAhGIQAQiEIEIRCACEYhABCIQgQhEIALvCWQgfc+mkAhEIAIRiEAEIhCBCEQgAhGIQAQiEIEIRODDCWQg/fAKrngRiEAEIhCBCEQgAhGIQAQiEIEIRCACEYjAewIZSN+zKSQCEYhABCIQgQhEIAIRiEAEIhCBCEQgAhH4cAIZSD+8giteBCIQgQhEIAIRiEAEIhCBCEQgAhGIQAQi8J5ABtL3bAqJQAQiEIEIRCACEYhABCIQgQhEIAIRiEAEPpxABtIPr+CKF4EIRCACEYhABCIQgQhEIAIRiEAEIhCBCLwnkIH0PZtCIhCBCEQgAhGIQAQiEIEIRCACEYhABCIQgQ8nkIH0wyu44kUgAhGIQAQiEIEIRCACEYhABCIQgQhEIALvCWQgfc+mkAhEIAIRiEAEIhCBCEQgAhGIQAQiEIEIRODDCWQg/fAKrngRiEAEIhCBCEQgAhGIQAQiEIEIRCACEYjAewIZSN+zKSQCEYhABCIQgQhEIAIRiEAEIhCBCEQgAhH4cAIZSD+8giteBCIQgQhEIAIRiEAEIhCBCEQgAhGIQAQi8J5ABtL3bAqJQAQiEIEIRCACEYhABCIQgQhEIAIRiEAEPpxABtIPr+CKF4EIRCACEYhABCIQgQhEIAIRiEAEIhCBCLwnkIH0PZtCIhCBCEQgAhGIQAQiEIEIRCACEYhABCIQgQ8nkIH0wyu44kUgAhGIQAQiEIEIRCACEYhABCIQgQhEIALvCWQgfc+mkAhEIAIRiEAEIhCBCEQgAhGIQAQiEIEIRODDCWQg/fAKrngRiEAEIhCBCEQgAhGIQAQiEIEIRCACEYjAewIZSN+zKSQCEYhABCIQgQhEIAIRiEAEIhCBCEQgAhH4cAIZSD+8giteBCIQgQhEIAIRiEAEIhCBCEQgAhGIQAQi8J5ABtL3bAqJQAQiEIEIRCACEYhABCIQgQhEIAIRiEAEPpxABtIPr+CKF4EIRCACEYhABCIQgQhEIAIRiEAEIhCBCLwnkIH0PZtCIhCBCEQgAhGIQAQiEIEIRCACEYhABCIQgQ8nkIH0wyu44kUgAhGIQAQiEIEIRCACEYhABCIQgQhEIALvCWQgfc+mkAhEIAIRiEAEIhCBCEQgAhGIQAQiEIEIRODDCfwnEq38xcxBocsAAAAASUVORK5CYII=)"
      ]
    },
    {
      "cell_type": "code",
      "metadata": {
        "id": "ejzdVTmr5_Mf"
      },
      "source": [
        ""
      ],
      "execution_count": null,
      "outputs": []
    },
    {
      "cell_type": "code",
      "metadata": {
        "id": "oPq1i8sBpUPj"
      },
      "source": [
        "class LeNet_5(nn.Module):\n",
        "    def __init__(self):\n",
        "        super(LeNet_5,self).__init__()\n",
        "        self.cnn = nn.Sequential(\n",
        "            # 1. LeNet Convolution Layers 구성하기 (Layer 3의 Map Selection 부분은 구현할 필요 없음!)\n",
        "            # 1st Layer: Filter size: 5, Stride 1, Padding 2, 6 Filters / Activation Function: Tanh / Average Pooling: Size 2\n",
        "            nn.Conv2d(in_channels=1, out_channels=6, kernel_size=5, stride=1, padding=2 ), \n",
        "            nn.Tanh(),\n",
        "            nn.AvgPool2d(2),\n",
        "\n",
        "            # 2nd Layer: Filter size: 5, Stride 1, 16 Filters / Activation Function: Tanh / Average Pooling: Size 2\n",
        "            nn.Conv2d(in_channels=6, out_channels=16, kernel_size=5, stride=1), \n",
        "            nn.Tanh(), \n",
        "            nn.AvgPool2d(2),\n",
        "\n",
        "            # 3rd Layer: Filter size: 5, Stride 1, 120 Filters / Activation Function: Tanh\n",
        "            nn.Conv2d(in_channels=16, out_channels=120, kernel_size=5, stride=1), \n",
        "            nn.Tanh())\n",
        "        \n",
        "        self.linear = nn.Sequential(\n",
        "            # 2. Fully Connected Layers 구성하기\n",
        "            # 1st Layer: 120 -> 84 / Activation Function: Tanh\n",
        "            nn.Linear(120, 84),\n",
        "            nn.Tanh(),\n",
        "            # 2nd Layer: 84 -> 10\n",
        "            nn.Linear(84, 10)\n",
        "        )\n",
        "### in_channels, out_channels 구하는법!\n",
        "\n",
        "    def forward(self, x):\n",
        "        x = self.cnn(x)\n",
        "        x = x.view(-1, 120)\n",
        "        x = self.linear(x)\n",
        "        return x"
      ],
      "execution_count": 10,
      "outputs": []
    },
    {
      "cell_type": "code",
      "metadata": {
        "id": "rjqYvKnBpeDN"
      },
      "source": [
        "def weights_init(m):\n",
        "    if isinstance(m, nn.Linear) or isinstance(m, nn.Conv2d):\n",
        "        nn.init.xavier_normal_(m.weight)"
      ],
      "execution_count": 11,
      "outputs": []
    },
    {
      "cell_type": "code",
      "metadata": {
        "colab": {
          "base_uri": "https://localhost:8080/"
        },
        "id": "aZ_wLfMKpgm3",
        "outputId": "f8d1e80e-c49a-4ebe-babc-6827b645c013"
      },
      "source": [
        "torch.manual_seed(23)\n",
        "lenet = LeNet_5().to(device)\n",
        "lenet.apply(weights_init)"
      ],
      "execution_count": 12,
      "outputs": [
        {
          "output_type": "execute_result",
          "data": {
            "text/plain": [
              "LeNet_5(\n",
              "  (cnn): Sequential(\n",
              "    (0): Conv2d(1, 6, kernel_size=(5, 5), stride=(1, 1), padding=(2, 2))\n",
              "    (1): Tanh()\n",
              "    (2): AvgPool2d(kernel_size=2, stride=2, padding=0)\n",
              "    (3): Conv2d(6, 16, kernel_size=(5, 5), stride=(1, 1))\n",
              "    (4): Tanh()\n",
              "    (5): AvgPool2d(kernel_size=2, stride=2, padding=0)\n",
              "    (6): Conv2d(16, 120, kernel_size=(5, 5), stride=(1, 1))\n",
              "    (7): Tanh()\n",
              "  )\n",
              "  (linear): Sequential(\n",
              "    (0): Linear(in_features=120, out_features=84, bias=True)\n",
              "    (1): Tanh()\n",
              "    (2): Linear(in_features=84, out_features=10, bias=True)\n",
              "  )\n",
              ")"
            ]
          },
          "metadata": {
            "tags": []
          },
          "execution_count": 12
        }
      ]
    },
    {
      "cell_type": "code",
      "metadata": {
        "id": "uLMS8VRsprrP"
      },
      "source": [
        "criterion = torch.nn.CrossEntropyLoss().to(device)\n",
        "optimizer = torch.optim.SGD(lenet.parameters(), lr=learning_rate)"
      ],
      "execution_count": 13,
      "outputs": []
    },
    {
      "cell_type": "code",
      "metadata": {
        "colab": {
          "base_uri": "https://localhost:8080/"
        },
        "id": "qnb4DPrLp2au",
        "outputId": "00a94527-d4a4-42ce-d118-6d8ed06cae40"
      },
      "source": [
        "for epoch in range(num_epochs):\n",
        "    for i, (imgs, labels) in enumerate(train_loader):\n",
        "        imgs, labels = imgs.to(device), labels.to(device)\n",
        "        outputs = lenet.forward(imgs)\n",
        "        loss = criterion(outputs, labels)\n",
        "        \n",
        "        # 3. Gradient Update\n",
        "         # optimizer gradient 초기화\n",
        "        optimizer.zero_grad()  \n",
        "        # loss backpropagation\n",
        "        loss.backward(),\n",
        "        # optimizer step\n",
        "        optimizer.step() \n",
        "        _, argmax = torch.max(outputs, 1)\n",
        "        accuracy = (labels == argmax).float().mean()\n",
        "        \n",
        "        if (i+1) % 100 == 0:\n",
        "            print('Epoch [{}/{}], Step [{}/{}], Loss: {:.4f}, Accuracy: {:.2f}%'.format(\n",
        "                epoch+1, num_epochs, i+1, len(train_loader), loss.item(), accuracy.item() * 100))"
      ],
      "execution_count": 14,
      "outputs": [
        {
          "output_type": "stream",
          "text": [
            "Epoch [1/5], Step [100/600], Loss: 1.8199, Accuracy: 50.00%\n",
            "Epoch [1/5], Step [200/600], Loss: 1.2239, Accuracy: 55.00%\n",
            "Epoch [1/5], Step [300/600], Loss: 1.0277, Accuracy: 64.00%\n",
            "Epoch [1/5], Step [400/600], Loss: 0.9340, Accuracy: 71.00%\n",
            "Epoch [1/5], Step [500/600], Loss: 0.7445, Accuracy: 73.00%\n",
            "Epoch [1/5], Step [600/600], Loss: 0.7112, Accuracy: 79.00%\n",
            "Epoch [2/5], Step [100/600], Loss: 0.7313, Accuracy: 73.00%\n",
            "Epoch [2/5], Step [200/600], Loss: 0.6991, Accuracy: 76.00%\n",
            "Epoch [2/5], Step [300/600], Loss: 0.6991, Accuracy: 75.00%\n",
            "Epoch [2/5], Step [400/600], Loss: 0.7506, Accuracy: 73.00%\n",
            "Epoch [2/5], Step [500/600], Loss: 0.7678, Accuracy: 71.00%\n",
            "Epoch [2/5], Step [600/600], Loss: 0.5539, Accuracy: 85.00%\n",
            "Epoch [3/5], Step [100/600], Loss: 0.6600, Accuracy: 73.00%\n",
            "Epoch [3/5], Step [200/600], Loss: 0.6589, Accuracy: 82.00%\n",
            "Epoch [3/5], Step [300/600], Loss: 0.6848, Accuracy: 74.00%\n",
            "Epoch [3/5], Step [400/600], Loss: 0.5102, Accuracy: 81.00%\n",
            "Epoch [3/5], Step [500/600], Loss: 0.7837, Accuracy: 71.00%\n",
            "Epoch [3/5], Step [600/600], Loss: 0.5971, Accuracy: 79.00%\n",
            "Epoch [4/5], Step [100/600], Loss: 0.4992, Accuracy: 83.00%\n",
            "Epoch [4/5], Step [200/600], Loss: 0.5564, Accuracy: 78.00%\n",
            "Epoch [4/5], Step [300/600], Loss: 0.5360, Accuracy: 80.00%\n",
            "Epoch [4/5], Step [400/600], Loss: 0.7371, Accuracy: 75.00%\n",
            "Epoch [4/5], Step [500/600], Loss: 0.5471, Accuracy: 81.00%\n",
            "Epoch [4/5], Step [600/600], Loss: 0.5925, Accuracy: 81.00%\n",
            "Epoch [5/5], Step [100/600], Loss: 0.6177, Accuracy: 80.00%\n",
            "Epoch [5/5], Step [200/600], Loss: 0.5140, Accuracy: 77.00%\n",
            "Epoch [5/5], Step [300/600], Loss: 0.5652, Accuracy: 79.00%\n",
            "Epoch [5/5], Step [400/600], Loss: 0.5957, Accuracy: 76.00%\n",
            "Epoch [5/5], Step [500/600], Loss: 0.4835, Accuracy: 83.00%\n",
            "Epoch [5/5], Step [600/600], Loss: 0.5355, Accuracy: 77.00%\n"
          ],
          "name": "stdout"
        }
      ]
    },
    {
      "cell_type": "code",
      "metadata": {
        "colab": {
          "base_uri": "https://localhost:8080/"
        },
        "id": "2cbrLXtjp5Hd",
        "outputId": "5927a109-15d0-4f2a-dd7a-3e31eea8d8e7"
      },
      "source": [
        "lenet.eval()\n",
        "with torch.no_grad():\n",
        "    correct = 0\n",
        "    total = 0\n",
        "    for i, (imgs, labels) in enumerate(test_loader):\n",
        "        imgs, labels = imgs.to(device), labels.to(device)\n",
        "        outputs = lenet(imgs)\n",
        "        _, argmax = torch.max(outputs, 1)\n",
        "        total += imgs.size(0)\n",
        "        correct += (labels == argmax).sum().item()\n",
        "    \n",
        "    print('Test accuracy for LeNet-5: {:.2f}%'.format(correct / total * 100))"
      ],
      "execution_count": 15,
      "outputs": [
        {
          "output_type": "stream",
          "text": [
            "Test accuracy for LeNet-5: 79.76%\n"
          ],
          "name": "stdout"
        }
      ]
    },
    {
      "cell_type": "code",
      "metadata": {
        "id": "kFfxOT4xwNYr"
      },
      "source": [
        ""
      ],
      "execution_count": null,
      "outputs": []
    }
  ]
}