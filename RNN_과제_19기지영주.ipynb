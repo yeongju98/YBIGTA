{
  "nbformat": 4,
  "nbformat_minor": 0,
  "metadata": {
    "colab": {
      "name": "RNN_과제.ipynb",
      "provenance": [],
      "collapsed_sections": [],
      "include_colab_link": true
    },
    "kernelspec": {
      "name": "python3",
      "display_name": "Python 3"
    },
    "language_info": {
      "name": "python"
    }
  },
  "cells": [
    {
      "cell_type": "markdown",
      "metadata": {
        "id": "view-in-github",
        "colab_type": "text"
      },
      "source": [
        "<a href=\"https://colab.research.google.com/github/yeongju98/YBIGTA/blob/main/RNN_%EA%B3%BC%EC%A0%9C_19%EA%B8%B0%EC%A7%80%EC%98%81%EC%A3%BC.ipynb\" target=\"_parent\"><img src=\"https://colab.research.google.com/assets/colab-badge.svg\" alt=\"Open In Colab\"/></a>"
      ]
    },
    {
      "cell_type": "markdown",
      "metadata": {
        "id": "kSPrjjZhQyAU"
      },
      "source": [
        "YBIGTA 2021-2 교육세션\n",
        "\n",
        "# RNN 과제 : 뉴스 토픽 7중분류하기\n",
        "\n",
        "**강의자 : 한지영**\n",
        "\n",
        "<br>\n",
        "\n",
        "주요 과제는 토큰화, 정수인코딩, 패딩, 모델링(Vanila RNN or LSTM, 모델링 딴걸로 하시려면 하셔도 됩니다!)입니다!\n",
        "\n",
        "주석처리해 놓은 곳(Q1~Q7)을 채워서 완성해주시면 됩니다.\n",
        "\n",
        "오늘 실습한 코드에 거의 답이 있고, 모델링 부분은 오늘 실습을 응용하면 됩니다! 참고해서 작성해주세요~ 화이링!\n"
      ]
    },
    {
      "cell_type": "code",
      "metadata": {
        "colab": {
          "base_uri": "https://localhost:8080/"
        },
        "id": "4n4xbsbM9cRw",
        "outputId": "3df55a4e-8e64-41b4-e516-2a91e44bb363"
      },
      "source": [
        "from google.colab import drive\n",
        "drive.mount('/content/drive/')"
      ],
      "execution_count": 3,
      "outputs": [
        {
          "output_type": "stream",
          "text": [
            "Mounted at /content/drive/\n"
          ],
          "name": "stdout"
        }
      ]
    },
    {
      "cell_type": "code",
      "metadata": {
        "id": "TMtut_lwSf-_"
      },
      "source": [
        "import pandas as pd\n",
        "import numpy as np\n",
        "import re\n",
        "\n",
        "import seaborn as sns\n",
        "import matplotlib.pyplot as plt\n",
        "\n",
        "from sklearn.metrics import accuracy_score, log_loss\n",
        "from sklearn.model_selection import StratifiedKFold\n",
        "\n",
        "import tensorflow as tf\n",
        "from tensorflow.keras import Sequential\n",
        "from tensorflow.keras.layers import Dense, Embedding, LSTM, Dropout, Bidirectional\n",
        "from tensorflow.keras.preprocessing.sequence import pad_sequences\n",
        "from tensorflow.keras.preprocessing.text import Tokenizer\n",
        "from tensorflow.keras.callbacks import EarlyStopping, ReduceLROnPlateau\n",
        "from tensorflow.keras.utils import plot_model, to_categorical\n",
        "from tensorflow.keras.optimizers import Adam\n",
        "\n",
        "from keras.utils import np_utils\n",
        "\n",
        "import warnings \n",
        "warnings.filterwarnings(action='ignore')"
      ],
      "execution_count": 1,
      "outputs": []
    },
    {
      "cell_type": "code",
      "metadata": {
        "id": "tfFlvsLEQxqt"
      },
      "source": [
        "train = pd.read_csv(\"/content/drive/MyDrive/YBIGTA/교육세션/0803_DL_RNN/과제/train_data.csv\")\n",
        "test = pd.read_csv(\"/content/drive/MyDrive/YBIGTA/교육세션/0803_DL_RNN/과제/test_data.csv\")"
      ],
      "execution_count": 4,
      "outputs": []
    },
    {
      "cell_type": "code",
      "metadata": {
        "colab": {
          "base_uri": "https://localhost:8080/",
          "height": 417
        },
        "id": "bVpiWU-MSIF3",
        "outputId": "69e28914-2c09-4c0b-d44d-dafbb1297c48"
      },
      "source": [
        "train"
      ],
      "execution_count": 5,
      "outputs": [
        {
          "output_type": "execute_result",
          "data": {
            "text/html": [
              "<div>\n",
              "<style scoped>\n",
              "    .dataframe tbody tr th:only-of-type {\n",
              "        vertical-align: middle;\n",
              "    }\n",
              "\n",
              "    .dataframe tbody tr th {\n",
              "        vertical-align: top;\n",
              "    }\n",
              "\n",
              "    .dataframe thead th {\n",
              "        text-align: right;\n",
              "    }\n",
              "</style>\n",
              "<table border=\"1\" class=\"dataframe\">\n",
              "  <thead>\n",
              "    <tr style=\"text-align: right;\">\n",
              "      <th></th>\n",
              "      <th>index</th>\n",
              "      <th>title</th>\n",
              "      <th>topic_idx</th>\n",
              "    </tr>\n",
              "  </thead>\n",
              "  <tbody>\n",
              "    <tr>\n",
              "      <th>0</th>\n",
              "      <td>0</td>\n",
              "      <td>인천→핀란드 항공기 결항…휴가철 여행객 분통</td>\n",
              "      <td>4</td>\n",
              "    </tr>\n",
              "    <tr>\n",
              "      <th>1</th>\n",
              "      <td>1</td>\n",
              "      <td>실리콘밸리 넘어서겠다…구글 15조원 들여 美전역 거점화</td>\n",
              "      <td>4</td>\n",
              "    </tr>\n",
              "    <tr>\n",
              "      <th>2</th>\n",
              "      <td>2</td>\n",
              "      <td>이란 외무 긴장완화 해결책은 미국이 경제전쟁 멈추는 것</td>\n",
              "      <td>4</td>\n",
              "    </tr>\n",
              "    <tr>\n",
              "      <th>3</th>\n",
              "      <td>3</td>\n",
              "      <td>NYT 클린턴 측근韓기업 특수관계 조명…공과 사 맞물려종합</td>\n",
              "      <td>4</td>\n",
              "    </tr>\n",
              "    <tr>\n",
              "      <th>4</th>\n",
              "      <td>4</td>\n",
              "      <td>시진핑 트럼프에 중미 무역협상 조속 타결 희망</td>\n",
              "      <td>4</td>\n",
              "    </tr>\n",
              "    <tr>\n",
              "      <th>...</th>\n",
              "      <td>...</td>\n",
              "      <td>...</td>\n",
              "      <td>...</td>\n",
              "    </tr>\n",
              "    <tr>\n",
              "      <th>45649</th>\n",
              "      <td>45649</td>\n",
              "      <td>KB금융 미국 IB 스티펠과 제휴…선진국 시장 공략</td>\n",
              "      <td>1</td>\n",
              "    </tr>\n",
              "    <tr>\n",
              "      <th>45650</th>\n",
              "      <td>45650</td>\n",
              "      <td>1보 서울시교육청 신종코로나 확산에 개학 연기·휴업 검토</td>\n",
              "      <td>2</td>\n",
              "    </tr>\n",
              "    <tr>\n",
              "      <th>45651</th>\n",
              "      <td>45651</td>\n",
              "      <td>게시판 키움증권 2020 키움 영웅전 실전투자대회</td>\n",
              "      <td>1</td>\n",
              "    </tr>\n",
              "    <tr>\n",
              "      <th>45652</th>\n",
              "      <td>45652</td>\n",
              "      <td>답변하는 배기동 국립중앙박물관장</td>\n",
              "      <td>2</td>\n",
              "    </tr>\n",
              "    <tr>\n",
              "      <th>45653</th>\n",
              "      <td>45653</td>\n",
              "      <td>2020 한국인터넷기자상 시상식 내달 1일 개최…특별상 김성후</td>\n",
              "      <td>2</td>\n",
              "    </tr>\n",
              "  </tbody>\n",
              "</table>\n",
              "<p>45654 rows × 3 columns</p>\n",
              "</div>"
            ],
            "text/plain": [
              "       index                               title  topic_idx\n",
              "0          0            인천→핀란드 항공기 결항…휴가철 여행객 분통          4\n",
              "1          1      실리콘밸리 넘어서겠다…구글 15조원 들여 美전역 거점화          4\n",
              "2          2      이란 외무 긴장완화 해결책은 미국이 경제전쟁 멈추는 것          4\n",
              "3          3    NYT 클린턴 측근韓기업 특수관계 조명…공과 사 맞물려종합          4\n",
              "4          4           시진핑 트럼프에 중미 무역협상 조속 타결 희망          4\n",
              "...      ...                                 ...        ...\n",
              "45649  45649        KB금융 미국 IB 스티펠과 제휴…선진국 시장 공략          1\n",
              "45650  45650     1보 서울시교육청 신종코로나 확산에 개학 연기·휴업 검토          2\n",
              "45651  45651         게시판 키움증권 2020 키움 영웅전 실전투자대회          1\n",
              "45652  45652                   답변하는 배기동 국립중앙박물관장          2\n",
              "45653  45653  2020 한국인터넷기자상 시상식 내달 1일 개최…특별상 김성후          2\n",
              "\n",
              "[45654 rows x 3 columns]"
            ]
          },
          "metadata": {
            "tags": []
          },
          "execution_count": 5
        }
      ]
    },
    {
      "cell_type": "markdown",
      "metadata": {
        "id": "1jQNxaNJSvGh"
      },
      "source": [
        "### eda\n",
        "EDA는 확인만 하시고 넘어가시면 됩니다~"
      ]
    },
    {
      "cell_type": "code",
      "metadata": {
        "colab": {
          "base_uri": "https://localhost:8080/",
          "height": 310
        },
        "id": "1WU0sWDqSIIP",
        "outputId": "53b5f883-cd25-424e-a2dc-677233b364ae"
      },
      "source": [
        "# 작가별 분포도 확인 \n",
        "train.groupby(train.topic_idx).size().reset_index(name=\"counts\").plot.bar(x='topic_idx',title=\"Samples per each class (Training set)\")"
      ],
      "execution_count": 6,
      "outputs": [
        {
          "output_type": "execute_result",
          "data": {
            "text/plain": [
              "<matplotlib.axes._subplots.AxesSubplot at 0x7f87c8a14190>"
            ]
          },
          "metadata": {
            "tags": []
          },
          "execution_count": 6
        },
        {
          "output_type": "display_data",
          "data": {
            "image/png": "[encoded data removed]",
            "text/plain": [
              "<Figure size 432x288 with 1 Axes>"
            ]
          },
          "metadata": {
            "tags": [],
            "needs_background": "light"
          }
        }
      ]
    },
    {
      "cell_type": "code",
      "metadata": {
        "colab": {
          "base_uri": "https://localhost:8080/",
          "height": 298
        },
        "id": "jBLm89_BSIKA",
        "outputId": "122526dd-b3e3-49ef-f109-108cea407d33"
      },
      "source": [
        "# 문장 길이 분포도 확인\n",
        "train['doc_len'] = train.title.apply(lambda words: len(words.split()))\n",
        "\n",
        "def plot_doc_lengths(dataframe):\n",
        "    mean_seq_len = np.round(dataframe.doc_len.mean()).astype(int)\n",
        "    sns.distplot(tuple(dataframe.doc_len), hist=True, kde=True, label='Document lengths')\n",
        "    plt.axvline(x=mean_seq_len, color='k', linestyle='--', label=f'Sequence length mean:{mean_seq_len}')\n",
        "    plt.title('Document lengths')\n",
        "    plt.legend()\n",
        "    plt.show()\n",
        "    print(f\" 가장 긴 문장은 {train['doc_len'].max()} 개의 단어를, 가장 짧은 문장은 {train['doc_len'].min()} 개의 단어를 가지고 있습니다.\")\n",
        "\n",
        "plot_doc_lengths(train)"
      ],
      "execution_count": 7,
      "outputs": [
        {
          "output_type": "display_data",
          "data": {
            "image/png": "[encoded data removed]",
            "text/plain": [
              "<Figure size 432x288 with 1 Axes>"
            ]
          },
          "metadata": {
            "tags": [],
            "needs_background": "light"
          }
        },
        {
          "output_type": "stream",
          "text": [
            " 가장 긴 문장은 13 개의 단어를, 가장 짧은 문장은 1 개의 단어를 가지고 있습니다.\n"
          ],
          "name": "stdout"
        }
      ]
    },
    {
      "cell_type": "markdown",
      "metadata": {
        "id": "Scp0ZjeJTrBj"
      },
      "source": [
        "### 텍스트 기본 전처리\n",
        "코드 실행만 해주시고 넘어가시면 됩니다~"
      ]
    },
    {
      "cell_type": "code",
      "metadata": {
        "id": "T9aBv-RCQuJu"
      },
      "source": [
        "train.drop_duplicates(subset=['title'], inplace=True) # 중복값 있다면 제거"
      ],
      "execution_count": 8,
      "outputs": []
    },
    {
      "cell_type": "code",
      "metadata": {
        "colab": {
          "base_uri": "https://localhost:8080/"
        },
        "id": "lM3Eug62QuME",
        "outputId": "b2b71d82-bcdc-4d7d-cba4-29235f47c86b"
      },
      "source": [
        "train = train.dropna(how = 'any') # Null 값이 존재하는 행 제거\n",
        "print(train.isnull().values.any()) # Null 값이 존재하는지 확인"
      ],
      "execution_count": 9,
      "outputs": [
        {
          "output_type": "stream",
          "text": [
            "False\n"
          ],
          "name": "stdout"
        }
      ]
    },
    {
      "cell_type": "code",
      "metadata": {
        "colab": {
          "base_uri": "https://localhost:8080/",
          "height": 203
        },
        "id": "WICiog56UC_j",
        "outputId": "265e7d11-8cb3-4fb7-cd5d-1814a846fcbf"
      },
      "source": [
        "train['title'] = train['title'].str.replace(\"[^ㄱ-ㅎㅏ-ㅣ가-힣 ]\",\"\")\n",
        "# 한글과 공백을 제외하고 모두 제거\n",
        "train[:5]"
      ],
      "execution_count": 10,
      "outputs": [
        {
          "output_type": "execute_result",
          "data": {
            "text/html": [
              "<div>\n",
              "<style scoped>\n",
              "    .dataframe tbody tr th:only-of-type {\n",
              "        vertical-align: middle;\n",
              "    }\n",
              "\n",
              "    .dataframe tbody tr th {\n",
              "        vertical-align: top;\n",
              "    }\n",
              "\n",
              "    .dataframe thead th {\n",
              "        text-align: right;\n",
              "    }\n",
              "</style>\n",
              "<table border=\"1\" class=\"dataframe\">\n",
              "  <thead>\n",
              "    <tr style=\"text-align: right;\">\n",
              "      <th></th>\n",
              "      <th>index</th>\n",
              "      <th>title</th>\n",
              "      <th>topic_idx</th>\n",
              "      <th>doc_len</th>\n",
              "    </tr>\n",
              "  </thead>\n",
              "  <tbody>\n",
              "    <tr>\n",
              "      <th>0</th>\n",
              "      <td>0</td>\n",
              "      <td>인천핀란드 항공기 결항휴가철 여행객 분통</td>\n",
              "      <td>4</td>\n",
              "      <td>5</td>\n",
              "    </tr>\n",
              "    <tr>\n",
              "      <th>1</th>\n",
              "      <td>1</td>\n",
              "      <td>실리콘밸리 넘어서겠다구글 조원 들여 전역 거점화</td>\n",
              "      <td>4</td>\n",
              "      <td>6</td>\n",
              "    </tr>\n",
              "    <tr>\n",
              "      <th>2</th>\n",
              "      <td>2</td>\n",
              "      <td>이란 외무 긴장완화 해결책은 미국이 경제전쟁 멈추는 것</td>\n",
              "      <td>4</td>\n",
              "      <td>8</td>\n",
              "    </tr>\n",
              "    <tr>\n",
              "      <th>3</th>\n",
              "      <td>3</td>\n",
              "      <td>클린턴 측근기업 특수관계 조명공과 사 맞물려종합</td>\n",
              "      <td>4</td>\n",
              "      <td>7</td>\n",
              "    </tr>\n",
              "    <tr>\n",
              "      <th>4</th>\n",
              "      <td>4</td>\n",
              "      <td>시진핑 트럼프에 중미 무역협상 조속 타결 희망</td>\n",
              "      <td>4</td>\n",
              "      <td>7</td>\n",
              "    </tr>\n",
              "  </tbody>\n",
              "</table>\n",
              "</div>"
            ],
            "text/plain": [
              "   index                           title  topic_idx  doc_len\n",
              "0      0          인천핀란드 항공기 결항휴가철 여행객 분통          4        5\n",
              "1      1      실리콘밸리 넘어서겠다구글 조원 들여 전역 거점화          4        6\n",
              "2      2  이란 외무 긴장완화 해결책은 미국이 경제전쟁 멈추는 것          4        8\n",
              "3      3      클린턴 측근기업 특수관계 조명공과 사 맞물려종합          4        7\n",
              "4      4       시진핑 트럼프에 중미 무역협상 조속 타결 희망          4        7"
            ]
          },
          "metadata": {
            "tags": []
          },
          "execution_count": 10
        }
      ]
    },
    {
      "cell_type": "code",
      "metadata": {
        "id": "3kOWEV6yUDB2"
      },
      "source": [
        "\n",
        "# 한글만 남긴 이후, 빈 값이 된 행을 제거해줍시다.\n",
        "train['title'] = train['title'].str.replace('^ +', \"\") # white space 데이터를 empty value로 변경\n",
        "train['title'].replace('', np.nan, inplace=True)\n",
        "train = train.dropna(how = 'any')"
      ],
      "execution_count": 11,
      "outputs": []
    },
    {
      "cell_type": "code",
      "metadata": {
        "colab": {
          "base_uri": "https://localhost:8080/"
        },
        "id": "qfm6opt2UDD4",
        "outputId": "293fec1b-4a8f-4a6f-aa29-d205654093fc"
      },
      "source": [
        "# test data에 대해서도 같은 과정을 수행해줍니다.\n",
        "test.drop_duplicates(subset = ['title'], inplace=True) # title 열에서 중복인 내용이 있다면 중복 제거\n",
        "test['title'] = test['title'].str.replace(\"[^ㄱ-ㅎㅏ-ㅣ가-힣 ]\",\"\") # 정규 표현식 수행\n",
        "test['title'] = test['title'].str.replace('^ +', \"\") # 공백은 empty 값으로 변경\n",
        "test['title'].replace('', np.nan, inplace=True) # 공백은 Null 값으로 변경\n",
        "test = test.dropna(how='any') # Null 값 제거\n",
        "print('전처리 후 테스트용 샘플의 개수 :',len(test))"
      ],
      "execution_count": 12,
      "outputs": [
        {
          "output_type": "stream",
          "text": [
            "전처리 후 테스트용 샘플의 개수 : 9131\n"
          ],
          "name": "stdout"
        }
      ]
    },
    {
      "cell_type": "markdown",
      "metadata": {
        "id": "3o1PSr34Uo23"
      },
      "source": [
        "### 본 과제 시작! Q1~Q7을 채워주세요!"
      ]
    },
    {
      "cell_type": "code",
      "metadata": {
        "colab": {
          "base_uri": "https://localhost:8080/"
        },
        "id": "1mg1GsusWWFi",
        "outputId": "6f3aea9f-58bf-488d-a1c4-0205f8c0f184"
      },
      "source": [
        "!pip3 install konlpy\n",
        "from konlpy.tag import Okt"
      ],
      "execution_count": 13,
      "outputs": [
        {
          "output_type": "stream",
          "text": [
            "Collecting konlpy\n",
            "  Downloading konlpy-0.5.2-py2.py3-none-any.whl (19.4 MB)\n",
            "\u001b[K     |████████████████████████████████| 19.4 MB 1.1 MB/s \n",
            "\u001b[?25hRequirement already satisfied: numpy>=1.6 in /usr/local/lib/python3.7/dist-packages (from konlpy) (1.19.5)\n",
            "Requirement already satisfied: lxml>=4.1.0 in /usr/local/lib/python3.7/dist-packages (from konlpy) (4.2.6)\n",
            "Collecting JPype1>=0.7.0\n",
            "  Downloading JPype1-1.3.0-cp37-cp37m-manylinux_2_5_x86_64.manylinux1_x86_64.whl (448 kB)\n",
            "\u001b[K     |████████████████████████████████| 448 kB 67.0 MB/s \n",
            "\u001b[?25hRequirement already satisfied: tweepy>=3.7.0 in /usr/local/lib/python3.7/dist-packages (from konlpy) (3.10.0)\n",
            "Collecting beautifulsoup4==4.6.0\n",
            "  Downloading beautifulsoup4-4.6.0-py3-none-any.whl (86 kB)\n",
            "\u001b[K     |████████████████████████████████| 86 kB 6.1 MB/s \n",
            "\u001b[?25hCollecting colorama\n",
            "  Downloading colorama-0.4.4-py2.py3-none-any.whl (16 kB)\n",
            "Requirement already satisfied: typing-extensions in /usr/local/lib/python3.7/dist-packages (from JPype1>=0.7.0->konlpy) (3.7.4.3)\n",
            "Requirement already satisfied: requests[socks]>=2.11.1 in /usr/local/lib/python3.7/dist-packages (from tweepy>=3.7.0->konlpy) (2.23.0)\n",
            "Requirement already satisfied: six>=1.10.0 in /usr/local/lib/python3.7/dist-packages (from tweepy>=3.7.0->konlpy) (1.15.0)\n",
            "Requirement already satisfied: requests-oauthlib>=0.7.0 in /usr/local/lib/python3.7/dist-packages (from tweepy>=3.7.0->konlpy) (1.3.0)\n",
            "Requirement already satisfied: oauthlib>=3.0.0 in /usr/local/lib/python3.7/dist-packages (from requests-oauthlib>=0.7.0->tweepy>=3.7.0->konlpy) (3.1.1)\n",
            "Requirement already satisfied: urllib3!=1.25.0,!=1.25.1,<1.26,>=1.21.1 in /usr/local/lib/python3.7/dist-packages (from requests[socks]>=2.11.1->tweepy>=3.7.0->konlpy) (1.24.3)\n",
            "Requirement already satisfied: idna<3,>=2.5 in /usr/local/lib/python3.7/dist-packages (from requests[socks]>=2.11.1->tweepy>=3.7.0->konlpy) (2.10)\n",
            "Requirement already satisfied: chardet<4,>=3.0.2 in /usr/local/lib/python3.7/dist-packages (from requests[socks]>=2.11.1->tweepy>=3.7.0->konlpy) (3.0.4)\n",
            "Requirement already satisfied: certifi>=2017.4.17 in /usr/local/lib/python3.7/dist-packages (from requests[socks]>=2.11.1->tweepy>=3.7.0->konlpy) (2021.5.30)\n",
            "Requirement already satisfied: PySocks!=1.5.7,>=1.5.6 in /usr/local/lib/python3.7/dist-packages (from requests[socks]>=2.11.1->tweepy>=3.7.0->konlpy) (1.7.1)\n",
            "Installing collected packages: JPype1, colorama, beautifulsoup4, konlpy\n",
            "  Attempting uninstall: beautifulsoup4\n",
            "    Found existing installation: beautifulsoup4 4.6.3\n",
            "    Uninstalling beautifulsoup4-4.6.3:\n",
            "      Successfully uninstalled beautifulsoup4-4.6.3\n",
            "Successfully installed JPype1-1.3.0 beautifulsoup4-4.6.0 colorama-0.4.4 konlpy-0.5.2\n"
          ],
          "name": "stdout"
        }
      ]
    },
    {
      "cell_type": "code",
      "metadata": {
        "id": "pvMeK1nyUoWW"
      },
      "source": [
        "stopwords = ['의','가','이','은','들','는','좀','잘','걍','과','도','를','으로','자','에','와','한','하다']\n",
        "okt = Okt()"
      ],
      "execution_count": 14,
      "outputs": []
    },
    {
      "cell_type": "code",
      "metadata": {
        "id": "s16vd0zrUodn"
      },
      "source": [
        "# 트레인데이터를 토큰화해주세요!\n",
        "X_train = []\n",
        "for sentence in train['title']:\n",
        "  # Q1. 토큰화\n",
        "  temp_X = okt.morphs(sentence, stem=True)\n",
        "  \n",
        "  # Q2. 불용어 제거\n",
        "  temp_X = [word for word in temp_X if not word in stopwords] \n",
        "  X_train.append(temp_X)"
      ],
      "execution_count": 15,
      "outputs": []
    },
    {
      "cell_type": "code",
      "metadata": {
        "colab": {
          "base_uri": "https://localhost:8080/"
        },
        "id": "X_-Rr1LkAJat",
        "outputId": "2aeba558-4182-463c-969f-8734ef9af7e0"
      },
      "source": [
        "X_train[:10]"
      ],
      "execution_count": 17,
      "outputs": [
        {
          "output_type": "execute_result",
          "data": {
            "text/plain": [
              "[['인천', '핀란드', '항공기', '결항', '휴가', '철', '여행객', '분통'],\n",
              " ['실리콘밸리', '넘어서다', '구글', '조원', '들이다', '전역', '거점', '화'],\n",
              " ['이란', '외무', '긴장', '완화', '해결', '책', '미국', '경제', '전쟁', '멈추다', '것'],\n",
              " ['클린턴', '측근', '기업', '특수', '관계', '조명', '공과', '사', '맞다', '물리다', '종합'],\n",
              " ['시진핑', '트럼프', '중미', '무역', '협상', '조속', '타결', '희망'],\n",
              " ['팔레스타인', '가자지구', '서', '세', '소년', '이스라엘군', '총격', '사망'],\n",
              " ['인도', '년', '만에', '파키스탄', '공습', '테러', '캠프', '폭격', '종합', '보'],\n",
              " ['대선', '토론', '음담패설', '만회', '실패', '트럼프', '사과', '대신', '빌다', '클린턴', '공격', '역효과'],\n",
              " ['푸틴', '한반도', '상황', '진전', '위', '방안', '김정은', '위원장', '논의'],\n",
              " ['특검', '면죄부', '받다', '트럼프', '스캔들', '보도', '언론', '맹', '공', '국민', '적']]"
            ]
          },
          "metadata": {
            "tags": []
          },
          "execution_count": 17
        }
      ]
    },
    {
      "cell_type": "code",
      "metadata": {
        "id": "xDB_jjNKUDGG"
      },
      "source": [
        "# Q3. 테스트 데이터도 똑같이 토큰화를 진행해주세요!\n",
        "X_test = []\n",
        "for sentence in test['title']:\n",
        "  temp_X = okt.morphs(sentence, stem=True)\n",
        "  temp_X = [word for word in temp_X if not word in stopwords]\n",
        "  X_test.append(temp_X)"
      ],
      "execution_count": 18,
      "outputs": []
    },
    {
      "cell_type": "code",
      "metadata": {
        "colab": {
          "base_uri": "https://localhost:8080/"
        },
        "id": "rFguS7EJAiaE",
        "outputId": "abebf3c7-8da1-4af7-c88d-1f2a20576f79"
      },
      "source": [
        "X_test[:10]"
      ],
      "execution_count": 19,
      "outputs": [
        {
          "output_type": "execute_result",
          "data": {
            "text/plain": [
              "[['유튜브', '내달', '일', '까지', '크리에이터', '지원', '공간', '운영'],\n",
              " ['어버이날', '맑다', '흐려지다', '남부', '지방', '옅다', '황사'],\n",
              " ['내년', '부터', '국가', '평가', '때', '논문', '건수', '반영', '않다'],\n",
              " ['김명자', '신임', '과총', '회장', '원로', '젊다', '과학자', '지혜', '모으다', '것'],\n",
              " ['회색',\n",
              "  '인간',\n",
              "  '작가',\n",
              "  '김',\n",
              "  '동식',\n",
              "  '양심',\n",
              "  '고백',\n",
              "  '등',\n",
              "  '새',\n",
              "  '소설',\n",
              "  '집',\n",
              "  '권',\n",
              "  '추다',\n",
              "  '간'],\n",
              " ['야외', '서', '생방송', '액션', '캠', '전용', '요', '금제', '잇따르다'],\n",
              " ['월드컵', '태극전사', '강', '전', '초기', '지', '레오', '강', '입성', '종합'],\n",
              " ['미세먼지', '속', '출근길'],\n",
              " ['왓츠앱', '원', '성나다', '레바논', '민심', '총리', '사퇴', '로', '이어지다', '종합', '보'],\n",
              " ['베트남', '경제', '고', '성장', '지속', '분기', '성장']]"
            ]
          },
          "metadata": {
            "tags": []
          },
          "execution_count": 19
        }
      ]
    },
    {
      "cell_type": "code",
      "metadata": {
        "id": "wEe5VBmqUDH4"
      },
      "source": [
        "vocab_size =2000 # vocabsize는 2000으로 하겠습니다!\n",
        "tokenizer = Tokenizer(vocab_size)\n",
        "# Q4. fit_on_texts()를 이용하여 각 단어에 고유한 정수를 부여하고 단어 집합을 생성해주세요~\n",
        "tokenizer.fit_on_texts(X_train)\n",
        "\n",
        "tokenizer.fit_on_texts(X_test)"
      ],
      "execution_count": 23,
      "outputs": []
    },
    {
      "cell_type": "code",
      "metadata": {
        "id": "Ouk-xElrUDKd"
      },
      "source": [
        "# Q5. texts_to_sequence()를 통해 X_train과 X_test의 텍스트 시퀀스를 숫자 시퀀스로 바꿔줍시다!\n",
        "X_train = tokenizer.texts_to_sequences(X_train)\n",
        "X_test = tokenizer.texts_to_sequences(X_test)\n",
        "################################################################################\n",
        "\n",
        "y_train = np.array(train['topic_idx'])\n",
        "y_train = to_categorical(y_train, 7)"
      ],
      "execution_count": 24,
      "outputs": []
    },
    {
      "cell_type": "code",
      "metadata": {
        "colab": {
          "base_uri": "https://localhost:8080/"
        },
        "id": "EB3IETwwCCsz",
        "outputId": "1dba6067-3791-481e-f5de-04338047f970"
      },
      "source": [
        "print(X_train[:10])\n",
        "print(X_test[:10])\n",
        "print(y_train[:10])"
      ],
      "execution_count": 25,
      "outputs": [
        {
          "output_type": "stream",
          "text": [
            "[[371, 1146, 1147], [339, 445, 1553, 55], [19, 714, 1006, 817, 611, 426, 69, 160, 400, 1603, 35], [78, 1739, 803, 1190, 63, 145, 1], [570, 32, 483, 200, 804], [1955, 2, 101, 1510, 1077, 105], [505, 7, 28, 1260, 291, 1366, 1, 20], [301, 1604, 782, 32, 962, 592, 177], [826, 598, 774, 10, 818, 97, 198, 161], [751, 124, 32, 414, 214, 102, 185, 14]]\n",
            "[[1441, 209, 4, 38, 56, 1618, 347], [1487, 790, 953], [133, 47, 294, 502, 290, 127], [565, 234, 1407, 35], [881, 459, 1593, 15, 84, 615, 514, 99, 213, 75], [2, 925, 440, 1059, 1113], [98, 249, 9, 45, 249, 1], [500, 80], [37, 1644, 1958, 89, 800, 3, 1413, 1, 20], [435, 160, 54, 395, 766, 49, 395]]\n",
            "[[0. 0. 0. 0. 1. 0. 0.]\n",
            " [0. 0. 0. 0. 1. 0. 0.]\n",
            " [0. 0. 0. 0. 1. 0. 0.]\n",
            " [0. 0. 0. 0. 1. 0. 0.]\n",
            " [0. 0. 0. 0. 1. 0. 0.]\n",
            " [0. 0. 0. 0. 1. 0. 0.]\n",
            " [0. 0. 0. 0. 1. 0. 0.]\n",
            " [0. 0. 0. 0. 1. 0. 0.]\n",
            " [0. 0. 0. 0. 1. 0. 0.]\n",
            " [0. 0. 0. 0. 1. 0. 0.]]\n"
          ],
          "name": "stdout"
        }
      ]
    },
    {
      "cell_type": "code",
      "metadata": {
        "colab": {
          "base_uri": "https://localhost:8080/",
          "height": 314
        },
        "id": "4bvgChOSUDMP",
        "outputId": "bfe4c279-0afd-40b2-a461-146b927a778c"
      },
      "source": [
        "#리뷰 길이 분포 보기\n",
        "print('리뷰의 최대 길이 :',max(len(l) for l in X_train))\n",
        "print('리뷰의 평균 길이 :',sum(map(len, X_train))/len(X_train))\n",
        "plt.hist([len(s) for s in X_train], bins=50)\n",
        "plt.xlabel('length of samples')\n",
        "plt.ylabel('number of samples')\n",
        "plt.show()"
      ],
      "execution_count": 26,
      "outputs": [
        {
          "output_type": "stream",
          "text": [
            "리뷰의 최대 길이 : 15\n",
            "리뷰의 평균 길이 : 5.931264100935317\n"
          ],
          "name": "stdout"
        },
        {
          "output_type": "display_data",
          "data": {
            "image/png": "[encoded data removed]",
            "text/plain": [
              "<Figure size 432x288 with 1 Axes>"
            ]
          },
          "metadata": {
            "tags": [],
            "needs_background": "light"
          }
        }
      ]
    },
    {
      "cell_type": "code",
      "metadata": {
        "id": "O2q6vhBvQuQN"
      },
      "source": [
        "max_len = 15 #위 그래프 확인하시고 적절한 길이 정하시면 됩니다!\n",
        "\n",
        "##### Q6. pad_sequences 함수 이용해서 패딩 진행해주세요! max_len도 지정해주세요! ######\n",
        "\n",
        "X_train = pad_sequences(X_train, maxlen = max_len)\n",
        "X_test = pad_sequences(X_test, maxlen = max_len)"
      ],
      "execution_count": 29,
      "outputs": []
    },
    {
      "cell_type": "code",
      "metadata": {
        "colab": {
          "base_uri": "https://localhost:8080/"
        },
        "id": "0ExKWDn8FD8x",
        "outputId": "83ef5db4-fa12-4ee8-dad9-1967d897931d"
      },
      "source": [
        "print(vocab_size)"
      ],
      "execution_count": 33,
      "outputs": [
        {
          "output_type": "stream",
          "text": [
            "2000\n"
          ],
          "name": "stdout"
        }
      ]
    },
    {
      "cell_type": "code",
      "metadata": {
        "id": "Wt9i2vUWK0mC"
      },
      "source": [
        ""
      ],
      "execution_count": null,
      "outputs": []
    },
    {
      "cell_type": "code",
      "metadata": {
        "id": "MlxEW2AXQuSf"
      },
      "source": [
        "embedding_dim = 200 #vocab_size와 max_len 파라미터 세팅은 위에서 이미 진행했습니다! 이용해서 모델링 해주세요~\n",
        "\n",
        "#################### Q7 ####################\n",
        "# lstm/vanila RNN, 혹은 다른 모델도 상관 없습니다! import 할 거 하시고, 모델링을 해주세요!\n",
        "# 힌트: 마지막 dense 층에서 출력 뉴런 수, 활성화 함수를 잘 설정하시는게 중요합니다!\n",
        "# 힌트2: vocab_size와 max_len, embedding_dim 파라미터 이용해서 모델링 해주세요~\n",
        "\n",
        "from tensorflow.keras.layers import Embedding, Dense, LSTM\n",
        "from tensorflow.keras.models import Sequential\n",
        "from tensorflow.keras.models import load_model\n",
        "from tensorflow.keras.callbacks import EarlyStopping, ModelCheckpoint\n",
        "\n",
        "model = Sequential()\n",
        "model.add(Embedding(vocab_size, 200))\n",
        "model.add(LSTM(128))\n",
        "model.add(Dense(7, activation='sigmoid'))\n",
        "\n",
        "\n"
      ],
      "execution_count": 81,
      "outputs": []
    },
    {
      "cell_type": "code",
      "metadata": {
        "colab": {
          "base_uri": "https://localhost:8080/"
        },
        "id": "6SbRlq5XYo0M",
        "outputId": "1d1ebe79-5cc1-4b95-c8e4-56d9597dfe01"
      },
      "source": [
        "#학습을 진행시켜봅시다! 셀을 실행시켜주세요! epoch, validation_split은 원하시는대로 바꾸셔도 되고, Early Stopping 응용하셔도 됩니다!\n",
        "\n",
        "es = EarlyStopping(monitor='val_loss', mode='min', verbose=1, patience=3) \n",
        "mc = ModelCheckpoint('best_model.h5', monitor='val_acc', mode='max', verbose=1, save_best_only=True)\n",
        "\n",
        "model.compile(optimizer='adam', loss='categorical_crossentropy', metrics=['acc'])\n",
        "history = model.fit(X_train, y_train, epochs=5, callbacks=[es, mc], batch_size=100, validation_split=0.2)"
      ],
      "execution_count": 86,
      "outputs": [
        {
          "output_type": "stream",
          "text": [
            "Epoch 1/5\n",
            "366/366 [==============================] - 28s 71ms/step - loss: 0.2595 - acc: 0.9083 - val_loss: 1.3430 - val_acc: 0.6516\n",
            "\n",
            "Epoch 00001: val_acc improved from -inf to 0.65163, saving model to best_model.h5\n",
            "Epoch 2/5\n",
            "366/366 [==============================] - 25s 68ms/step - loss: 0.2185 - acc: 0.9211 - val_loss: 1.4716 - val_acc: 0.6538\n",
            "\n",
            "Epoch 00002: val_acc improved from 0.65163 to 0.65382, saving model to best_model.h5\n",
            "Epoch 3/5\n",
            "366/366 [==============================] - 25s 68ms/step - loss: 0.1960 - acc: 0.9301 - val_loss: 1.5866 - val_acc: 0.6452\n",
            "\n",
            "Epoch 00003: val_acc did not improve from 0.65382\n",
            "Epoch 4/5\n",
            "366/366 [==============================] - 25s 68ms/step - loss: 0.1705 - acc: 0.9404 - val_loss: 1.7840 - val_acc: 0.6366\n",
            "\n",
            "Epoch 00004: val_acc did not improve from 0.65382\n",
            "Epoch 00004: early stopping\n"
          ],
          "name": "stdout"
        }
      ]
    },
    {
      "cell_type": "code",
      "metadata": {
        "colab": {
          "base_uri": "https://localhost:8080/",
          "height": 314
        },
        "id": "VJ1sxndNYo2J",
        "outputId": "aa73c72e-f9d9-46dd-da65-85c7a2206e70"
      },
      "source": [
        "#에러 없이, 원하는 모델로 마지막 epoch까지 학습을 완료시켜주시고 이 셀을 실행시켜주세요! 에러 없이 해당셀까지 실행시켜주시면 성공입니다~\n",
        "\n",
        "# 모델 학습 결과 확인\n",
        "plt.figure(figsize=(12, 4))\n",
        "\n",
        "plt.subplot(1, 2, 1)\n",
        "plt.title('loss', fontsize= 15)\n",
        "plt.plot(history.history['loss'], 'b-', label='loss')\n",
        "plt.plot(history.history['val_loss'],'r--', label='val_loss')\n",
        "plt.xlabel('Epoch')\n",
        "plt.legend()\n",
        "\n",
        "plt.subplot(1, 2, 2)\n",
        "plt.title('accuracy', fontsize= 15)\n",
        "plt.plot(history.history['acc'], 'g-', label='accuracy')\n",
        "plt.plot(history.history['val_acc'],'k--', label='val_accuracy')\n",
        "plt.xlabel('Epoch')\n",
        "plt.legend()\n",
        "plt.show"
      ],
      "execution_count": 87,
      "outputs": [
        {
          "output_type": "execute_result",
          "data": {
            "text/plain": [
              "<function matplotlib.pyplot.show>"
            ]
          },
          "metadata": {
            "tags": []
          },
          "execution_count": 87
        },
        {
          "output_type": "display_data",
          "data": {
            "image/png": "[encoded data removed]",
            "text/plain": [
              "<Figure size 864x288 with 2 Axes>"
            ]
          },
          "metadata": {
            "tags": [],
            "needs_background": "light"
          }
        }
      ]
    },
    {
      "cell_type": "markdown",
      "metadata": {
        "id": "uir-WBtYepc9"
      },
      "source": [
        "------\n",
        "\n",
        "**수고하셨습니다🥰🥰🥰**"
      ]
    },
    {
      "cell_type": "code",
      "metadata": {
        "id": "jAVKkcNze-8z"
      },
      "source": [
        ""
      ],
      "execution_count": null,
      "outputs": []
    }
  ]
}